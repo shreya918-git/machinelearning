{
 "cells": [
  {
   "cell_type": "code",
   "execution_count": 72,
   "id": "9be6f99c-19fc-4a02-93e6-982c915baf5b",
   "metadata": {},
   "outputs": [],
   "source": [
    "import numpy as np\n",
    "import pandas as pd \n",
    "import matplotlib.pyplot as plt \n",
    "from sklearn.preprocessing import FunctionTransformer \n",
    "from sklearn.metrics import accuracy_score \n",
    "import seaborn as sns \n",
    "import scipy.stats as stats\n",
    "from sklearn.tree import DecisionTreeClassifier\n",
    "from sklearn.model_selection import train_test_split"
   ]
  },
  {
   "cell_type": "code",
   "execution_count": 76,
   "id": "02d5ad86-13e8-4284-8a8b-1bc0b81d6980",
   "metadata": {},
   "outputs": [],
   "source": [
    "df=pd.read_csv(\"covid_toy.csv\",usecols=[\"age\",\"fever\",\"has_covid\"])\n",
    "df[\"fever\"]=df[\"fever\"].fillna(df[\"fever\"].mean())\n",
    "df[\"fever\"]=df[\"fever\"].astype(int)\n",
    "X=df.iloc[:,0:2]\n",
    "Y=df.iloc[:,-1]\n",
    "[X_train,X_test,Y_train,Y_test]=train_test_split(X,Y)\n",
    "tree=DecisionTreeClassifier()"
   ]
  },
  {
   "cell_type": "code",
   "execution_count": null,
   "id": "5ead86cc-270c-4bb7-9f69-41d1641246b9",
   "metadata": {},
   "outputs": [],
   "source": []
  }
 ],
 "metadata": {
  "kernelspec": {
   "display_name": "Python 3 (ipykernel)",
   "language": "python",
   "name": "python3"
  },
  "language_info": {
   "codemirror_mode": {
    "name": "ipython",
    "version": 3
   },
   "file_extension": ".py",
   "mimetype": "text/x-python",
   "name": "python",
   "nbconvert_exporter": "python",
   "pygments_lexer": "ipython3",
   "version": "3.12.7"
  }
 },
 "nbformat": 4,
 "nbformat_minor": 5
}
