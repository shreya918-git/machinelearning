{
 "cells": [
  {
   "cell_type": "code",
   "execution_count": 14,
   "id": "2a3d4633-d1f1-4d51-81e7-d3f6e04f0776",
   "metadata": {},
   "outputs": [],
   "source": [
    "import pickle \n",
    "import numpy as np\n",
    "import pandas as pd\n",
    "encoder=pickle.load(open(\"models/encoder.pkl\",\"rb\"))\n",
    "clf=pickle.load(open(\"models/clf.pkl\",\"rb\"))"
   ]
  },
  {
   "cell_type": "code",
   "execution_count": 42,
   "id": "5d96bc9c-afe6-434f-b29f-a52d7607d8ac",
   "metadata": {},
   "outputs": [
    {
     "name": "stdout",
     "output_type": "stream",
     "text": [
      "[[2 31.0 0 0 10.5 0.0 0.0 0.0 0.0 1.0]]\n"
     ]
    },
    {
     "name": "stderr",
     "output_type": "stream",
     "text": [
      "C:\\Users\\Shreya Sharma\\anaconda3\\Lib\\site-packages\\sklearn\\base.py:493: UserWarning: X does not have valid feature names, but OneHotEncoder was fitted with feature names\n",
      "  warnings.warn(\n"
     ]
    }
   ],
   "source": [
    "import numpy as np\n",
    "\n",
    "# Test data\n",
    "test_data = np.array([2, \"Male\", 31.0, 0, 0, 10.5, \"S\"], dtype=object).reshape(1, 7)\n",
    "\n",
    "# Extracting relevant columns\n",
    "test_data_sex = test_data[:, 1].reshape(-1, 1)  # reshape to 2D array for the encoder\n",
    "test_data_embarked = test_data[:, -1].reshape(-1, 1)\n",
    "\n",
    "# Transform the categorical data using the encoder\n",
    "test_data_transformed = np.hstack((test_data_sex, test_data_embarked))\n",
    "test_data_new = encoder.transform(test_data_transformed).toarray()  # Resulting in a 2D array\n",
    "\n",
    "# Extract other columns and reshape them to be 2D (1, 1) for consistency\n",
    "test_data_pclass = test_data[:, 0].reshape(-1, 1)\n",
    "test_data_age = test_data[:, 2].reshape(-1, 1)\n",
    "test_data_sibsp = test_data[:, 3].reshape(-1, 1)  # Fixed index (was 4, should be 3 for SibSp)\n",
    "test_data_parch = test_data[:, 4].reshape(-1, 1)\n",
    "test_data_fare = test_data[:, 5].reshape(-1, 1)\n",
    "\n",
    "# Concatenate all the arrays along axis 1\n",
    "final_test_data = np.concatenate((\n",
    "    test_data_pclass, test_data_age, test_data_sibsp, test_data_parch,\n",
    "    test_data_fare, test_data_new), axis=1)\n",
    "\n",
    "# Show the final concatenated result\n",
    "print(final_test_data)\n"
   ]
  },
  {
   "cell_type": "code",
   "execution_count": 44,
   "id": "216bb291-bbe6-407d-9a1d-2ebc7549a367",
   "metadata": {},
   "outputs": [
    {
     "data": {
      "text/plain": [
       "array([1], dtype=int64)"
      ]
     },
     "execution_count": 44,
     "metadata": {},
     "output_type": "execute_result"
    }
   ],
   "source": [
    "clf.predict(final_test_data)"
   ]
  },
  {
   "cell_type": "code",
   "execution_count": null,
   "id": "9542a4b3-2880-43ea-b320-c1f03f9b962a",
   "metadata": {},
   "outputs": [],
   "source": []
  }
 ],
 "metadata": {
  "kernelspec": {
   "display_name": "Python 3 (ipykernel)",
   "language": "python",
   "name": "python3"
  },
  "language_info": {
   "codemirror_mode": {
    "name": "ipython",
    "version": 3
   },
   "file_extension": ".py",
   "mimetype": "text/x-python",
   "name": "python",
   "nbconvert_exporter": "python",
   "pygments_lexer": "ipython3",
   "version": "3.12.7"
  }
 },
 "nbformat": 4,
 "nbformat_minor": 5
}
