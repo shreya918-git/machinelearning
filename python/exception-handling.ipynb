{
 "cells": [
  {
   "cell_type": "code",
   "execution_count": 10,
   "id": "0e55fadb-e1a3-46f6-b57d-9228d4ac27dd",
   "metadata": {},
   "outputs": [
    {
     "name": "stdout",
     "output_type": "stream",
     "text": [
      "invalid\n"
     ]
    }
   ],
   "source": [
    "try:\n",
    "   L=[1,2,3,4]\n",
    "   L.upper()\n",
    "except:\n",
    "    print(\"invalid\")"
   ]
  },
  {
   "cell_type": "code",
   "execution_count": 14,
   "id": "4c77ffe2-d558-4f44-b581-8da8878d1191",
   "metadata": {},
   "outputs": [
    {
     "name": "stdout",
     "output_type": "stream",
     "text": [
      "file not found\n"
     ]
    }
   ],
   "source": [
    "with open(\"sample.txt\",\"w\") as file1:\n",
    "    file1.write(\"hello world\")\n",
    "try:\n",
    "    with open(\"sample2,.txt\",\"r\") as file1:\n",
    "        print(file1.read())\n",
    "except:\n",
    "    print(\"file not found\")"
   ]
  },
  {
   "cell_type": "code",
   "execution_count": 24,
   "id": "12f34ead-77f1-4de6-824c-a7d35a0cf5d4",
   "metadata": {},
   "outputs": [
    {
     "name": "stdout",
     "output_type": "stream",
     "text": [
      "attribute error\n"
     ]
    }
   ],
   "source": [
    "try: #handling multiple exceptions,write the general error at the end \n",
    "    with open(\"sample4.txt\",\"r\") as file1:\n",
    "        print(file1.read())\n",
    "    print(1/0)\n",
    "    list1=[1,2,3,4]\n",
    "    print(list1.upper())\n",
    "except ZeroDivisionError:\n",
    "    print(\"division by zero\")\n",
    "except AttributeError:\n",
    "    print(\"attribute error\")\n",
    "except Exception:\n",
    "    print(\"file not found\")"
   ]
  },
  {
   "cell_type": "code",
   "execution_count": 38,
   "id": "e3a7b3e8-1b93-4a24-9d21-7f713b338536",
   "metadata": {},
   "outputs": [
    {
     "name": "stdout",
     "output_type": "stream",
     "text": [
      "hello world\n",
      "finally\n"
     ]
    }
   ],
   "source": [
    "try: #else is executed when try is successful\n",
    "     file1=open(\"sample.txt\",\"r\")\n",
    "except FileNotFoundError:\n",
    "    print(\"file not found\")\n",
    "else:\n",
    "    print(file1.read())\n",
    "finally:\n",
    "    print(\"finally\")"
   ]
  },
  {
   "cell_type": "code",
   "execution_count": 42,
   "id": "6740aa8a-70f3-4aee-9744-be7245e228ec",
   "metadata": {},
   "outputs": [
    {
     "ename": "FileNotFoundError",
     "evalue": "file not found",
     "output_type": "error",
     "traceback": [
      "\u001b[1;31m---------------------------------------------------------------------------\u001b[0m",
      "\u001b[1;31mFileNotFoundError\u001b[0m                         Traceback (most recent call last)",
      "Cell \u001b[1;32mIn[42], line 1\u001b[0m\n\u001b[1;32m----> 1\u001b[0m \u001b[38;5;28;01mraise\u001b[39;00m \u001b[38;5;167;01mFileNotFoundError\u001b[39;00m(\u001b[38;5;124m\"\u001b[39m\u001b[38;5;124mfile not found\u001b[39m\u001b[38;5;124m\"\u001b[39m)\n\u001b[0;32m      2\u001b[0m \u001b[38;5;28;01mraise\u001b[39;00m \u001b[38;5;167;01mModuleNotFoundError\u001b[39;00m(\u001b[38;5;124m\"\u001b[39m\u001b[38;5;124mmodule not found\u001b[39m\u001b[38;5;124m\"\u001b[39m)\n",
      "\u001b[1;31mFileNotFoundError\u001b[0m: file not found"
     ]
    }
   ],
   "source": [
    "raise FileNotFoundError(\"file not found\")\n",
    "raise ModuleNotFoundError(\"module not found\")"
   ]
  },
  {
   "cell_type": "code",
   "execution_count": 50,
   "id": "166177c5-27ee-45b1-990d-3c6d3517c589",
   "metadata": {},
   "outputs": [
    {
     "name": "stdout",
     "output_type": "stream",
     "text": [
      "balance not enough\n"
     ]
    }
   ],
   "source": [
    "class Bank:\n",
    "    def __init__(self,balance):\n",
    "        self.balance=balance\n",
    "    def withdraw(self,amount):\n",
    "        if(amount<0):\n",
    "            raise Exception(\"amount cant be negative\")\n",
    "        elif amount>self.balance:\n",
    "            raise Exception(\"balance not enough\")\n",
    "        else:\n",
    "            self.balance=self.balance-amount\n",
    "            print(self.balance)\n",
    "obj=Bank(10000)\n",
    "try:\n",
    "    obj.withdraw(100000)\n",
    "except Exception as e:\n",
    "    print(e)\n",
    "else:\n",
    "    print(\"withdrawl successful\")"
   ]
  },
  {
   "cell_type": "code",
   "execution_count": 56,
   "id": "5b5b1478-409e-408a-8a3f-42469dd7a0e1",
   "metadata": {},
   "outputs": [
    {
     "name": "stdout",
     "output_type": "stream",
     "text": [
      "balance not enough\n"
     ]
    }
   ],
   "source": [
    "class MyException(Exception): #always inherit the exception class \n",
    "    def __init__(self,message):\n",
    "        self.message=message\n",
    "    def display(self):\n",
    "        return self.message\n",
    "class Bank:\n",
    "    def __init__(self,balance):\n",
    "        self.balance=balance\n",
    "    def withdraw(self,amount):\n",
    "        if(amount<0):\n",
    "            raise MyException(\"amount cant be negative\")\n",
    "        elif amount>self.balance:\n",
    "            raise MyException(\"balance not enough\")\n",
    "        else:\n",
    "            self.balance=self.balance-amount\n",
    "            print(self.balance)\n",
    "obj=Bank(10000)\n",
    "try:\n",
    "    obj.withdraw(100000)\n",
    "except MyException as e:\n",
    "    print(e.display())\n",
    "else:\n",
    "    print(\"withdrawl successful\")"
   ]
  },
  {
   "cell_type": "code",
   "execution_count": 62,
   "id": "2a83057d-3b69-47a1-907c-2d40a9887375",
   "metadata": {},
   "outputs": [
    {
     "name": "stdout",
     "output_type": "stream",
     "text": [
      "login with the correct device\n",
      "logout\n",
      "database connection closed\n"
     ]
    }
   ],
   "source": [
    "class SecurityError(Exception):\n",
    "    def __init__(self,message):\n",
    "        print(message)\n",
    "    def logout(self):\n",
    "        print(\"logout\")\n",
    "class Google:\n",
    "    def __init__(self,a,b,c,d):\n",
    "        self.name=a\n",
    "        self.mail=b\n",
    "        self.password=c\n",
    "        self.device=d\n",
    "    def login(self,a,b,c):\n",
    "        if self.device!=c:\n",
    "            raise SecurityError(\"login with the correct device\")\n",
    "        else:\n",
    "            if(self.mail==a and self.password==b):\n",
    "                print(\"logged in\")\n",
    "            else:\n",
    "                print(\"invalid\")\n",
    "obj=Google(\"shreya\",\"shreyasharma918nds@gmail.com\",\"shreya918\",\"windows\")\n",
    "try:\n",
    "    obj.login(\"shreyasharma918nds@gmail.com\",\"shreya918\",\"andorid\")\n",
    "except SecurityError as e:\n",
    "    e.logout()\n",
    "else:\n",
    "    print(\"logged in\")\n",
    "finally:\n",
    "    print(\"database connection closed\")"
   ]
  },
  {
   "cell_type": "code",
   "execution_count": null,
   "id": "6e9e02fb-2a48-4670-b429-c2f7e9e54250",
   "metadata": {},
   "outputs": [],
   "source": []
  }
 ],
 "metadata": {
  "kernelspec": {
   "display_name": "Python 3 (ipykernel)",
   "language": "python",
   "name": "python3"
  },
  "language_info": {
   "codemirror_mode": {
    "name": "ipython",
    "version": 3
   },
   "file_extension": ".py",
   "mimetype": "text/x-python",
   "name": "python",
   "nbconvert_exporter": "python",
   "pygments_lexer": "ipython3",
   "version": "3.12.7"
  }
 },
 "nbformat": 4,
 "nbformat_minor": 5
}
