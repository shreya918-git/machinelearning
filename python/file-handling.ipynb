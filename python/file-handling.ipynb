{
 "cells": [
  {
   "cell_type": "code",
   "execution_count": 10,
   "id": "8ae334ac-290b-4aa0-a0de-77d5a0c8c036",
   "metadata": {},
   "outputs": [],
   "source": [
    "file=open(\"sample.txt\",\"w\")\n",
    "file.write(\"hello world\")\n",
    "file.close()"
   ]
  },
  {
   "cell_type": "code",
   "execution_count": 18,
   "id": "beb21fef-c0d4-4d4c-bb8e-c515a653c123",
   "metadata": {},
   "outputs": [],
   "source": [
    "file=open(\"sample.txt\",\"w\")\n",
    "file.writelines([\"hi\\n\",\"how are you\"])\n",
    "file.close()"
   ]
  },
  {
   "cell_type": "code",
   "execution_count": 24,
   "id": "812a188a-492a-472b-9b3f-140b4949972f",
   "metadata": {},
   "outputs": [],
   "source": [
    "file =open(\"sample.txt\",\"a\")\n",
    "file.write(\"\\nhow can i help you\")\n",
    "file.close()"
   ]
  },
  {
   "cell_type": "code",
   "execution_count": 26,
   "id": "c88d6521-ca2e-44f2-9a41-baea419490c9",
   "metadata": {},
   "outputs": [],
   "source": [
    "file=open(\"sample.txt\",\"w\")\n",
    "file.writelines([\"hi\\n\",\"how are you\\n\",\"how can i help you\"])\n",
    "file.close()"
   ]
  },
  {
   "cell_type": "code",
   "execution_count": 34,
   "id": "425ac824-803c-48fa-969a-0bba97e0757e",
   "metadata": {},
   "outputs": [
    {
     "name": "stdout",
     "output_type": "stream",
     "text": [
      "hi\n",
      "how are\n"
     ]
    }
   ],
   "source": [
    "file=open(\"sample.txt\",\"r\")\n",
    "str1=file.read(10)  #to read a specific number of characters\n",
    "print(str1)\n",
    "file.close()"
   ]
  },
  {
   "cell_type": "code",
   "execution_count": 36,
   "id": "2199fda4-43e8-4b31-a456-e2e0f843584a",
   "metadata": {},
   "outputs": [
    {
     "data": {
      "text/plain": [
       "'hi\\n'"
      ]
     },
     "execution_count": 36,
     "metadata": {},
     "output_type": "execute_result"
    }
   ],
   "source": [
    "file=open(\"sample.txt\",\"r\")\n",
    "file.readline()"
   ]
  },
  {
   "cell_type": "code",
   "execution_count": 48,
   "id": "86561ec3-bda8-4de1-a2a9-6709c0c4dc79",
   "metadata": {},
   "outputs": [
    {
     "name": "stdout",
     "output_type": "stream",
     "text": [
      "hi\n",
      "how are you\n",
      "how can i help you"
     ]
    }
   ],
   "source": [
    "file=open(\"sample.txt\",\"r\")\n",
    "while True:\n",
    "    data=file.readline()\n",
    "    if data==\"\":\n",
    "        break\n",
    "    else:\n",
    "         print(data,end=\"\")"
   ]
  },
  {
   "cell_type": "code",
   "execution_count": 52,
   "id": "3ff7f763-2c2b-40b4-afd7-386b1b4a8f3d",
   "metadata": {},
   "outputs": [],
   "source": [
    "with open(\"sample2.txt\",\"w\") as file2:\n",
    "    file2.write(\"hi how can i help you\")"
   ]
  },
  {
   "cell_type": "code",
   "execution_count": 58,
   "id": "d58a320b-d13c-4981-8920-fb5db2f7c859",
   "metadata": {},
   "outputs": [
    {
     "name": "stdout",
     "output_type": "stream",
     "text": [
      "hi how can i help you\n"
     ]
    }
   ],
   "source": [
    "with open(\"sample2.txt\",\"r\") as file2:\n",
    "   print(file2.read())"
   ]
  },
  {
   "cell_type": "code",
   "execution_count": 68,
   "id": "541e93de-4991-4b2e-9328-62c6ed0689c3",
   "metadata": {},
   "outputs": [
    {
     "name": "stdout",
     "output_type": "stream",
     "text": [
      "ello worldhello worldhello worldhello worldhello worldhello worldhello worldhello worldhello worldhe\n",
      "o worldhello worldhello worldhello worldhello worldhello worldhello worldhello worldhello worldhello\n",
      "orldhello worldhello worldhello worldhello worldhello worldhello worldhello worldhello worldhello wo\n",
      "dhello worldhello worldhello worldhello worldhello worldhello worldhello worldhello worldhello world\n",
      "llo worldhello worldhello worldhello worldhello worldhello worldhello worldhello worldhello worldhel\n",
      " worldhello worldhello worldhello worldhello worldhello worldhello worldhello worldhello worldhello \n",
      "rldhello worldhello worldhello worldhello worldhello worldhello worldhello worldhello worldhello wor\n",
      "hello worldhello worldhello worldhello worldhello worldhello worldhello worldhello worldhello worldh\n",
      "lo worldhello worldhello worldhello worldhello worldhello worldhello worldhello worldhello worldhell\n",
      "worldhello worldhello worldhello worldhello worldhello worldhello worldhello worldhello worldhello w\n",
      "ldhello worldhello worldhello worldhello worldhello worldhello worldhello worldhello worldhello worl\n",
      "ello worldhello worldhello worldhello worldhello worldhello worldhello worldhello worldhello worldhe\n",
      "o worldhello worldhello worldhello worldhello worldhello worldhello worldhello worldhello worldhello\n",
      "orldhello worldhello worldhello worldhello worldhello worldhello worldhello worldhello worldhello wo\n",
      "dhello worldhello worldhello worldhello worldhello worldhello worldhello worldhello worldhello world\n",
      "llo worldhello worldhello worldhello worldhello worldhello worldhello worldhello worldhello worldhel\n",
      " worldhello worldhello worldhello worldhello worldhello worldhello worldhello worldhello worldhello \n",
      "rldhello worldhello worldhello worldhello worldhello worldhello worldhello worldhello worldhello wor\n",
      "hello worldhello worldhello worldhello worldhello worldhello worldhello worldhello worldhello worldh\n",
      "lo worldhello worldhello worldhello worldhello worldhello worldhello worldhello worldhello worldhell\n",
      "worldhello worldhello worldhello worldhello worldhello worldhello worldhello worldhello worldhello w\n",
      "ldhello worldhello worldhello worldhello worldhello worldhello worldhello worldhello worldhello worl\n",
      "ello worldhello worldhello worldhello worldhello worldhello worldhello worldhello worldhello worldhe\n",
      "o worldhello worldhello worldhello worldhello worldhello worldhello worldhello worldhello worldhello\n",
      "orldhello worldhello worldhello worldhello worldhello worldhello worldhello worldhello worldhello wo\n",
      "dhello worldhello worldhello worldhello worldhello worldhello worldhello worldhello worldhello world\n",
      "llo worldhello worldhello worldhello worldhello worldhello worldhello worldhello worldhello worldhel\n",
      " worldhello worldhello worldhello worldhello worldhello worldhello worldhello worldhello worldhello \n",
      "rldhello worldhello worldhello worldhello worldhello worldhello worldhello worldhello worldhello wor\n",
      "hello worldhello worldhello worldhello worldhello worldhello worldhello worldhello worldhello worldh\n",
      "lo worldhello worldhello worldhello worldhello worldhello worldhello worldhello worldhello worldhell\n",
      "worldhello worldhello worldhello worldhello worldhello worldhello worldhello worldhello worldhello w\n",
      "ldhello worldhello worldhello worldhello worldhello worldhello worldhello worldhello worldhello worl\n",
      "ello worldhello worldhello worldhello worldhello worldhello worldhello worldhello worldhello worldhe\n",
      "o worldhello worldhello worldhello worldhello worldhello worldhello worldhello worldhello worldhello\n",
      "orldhello worldhello worldhello worldhello worldhello worldhello worldhello worldhello worldhello wo\n",
      "dhello worldhello worldhello worldhello worldhello worldhello worldhello worldhello worldhello world\n"
     ]
    }
   ],
   "source": [
    "list1=[\"hello world\" for i in range(1000)]\n",
    "with open(\"sample2.txt\",\"w\") as file2:\n",
    "    file2.writelines(list1)\n",
    "with open(\"sample2.txt\",\"r\") as file2:\n",
    "    chunk_size=100\n",
    "    while len(file2.read(chunk_size))!=0:\n",
    "        print(file2.read(chunk_size))\n",
    "        file2.read(chunk_size)\n"
   ]
  },
  {
   "cell_type": "code",
   "execution_count": 74,
   "id": "3b6a8236-ffd4-4605-b41d-cb1893a55c7f",
   "metadata": {},
   "outputs": [
    {
     "name": "stdout",
     "output_type": "stream",
     "text": [
      "hello worldhello worldhello worldhello worldhello worldhello worldhello worldhello worldhello worldhello worldhello worldhello worldhello worldhello worldhello worldhello worldhello worldhello worldhello worldhello worldhello worldhello worldhello worldhello worldhello worldhello worldhello worldhello worldhello worldhello worldhello worldhello worldhello worldhello worldhello worldhello worldhello worldhello worldhello worldhello worldhello worldhello worldhello worldhello worldhello worldhello worldhello worldhello worldhello worldhello worldhello worldhello worldhello worldhello worldhello worldhello worldhello worldhello worldhello worldhello worldhello worldhello worldhello worldhello worldhello worldhello worldhello worldhello worldhello worldhello worldhello worldhello worldhello worldhello worldhello worldhello worldhello worldhello worldhello worldhello worldhello worldhello worldhello worldhello worldhello worldhello worldhello worldhello worldhello worldhello worldhello worldhello worldhello worldhello worldhello worldhello worldhello worldhello worldhello worldhello worldhello worldhello worldhello worldhello worldhello worldhello worldhello worldhello worldhello worldhello worldhello worldhello worldhello worldhello worldhello worldhello worldhello worldhello worldhello worldhello worldhello worldhello worldhello worldhello worldhello worldhello worldhello worldhello worldhello worldhello worldhello worldhello worldhello worldhello worldhello worldhello worldhello worldhello worldhello worldhello worldhello worldhello worldhello worldhello worldhello worldhello worldhello worldhello worldhello worldhello worldhello worldhello worldhello worldhello worldhello worldhello worldhello worldhello worldhello worldhello worldhello worldhello worldhello worldhello worldhello worldhello worldhello worldhello worldhello worldhello worldhello worldhello worldhello worldhello worldhello worldhello worldhello worldhello worldhello worldhello worldhello worldhello worldhello worldhello worldhello worldhello worldhello worldhello worldhello worldhello worldhello worldhello worldhello worldhello worldhello worldhello worldhello worldhello worldhello worldhello worldhello worldhello worldhello worldhello worldhello worldhello worldhello worldhello worldhello worldhello worldhello worldhello worldhello worldhello worldhello worldhello worldhello worldhello worldhello worldhello worldhello worldhello worldhello worldhello worldhello worldhello worldhello worldhello worldhello worldhello worldhello worldhello worldhello worldhello worldhello worldhello worldhello worldhello worldhello worldhello worldhello worldhello worldhello worldhello worldhello worldhello worldhello worldhello worldhello worldhello worldhello worldhello worldhello worldhello worldhello worldhello worldhello worldhello worldhello worldhello worldhello worldhello worldhello worldhello worldhello worldhello worldhello worldhello worldhello worldhello worldhello worldhello worldhello worldhello worldhello worldhello worldhello worldhello worldhello worldhello worldhello worldhello worldhello worldhello worldhello worldhello worldhello worldhello worldhello worldhello worldhello worldhello worldhello worldhello worldhello worldhello worldhello worldhello worldhello worldhello worldhello worldhello worldhello worldhello worldhello worldhello worldhello worldhello worldhello worldhello worldhello worldhello worldhello worldhello worldhello worldhello worldhello worldhello worldhello worldhello worldhello worldhello worldhello worldhello worldhello worldhello worldhello worldhello worldhello worldhello worldhello worldhello worldhello worldhello worldhello worldhello worldhello worldhello worldhello worldhello worldhello worldhello worldhello worldhello worldhello worldhello worldhello worldhello worldhello worldhello worldhello worldhello worldhello worldhello worldhello worldhello worldhello worldhello worldhello worldhello worldhello worldhello worldhello worldhello worldhello worldhello worldhello worldhello worldhello worldhello worldhello worldhello worldhello worldhello worldhello worldhello worldhello worldhello worldhello worldhello worldhello worldhello worldhello worldhello worldhello worldhello worldhello worldhello worldhello worldhello worldhello worldhello worldhello worldhello worldhello worldhello worldhello worldhello worldhello worldhello worldhello worldhello worldhello worldhello worldhello worldhello worldhello worldhello worldhello worldhello worldhello worldhello worldhello worldhello worldhello worldhello worldhello worldhello worldhello worldhello worldhello worldhello worldhello worldhello worldhello worldhello worldhello worldhello worldhello worldhello worldhello worldhello worldhello worldhello worldhello worldhello worldhello worldhello worldhello worldhello worldhello worldhello worldhello worldhello worldhello worldhello worldhello worldhello worldhello worldhello worldhello worldhello worldhello worldhello worldhello worldhello worldhello worldhello worldhello worldhello worldhello worldhello worldhello worldhello worldhello worldhello worldhello worldhello worldhello worldhello worldhello worldhello worldhello worldhello worldhello worldhello worldhello worldhello worldhello worldhello worldhello worldhello worldhello worldhello worldhello worldhello worldhello worldhello worldhello worldhello worldhello worldhello worldhello worldhello worldhello worldhello worldhello worldhello worldhello worldhello worldhello worldhello worldhello worldhello worldhello worldhello worldhello worldhello worldhello worldhello worldhello worldhello worldhello worldhello worldhello worldhello worldhello worldhello worldhello worldhello worldhello worldhello worldhello worldhello worldhello worldhello worldhello worldhello worldhello worldhello worldhello worldhello worldhello worldhello worldhello worldhello worldhello worldhello worldhello worldhello worldhello worldhello worldhello worldhello worldhello worldhello worldhello worldhello worldhello worldhello worldhello worldhello worldhello worldhello worldhello worldhello worldhello worldhello worldhello worldhello worldhello worldhello worldhello worldhello worldhello worldhello worldhello worldhello worldhello worldhello worldhello worldhello worldhello worldhello worldhello worldhello worldhello worldhello worldhello worldhello worldhello worldhello worldhello worldhello worldhello worldhello worldhello worldhello worldhello worldhello worldhello worldhello worldhello worldhello worldhello worldhello worldhello worldhello worldhello worldhello worldhello worldhello worldhello worldhello worldhello worldhello worldhello worldhello worldhello worldhello worldhello worldhello worldhello worldhello worldhello worldhello worldhello worldhello worldhello worldhello worldhello worldhello worldhello worldhello worldhello worldhello worldhello worldhello worldhello worldhello worldhello worldhello worldhello worldhello worldhello worldhello worldhello worldhello worldhello worldhello worldhello worldhello worldhello worldhello worldhello worldhello worldhello worldhello worldhello worldhello worldhello worldhello worldhello worldhello worldhello worldhello worldhello worldhello worldhello worldhello worldhello worldhello worldhello worldhello worldhello worldhello worldhello worldhello worldhello worldhello worldhello worldhello worldhello worldhello worldhello worldhello worldhello worldhello worldhello worldhello worldhello worldhello worldhello worldhello worldhello worldhello worldhello worldhello worldhello worldhello worldhello worldhello worldhello worldhello worldhello worldhello worldhello worldhello worldhello worldhello worldhello worldhello worldhello worldhello worldhello worldhello worldhello worldhello worldhello worldhello worldhello worldhello worldhello worldhello worldhello worldhello worldhello worldhello worldhello worldhello worldhello worldhello worldhello worldhello worldhello worldhello worldhello worldhello worldhello worldhello worldhello worldhello worldhello worldhello worldhello worldhello worldhello worldhello worldhello worldhello worldhello worldhello worldhello worldhello worldhello worldhello worldhello worldhello worldhello worldhello worldhello worldhello worldhello worldhello worldhello worldhello worldhello worldhello worldhello worldhello worldhello worldhello worldhello worldhello worldhello worldhello worldhello worldhello worldhello worldhello worldhello worldhello worldhello worldhello worldhello worldhello worldhello worldhello worldhello worldhello worldhello worldhello worldhello worldhello worldhello worldhello worldhello worldhello worldhello worldhello worldhello worldhello worldhello worldhello worldhello worldhello worldhello worldhello worldhello worldhello worldhello worldhello worldhello worldhello worldhello worldhello worldhello worldhello worldhello worldhello worldhello worldhello worldhello worldhello worldhello worldhello worldhello worldhello worldhello worldhello worldhello worldhello worldhello worldhello worldhello worldhello worldhello worldhello worldhello worldhello worldhello worldhello worldhello worldhello worldhello worldhello worldhello worldhello worldhello worldhello worldhello worldhello worldhello worldhello worldhello worldhello worldhello worldhello worldhello worldhello worldhello worldhello worldhello worldhello worldhello worldhello worldhello worldhello worldhello worldhello worldhello worldhello worldhello worldhello worldhello worldhello worldhello worldhello worldhello worldhello worldhello worldhello worldhello worldhello worldhello worldhello worldhello worldhello worldhello worldhello worldhello worldhello worldhello worldhello worldhello worldhello worldhello worldhello worldhello worldhello worldhello worldhello worldhello worldhello worldhello worldhello worldhello worldhello worldhello worldhello worldhello worldhello worldhello worldhello worldhello worldhello worldhello worldhello worldhello worldhello worldhello worldhello worldhello worldhello worldhello worldhello worldhello worldhello worldhello worldhello worldhello worldhello worldhello worldhello worldhello worldhello worldhello worldhello worldhello worldhello worldhello worldhello worldhello worldhello worldhello worldhello worldhello worldhello worldhello worldhello worldhello worldhello worldhello worldhello worldhello worldhello worldhello worldhello worldhello worldhello worldhello worldhello worldhello worldhello worldhello worldhello worldhello worldhello worldhello worldhello worldhello worldhello worldhello worldhello worldhello worldhello worldhello worldhello worldhello worldhello worldhello worldhello worldhello worldhello worldhello worldhello worldhello worldhello worldhello worldhello worldhello worldhello worldhello worldhello worldhello worldhello worldhello worldhello worldhello worldhello worldhello worldhello worldhello worldhello worldhello worldhello worldhello worldhello worldhello worldhello world\n",
      "11000\n",
      "0\n"
     ]
    }
   ],
   "source": [
    "with open(\"sample2.txt\",\"r\") as file2:\n",
    "   print(file2.read())\n",
    "   print(file2.tell())\n",
    "   file2.seek(0)\n",
    "   print(file2.tell())"
   ]
  },
  {
   "cell_type": "code",
   "execution_count": 4,
   "id": "2b33183c-a8ec-475a-b80c-42217306e7e5",
   "metadata": {},
   "outputs": [],
   "source": [
    "with open(\"screenshot.jpg\",\"rb\") as file1:\n",
    "    with open(\"screenshot2.jpeg\",\"wb\") as file2:\n",
    "        file2.write(file1.read())"
   ]
  },
  {
   "cell_type": "code",
   "execution_count": 6,
   "id": "86682bfc-fe3a-4e5d-82c2-3350fc68697b",
   "metadata": {},
   "outputs": [
    {
     "name": "stdout",
     "output_type": "stream",
     "text": [
      "10\n"
     ]
    }
   ],
   "source": [
    "with open(\"sample.txt\",\"w\") as file1:\n",
    "    file1.write(\"5\")\n",
    "with open(\"sample.txt\",\"r\") as file1:\n",
    "    print(int(file1.read())+5)"
   ]
  },
  {
   "cell_type": "code",
   "execution_count": 20,
   "id": "3948dfa2-df91-4f18-9059-6998a280d6b0",
   "metadata": {},
   "outputs": [
    {
     "name": "stdout",
     "output_type": "stream",
     "text": [
      "<class 'str'>\n"
     ]
    }
   ],
   "source": [
    "dict1={\"name\":\"shreya\",\"age\":20}\n",
    "with open(\"sample.txt\",\"w\") as file1:\n",
    "    file1.write(str(dict1))\n",
    "with open(\"sample.txt\",\"r\") as file1:\n",
    "    print(type(file1.read()))"
   ]
  },
  {
   "cell_type": "code",
   "execution_count": 23,
   "id": "8d68a4d1-02cb-4ffd-b8db-bc1da9bd65fd",
   "metadata": {},
   "outputs": [
    {
     "name": "stdout",
     "output_type": "stream",
     "text": [
      "{'name': 'shreya', 'age': 20}\n"
     ]
    }
   ],
   "source": [
    "import json\n",
    "dict1={\"name\":\"shreya\",\"age\":20}\n",
    "with open(\"demo.json\",\"w\") as file1:\n",
    "    json.dump(dict1,file1)\n",
    "with open(\"demo.json\",\"rb\") as file1:\n",
    "    print(json.load(file1))"
   ]
  },
  {
   "cell_type": "code",
   "execution_count": 18,
   "id": "a9e7625d-e898-4042-8d89-e8f05c39321e",
   "metadata": {},
   "outputs": [
    {
     "ename": "TypeError",
     "evalue": "a bytes-like object is required, not 'str'",
     "output_type": "error",
     "traceback": [
      "\u001b[1;31m---------------------------------------------------------------------------\u001b[0m",
      "\u001b[1;31mTypeError\u001b[0m                                 Traceback (most recent call last)",
      "Cell \u001b[1;32mIn[18], line 4\u001b[0m\n\u001b[0;32m      2\u001b[0m tuple1\u001b[38;5;241m=\u001b[39m(\u001b[38;5;241m1\u001b[39m,\u001b[38;5;241m2\u001b[39m,\u001b[38;5;241m3\u001b[39m,\u001b[38;5;241m4\u001b[39m) \u001b[38;5;66;03m#tuples cant be stored in a file using json,they will be stored as list\u001b[39;00m\n\u001b[0;32m      3\u001b[0m \u001b[38;5;28;01mwith\u001b[39;00m \u001b[38;5;28mopen\u001b[39m(\u001b[38;5;124m\"\u001b[39m\u001b[38;5;124mdemo.json\u001b[39m\u001b[38;5;124m\"\u001b[39m,\u001b[38;5;124m\"\u001b[39m\u001b[38;5;124mwb\u001b[39m\u001b[38;5;124m\"\u001b[39m) \u001b[38;5;28;01mas\u001b[39;00m file1:\n\u001b[1;32m----> 4\u001b[0m     \u001b[43mjson\u001b[49m\u001b[38;5;241;43m.\u001b[39;49m\u001b[43mdump\u001b[49m\u001b[43m(\u001b[49m\u001b[43mtuple1\u001b[49m\u001b[43m,\u001b[49m\u001b[43mfile1\u001b[49m\u001b[43m)\u001b[49m\n\u001b[0;32m      5\u001b[0m \u001b[38;5;28;01mwith\u001b[39;00m \u001b[38;5;28mopen\u001b[39m(\u001b[38;5;124m\"\u001b[39m\u001b[38;5;124mdemo.json\u001b[39m\u001b[38;5;124m\"\u001b[39m,\u001b[38;5;124m\"\u001b[39m\u001b[38;5;124mrb\u001b[39m\u001b[38;5;124m\"\u001b[39m) \u001b[38;5;28;01mas\u001b[39;00m file1:\n\u001b[0;32m      6\u001b[0m     \u001b[38;5;28mprint\u001b[39m(json\u001b[38;5;241m.\u001b[39mload(file1))\n",
      "File \u001b[1;32m~\\anaconda3\\Lib\\json\\__init__.py:180\u001b[0m, in \u001b[0;36mdump\u001b[1;34m(obj, fp, skipkeys, ensure_ascii, check_circular, allow_nan, cls, indent, separators, default, sort_keys, **kw)\u001b[0m\n\u001b[0;32m    177\u001b[0m \u001b[38;5;66;03m# could accelerate with writelines in some versions of Python, at\u001b[39;00m\n\u001b[0;32m    178\u001b[0m \u001b[38;5;66;03m# a debuggability cost\u001b[39;00m\n\u001b[0;32m    179\u001b[0m \u001b[38;5;28;01mfor\u001b[39;00m chunk \u001b[38;5;129;01min\u001b[39;00m iterable:\n\u001b[1;32m--> 180\u001b[0m     \u001b[43mfp\u001b[49m\u001b[38;5;241;43m.\u001b[39;49m\u001b[43mwrite\u001b[49m\u001b[43m(\u001b[49m\u001b[43mchunk\u001b[49m\u001b[43m)\u001b[49m\n",
      "\u001b[1;31mTypeError\u001b[0m: a bytes-like object is required, not 'str'"
     ]
    }
   ],
   "source": [
    "import json\n",
    "tuple1=(1,2,3,4) #tuples cant be stored in a file using json,they will be stored as list\n",
    "with open(\"demo.json\",\"wb\") as file1:\n",
    "    json.dump(tuple1,file1)\n",
    "with open(\"demo.json\",\"rb\") as file1:\n",
    "    print(json.load(file1))"
   ]
  },
  {
   "cell_type": "code",
   "execution_count": null,
   "id": "cceea9f3-f715-486c-805c-deca0f102592",
   "metadata": {},
   "outputs": [],
   "source": [
    "class Person:\n",
    "    def __init__(self,a,b,c):\n",
    "        self.first_name=a\n",
    "        self.last_name=b\n",
    "        self.age=c\n",
    "    def display(self):\n",
    "       return \"{} {} {}\".format(obj.first_name,obj.last_name,obj.age)\n",
    "obj=Person(\"shreya\",\"sharma\",20)\n",
    "def show_object(obj):\n",
    "    if isinstance(obj,Person):\n",
    "        return \"{} {} {}\".format(obj.first_name,obj.last_name,obj.age)\n",
    "with open(\"demo.json\",\"w\") as file1:\n",
    "    json.dump(obj,file1,default=show_object)\n",
    "with open(\"demo.json\",\"r\") as file1:\n",
    "    print(json.load(file1))"
   ]
  },
  {
   "cell_type": "code",
   "execution_count": 14,
   "id": "97d31d58-3c92-4f26-9427-07baa58d766b",
   "metadata": {},
   "outputs": [],
   "source": [
    "import pickle\n",
    "with open(\"demo.pkl\",\"wb\") as file1:\n",
    "    pickle.dump(obj,file1)"
   ]
  },
  {
   "cell_type": "code",
   "execution_count": 16,
   "id": "f52b77db-1e6d-49df-a7f1-7bc65afb36e3",
   "metadata": {},
   "outputs": [
    {
     "data": {
      "text/plain": [
       "'shreya sharma 20'"
      ]
     },
     "execution_count": 16,
     "metadata": {},
     "output_type": "execute_result"
    }
   ],
   "source": [
    "import pickle \n",
    "with open(\"demo.pkl\",\"rb\") as file1:\n",
    "    obj=pickle.load(file1)\n",
    "obj.display()"
   ]
  },
  {
   "cell_type": "code",
   "execution_count": null,
   "id": "cd3b6aab-6e9d-4996-bb10-8be9b235034e",
   "metadata": {},
   "outputs": [],
   "source": []
  }
 ],
 "metadata": {
  "kernelspec": {
   "display_name": "Python 3 (ipykernel)",
   "language": "python",
   "name": "python3"
  },
  "language_info": {
   "codemirror_mode": {
    "name": "ipython",
    "version": 3
   },
   "file_extension": ".py",
   "mimetype": "text/x-python",
   "name": "python",
   "nbconvert_exporter": "python",
   "pygments_lexer": "ipython3",
   "version": "3.12.7"
  }
 },
 "nbformat": 4,
 "nbformat_minor": 5
}
