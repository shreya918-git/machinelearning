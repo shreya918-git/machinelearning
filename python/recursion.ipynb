{
 "cells": [
  {
   "cell_type": "code",
   "execution_count": 12,
   "id": "0fe5b1e3-f334-4f8e-aa38-858b81bc3e37",
   "metadata": {},
   "outputs": [
    {
     "name": "stdout",
     "output_type": "stream",
     "text": [
      "6\n"
     ]
    }
   ],
   "source": [
    "def mul(a,b):\n",
    "    if b==1:\n",
    "        return a\n",
    "    else:\n",
    "       return a+mul(a,b-1)\n",
    "print(mul(2,3))"
   ]
  },
  {
   "cell_type": "code",
   "execution_count": 16,
   "id": "fd1c781b-71c1-433c-9103-a642df414846",
   "metadata": {},
   "outputs": [
    {
     "name": "stdout",
     "output_type": "stream",
     "text": [
      "120\n"
     ]
    }
   ],
   "source": [
    "def factorial(num):\n",
    "    if num==1 or num==0:\n",
    "        return 1\n",
    "    else:\n",
    "        return num*factorial(num-1)\n",
    "print(factorial(5))    "
   ]
  },
  {
   "cell_type": "code",
   "execution_count": 22,
   "id": "b457c8ea-24f5-4173-8671-1f4e34e2fa92",
   "metadata": {},
   "outputs": [
    {
     "name": "stdout",
     "output_type": "stream",
     "text": [
      "not a palindrome\n"
     ]
    }
   ],
   "source": [
    "def palindrome(text):\n",
    "    if len(text)<=1:\n",
    "         print(\"palindrome\")\n",
    "    else:\n",
    "        if text[0]==text[-1]:\n",
    "            palindrome(text[1:-1])\n",
    "        else:\n",
    "            print(\"not a palindrome\")\n",
    "palindrome(\"shreya\")"
   ]
  },
  {
   "cell_type": "code",
   "execution_count": 46,
   "id": "f3b410cb-597e-4b76-89f6-68d369c7ab2f",
   "metadata": {},
   "outputs": [
    {
     "name": "stdout",
     "output_type": "stream",
     "text": [
      "5\n",
      "0.0010001659393310547\n"
     ]
    }
   ],
   "source": [
    "import time\n",
    "def fibonacci(num):\n",
    "    if num==0 or num==1:\n",
    "        return 1\n",
    "    else:\n",
    "        return fibonacci(num-1)+fibonacci(num-2)\n",
    "start=time.time()\n",
    "print(fibonacci(4))\n",
    "print(time.time()-start)"
   ]
  },
  {
   "cell_type": "code",
   "execution_count": 44,
   "id": "e76d48c8-bcf9-4864-a475-a3171d7ed267",
   "metadata": {},
   "outputs": [
    {
     "name": "stdout",
     "output_type": "stream",
     "text": [
      "7778742049\n"
     ]
    }
   ],
   "source": [
    "def fibonacci(num,d):\n",
    "    if num in d:\n",
    "        return d[num]\n",
    "    else:\n",
    "        d[num]=fibonacci(num-1,d)+fibonacci(num-2,d)\n",
    "        return d[num]\n",
    "d={0:1,1:1}\n",
    "print(fibonacci(48,d))"
   ]
  },
  {
   "cell_type": "code",
   "execution_count": null,
   "id": "a02cd52d-6aba-427a-9777-ceff89791075",
   "metadata": {},
   "outputs": [],
   "source": []
  }
 ],
 "metadata": {
  "kernelspec": {
   "display_name": "Python 3 (ipykernel)",
   "language": "python",
   "name": "python3"
  },
  "language_info": {
   "codemirror_mode": {
    "name": "ipython",
    "version": 3
   },
   "file_extension": ".py",
   "mimetype": "text/x-python",
   "name": "python",
   "nbconvert_exporter": "python",
   "pygments_lexer": "ipython3",
   "version": "3.12.7"
  }
 },
 "nbformat": 4,
 "nbformat_minor": 5
}
