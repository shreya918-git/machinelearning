{
 "cells": [
  {
   "cell_type": "code",
   "execution_count": 2,
   "id": "7b37e087-522e-4488-9f44-e400a2e813f1",
   "metadata": {},
   "outputs": [
    {
     "data": {
      "text/plain": [
       "'odd'"
      ]
     },
     "execution_count": 2,
     "metadata": {},
     "output_type": "execute_result"
    }
   ],
   "source": [
    "def is_even(num):\n",
    "    \"\"\"this function inputs a number and returns if its even or odd\n",
    "    input:any positive integer\n",
    "    output:even/odd\n",
    "    created on-26th Feb 2025\"\"\"\n",
    "    if(num%2==0):\n",
    "        return \"even\"\n",
    "    else:\n",
    "        return \"odd\"\n",
    "is_even(7)"
   ]
  },
  {
   "cell_type": "code",
   "execution_count": 12,
   "id": "d79737a5-9a64-48ac-8554-36df800d120c",
   "metadata": {},
   "outputs": [
    {
     "name": "stdout",
     "output_type": "stream",
     "text": [
      "this function inputs a number and returns if its even or odd\n",
      "    input:any positive integer\n",
      "    output:even/odd\n",
      "    created on-26th Feb 2025\n"
     ]
    }
   ],
   "source": [
    "print(is_even.__doc__)"
   ]
  },
  {
   "cell_type": "code",
   "execution_count": 18,
   "id": "bff5975b-91ad-43b1-9bcc-063f19ae6f8b",
   "metadata": {},
   "outputs": [
    {
     "name": "stdout",
     "output_type": "stream",
     "text": [
      "odd\n",
      "None\n",
      "even\n"
     ]
    }
   ],
   "source": [
    " def is_even(num): #when the function doesnt return anything,it returns none\n",
    "  if(num%2==0):\n",
    "    print(\"even\")\n",
    "  else:\n",
    "    print(\"odd\")\n",
    "print(is_even(7))\n",
    "is_even(8) #none wont be printed as the return value isnt stored "
   ]
  },
  {
   "cell_type": "code",
   "execution_count": 24,
   "id": "f484b0cf-3876-4918-ae9b-dad1d2736a4d",
   "metadata": {},
   "outputs": [
    {
     "name": "stdout",
     "output_type": "stream",
     "text": [
      "7\n"
     ]
    }
   ],
   "source": [
    "def sum(a,b): #when the function is created parameters are given\n",
    "    return a+b\n",
    "print(sum(2,5)) #when the function is called,arguments are passed "
   ]
  },
  {
   "cell_type": "code",
   "execution_count": 28,
   "id": "cd0e7159-e474-4ec3-a6bf-1e845b6623ce",
   "metadata": {},
   "outputs": [
    {
     "data": {
      "text/plain": [
       "2"
      ]
     },
     "execution_count": 28,
     "metadata": {},
     "output_type": "execute_result"
    }
   ],
   "source": [
    "def power(a=1,b=1): #default parameters\n",
    "    return a**b\n",
    "power(2)"
   ]
  },
  {
   "cell_type": "code",
   "execution_count": 30,
   "id": "79f4d74d-e3cb-4c0d-8509-af5ca51b3400",
   "metadata": {},
   "outputs": [
    {
     "data": {
      "text/plain": [
       "8"
      ]
     },
     "execution_count": 30,
     "metadata": {},
     "output_type": "execute_result"
    }
   ],
   "source": [
    "def power(a,b): #positional parameters,default parameters\n",
    "    return a**b\n",
    "power(2,3)"
   ]
  },
  {
   "cell_type": "code",
   "execution_count": 32,
   "id": "0af0881f-e755-4250-9369-04470cbe75ee",
   "metadata": {},
   "outputs": [
    {
     "data": {
      "text/plain": [
       "1"
      ]
     },
     "execution_count": 32,
     "metadata": {},
     "output_type": "execute_result"
    }
   ],
   "source": [
    "def power(a,b): #keyword parameters\n",
    "    return a**b\n",
    "power(b=2,a=1)"
   ]
  },
  {
   "cell_type": "code",
   "execution_count": 38,
   "id": "d697bec3-b162-4854-aaf7-67dd0bbe1cb3",
   "metadata": {},
   "outputs": [
    {
     "name": "stdout",
     "output_type": "stream",
     "text": [
      "(1, 2, 3, 4, 5, 6)\n"
     ]
    },
    {
     "data": {
      "text/plain": [
       "720"
      ]
     },
     "execution_count": 38,
     "metadata": {},
     "output_type": "execute_result"
    }
   ],
   "source": [
    "def product(*args): #*args takes multiple arguments at a time and store them in a tuple \n",
    "    product=1\n",
    "    for i in args:\n",
    "        product=product*i\n",
    "    print(args)\n",
    "    return product\n",
    "product(1,2,3,4,5,6)"
   ]
  },
  {
   "cell_type": "code",
   "execution_count": 54,
   "id": "fe6c800d-3998-4911-814e-1cebc890a671",
   "metadata": {},
   "outputs": [
    {
     "name": "stdout",
     "output_type": "stream",
     "text": [
      "india - delhi\n",
      "nepal - kathmandu\n",
      "pakistan - islamabad\n",
      "{'india': 'delhi', 'nepal': 'kathmandu', 'pakistan': 'islamabad'}\n"
     ]
    }
   ],
   "source": [
    "def capitals(**kwargs): #kwargs is used to take multiple keywords as the argument,stores the argument in a dictionary\n",
    "    for (i,j) in kwargs.items():\n",
    "        print(i,\"-\",j)\n",
    "    print(kwargs)\n",
    "capitals(india=\"delhi\",nepal=\"kathmandu\",pakistan=\"islamabad\")"
   ]
  },
  {
   "cell_type": "code",
   "execution_count": 58,
   "id": "899d3857-fa99-4152-ae32-34b1ed1745ae",
   "metadata": {},
   "outputs": [
    {
     "data": {
      "text/plain": [
       "4"
      ]
     },
     "execution_count": 58,
     "metadata": {},
     "output_type": "execute_result"
    }
   ],
   "source": [
    "def product(num,*args,**kwargs): #the order should be normal,args,kwargs\n",
    "    return num*2                 #we cant assign default values to args and kwargs \n",
    "product(2)"
   ]
  },
  {
   "cell_type": "code",
   "execution_count": 60,
   "id": "27e57303-4924-4974-a59f-6596c0f744e0",
   "metadata": {},
   "outputs": [
    {
     "name": "stdout",
     "output_type": "stream",
     "text": [
      "5\n",
      "6\n"
     ]
    }
   ],
   "source": [
    "def g(y): #if the function cant find a variable locally,it uses the global variable \n",
    "    print(x)\n",
    "    print(x+1)\n",
    "x=5\n",
    "g(x)"
   ]
  },
  {
   "cell_type": "code",
   "execution_count": 62,
   "id": "d8f3abba-fcec-4c43-aa61-9f5cdb26cdf1",
   "metadata": {},
   "outputs": [
    {
     "name": "stdout",
     "output_type": "stream",
     "text": [
      "2\n",
      "5\n"
     ]
    }
   ],
   "source": [
    "def f(y):\n",
    "    x=1\n",
    "    x=x+1\n",
    "    return(x)\n",
    "x=5\n",
    "z=f(x)\n",
    "print(z)\n",
    "print(x)"
   ]
  },
  {
   "cell_type": "code",
   "execution_count": 64,
   "id": "c627b3b0-f0c5-4a63-bb98-228ac2227cfe",
   "metadata": {},
   "outputs": [
    {
     "name": "stdout",
     "output_type": "stream",
     "text": [
      "6\n",
      "6\n"
     ]
    }
   ],
   "source": [
    "def f(y): #using the global keyword,the function can make changes to the global variable\n",
    "    global x\n",
    "    x=x+1\n",
    "    return x\n",
    "x=5\n",
    "z=f(x)\n",
    "print(z)\n",
    "print(x)"
   ]
  },
  {
   "cell_type": "code",
   "execution_count": 66,
   "id": "12578137-5ec1-4720-92f8-95e47d8095ba",
   "metadata": {},
   "outputs": [
    {
     "name": "stdout",
     "output_type": "stream",
     "text": [
      "inside function g\n",
      "inside function f\n"
     ]
    }
   ],
   "source": [
    "def f():\n",
    "    def g():\n",
    "        print(\"inside function g\")\n",
    "    g()\n",
    "    print(\"inside function f\")\n",
    "f()"
   ]
  },
  {
   "cell_type": "code",
   "execution_count": 70,
   "id": "9fabacb2-fa5c-4f81-b311-f89d66d11bf6",
   "metadata": {},
   "outputs": [
    {
     "name": "stdout",
     "output_type": "stream",
     "text": [
      "4\n",
      "4\n"
     ]
    }
   ],
   "source": [
    "def g(x):\n",
    "    def h():\n",
    "        x=\"abc\"\n",
    "    x=x+1\n",
    "    print(x)\n",
    "    h()\n",
    "    return x\n",
    "x=3\n",
    "z=g(x)\n",
    "print(z)"
   ]
  },
  {
   "cell_type": "code",
   "execution_count": 72,
   "id": "70bf3c15-adb6-4609-ac41-bef1bde87724",
   "metadata": {},
   "outputs": [
    {
     "name": "stdout",
     "output_type": "stream",
     "text": [
      "5\n",
      "4\n",
      "4\n"
     ]
    }
   ],
   "source": [
    "def g(x):\n",
    "    def h(x):\n",
    "        x=x+1\n",
    "        print(x)\n",
    "    x=x+1\n",
    "    h(x)\n",
    "    print(x)\n",
    "    return x\n",
    "x=3\n",
    "z=g(x)\n",
    "print(z)"
   ]
  },
  {
   "cell_type": "code",
   "execution_count": 92,
   "id": "e5048b41-a902-4019-a33e-62ccd6878971",
   "metadata": {},
   "outputs": [
    {
     "name": "stdout",
     "output_type": "stream",
     "text": [
      "[2, 3, 4, <function square at 0x0000021711EC59E0>]\n",
      "{<function square at 0x0000021711EC59E0>}\n"
     ]
    }
   ],
   "source": [
    "def square(num): #functions are first class citizens\n",
    "    return num**2\n",
    "type(square)\n",
    "x=square\n",
    "x(3)\n",
    "list1=[2,3,4,square]\n",
    "print(list1)\n",
    "id(square)\n",
    "set1={square} #functions are immutable \n",
    "print(set1)\n",
    "del square"
   ]
  },
  {
   "cell_type": "code",
   "execution_count": 96,
   "id": "8925c70f-873c-4f15-af16-c684a95ea8ff",
   "metadata": {},
   "outputs": [
    {
     "name": "stdout",
     "output_type": "stream",
     "text": [
      "8\n"
     ]
    }
   ],
   "source": [
    "def f():\n",
    "    def x(a,b):\n",
    "        return a+b\n",
    "    return x\n",
    "print(f()(3,5)) #f will be replaced by x here"
   ]
  },
  {
   "cell_type": "code",
   "execution_count": 112,
   "id": "c0d016b2-8fd2-4eea-822f-5f2cac38257c",
   "metadata": {},
   "outputs": [
    {
     "name": "stdout",
     "output_type": "stream",
     "text": [
      "inside function b\n",
      "inside function a\n"
     ]
    }
   ],
   "source": [
    "def func_a():\n",
    "    print(\"inside function a\")\n",
    "def func_b(z):\n",
    "    print(\"inside function b\")\n",
    "    return z\n",
    "func_b(func_a)()"
   ]
  },
  {
   "cell_type": "code",
   "execution_count": 116,
   "id": "e4021292-de33-4936-8f9e-e6bbbda18350",
   "metadata": {},
   "outputs": [
    {
     "data": {
      "text/plain": [
       "True"
      ]
     },
     "execution_count": 116,
     "metadata": {},
     "output_type": "execute_result"
    }
   ],
   "source": [
    "a=lambda x:x**2 #lambda functions are used in higher order functions\n",
    "a(2)\n",
    "a=lambda x:\"s\" in x\n",
    "a(\"shreya\")"
   ]
  },
  {
   "cell_type": "code",
   "execution_count": 122,
   "id": "dbb70f2b-2066-429a-9cb8-6760aaa80c7e",
   "metadata": {},
   "outputs": [
    {
     "data": {
      "text/plain": [
       "'even'"
      ]
     },
     "execution_count": 122,
     "metadata": {},
     "output_type": "execute_result"
    }
   ],
   "source": [
    "a=lambda x:\"even\" if x%2==0 else \"odd\"\n",
    "a(2)"
   ]
  },
  {
   "cell_type": "code",
   "execution_count": 128,
   "id": "0150c2d6-80df-4b92-a4c3-e5e1d1c96acf",
   "metadata": {},
   "outputs": [
    {
     "name": "stdout",
     "output_type": "stream",
     "text": [
      "[1, 4, 9, 16, 25]\n",
      "[1, 16, 81, 256, 625]\n"
     ]
    }
   ],
   "source": [
    "def square(x):\n",
    "    return x**2\n",
    "def cube(x):\n",
    "    return x**3\n",
    "def transform(f,list1):\n",
    "    output=[]\n",
    "    for i in list1:\n",
    "        output.append(f(i))\n",
    "    return output\n",
    "list1=[1,2,3,4,5]\n",
    "print(transform(square,list1))\n",
    "print(transform(lambda x:x**4,list1))"
   ]
  },
  {
   "cell_type": "code",
   "execution_count": 132,
   "id": "2cca2d80-08d6-4687-9b3e-7c7e46ed8ff0",
   "metadata": {},
   "outputs": [
    {
     "data": {
      "text/plain": [
       "[1, 4, 9, 16, 25]"
      ]
     },
     "execution_count": 132,
     "metadata": {},
     "output_type": "execute_result"
    }
   ],
   "source": [
    "list1=[1,2,3,4,5]\n",
    "list(map(lambda x:x**2,list1))"
   ]
  },
  {
   "cell_type": "code",
   "execution_count": 134,
   "id": "7cd1f677-a5d1-4860-a978-450ddf78d6cf",
   "metadata": {},
   "outputs": [
    {
     "data": {
      "text/plain": [
       "['odd', 'even', 'odd', 'even', 'odd']"
      ]
     },
     "execution_count": 134,
     "metadata": {},
     "output_type": "execute_result"
    }
   ],
   "source": [
    "list1=[1,2,3,4,5]\n",
    "list(map(lambda x:\"even\" if x%2==0 else \"odd\",list1))"
   ]
  },
  {
   "cell_type": "code",
   "execution_count": 138,
   "id": "d3a3f058-b3b7-4c81-bc7d-633577dafccd",
   "metadata": {},
   "outputs": [
    {
     "data": {
      "text/plain": [
       "['female', 'female', 'male', 'female']"
      ]
     },
     "execution_count": 138,
     "metadata": {},
     "output_type": "execute_result"
    }
   ],
   "source": [
    "dict1=[{\"name\":\"Shreya\",\"age\":20,\"gender\":\"female\"},{\"name\":\"Madhu\",\"age\":40,\"gender\":\"female\"},{\"name\":\"Nitin\",\"age\":40,\"gender\":\"male\"},{\"name\":\"Soumya\",\"age\":20,\"gender\":\"female\"}]\n",
    "list(map(lambda x:x[\"gender\"],dict1))"
   ]
  },
  {
   "cell_type": "code",
   "execution_count": 146,
   "id": "0120e2c8-aef7-4f5e-a801-ac889af82c4c",
   "metadata": {},
   "outputs": [
    {
     "data": {
      "text/plain": [
       "['apple']"
      ]
     },
     "execution_count": 146,
     "metadata": {},
     "output_type": "execute_result"
    }
   ],
   "source": [
    "list1=[5,6,7,4,7,8]\n",
    "list(filter(lambda x:x>5,list1))\n",
    "list2=[\"apple\",\"banana\",\"orange\"]\n",
    "list(filter(lambda x:x.startswith(\"a\"),list2))"
   ]
  },
  {
   "cell_type": "code",
   "execution_count": 150,
   "id": "0b775dcd-52e6-413a-84f3-c38606270274",
   "metadata": {},
   "outputs": [
    {
     "data": {
      "text/plain": [
       "21"
      ]
     },
     "execution_count": 150,
     "metadata": {},
     "output_type": "execute_result"
    }
   ],
   "source": [
    "import functools\n",
    "list1=[1,2,3,4,5,6]\n",
    "functools.reduce(lambda x,y:x+y,list1)"
   ]
  },
  {
   "cell_type": "code",
   "execution_count": null,
   "id": "5e83df22-7495-46e7-a5a9-cd105233f748",
   "metadata": {},
   "outputs": [],
   "source": [
    "functools.reduce(lambda x,y:x if x<y else )"
   ]
  }
 ],
 "metadata": {
  "kernelspec": {
   "display_name": "Python 3 (ipykernel)",
   "language": "python",
   "name": "python3"
  },
  "language_info": {
   "codemirror_mode": {
    "name": "ipython",
    "version": 3
   },
   "file_extension": ".py",
   "mimetype": "text/x-python",
   "name": "python",
   "nbconvert_exporter": "python",
   "pygments_lexer": "ipython3",
   "version": "3.12.7"
  }
 },
 "nbformat": 4,
 "nbformat_minor": 5
}
