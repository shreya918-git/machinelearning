{
 "cells": [
  {
   "cell_type": "code",
   "execution_count": 58,
   "id": "0957d303-9890-4081-9a19-460b56a91594",
   "metadata": {},
   "outputs": [
    {
     "name": "stdout",
     "output_type": "stream",
     "text": [
      "[4, 7, -1, 6, -11, 14, -1, -6]\n"
     ]
    }
   ],
   "source": [
    "list1=[-2,4,7,-1,6,-11,14,-1,-6] \n",
    "dict1={}\n",
    "for i in range(0,len(list1)):\n",
    "    subarray=[]\n",
    "    for j in range(i,len(list1)):\n",
    "        subarray.append(list1[j])\n",
    "        dict1[sum(subarray)]=subarray\n",
    "max_value=max(dict1.keys())\n",
    "for i in dict1:\n",
    "    if(i==max_value):\n",
    "        print(dict1[i])"
   ]
  },
  {
   "cell_type": "code",
   "execution_count": 56,
   "id": "7c0e7eca-ec84-496c-8cec-7531a3b33254",
   "metadata": {},
   "outputs": [
    {
     "name": "stdout",
     "output_type": "stream",
     "text": [
      "19 [4, 7, -1, 6, -11, 14, -1, -6]\n"
     ]
    }
   ],
   "source": [
    "list1=[-2,4,7,-1,6,-11,14,-1,-6]\n",
    "curr_sum=0\n",
    "curr_seq=[]\n",
    "best_sum=list1[0]\n",
    "best_seq=[]\n",
    "for i in list1:\n",
    "    if i+curr_sum>i:\n",
    "        curr_sum=curr_sum+i\n",
    "        curr_seq.append(i)\n",
    "    else:\n",
    "        curr_sum=i\n",
    "        curr_seq.clear()\n",
    "        curr_seq.append(i)\n",
    "    if curr_sum>best_sum:\n",
    "        best_sum=curr_sum\n",
    "        best_seq=curr_seq\n",
    "print(best_sum,best_seq)"
   ]
  },
  {
   "cell_type": "code",
   "execution_count": 30,
   "id": "75cfbaca-e668-4ef2-b91a-b843a7378996",
   "metadata": {},
   "outputs": [
    {
     "name": "stdout",
     "output_type": "stream",
     "text": [
      "4\n",
      "5\n"
     ]
    }
   ],
   "source": [
    "list1=[3,1,2,4,5,8,7,9]\n",
    "for i in range(1,len(list1)-1):\n",
    "    flag=False\n",
    "    for j in range(0,i):\n",
    "        if(list1[j]>list1[i]):\n",
    "            flag=True\n",
    "    for k in range(i+1,len(list1)):\n",
    "        if(list1[k]<list1[i]):\n",
    "            flag=True \n",
    "    if(flag==False):\n",
    "        print(list1[i])"
   ]
  },
  {
   "cell_type": "code",
   "execution_count": 44,
   "id": "12b580bc-b8be-45a0-ab6b-3b7349ae2620",
   "metadata": {},
   "outputs": [
    {
     "name": "stdout",
     "output_type": "stream",
     "text": [
      "4\n",
      "5\n"
     ]
    }
   ],
   "source": [
    "list1=[3,1,2,4,5,8,7,9]\n",
    "for i in range(1,len(list1)-1):\n",
    "    if(max(list1[:i])<list1[i]<min(list1[i+1:])):\n",
    "        print(list1[i])"
   ]
  },
  {
   "cell_type": "code",
   "execution_count": 21,
   "id": "95460f62-8af9-44ca-8ed6-10b3050bd5d1",
   "metadata": {},
   "outputs": [
    {
     "name": "stdout",
     "output_type": "stream",
     "text": [
      "4\n",
      "5\n"
     ]
    }
   ],
   "source": [
    "list1=[3,1,2,4,5,8,7,9]\n",
    "max_val=list1[0]\n",
    "max_arr=[]\n",
    "min_val=list1[-1]\n",
    "min_arr=[]\n",
    "for i in list1:\n",
    "    if i>max_val:\n",
    "        max_val=i\n",
    "    max_arr.append(max_val)\n",
    "for i in range(len(list1)-1,-1,-1):\n",
    "    if list1[i]<min_val:\n",
    "        min_val=list1[i]\n",
    "    min_arr.insert(0,min_val)\n",
    "for i in range(0,len(list1)-1):\n",
    "    if(max_arr[i-1]<list1[i]<min_arr[i+1]):\n",
    "        print(list1[i])"
   ]
  },
  {
   "cell_type": "code",
   "execution_count": 16,
   "id": "b753c1d3-caf3-4a37-91e5-6c3751a3e5df",
   "metadata": {},
   "outputs": [
    {
     "name": "stdout",
     "output_type": "stream",
     "text": [
      "[7, 9] 16\n"
     ]
    }
   ],
   "source": [
    "list1=[3,1,2,4,5,8,7,9]\n",
    "sum1=16\n",
    "for i in range(0,len(list1)):\n",
    "    subarray=[]\n",
    "    for j in range(i,len(list1)):\n",
    "        subarray.append(list1[j])\n",
    "        if(sum(subarray)==sum1):\n",
    "          print(subarray,sum1)"
   ]
  },
  {
   "cell_type": "code",
   "execution_count": 20,
   "id": "5bd342e0-763d-4025-9d3c-0c6751a446cc",
   "metadata": {},
   "outputs": [
    {
     "name": "stdout",
     "output_type": "stream",
     "text": [
      "6 7\n"
     ]
    }
   ],
   "source": [
    "list1=[3,1,2,4,5,8,7,9] \n",
    "curr_sum=0\n",
    "sum1=16\n",
    "dict1={}\n",
    "for i in range(0,len(list1)):\n",
    "    curr_sum=curr_sum+list1[i]\n",
    "    if curr_sum-sum1 in dict1:\n",
    "        print(dict1[curr_sum-sum1]+1,i)\n",
    "    else:\n",
    "        dict1[curr_sum]=i"
   ]
  },
  {
   "cell_type": "code",
   "execution_count": 24,
   "id": "e738b90b-b90a-49e4-a4cc-b82466966ad7",
   "metadata": {},
   "outputs": [
    {
     "name": "stdout",
     "output_type": "stream",
     "text": [
      "1\n",
      "3\n",
      "4\n"
     ]
    }
   ],
   "source": [
    "list1=[3,1,2,4,5,8,7,9] #here membership operator takes o(n) time\n",
    "list2=[3,22,1,4]\n",
    "list1.sort()\n",
    "list2.sort()\n",
    "for i in list1:\n",
    "    if i in list2:\n",
    "        print(i)"
   ]
  },
  {
   "cell_type": "code",
   "execution_count": 2,
   "id": "6d82e413-71c8-422e-8370-9aba166d6367",
   "metadata": {},
   "outputs": [
    {
     "name": "stdout",
     "output_type": "stream",
     "text": [
      "1\n",
      "3\n",
      "4\n"
     ]
    }
   ],
   "source": [
    "list1=[3,1,2,4,5,8,7,9]\n",
    "list2=[3,22,1,4]\n",
    "list1.sort()\n",
    "list2.sort()\n",
    "i=0\n",
    "j=0\n",
    "while(i<len(list1) and j<len(list2)):\n",
    "    if(list1[i]==list2[j]):\n",
    "        print(list1[i])\n",
    "        i=i+1\n",
    "        j=j+1\n",
    "    elif(list1[i]>list2[j]):\n",
    "        j=j+1\n",
    "    else:\n",
    "        i=i+1"
   ]
  },
  {
   "cell_type": "code",
   "execution_count": 19,
   "id": "8b4085b8-b894-476d-83fe-84caa56a09af",
   "metadata": {},
   "outputs": [
    {
     "name": "stdout",
     "output_type": "stream",
     "text": [
      "[3, 4, 5, 1, 2]\n"
     ]
    }
   ],
   "source": [
    "list1=[1,2,3,4,5]\n",
    "rotate=2\n",
    "for i in range(rotate):\n",
    "    temp=list1[0]\n",
    "    for j in range(0,len(list1)-1):\n",
    "        list1[j]=list1[j+1]\n",
    "    list1[len(list1)-1]=temp\n",
    "print(list1)"
   ]
  },
  {
   "cell_type": "code",
   "execution_count": 27,
   "id": "9250c694-7976-427e-8539-21c56727494a",
   "metadata": {},
   "outputs": [
    {
     "name": "stdout",
     "output_type": "stream",
     "text": [
      "1\n",
      "2\n"
     ]
    }
   ],
   "source": [
    "list1=[1,1,2,2,3,4,5,6]\n",
    "dict1={}\n",
    "for i in list1:\n",
    "    if i in dict1:\n",
    "        dict1[i]=dict1[i]+1\n",
    "    else:\n",
    "        dict1[i]=1\n",
    "for i in dict1:\n",
    "    if(dict1[i]>1):\n",
    "        print(i)"
   ]
  },
  {
   "cell_type": "code",
   "execution_count": 33,
   "id": "5b3959a0-647e-4e25-b60d-21dbb6bda98b",
   "metadata": {},
   "outputs": [
    {
     "name": "stdout",
     "output_type": "stream",
     "text": [
      "1\n"
     ]
    }
   ],
   "source": [
    "list1=[1,1,2,2,3,4,5,6]\n",
    "dict1={}\n",
    "k=2\n",
    "for i in list1:\n",
    "    if i in dict1:\n",
    "        dict1[i]=dict1[i]+1\n",
    "    else:\n",
    "        dict1[i]=1\n",
    "for i in dict1:\n",
    "    if(dict1[i]==k):\n",
    "        print(i)\n",
    "        break"
   ]
  },
  {
   "cell_type": "code",
   "execution_count": 39,
   "id": "fb9aa6cc-cb05-4cf0-888b-f2e64ca9120e",
   "metadata": {},
   "outputs": [
    {
     "name": "stdout",
     "output_type": "stream",
     "text": [
      "5\n"
     ]
    }
   ],
   "source": [
    "list1=[1,2,3,4,5]\n",
    "max=list1[0]\n",
    "for i in list1:\n",
    "    if(i>max):\n",
    "        max=i\n",
    "print(max)"
   ]
  },
  {
   "cell_type": "code",
   "execution_count": 47,
   "id": "395aea95-22aa-4279-b28c-216ebfeddeaf",
   "metadata": {},
   "outputs": [
    {
     "name": "stdout",
     "output_type": "stream",
     "text": [
      "not sorted\n"
     ]
    }
   ],
   "source": [
    "list1=[1,2,3,7,5]\n",
    "for i in range(0,len(list1)-1):\n",
    "    flag=True\n",
    "    if(list1[i]>list1[i+1]):\n",
    "        flag=False\n",
    "if(flag==True):\n",
    "    print(\"sorted\")\n",
    "else:\n",
    "    print(\"not sorted\")"
   ]
  },
  {
   "cell_type": "code",
   "execution_count": 51,
   "id": "e503460c-4051-4e60-9f29-accb23012c41",
   "metadata": {},
   "outputs": [
    {
     "data": {
      "text/plain": [
       "4"
      ]
     },
     "execution_count": 51,
     "metadata": {},
     "output_type": "execute_result"
    }
   ],
   "source": [
    "list1=[3,1,2,4,5,8,7,9]\n",
    "k=3\n",
    "list1.sort(reverse=True)\n",
    "list1[k+1]"
   ]
  },
  {
   "cell_type": "code",
   "execution_count": 53,
   "id": "11fe3595-2ee2-4b40-ad72-717ac4ca6ed4",
   "metadata": {},
   "outputs": [
    {
     "name": "stdout",
     "output_type": "stream",
     "text": [
      "[1, 2, 3, [4, 5, 6]]\n",
      "[1, 2, 3, [4, 5]]\n"
     ]
    }
   ],
   "source": [
    "import copy\n",
    "a=[1,2,3,[4,5]]\n",
    "b=copy.deepcopy(a)\n",
    "b[-1].append(6)\n",
    "print(b)\n",
    "print(a)"
   ]
  },
  {
   "cell_type": "code",
   "execution_count": 72,
   "id": "912510e6-84a8-464f-872a-3577659a7eda",
   "metadata": {},
   "outputs": [
    {
     "name": "stdout",
     "output_type": "stream",
     "text": [
      "[0, 0, 0, 1, 1, 1]\n"
     ]
    }
   ],
   "source": [
    "list1=[0,1,0,1,0,1]\n",
    "result=[]\n",
    "for i in list1:\n",
    "    if i==0:\n",
    "        result.insert(0,i)\n",
    "    else:\n",
    "        result.append(i)\n",
    "print(result)"
   ]
  },
  {
   "cell_type": "code",
   "execution_count": 80,
   "id": "dfa7959a-e318-4933-b096-741138e9942b",
   "metadata": {},
   "outputs": [
    {
     "name": "stdout",
     "output_type": "stream",
     "text": [
      "[6, 5, 4, 3, 2, -1, -2]\n"
     ]
    }
   ],
   "source": [
    "# list1=[2,3,4,-1,5,-2,6]\n",
    "result=[]\n",
    "for i in list1:\n",
    "    if i>0:\n",
    "        result.insert(0,i)\n",
    "    else:\n",
    "        result.append(i)\n",
    "print(result)"
   ]
  },
  {
   "cell_type": "code",
   "execution_count": 104,
   "id": "f85ce9f5-9642-43e3-9492-bdee059c892c",
   "metadata": {},
   "outputs": [
    {
     "name": "stdout",
     "output_type": "stream",
     "text": [
      "[3, 1, 2, 4, 5, 8, 7, 9] 60480\n"
     ]
    }
   ],
   "source": [
    "list1=[3,1,2,4,5,8,7,9,-1]\n",
    "curr_product=1\n",
    "curr_seq=[]\n",
    "best_product=float(\"-inf\")\n",
    "best_seq=[]\n",
    "for i in list1:\n",
    "    if(curr_product*i>i):\n",
    "        curr_product=curr_product*i\n",
    "        curr_seq.append(i)\n",
    "    else:\n",
    "        curr_product=i\n",
    "        curr_seq.clear()\n",
    "        curr_seq.append(i)\n",
    "    if curr_product>best_product:\n",
    "        best_product=curr_product\n",
    "        best_seq=curr_seq[:]\n",
    "print(best_seq,best_product)"
   ]
  },
  {
   "cell_type": "code",
   "execution_count": 106,
   "id": "b73dec61-aaad-4616-bbab-be898785714c",
   "metadata": {},
   "outputs": [
    {
     "name": "stdout",
     "output_type": "stream",
     "text": [
      "[3, 1, 2, 4, 5, 8, 7, 9, 22]\n"
     ]
    }
   ],
   "source": [
    "list1=[3,1,2,4,5,8,7,9]\n",
    "list2=[3,22,1,4]\n",
    "result=list1[:]\n",
    "for i in list2:\n",
    "    if i not in result:\n",
    "        result.append(i)\n",
    "print(result)"
   ]
  },
  {
   "cell_type": "code",
   "execution_count": 112,
   "id": "fe5d9e2b-740e-49bd-ab33-be67a1611cca",
   "metadata": {},
   "outputs": [
    {
     "name": "stdout",
     "output_type": "stream",
     "text": [
      "3 4 5\n"
     ]
    }
   ],
   "source": [
    "list1= [3, 1, 4, 6, 5, 8, 9, 12]\n",
    "list1.sort()\n",
    "for i in range(0,len(list1)-2):\n",
    "    if(list1[i]**2+list1[i+1]**2==list1[i+2]**2):\n",
    "        print(list1[i],list1[i+1],list1[i+2])"
   ]
  },
  {
   "cell_type": "code",
   "execution_count": null,
   "id": "64c723ab-b4ba-4f0b-aa89-6d067970d824",
   "metadata": {},
   "outputs": [],
   "source": []
  }
 ],
 "metadata": {
  "kernelspec": {
   "display_name": "Python 3 (ipykernel)",
   "language": "python",
   "name": "python3"
  },
  "language_info": {
   "codemirror_mode": {
    "name": "ipython",
    "version": 3
   },
   "file_extension": ".py",
   "mimetype": "text/x-python",
   "name": "python",
   "nbconvert_exporter": "python",
   "pygments_lexer": "ipython3",
   "version": "3.12.7"
  }
 },
 "nbformat": 4,
 "nbformat_minor": 5
}
