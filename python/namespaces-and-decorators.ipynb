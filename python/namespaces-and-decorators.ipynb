{
 "cells": [
  {
   "cell_type": "code",
   "execution_count": 2,
   "id": "6ec7dd63-65bf-4f44-be71-c7b8322ff932",
   "metadata": {},
   "outputs": [
    {
     "name": "stdout",
     "output_type": "stream",
     "text": [
      "1\n",
      "1\n"
     ]
    }
   ],
   "source": [
    "def func(): #global keyword can also create global variables\n",
    "    global a\n",
    "    a=1\n",
    "    print(a)\n",
    "func()\n",
    "print(a)"
   ]
  },
  {
   "cell_type": "code",
   "execution_count": 4,
   "id": "63998602-4b14-4308-ace3-8eb61eb3f9ad",
   "metadata": {},
   "outputs": [
    {
     "name": "stdout",
     "output_type": "stream",
     "text": [
      "['ArithmeticError', 'AssertionError', 'AttributeError', 'BaseException', 'BaseExceptionGroup', 'BlockingIOError', 'BrokenPipeError', 'BufferError', 'BytesWarning', 'ChildProcessError', 'ConnectionAbortedError', 'ConnectionError', 'ConnectionRefusedError', 'ConnectionResetError', 'DeprecationWarning', 'EOFError', 'Ellipsis', 'EncodingWarning', 'EnvironmentError', 'Exception', 'ExceptionGroup', 'False', 'FileExistsError', 'FileNotFoundError', 'FloatingPointError', 'FutureWarning', 'GeneratorExit', 'IOError', 'ImportError', 'ImportWarning', 'IndentationError', 'IndexError', 'InterruptedError', 'IsADirectoryError', 'KeyError', 'KeyboardInterrupt', 'LookupError', 'MemoryError', 'ModuleNotFoundError', 'NameError', 'None', 'NotADirectoryError', 'NotImplemented', 'NotImplementedError', 'OSError', 'OverflowError', 'PendingDeprecationWarning', 'PermissionError', 'ProcessLookupError', 'RecursionError', 'ReferenceError', 'ResourceWarning', 'RuntimeError', 'RuntimeWarning', 'StopAsyncIteration', 'StopIteration', 'SyntaxError', 'SyntaxWarning', 'SystemError', 'SystemExit', 'TabError', 'TimeoutError', 'True', 'TypeError', 'UnboundLocalError', 'UnicodeDecodeError', 'UnicodeEncodeError', 'UnicodeError', 'UnicodeTranslateError', 'UnicodeWarning', 'UserWarning', 'ValueError', 'Warning', 'WindowsError', 'ZeroDivisionError', '__IPYTHON__', '__build_class__', '__debug__', '__doc__', '__import__', '__loader__', '__name__', '__package__', '__spec__', 'abs', 'aiter', 'all', 'anext', 'any', 'ascii', 'bin', 'bool', 'breakpoint', 'bytearray', 'bytes', 'callable', 'chr', 'classmethod', 'compile', 'complex', 'copyright', 'credits', 'delattr', 'dict', 'dir', 'display', 'divmod', 'enumerate', 'eval', 'exec', 'execfile', 'filter', 'float', 'format', 'frozenset', 'get_ipython', 'getattr', 'globals', 'hasattr', 'hash', 'help', 'hex', 'id', 'input', 'int', 'isinstance', 'issubclass', 'iter', 'len', 'license', 'list', 'locals', 'map', 'max', 'memoryview', 'min', 'next', 'object', 'oct', 'open', 'ord', 'pow', 'print', 'property', 'range', 'repr', 'reversed', 'round', 'runfile', 'set', 'setattr', 'slice', 'sorted', 'staticmethod', 'str', 'sum', 'super', 'tuple', 'type', 'vars', 'zip']\n"
     ]
    }
   ],
   "source": [
    "import builtins\n",
    "print(dir(builtins))"
   ]
  },
  {
   "cell_type": "code",
   "execution_count": 6,
   "id": "1656cc38-958f-4197-b0cc-d9f5b6b0d60e",
   "metadata": {},
   "outputs": [
    {
     "ename": "TypeError",
     "evalue": "max() takes 0 positional arguments but 1 was given",
     "output_type": "error",
     "traceback": [
      "\u001b[1;31m---------------------------------------------------------------------------\u001b[0m",
      "\u001b[1;31mTypeError\u001b[0m                                 Traceback (most recent call last)",
      "Cell \u001b[1;32mIn[6], line 4\u001b[0m\n\u001b[0;32m      2\u001b[0m \u001b[38;5;28;01mdef\u001b[39;00m \u001b[38;5;21mmax\u001b[39m():\n\u001b[0;32m      3\u001b[0m     \u001b[38;5;28mprint\u001b[39m(\u001b[38;5;124m\"\u001b[39m\u001b[38;5;124mhello\u001b[39m\u001b[38;5;124m\"\u001b[39m)\n\u001b[1;32m----> 4\u001b[0m \u001b[38;5;28;43mmax\u001b[39;49m\u001b[43m(\u001b[49m\u001b[43mlist1\u001b[49m\u001b[43m)\u001b[49m\n",
      "\u001b[1;31mTypeError\u001b[0m: max() takes 0 positional arguments but 1 was given"
     ]
    }
   ],
   "source": [
    "list1=[1,2,3,4] \n",
    "def max():\n",
    "    print(\"hello\")\n",
    "max(list1)"
   ]
  },
  {
   "cell_type": "code",
   "execution_count": 10,
   "id": "be9aeb39-0790-442a-bf2f-20aad67bfdcc",
   "metadata": {},
   "outputs": [
    {
     "name": "stdout",
     "output_type": "stream",
     "text": [
      "2\n",
      "3\n",
      "1\n"
     ]
    }
   ],
   "source": [
    "def outer():\n",
    "    a=3\n",
    "    def inner():\n",
    "        a=2\n",
    "        print(a)\n",
    "    inner()\n",
    "    print(a)\n",
    "outer()\n",
    "a=1\n",
    "print(a)"
   ]
  },
  {
   "cell_type": "code",
   "execution_count": 12,
   "id": "60596d6c-d757-41b1-94a5-e49b40ef2b2d",
   "metadata": {},
   "outputs": [
    {
     "name": "stdout",
     "output_type": "stream",
     "text": [
      "4\n",
      "4\n",
      "1\n"
     ]
    }
   ],
   "source": [
    "def outer():\n",
    "    a=3\n",
    "    def inner():\n",
    "        nonlocal a\n",
    "        a=a+1\n",
    "        print(a)\n",
    "    inner()\n",
    "    print(a)\n",
    "outer()\n",
    "a=1\n",
    "print(a)"
   ]
  },
  {
   "cell_type": "code",
   "execution_count": 20,
   "id": "c678b2e1-3e6d-4ff3-a352-4fd4717a55cf",
   "metadata": {},
   "outputs": [
    {
     "name": "stdout",
     "output_type": "stream",
     "text": [
      "**********\n",
      "hello\n",
      "**********\n",
      "**********\n",
      "display\n",
      "**********\n"
     ]
    }
   ],
   "source": [
    "def my_decorator(func):\n",
    "    def wrapper():\n",
    "        print(\"*\"*10)\n",
    "        func()\n",
    "        print(\"*\"*10)\n",
    "    return wrapper\n",
    "def hello():\n",
    "    print(\"hello\")\n",
    "def display():\n",
    "    print(\"display\")\n",
    "a=my_decorator(hello)\n",
    "a()\n",
    "a=my_decorator(display)\n",
    "a()"
   ]
  },
  {
   "cell_type": "code",
   "execution_count": 28,
   "id": "2d44806e-e1b9-4f6d-bdad-ff4a0f172cda",
   "metadata": {},
   "outputs": [
    {
     "name": "stdout",
     "output_type": "stream",
     "text": [
      "4\n",
      "the time taken by square is 0.0009984970092773438\n",
      "hello\n",
      "the time taken by hello is 2.000357151031494\n"
     ]
    }
   ],
   "source": [
    "import time\n",
    "def timer(func):\n",
    "    def wrapper(*args):\n",
    "        start=time.time()\n",
    "        func(*args)\n",
    "        print(\"the time taken by\",func.__name__,\"is\",time.time()-start)\n",
    "    return wrapper\n",
    "@timer\n",
    "def square(num):\n",
    "    print(num**2)\n",
    "@timer\n",
    "def hello():\n",
    "    time.sleep(2)\n",
    "    print(\"hello\")\n",
    "square(2)\n",
    "hello()"
   ]
  },
  {
   "cell_type": "code",
   "execution_count": 38,
   "id": "b3d6280a-2990-4026-8db3-a4aa6853ab9c",
   "metadata": {},
   "outputs": [
    {
     "name": "stdout",
     "output_type": "stream",
     "text": [
      "4\n",
      "None\n"
     ]
    }
   ],
   "source": [
    "def sanity_check(data_type):\n",
    "    def outer_wrapper(func):\n",
    "        def inner_wrapper(*args):\n",
    "            if type(*args)==data_type:\n",
    "                func(*args)\n",
    "            else:\n",
    "                raise TypeError(\"enter the correct data type\")\n",
    "        return inner_wrapper\n",
    "    return outer_wrapper\n",
    "@sanity_check(int)\n",
    "def square(num):\n",
    "    print(num**2)\n",
    "square(2)"
   ]
  },
  {
   "cell_type": "code",
   "execution_count": 48,
   "id": "6cdebe31-584a-45c3-8f2f-eef880a73f01",
   "metadata": {},
   "outputs": [
    {
     "name": "stdout",
     "output_type": "stream",
     "text": [
      "2\n",
      "4\n",
      "6\n",
      "8\n",
      "10\n",
      "12\n",
      "14\n",
      "16\n",
      "18\n",
      "20\n",
      "22\n",
      "24\n",
      "26\n",
      "28\n",
      "30\n",
      "32\n",
      "34\n",
      "36\n",
      "38\n",
      "248\n",
      "48\n"
     ]
    },
    {
     "data": {
      "text/plain": [
       "list_iterator"
      ]
     },
     "execution_count": 48,
     "metadata": {},
     "output_type": "execute_result"
    }
   ],
   "source": [
    "import sys\n",
    "list1=[x for x in range(1,20)]\n",
    "for i in list1:\n",
    "    print(i*2)\n",
    "print(sys.getsizeof(list1))  \n",
    "x=range(1,100000) \n",
    "# for i in x:\n",
    "#     print(i*2)\n",
    "print(sys.getsizeof(x))\n",
    "type(iter(list1))"
   ]
  },
  {
   "cell_type": "code",
   "execution_count": null,
   "id": "3b4e0327-324b-4c4a-8fe2-840d03c554e8",
   "metadata": {},
   "outputs": [],
   "source": [
    "list1=[1,2,3,4]\n",
    "iter_object=iter(list1)\n",
    "print(next(iter_object))\n",
    "print(next(iter_object))\n",
    "print(next(iter_object))\n",
    "print(next(iter_object))"
   ]
  },
  {
   "cell_type": "code",
   "execution_count": null,
   "id": "beaa4298-3da2-444a-bab5-42aaafcd6141",
   "metadata": {},
   "outputs": [],
   "source": [
    "def custom_for_loop(list1):\n",
    "    iter_object=iter(list1)\n",
    "    while True:\n",
    "        try:\n",
    "            print(next(iter_object))\n",
    "        except StopIteration:\n",
    "            break\n",
    "list1=[1,2,3,4]\n",
    "custom_for_loop(list1)"
   ]
  },
  {
   "cell_type": "code",
   "execution_count": null,
   "id": "0fae710a-63b4-48ed-91c3-2f5aefd7f908",
   "metadata": {},
   "outputs": [],
   "source": [
    "list1=[1,2,3,4]\n",
    "iter_obj=iter(list1)\n",
    "print(id(iter_obj))\n",
    "print(id(iter(iter_obj)))"
   ]
  },
  {
   "cell_type": "code",
   "execution_count": null,
   "id": "67bcaa34-f5e8-4e22-94b3-c6a1ebdc5d26",
   "metadata": {},
   "outputs": [],
   "source": [
    "class Range:\n",
    "    def __init__(self,a,b):\n",
    "        self.start=a\n",
    "        self.end=b\n",
    "    def __iter__(self):\n",
    "        return range_iterator(self)\n",
    "class range_iterator:\n",
    "    def __init__(self,a):\n",
    "        self.iterator=a\n",
    "    def __iter__(self):\n",
    "        return self\n",
    "    def __next__(self):\n",
    "        if self.iterator.start>=self.iterator.end:\n",
    "            raise StopIteration\n",
    "        current=self.iterator.start\n",
    "        self.iterator.start=self.iterator.start+1\n",
    "        return current\n",
    "for i in Range(1,11):\n",
    "    print(i)"
   ]
  },
  {
   "cell_type": "code",
   "execution_count": 10,
   "id": "ddee5dfa-4180-4c0a-a17c-5b69afd1888c",
   "metadata": {},
   "outputs": [
    {
     "name": "stdout",
     "output_type": "stream",
     "text": [
      "first statement\n",
      "second statement\n",
      "third statemnt\n"
     ]
    }
   ],
   "source": [
    "def gen():\n",
    "    yield \"first statement\"\n",
    "    yield \"second statement\"\n",
    "    yield \"third statemnt\"\n",
    "gen_obj=gen()\n",
    "for i in gen_obj:\n",
    "    print(i)"
   ]
  },
  {
   "cell_type": "code",
   "execution_count": 16,
   "id": "4820dc12-b482-45bb-afda-c5a4c6f0559c",
   "metadata": {},
   "outputs": [
    {
     "name": "stdout",
     "output_type": "stream",
     "text": [
      "1\n",
      "2\n",
      "3\n",
      "4\n",
      "5\n",
      "6\n",
      "7\n",
      "8\n",
      "9\n"
     ]
    }
   ],
   "source": [
    "def gen():\n",
    "    for i in range(1,10):\n",
    "        yield i\n",
    "gen_obj=gen()\n",
    "print(next(gen_obj))\n",
    "print(next(gen_obj))\n",
    "\n",
    "for i in gen_obj:\n",
    "    print(i)"
   ]
  },
  {
   "cell_type": "code",
   "execution_count": 20,
   "id": "141f0a59-a377-47fa-9260-92ea16bfc2bc",
   "metadata": {},
   "outputs": [
    {
     "name": "stdout",
     "output_type": "stream",
     "text": [
      "10\n",
      "11\n",
      "12\n",
      "13\n",
      "14\n",
      "15\n",
      "16\n",
      "17\n",
      "18\n",
      "19\n"
     ]
    }
   ],
   "source": [
    "def gen_range(start,end):\n",
    "    for i in range(start,end):\n",
    "        yield i\n",
    "gen_obj=gen_range(10,20)\n",
    "for i in gen_obj:\n",
    "    print(i)"
   ]
  },
  {
   "cell_type": "code",
   "execution_count": 28,
   "id": "a456027a-8679-4737-8e15-542a2b98369d",
   "metadata": {},
   "outputs": [
    {
     "name": "stdout",
     "output_type": "stream",
     "text": [
      "1\n",
      "4\n",
      "9\n",
      "16\n",
      "25\n",
      "36\n",
      "49\n",
      "64\n",
      "81\n"
     ]
    }
   ],
   "source": [
    "gen_obj=(i**2 for i in range(1,10))\n",
    "for i in gen_obj:\n",
    "    print(i)"
   ]
  },
  {
   "cell_type": "code",
   "execution_count": 36,
   "id": "476b78b4-d8c5-43fb-b909-2841cbe36ae3",
   "metadata": {},
   "outputs": [
    {
     "name": "stdout",
     "output_type": "stream",
     "text": [
      "285\n"
     ]
    }
   ],
   "source": [
    "def gen():\n",
    "    for i in range(1,10):\n",
    "        yield i\n",
    "def square(nums):\n",
    "    for num in nums:\n",
    "      yield num**2\n",
    "print(sum(square(gen())))"
   ]
  },
  {
   "cell_type": "code",
   "execution_count": 44,
   "id": "9594a9d1-0b01-4418-b17c-74e683fe0794",
   "metadata": {},
   "outputs": [
    {
     "name": "stdout",
     "output_type": "stream",
     "text": [
      "602070\n"
     ]
    }
   ],
   "source": [
    "def fibonnaci(num):\n",
    "    x,y=0,1\n",
    "    for _ in range(1,num+1):\n",
    "        x,y=y,x+y\n",
    "        yield x\n",
    "def square(nums):\n",
    "    for num in nums:\n",
    "        yield num**2\n",
    "print(sum(square(fibonnaci(15))))"
   ]
  },
  {
   "cell_type": "code",
   "execution_count": 2,
   "id": "239e537a-dca1-49fd-beb4-7cfcac8749b1",
   "metadata": {},
   "outputs": [
    {
     "name": "stdout",
     "output_type": "stream",
     "text": [
      "hi\n",
      "__main__\n"
     ]
    }
   ],
   "source": [
    "def hi(): #name is the current file running \n",
    "    print(\"hi\")\n",
    "hi()\n",
    "print(__name__)"
   ]
  },
  {
   "cell_type": "code",
   "execution_count": null,
   "id": "92def791-9dc1-4f25-9677-660e806986ea",
   "metadata": {},
   "outputs": [],
   "source": []
  }
 ],
 "metadata": {
  "kernelspec": {
   "display_name": "Python 3 (ipykernel)",
   "language": "python",
   "name": "python3"
  },
  "language_info": {
   "codemirror_mode": {
    "name": "ipython",
    "version": 3
   },
   "file_extension": ".py",
   "mimetype": "text/x-python",
   "name": "python",
   "nbconvert_exporter": "python",
   "pygments_lexer": "ipython3",
   "version": "3.12.7"
  }
 },
 "nbformat": 4,
 "nbformat_minor": 5
}
