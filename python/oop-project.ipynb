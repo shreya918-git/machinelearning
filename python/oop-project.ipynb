{
 "cells": [
  {
   "cell_type": "code",
   "execution_count": 2,
   "id": "2d548f7b-56cb-47d7-823b-83e87dd854e9",
   "metadata": {},
   "outputs": [
    {
     "name": "stdout",
     "output_type": "stream",
     "text": [
      "Collecting nlpcloud\n",
      "  Downloading nlpcloud-1.1.47-py3-none-any.whl.metadata (1.1 kB)\n",
      "Requirement already satisfied: requests in c:\\users\\shreya sharma\\appdata\\roaming\\python\\python312\\site-packages (from nlpcloud) (2.32.3)\n",
      "Requirement already satisfied: charset-normalizer<4,>=2 in c:\\users\\shreya sharma\\appdata\\roaming\\python\\python312\\site-packages (from requests->nlpcloud) (3.4.0)\n",
      "Requirement already satisfied: idna<4,>=2.5 in c:\\users\\shreya sharma\\appdata\\roaming\\python\\python312\\site-packages (from requests->nlpcloud) (3.10)\n",
      "Requirement already satisfied: urllib3<3,>=1.21.1 in c:\\users\\shreya sharma\\appdata\\roaming\\python\\python312\\site-packages (from requests->nlpcloud) (2.2.3)\n",
      "Requirement already satisfied: certifi>=2017.4.17 in c:\\users\\shreya sharma\\appdata\\roaming\\python\\python312\\site-packages (from requests->nlpcloud) (2024.8.30)\n",
      "Downloading nlpcloud-1.1.47-py3-none-any.whl (3.9 kB)\n",
      "Installing collected packages: nlpcloud\n",
      "Successfully installed nlpcloud-1.1.47\n"
     ]
    }
   ],
   "source": [
    "!pip install nlpcloud"
   ]
  },
  {
   "cell_type": "code",
   "execution_count": 2,
   "id": "224e70d3-4bb9-4fd8-89a0-81cd79b69a85",
   "metadata": {},
   "outputs": [
    {
     "name": "stdin",
     "output_type": "stream",
     "text": [
      "\n",
      "        Hi, how can I help you?\n",
      "        1. Don't have an account? Register\n",
      "        2. Already have an account? Login\n",
      "        3. Exit\n",
      "         1\n",
      "Enter your email:  shreyasharma918nds@gmail.com\n",
      "Enter your name:  shreya\n",
      "Enter your password:  shreya918\n"
     ]
    },
    {
     "name": "stdout",
     "output_type": "stream",
     "text": [
      "{'shreyasharma918nds@gmail.com': ['shreya', 'shreya918']}\n",
      "Registered successfully\n"
     ]
    },
    {
     "name": "stdin",
     "output_type": "stream",
     "text": [
      "\n",
      "        Hi, how can I help you?\n",
      "        1. Don't have an account? Register\n",
      "        2. Already have an account? Login\n",
      "        3. Exit\n",
      "         2\n",
      "Enter your email:  shreyasharma918nds@gmail.com\n",
      "Enter your password:  shreya918\n"
     ]
    },
    {
     "name": "stdout",
     "output_type": "stream",
     "text": [
      "Login successful\n"
     ]
    },
    {
     "name": "stdin",
     "output_type": "stream",
     "text": [
      "\n",
      "        Hi, how can I help you?\n",
      "        1. NRE\n",
      "        2. Summarize\n",
      "        3. Sentiment analysis\n",
      "         3\n",
      "Enter the paragraph to process \"The sun shone brightly in the clear blue sky as laughter filled the air. Children ran through the park, their faces beaming with joy as they played on the swings and chased each other across the grass. A gentle breeze carried the scent of fresh flowers, adding to the beauty of the day. Families gathered for picnics, sharing stories and delicious food while birds chirped happily in the trees. The atmosphere was filled with warmth and positivity, reminding everyone of the simple pleasures in life. In that moment, worries faded away, replaced by pure happiness and gratitude for the beautiful day and the people who made it special.\"\n"
     ]
    },
    {
     "name": "stdout",
     "output_type": "stream",
     "text": [
      "POSITIVE\n"
     ]
    }
   ],
   "source": [
    "import nlpcloud\n",
    "\n",
    "class NlpCloud:\n",
    "    def __init__(self):\n",
    "        self.__database = {}\n",
    "        self.__first_menu()\n",
    "\n",
    "    def __first_menu(self):\n",
    "        user_input = input(\"\"\"\n",
    "        Hi, how can I help you?\n",
    "        1. Don't have an account? Register\n",
    "        2. Already have an account? Login\n",
    "        3. Exit\n",
    "        \"\"\")\n",
    "        if user_input == \"1\":\n",
    "            self.__register()\n",
    "        elif user_input == \"2\":\n",
    "            self.__login()\n",
    "        else:\n",
    "            exit()\n",
    "\n",
    "    def __register(self):\n",
    "        email = input(\"Enter your email: \")\n",
    "        name = input(\"Enter your name: \")\n",
    "        password = input(\"Enter your password: \")\n",
    "        self.__database[email] = [name, password]\n",
    "        print(self.__database)\n",
    "        print(\"Registered successfully\")\n",
    "        self.__first_menu()\n",
    "\n",
    "    def __login(self):\n",
    "        email = input(\"Enter your email: \")\n",
    "        password = input(\"Enter your password: \")\n",
    "        if email in self.__database:\n",
    "            if self.__database[email][1] == password:\n",
    "                print(\"Login successful\")\n",
    "                self.__second_menu()\n",
    "            else:\n",
    "                print(\"Incorrect password\")\n",
    "                self.__login()\n",
    "        else:\n",
    "            print(\"Email not registered\")\n",
    "            self.__register()\n",
    "\n",
    "    def __second_menu(self):\n",
    "        user_input = input(\"\"\"\n",
    "        Hi, how can I help you?\n",
    "        1. NRE\n",
    "        2. Summarize\n",
    "        3. Sentiment analysis\n",
    "        \"\"\")\n",
    "        if user_input == \"1\":\n",
    "            self.__nre()\n",
    "        elif user_input == \"2\":\n",
    "            self.__summarize()\n",
    "        else:\n",
    "            self.__sentiment_analysis()\n",
    "\n",
    "    def __nre(self):\n",
    "        para = input(\"Enter the paragraph to process: \")\n",
    "        search = input(\"Enter what you want to search: \")\n",
    "        client = nlpcloud.Client(\"finetuned-llama-3-70b\", \"c22c142022a0f7cce52b3059ab55beba3c9adf55\", gpu=True)\n",
    "        response = client.entities(para, searched_entity=search)\n",
    "        print(response)\n",
    "    def __summarize(self):\n",
    "        para=input(\"Enter the paragraph to proccess\")\n",
    "        client = nlpcloud.Client(\"finetuned-llama-3-70b\", \"c22c142022a0f7cce52b3059ab55beba3c9adf55\", gpu=True)\n",
    "        response=client.summarization(\n",
    "        para,\n",
    "        size=\"small\"\n",
    "         )\n",
    "        print(response)\n",
    "    def __sentiment_analysis(self):\n",
    "        para=input(\"Enter the paragraph to process\")\n",
    "        client = nlpcloud.Client(\"finetuned-llama-3-70b\", \"c22c142022a0f7cce52b3059ab55beba3c9adf55\", gpu=True)\n",
    "        response=client.sentiment(\n",
    "           para,\n",
    "           target=\"NLP Cloud\"\n",
    "       )\n",
    "        list1=[]\n",
    "        for i in response[\"scored_labels\"]:\n",
    "          list1.append(i[\"score\"])\n",
    "        list2=list(enumerate(list1))\n",
    "        index=sorted(list2,key=lambda x:x[1],reverse=True)[0][0]\n",
    "        print( response[\"scored_labels\"][index][\"label\"])\n",
    "obj = NlpCloud()"
   ]
  },
  {
   "cell_type": "code",
   "execution_count": 10,
   "id": "5279a06b-a6f6-480d-afe5-b8c0df805714",
   "metadata": {},
   "outputs": [
    {
     "name": "stdout",
     "output_type": "stream",
     "text": [
      "Requirement already satisfied: emoji in c:\\users\\shreya sharma\\anaconda3\\lib\\site-packages (2.14.1)\n"
     ]
    }
   ],
   "source": [
    "!pip install emoji"
   ]
  },
  {
   "cell_type": "code",
   "execution_count": 19,
   "id": "ad67e516-18b2-4532-8022-fa10260a3b17",
   "metadata": {},
   "outputs": [
    {
     "data": {
      "text/plain": [
       "'👍'"
      ]
     },
     "execution_count": 19,
     "metadata": {},
     "output_type": "execute_result"
    }
   ],
   "source": [
    "import emoji\n",
    "emoji.emojize(\":thumbs_up:\")"
   ]
  },
  {
   "cell_type": "code",
   "execution_count": null,
   "id": "0e6a9ea5-09dc-4f89-a96f-688d051a381a",
   "metadata": {},
   "outputs": [],
   "source": []
  }
 ],
 "metadata": {
  "kernelspec": {
   "display_name": "Python 3 (ipykernel)",
   "language": "python",
   "name": "python3"
  },
  "language_info": {
   "codemirror_mode": {
    "name": "ipython",
    "version": 3
   },
   "file_extension": ".py",
   "mimetype": "text/x-python",
   "name": "python",
   "nbconvert_exporter": "python",
   "pygments_lexer": "ipython3",
   "version": "3.12.7"
  }
 },
 "nbformat": 4,
 "nbformat_minor": 5
}
