{
 "cells": [
  {
   "cell_type": "code",
   "execution_count": 70,
   "id": "fcbf22a4-0878-4af8-81b6-fe8299b3823c",
   "metadata": {},
   "outputs": [],
   "source": [
    "lists=[20,\"shreya\",[20,22,24]] #lists are dynamic arrays we can store different types of data in a list \n",
    "list2=[20,[20,[22,24]]]                           #execution speed of lists is slow\n",
    "                              #lists occupy more space "
   ]
  },
  {
   "cell_type": "code",
   "execution_count": 154,
   "id": "8e35029b-d680-4a16-a66b-71dcbdeb04b8",
   "metadata": {},
   "outputs": [
    {
     "name": "stdout",
     "output_type": "stream",
     "text": [
      "[20, 'shreya', [20, 22, 24], 1, 1]\n",
      "2246365385280\n",
      "140717381135384\n",
      "2246319487424\n",
      "2246365386112\n",
      "140717381135384\n",
      "2246319487424\n",
      "2246365928192\n",
      "[]\n",
      "[20, 'shreya']\n",
      "[20, 'shreya', [20, 22, 24]]\n",
      "[20, [20, [22, 24]]]\n",
      "[20, True, 1.7, (5+3j)]\n",
      "['s', 'h', 'r', 'e', 'y', 'a']\n"
     ]
    },
    {
     "ename": "TypeError",
     "evalue": "'int' object is not subscriptable",
     "output_type": "error",
     "traceback": [
      "\u001b[1;31m---------------------------------------------------------------------------\u001b[0m",
      "\u001b[1;31mTypeError\u001b[0m                                 Traceback (most recent call last)",
      "Cell \u001b[1;32mIn[154], line 16\u001b[0m\n\u001b[0;32m     14\u001b[0m \u001b[38;5;28mprint\u001b[39m(\u001b[38;5;28mlist\u001b[39m(\u001b[38;5;124m'\u001b[39m\u001b[38;5;124mshreya\u001b[39m\u001b[38;5;124m'\u001b[39m))\n\u001b[0;32m     15\u001b[0m name\u001b[38;5;241m=\u001b[39m\u001b[38;5;124m\"\u001b[39m\u001b[38;5;124mshreya\u001b[39m\u001b[38;5;124m\"\u001b[39m\n\u001b[1;32m---> 16\u001b[0m \u001b[38;5;28mprint\u001b[39m(\u001b[43mlists\u001b[49m\u001b[43m[\u001b[49m\u001b[38;5;241;43m-\u001b[39;49m\u001b[38;5;241;43m1\u001b[39;49m\u001b[43m]\u001b[49m\u001b[43m[\u001b[49m\u001b[38;5;241;43m-\u001b[39;49m\u001b[38;5;241;43m3\u001b[39;49m\u001b[43m]\u001b[49m)\n\u001b[0;32m     17\u001b[0m \u001b[38;5;28mprint\u001b[39m(list2[\u001b[38;5;241m1\u001b[39m][\u001b[38;5;241m1\u001b[39m][\u001b[38;5;241m0\u001b[39m])\n\u001b[0;32m     18\u001b[0m list3\u001b[38;5;241m=\u001b[39m[\u001b[38;5;241m1\u001b[39m,\u001b[38;5;241m2\u001b[39m,\u001b[38;5;241m3\u001b[39m,\u001b[38;5;241m4\u001b[39m]\n",
      "\u001b[1;31mTypeError\u001b[0m: 'int' object is not subscriptable"
     ]
    }
   ],
   "source": [
    "print(lists)\n",
    "print(id(lists))\n",
    "print(id(lists[0]))\n",
    "print(id(lists[1]))\n",
    "print(id(lists[2]))\n",
    "print(id(20)) \n",
    "print(id(\"shreya\"))\n",
    "print(id([20,22,24]))\n",
    "print([])\n",
    "print([20,\"shreya\"]) #1d list\n",
    "print([20,\"shreya\",[20,22,24]]) #2d list\n",
    "print([20,[20,[22,24]]]) #3d list\n",
    "print([20,True,1.7,5+3j])\n",
    "print(list('shreya'))\n",
    "name=\"shreya\"\n",
    "print(lists[-1][-3])\n",
    "print(list2[1][1][0])\n",
    "list3=[1,2,3,4]\n",
    "print(list3[-4::2])"
   ]
  },
  {
   "cell_type": "code",
   "execution_count": 187,
   "id": "84ce583e-1ce4-457d-a04a-24fa77491bbe",
   "metadata": {},
   "outputs": [
    {
     "name": "stdout",
     "output_type": "stream",
     "text": [
      "[1, 2, 3, 4, 1, 1, 1, 1, 's', 'h', 'r', 'e', 'y', 'a', 1, 's', 'h', 'r', 'e', 'y', 'a', 's', 'h', 'r', 'e', 'y', 'a', 's', 'h', 'r', 'e', 'y', 'a', 's', 'h', 'r', 'e', 'y', 'a', 's', 'h', 'r', 'e', 'y', 'a', 's', 'h', 'r', 'e', 'y', 'a', 's', 'h', 'r', 'e', 'y', 'a', 's', 'h', 'r', 'e', 'y', 'a', 's', 'h', 'r', 'e', 'y', 'a', 's', 'h', 'r', 'e', 'y', 'a', 's', 'h', 'r', 'e', 'y', 'a', 's', 'h', 'r', 'e', 'y', 'a', 's', 'h', 'r', 'e', 'y', 'a', 's', 'h', 'r', 'e', 'y', 'a', 's', 'h', 'r', 'e', 'y', 'a', 's', 'h', 'r', 'e', 'y', 'a', 's', 'h', 'r', 'e', 'y', 'a', 's', 'h', 'r', 'e', 'y', 'a', 's', 'h', 'r', 'e', 'y', 'a', 's', 'h', 'r', 'e', 'y', 'a', 's', 'h', 'r', 'e', 'y', 'a', 's', 'h', 'r', 'e', 'y', 'a', 's', 'h', 'r', 'e', 'y', 'a', 's', 'h', 'r', 'e', 'y', 'a', 's', 'h', 'r', 'e', 'y', 'a', 's', 'h', 'r', 'e', 'y', 'a', 's', 'h', 'r', 'e', 'y', 'a', 's', 'h', 'r', 'e', 'y', 'a', 's', 'h', 'r', 'e', 'y', 'a', 's', 'h', 'r', 'e', 'y', 'a', 's', 'h', 'r', 'e', 'y', 'a', 's', 'h', 'r', 'e', 'y', 'a', 's', 'h', 'r', 'e', 'y', 'a', 's', 'h', 'r', 'e', 'y', 'a', 's', 'h', 'r', 'e', 'y', 'a', 's', 'h', 'r', 'e', 'y', 'a', 's', 'h', 'r', 'e', 'y', 'a']\n",
      "[1, 100, 2, 3, 4]\n",
      "[200, 100, 2, 3, 4]\n",
      "[200, 100, 200, 300, 400]\n",
      "[200, 100, 200, 300]\n",
      "[200, 300]\n",
      "[200]\n",
      "[]\n",
      "[1, 2, 3, 4]\n",
      "[]\n",
      "[1, 2, 3, 4]\n",
      "[1, 2, 3, 4, 5, 6, 7, 8]\n",
      "[1, 2, 3, 4, 1, 2, 3, 4, 1, 2, 3, 4]\n",
      "True\n",
      "False\n",
      "6\n",
      "1\n",
      "4\n",
      "[4, 4, 3, 2, 1, 1]\n",
      "2\n",
      "1\n",
      "[1, 4, 4, 3, 2, 1]\n"
     ]
    }
   ],
   "source": [
    "# list3.append(1) #adds only one item at the end of the list\n",
    "# print(list3)\n",
    "list3.extend(\"shreya\") #adds multiple items to the end of the list\n",
    "print(list3)\n",
    "list4=[1,2,3,4]\n",
    "list4.insert(1,100)   #adds element to a particular location \n",
    "print(list4)\n",
    "list4[0]=200\n",
    "print(list4)\n",
    "list4[-3:]=[200,300,400]\n",
    "print(list4)\n",
    "del list4[-1]\n",
    "print(list4)\n",
    "del list4[1:3]\n",
    "print(list4)\n",
    "list4.remove(300)\n",
    "print(list4)\n",
    "list4.pop(0)  #removes the element of the specified index\n",
    "print(list4)\n",
    "list4[0:5]=[1,2,3,4]\n",
    "print(list4)\n",
    "list4.clear() #clears the list \n",
    "print(list4)\n",
    "list4[0:5]=[1,2,3,4]\n",
    "print(list4)\n",
    "list5=[5,6,7,8]\n",
    "print(list4+list5) #concatenation \n",
    "print(list4*3)\n",
    "print(4 in list4) \n",
    "print(7 not in list5)\n",
    "list6=[1,2,3,4,4,1]\n",
    "print(len(list6))\n",
    "print(min(list6))\n",
    "print(max(list6))\n",
    "print(sorted(list6,reverse=True))\n",
    "print(list6.count(1))\n",
    "print(list6.index(2))\n",
    "list6.reverse() #permanently reverses the list \n",
    "print(list6)\n",
    "list6.sort()\n",
    "list7=lis"
   ]
  },
  {
   "cell_type": "code",
   "execution_count": null,
   "id": "7ef7582f-c875-485b-9aaa-0a4ff899e98f",
   "metadata": {},
   "outputs": [],
   "source": []
  },
  {
   "cell_type": "code",
   "execution_count": null,
   "id": "68c8c371-33e1-42d9-9c5c-eef18ba6598f",
   "metadata": {},
   "outputs": [],
   "source": []
  }
 ],
 "metadata": {
  "kernelspec": {
   "display_name": "Python 3 (ipykernel)",
   "language": "python",
   "name": "python3"
  },
  "language_info": {
   "codemirror_mode": {
    "name": "ipython",
    "version": 3
   },
   "file_extension": ".py",
   "mimetype": "text/x-python",
   "name": "python",
   "nbconvert_exporter": "python",
   "pygments_lexer": "ipython3",
   "version": "3.12.7"
  }
 },
 "nbformat": 4,
 "nbformat_minor": 5
}
