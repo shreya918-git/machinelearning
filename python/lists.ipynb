{
 "cells": [
  {
   "cell_type": "code",
   "execution_count": 70,
   "id": "fcbf22a4-0878-4af8-81b6-fe8299b3823c",
   "metadata": {},
   "outputs": [],
   "source": [
    "lists=[20,\"shreya\",[20,22,24]] #lists are dynamic arrays we can store different types of data in a list \n",
    "list2=[20,[20,[22,24]]]                           #execution speed of lists is slow\n",
    "                              #lists occupy more space "
   ]
  },
  {
   "cell_type": "code",
   "execution_count": 102,
   "id": "8e35029b-d680-4a16-a66b-71dcbdeb04b8",
   "metadata": {},
   "outputs": [
    {
     "name": "stdout",
     "output_type": "stream",
     "text": [
      "[20, 'shreya', [20, 22, 24], 1, 1]\n",
      "2246365385280\n",
      "140717381135384\n",
      "2246319487424\n",
      "2246365386112\n",
      "140717381135384\n",
      "2246319487424\n",
      "2246366069120\n",
      "[]\n",
      "[20, 'shreya']\n",
      "[20, 'shreya', [20, 22, 24]]\n",
      "[20, [20, [22, 24]]]\n",
      "[20, True, 1.7, (5+3j)]\n"
     ]
    }
   ],
   "source": [
    "print(lists)\n",
    "print(id(lists))\n",
    "print(id(lists[0]))\n",
    "print(id(lists[1]))\n",
    "print(id(lists[2]))\n",
    "print(id(20)) \n",
    "print(id(\"shreya\"))\n",
    "print(id([20,22,24]))\n",
    "print([])\n",
    "print([20,\"shreya\"]) #1d list\n",
    "print([20,\"shreya\",[20,22,24]]) #2d list\n",
    "print([20,[20,[22,24]]]) #3d list\n",
    "print([20,True,1.7,5+3j])\n",
    "# print(list('shreya'))\n",
    "# name=\"shreya\"\n",
    "# print(lists[-1][-3])\n",
    "# print(list2[1][1][0])\n",
    "# list3=[1,2,3,4]\n",
    "# print(list3[-4::2])"
   ]
  },
  {
   "cell_type": "code",
   "execution_count": 132,
   "id": "84ce583e-1ce4-457d-a04a-24fa77491bbe",
   "metadata": {},
   "outputs": [
    {
     "name": "stdout",
     "output_type": "stream",
     "text": [
      "[1, 2, 3, 4, 1, 1, 1, 1, 's', 'h', 'r', 'e', 'y', 'a', 1, 's', 'h', 'r', 'e', 'y', 'a', 's', 'h', 'r', 'e', 'y', 'a', 's', 'h', 'r', 'e', 'y', 'a', 's', 'h', 'r', 'e', 'y', 'a', 's', 'h', 'r', 'e', 'y', 'a', 's', 'h', 'r', 'e', 'y', 'a', 's', 'h', 'r', 'e', 'y', 'a', 's', 'h', 'r', 'e', 'y', 'a', 's', 'h', 'r', 'e', 'y', 'a', 's', 'h', 'r', 'e', 'y', 'a', 's', 'h', 'r', 'e', 'y', 'a', 's', 'h', 'r', 'e', 'y', 'a']\n",
      "[1, 100, 2, 3, 4]\n",
      "[200, 100, 2, 3, 4]\n",
      "[200, 100, 200, 300, 400]\n",
      "[200, 100, 200, 300]\n"
     ]
    }
   ],
   "source": [
    "# list3.append(1) #adds only one item at the end of the list\n",
    "# print(list3)\n",
    "list3.extend(\"shreya\") #adds multiple items to the end of the list\n",
    "print(list3)\n",
    "list4=[1,2,3,4]\n",
    "list4.insert(1,100)   #adds element to a particular location \n",
    "print(list4)\n",
    "list4[0]=200\n",
    "print(list4)\n",
    "list4[-3:]=[200,300,400]\n",
    "print(list4)\n",
    "del list4[-1]\n",
    "print(list4)"
   ]
  },
  {
   "cell_type": "code",
   "execution_count": null,
   "id": "7ef7582f-c875-485b-9aaa-0a4ff899e98f",
   "metadata": {},
   "outputs": [],
   "source": []
  }
 ],
 "metadata": {
  "kernelspec": {
   "display_name": "Python 3 (ipykernel)",
   "language": "python",
   "name": "python3"
  },
  "language_info": {
   "codemirror_mode": {
    "name": "ipython",
    "version": 3
   },
   "file_extension": ".py",
   "mimetype": "text/x-python",
   "name": "python",
   "nbconvert_exporter": "python",
   "pygments_lexer": "ipython3",
   "version": "3.12.7"
  }
 },
 "nbformat": 4,
 "nbformat_minor": 5
}
