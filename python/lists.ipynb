{
 "cells": [
  {
   "cell_type": "code",
   "execution_count": 2,
   "id": "fcbf22a4-0878-4af8-81b6-fe8299b3823c",
   "metadata": {},
   "outputs": [],
   "source": [
    "lists=[20,\"shreya\",[20,22,24]] #lists are dynamic arrays we can store different types of data in a list \n",
    "list2=[20,[20,[22,24]]]                           #execution speed of lists is slow\n",
    "                              #lists occupy more space "
   ]
  },
  {
   "cell_type": "code",
   "execution_count": 4,
   "id": "8e35029b-d680-4a16-a66b-71dcbdeb04b8",
   "metadata": {},
   "outputs": [
    {
     "name": "stdout",
     "output_type": "stream",
     "text": [
      "[20, 'shreya', [20, 22, 24]]\n",
      "2095122599296\n",
      "140713692048408\n",
      "2095125809552\n",
      "2095122599232\n",
      "140713692048408\n",
      "2095125809552\n",
      "2095122344640\n",
      "[]\n",
      "[20, 'shreya']\n",
      "[20, 'shreya', [20, 22, 24]]\n",
      "[20, [20, [22, 24]]]\n",
      "[20, True, 1.7, (5+3j)]\n",
      "['s', 'h', 'r', 'e', 'y', 'a']\n",
      "20\n",
      "22\n",
      "[1, 3]\n"
     ]
    }
   ],
   "source": [
    "print(lists)\n",
    "print(id(lists))\n",
    "print(id(lists[0]))\n",
    "print(id(lists[1]))\n",
    "print(id(lists[2]))\n",
    "print(id(20)) \n",
    "print(id(\"shreya\"))\n",
    "print(id([20,22,24]))\n",
    "print([])\n",
    "print([20,\"shreya\"]) #1d list\n",
    "print([20,\"shreya\",[20,22,24]]) #2d list\n",
    "print([20,[20,[22,24]]]) #3d list\n",
    "print([20,True,1.7,5+3j])\n",
    "print(list('shreya'))\n",
    "name=\"shreya\"\n",
    "print(lists[-1][-3])\n",
    "print(list2[1][1][0])\n",
    "list3=[1,2,3,4]\n",
    "print(list3[-4::2])"
   ]
  },
  {
   "cell_type": "code",
   "execution_count": 193,
   "id": "84ce583e-1ce4-457d-a04a-24fa77491bbe",
   "metadata": {},
   "outputs": [
    {
     "name": "stdout",
     "output_type": "stream",
     "text": [
      "[1, 2, 3, 4, 1, 1, 1, 1, 's', 'h', 'r', 'e', 'y', 'a', 1, 's', 'h', 'r', 'e', 'y', 'a', 's', 'h', 'r', 'e', 'y', 'a', 's', 'h', 'r', 'e', 'y', 'a', 's', 'h', 'r', 'e', 'y', 'a', 's', 'h', 'r', 'e', 'y', 'a', 's', 'h', 'r', 'e', 'y', 'a', 's', 'h', 'r', 'e', 'y', 'a', 's', 'h', 'r', 'e', 'y', 'a', 's', 'h', 'r', 'e', 'y', 'a', 's', 'h', 'r', 'e', 'y', 'a', 's', 'h', 'r', 'e', 'y', 'a', 's', 'h', 'r', 'e', 'y', 'a', 's', 'h', 'r', 'e', 'y', 'a', 's', 'h', 'r', 'e', 'y', 'a', 's', 'h', 'r', 'e', 'y', 'a', 's', 'h', 'r', 'e', 'y', 'a', 's', 'h', 'r', 'e', 'y', 'a', 's', 'h', 'r', 'e', 'y', 'a', 's', 'h', 'r', 'e', 'y', 'a', 's', 'h', 'r', 'e', 'y', 'a', 's', 'h', 'r', 'e', 'y', 'a', 's', 'h', 'r', 'e', 'y', 'a', 's', 'h', 'r', 'e', 'y', 'a', 's', 'h', 'r', 'e', 'y', 'a', 's', 'h', 'r', 'e', 'y', 'a', 's', 'h', 'r', 'e', 'y', 'a', 's', 'h', 'r', 'e', 'y', 'a', 's', 'h', 'r', 'e', 'y', 'a', 's', 'h', 'r', 'e', 'y', 'a', 's', 'h', 'r', 'e', 'y', 'a', 's', 'h', 'r', 'e', 'y', 'a', 's', 'h', 'r', 'e', 'y', 'a', 's', 'h', 'r', 'e', 'y', 'a', 's', 'h', 'r', 'e', 'y', 'a', 's', 'h', 'r', 'e', 'y', 'a', 's', 'h', 'r', 'e', 'y', 'a', 's', 'h', 'r', 'e', 'y', 'a', 's', 'h', 'r', 'e', 'y', 'a', 's', 'h', 'r', 'e', 'y', 'a', 's', 'h', 'r', 'e', 'y', 'a']\n",
      "[1, 100, 2, 3, 4]\n",
      "[200, 100, 2, 3, 4]\n",
      "[200, 100, 200, 300, 400]\n",
      "[200, 100, 200, 300]\n",
      "[200, 300]\n",
      "[200]\n",
      "[]\n",
      "[1, 2, 3, 4]\n",
      "[]\n",
      "[1, 2, 3, 4]\n",
      "[1, 2, 3, 4, 5, 6, 7, 8]\n",
      "[1, 2, 3, 4, 1, 2, 3, 4, 1, 2, 3, 4]\n",
      "True\n",
      "False\n",
      "6\n",
      "1\n",
      "4\n",
      "[4, 4, 3, 2, 1, 1]\n",
      "2\n",
      "1\n",
      "[1, 4, 4, 3, 2, 1]\n",
      "[1, 1, 2, 3, 4, 4]\n",
      "[1, 1, 2, 3, 4, 4]\n"
     ]
    }
   ],
   "source": [
    "# list3.append(1) #adds only one item at the end of the list\n",
    "# print(list3)\n",
    "list3.extend(\"shreya\") #adds multiple items to the end of the list\n",
    "print(list3)\n",
    "list4=[1,2,3,4]\n",
    "list4.insert(1,100)   #adds element to a particular location \n",
    "print(list4)\n",
    "list4[0]=200\n",
    "print(list4)\n",
    "list4[-3:]=[200,300,400]\n",
    "print(list4)\n",
    "del list4[-1]\n",
    "print(list4)\n",
    "del list4[1:3]\n",
    "print(list4)\n",
    "list4.remove(300)\n",
    "print(list4)\n",
    "list4.pop(0)  #removes the element of the specified index\n",
    "print(list4)\n",
    "list4[0:5]=[1,2,3,4]\n",
    "print(list4)\n",
    "list4.clear() #clears the list \n",
    "print(list4)\n",
    "list4[0:5]=[1,2,3,4]\n",
    "print(list4)\n",
    "list5=[5,6,7,8]\n",
    "print(list4+list5) #concatenation \n",
    "print(list4*3)\n",
    "print(4 in list4) \n",
    "print(7 not in list5)\n",
    "list6=[1,2,3,4,4,1]\n",
    "print(len(list6))\n",
    "print(min(list6))\n",
    "print(max(list6))\n",
    "print(sorted(list6,reverse=True))\n",
    "print(list6.count(1))\n",
    "print(list6.index(2))\n",
    "list6.reverse() #permanently reverses the list \n",
    "print(list6)\n",
    "list6.sort()\n",
    "print(list6)\n",
    "list7=list6.copy()\n",
    "print(list7)"
   ]
  },
  {
   "cell_type": "code",
   "execution_count": 195,
   "id": "7ef7582f-c875-485b-9aaa-0a4ff899e98f",
   "metadata": {},
   "outputs": [
    {
     "name": "stdout",
     "output_type": "stream",
     "text": [
      "[1, 2, 3, 4, 5, 6, 7, 8, 9, 10]\n"
     ]
    }
   ],
   "source": [
    "list7=[]\n",
    "for i in range(1,11):\n",
    "    list7.append(i)\n",
    "print(list7)"
   ]
  },
  {
   "cell_type": "code",
   "execution_count": 6,
   "id": "68c8c371-33e1-42d9-9c5c-eef18ba6598f",
   "metadata": {},
   "outputs": [
    {
     "name": "stdout",
     "output_type": "stream",
     "text": [
      "[1, 2, 3, 4, 5, 6, 7, 8, 9, 10]\n"
     ]
    }
   ],
   "source": [
    "list8=[i for i in range(1,11)]\n",
    "print(list8)"
   ]
  },
  {
   "cell_type": "code",
   "execution_count": 8,
   "id": "9d7118db-7307-455e-9972-1b94f02d63cc",
   "metadata": {},
   "outputs": [
    {
     "data": {
      "text/plain": [
       "[3, 6, 9, 12]"
      ]
     },
     "execution_count": 8,
     "metadata": {},
     "output_type": "execute_result"
    }
   ],
   "source": [
    "list9=[1,2,3,4]\n",
    "s=3 \n",
    "[s*i for i in list9]"
   ]
  },
  {
   "cell_type": "code",
   "execution_count": 10,
   "id": "bb570b19-fa96-4a20-a7cf-3a1e33ea4595",
   "metadata": {},
   "outputs": [
    {
     "data": {
      "text/plain": [
       "[1, 4, 9, 16]"
      ]
     },
     "execution_count": 10,
     "metadata": {},
     "output_type": "execute_result"
    }
   ],
   "source": [
    "list10=[1,2,3,4]\n",
    "[i**2 for i in list10]"
   ]
  },
  {
   "cell_type": "code",
   "execution_count": 12,
   "id": "a459df9b-f216-4d84-9dfd-9a350b98cf0d",
   "metadata": {},
   "outputs": [
    {
     "data": {
      "text/plain": [
       "[5, 10, 15, 20, 25, 30, 35, 40, 45, 50]"
      ]
     },
     "execution_count": 12,
     "metadata": {},
     "output_type": "execute_result"
    }
   ],
   "source": [
    "[i for i in range(1,51) if i%5==0]"
   ]
  },
  {
   "cell_type": "code",
   "execution_count": 14,
   "id": "15f43fa3-f909-4ac9-b33d-4a0f7ab88164",
   "metadata": {},
   "outputs": [
    {
     "data": {
      "text/plain": [
       "['python', 'php']"
      ]
     },
     "execution_count": 14,
     "metadata": {},
     "output_type": "execute_result"
    }
   ],
   "source": [
    "languages=[\"java\",\"python\",\"php\",\"javascript\"]\n",
    "[language for language in languages if language.startswith(\"p\")]"
   ]
  },
  {
   "cell_type": "code",
   "execution_count": 11,
   "id": "ee443a52-75af-43c4-8133-78c40212e035",
   "metadata": {},
   "outputs": [
    {
     "data": {
      "text/plain": [
       "['apple', 'aa']"
      ]
     },
     "execution_count": 11,
     "metadata": {},
     "output_type": "execute_result"
    }
   ],
   "source": [
    "basket=[\"apple\",\"banana\",\"orange\",\"aa\"]\n",
    "my_fruits=[\"apple\",\"banana\",\"orange\",\"aa\",\"aaa\"]\n",
    "[fruit for fruit in my_fruits if fruit in basket if fruit.startswith(\"a\")]"
   ]
  },
  {
   "cell_type": "code",
   "execution_count": 15,
   "id": "450af03f-1e82-4ff9-9a84-c3280830e071",
   "metadata": {},
   "outputs": [
    {
     "data": {
      "text/plain": [
       "[[1, 2, 3], [2, 4, 6], [3, 6, 9]]"
      ]
     },
     "execution_count": 15,
     "metadata": {},
     "output_type": "execute_result"
    }
   ],
   "source": [
    "[[i*j for i in range(1,4)] for j in range(1,4)]"
   ]
  },
  {
   "cell_type": "code",
   "execution_count": 21,
   "id": "fa520017-988c-4044-984f-5ee3e7365522",
   "metadata": {},
   "outputs": [
    {
     "data": {
      "text/plain": [
       "[5, 6, 7, 8, 10, 12, 14, 16, 15, 18, 21, 24, 20, 24, 28, 32]"
      ]
     },
     "execution_count": 21,
     "metadata": {},
     "output_type": "execute_result"
    }
   ],
   "source": [
    "list11=[1,2,3,4]\n",
    "list12=[5,6,7,8]\n",
    "[i*j for i in list11 for j in list12] #first the inner loop works"
   ]
  },
  {
   "cell_type": "code",
   "execution_count": 33,
   "id": "80e9b9d7-7fab-4650-a314-4b1b13da822d",
   "metadata": {},
   "outputs": [
    {
     "name": "stdout",
     "output_type": "stream",
     "text": [
      "[(1, 1), (2, 2), (3, 3), (4, 4)]\n"
     ]
    }
   ],
   "source": [
    "list13=[1,2,3,4] #pairs the respective elements of two lists together\n",
    "list14=[1,2,3,4,5]\n",
    "list15=list(zip(list13,list14))\n",
    "print(list15)"
   ]
  },
  {
   "cell_type": "code",
   "execution_count": 35,
   "id": "9742c4e1-1d1e-4011-8c13-6d9a16698cb5",
   "metadata": {},
   "outputs": [
    {
     "data": {
      "text/plain": [
       "[2, 4, 6, 8]"
      ]
     },
     "execution_count": 35,
     "metadata": {},
     "output_type": "execute_result"
    }
   ],
   "source": [
    "[i+j for i,j in list15] #adds individual elements of each tuple "
   ]
  },
  {
   "cell_type": "code",
   "execution_count": null,
   "id": "e35c7609-03bf-4ab8-a562-e88ba89fb1b6",
   "metadata": {},
   "outputs": [],
   "source": []
  }
 ],
 "metadata": {
  "kernelspec": {
   "display_name": "Python 3 (ipykernel)",
   "language": "python",
   "name": "python3"
  },
  "language_info": {
   "codemirror_mode": {
    "name": "ipython",
    "version": 3
   },
   "file_extension": ".py",
   "mimetype": "text/x-python",
   "name": "python",
   "nbconvert_exporter": "python",
   "pygments_lexer": "ipython3",
   "version": "3.12.7"
  }
 },
 "nbformat": 4,
 "nbformat_minor": 5
}
