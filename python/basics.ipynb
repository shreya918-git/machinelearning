{
 "cells": [
  {
   "cell_type": "code",
   "execution_count": 2,
   "id": "5adff422-4736-48d2-8f9c-e3d9df7de56e",
   "metadata": {},
   "outputs": [
    {
     "name": "stdout",
     "output_type": "stream",
     "text": [
      "hello world\n"
     ]
    }
   ],
   "source": [
    "print(\"hello world\")"
   ]
  },
  {
   "cell_type": "code",
   "execution_count": 38,
   "id": "061a150e-1ce1-4944-9f9c-3a1aa3b39b61",
   "metadata": {},
   "outputs": [
    {
     "name": "stdout",
     "output_type": "stream",
     "text": [
      "hello 1 4.5 True\n",
      "world\n",
      "inf\n",
      "1.7e+308\n",
      "(2+3j)\n",
      "[1, 2, 3, 4, 5]\n",
      "{1, 2, 3, 4, 5}\n",
      "(1, 2, 3, 4, 5)\n",
      "{'name': 'Shreya', 'age': 20, 'gender': 'female'}\n",
      "5\n",
      "shreya\n",
      "5\n"
     ]
    }
   ],
   "source": [
    "print(\"hello\",1,4.5,True,end=\"\\n\") #sep to change the default sep value,end changes the way the next statement is printed \n",
    "print(\"world\")\n",
    "print(1e309) #the largest integer python can handle(1*10^309)\n",
    "print(1.7e308)\n",
    "print(2+3j)\n",
    "print([1,2,3,4,5]) #list\n",
    "print({1,2,3,4,5}) #set\n",
    "print((1,2,3,4,5)) #tuple\n",
    "print({\"name\":\"Shreya\",\"age\":20,\"gender\":\"female\"}) #dictionary(object key value pairs )\n",
    "type(2+3j)\n",
    "a=5\n",
    "print(a)\n",
    "b=\"shreya\"\n",
    "print(b)\n",
    "a=b=c=5\n",
    "print(a)"
   ]
  },
  {
   "cell_type": "code",
   "execution_count": 30,
   "id": "d3dcedfb-966b-470d-8dc3-32df305c9624",
   "metadata": {},
   "outputs": [
    {
     "name": "stdout",
     "output_type": "stream",
     "text": [
      "10\n",
      "200\n",
      "258\n",
      "3.0\n"
     ]
    }
   ],
   "source": [
    "a=0b1010 #binary literal\n",
    "print(a)\n",
    "b=0o310 #octal literal\n",
    "print(b)\n",
    "c=0x102 #hexadecimal literal\n",
    "print(c)\n",
    "x=3+4j\n",
    "print(x.real)"
   ]
  },
  {
   "cell_type": "code",
   "execution_count": 48,
   "id": "386e2d6f-f11a-4dba-bf3f-e5b7940d2b70",
   "metadata": {},
   "outputs": [
    {
     "name": "stdout",
     "output_type": "stream",
     "text": [
      "2\n",
      "1\n",
      "25\n",
      "0\n",
      "1\n",
      "False\n",
      "2\n",
      "3\n",
      "1\n",
      "-4\n",
      "20\n",
      "1\n",
      "True\n",
      "True\n"
     ]
    }
   ],
   "source": [
    "print(5//2) #integer division(converts the quotient into integer)\n",
    "print(5%2)\n",
    "print(5**2) #power of operator \n",
    "print(1 and 0)\n",
    "print(1 or 0)\n",
    "print(not 1)\n",
    "print(2&3)\n",
    "print(2|3)\n",
    "print(2^3) \n",
    "print(~3)\n",
    "print(5<<2)\n",
    "print(5>>2)\n",
    "print(\"D\" in \"Delhi\")\n",
    "print(\"Delhi\" in [\"Delhi\",\"Mumbai\",\"Pune\"])"
   ]
  },
  {
   "cell_type": "code",
   "execution_count": 62,
   "id": "ca0c6a2b-d5ec-42c3-9238-264677cb7319",
   "metadata": {},
   "outputs": [
    {
     "name": "stdin",
     "output_type": "stream",
     "text": [
      "Enter the number:  123\n"
     ]
    },
    {
     "name": "stdout",
     "output_type": "stream",
     "text": [
      "The sum is 6\n"
     ]
    }
   ],
   "source": [
    "a = int(input(\"Enter the number: \"))\n",
    "b = a % 10  # Last digit\n",
    "c = a // 10  # Remove last digit\n",
    "x = c % 10  # Second last digit\n",
    "y = c // 10  # Third digit (if present)\n",
    "z = b + x + y  # Sum the digits\n",
    "print(\"The sum is\", z)\n"
   ]
  },
  {
   "cell_type": "code",
   "execution_count": 66,
   "id": "8c58aade-8308-40c1-8d8c-c2b65d441e44",
   "metadata": {},
   "outputs": [
    {
     "name": "stdin",
     "output_type": "stream",
     "text": [
      "Enter the first number 3\n",
      "Enter the second number 2\n",
      "Enter the third number 1\n"
     ]
    },
    {
     "name": "stdout",
     "output_type": "stream",
     "text": [
      "the min number is 1\n"
     ]
    }
   ],
   "source": [
    "a=int(input(\"Enter the first number\"))\n",
    "b=int(input(\"Enter the second number\"))\n",
    "c=int(input(\"Enter the third number\"))\n",
    "if (a<b) and (a<c):\n",
    "    print(\"the min number is\",a)\n",
    "elif (b<a) and (b<c):\n",
    "    print(\"the min number is\",b)\n",
    "else:\n",
    "    print(\"the min number is\",c)"
   ]
  },
  {
   "cell_type": "code",
   "execution_count": 70,
   "id": "d5d6ecdd-c83f-45c5-a84a-f18cd9e4d7cf",
   "metadata": {},
   "outputs": [
    {
     "name": "stdin",
     "output_type": "stream",
     "text": [
      "Enter the first number 1\n",
      "Enter the second number 2\n",
      "Enter the operator *\n"
     ]
    },
    {
     "name": "stdout",
     "output_type": "stream",
     "text": [
      "the result is 2\n"
     ]
    }
   ],
   "source": [
    "a=int(input(\"Enter the first number\"))\n",
    "b=int(input(\"Enter the second number\"))\n",
    "c=input(\"Enter the operator\")\n",
    "if(c==\"+\"):\n",
    "    x=a+b\n",
    "elif(c==\"-\"):\n",
    "    x=a-b\n",
    "elif(c==\"*\"):\n",
    "    x=a*b\n",
    "else:\n",
    "    x=a/b\n",
    "print(\"the result is\",x)"
   ]
  },
  {
   "cell_type": "code",
   "execution_count": 76,
   "id": "769e3459-5cc0-4cfb-8c72-3a0ddf13de24",
   "metadata": {},
   "outputs": [
    {
     "name": "stdout",
     "output_type": "stream",
     "text": [
      "its used for multiline string\n",
      "hi\n",
      "\n"
     ]
    }
   ],
   "source": [
    "print(\"\"\"its used for multiline string\n",
    "hi\n",
    "\"\"\")"
   ]
  },
  {
   "cell_type": "code",
   "execution_count": 90,
   "id": "9660b9f3-1f80-4aee-8ffa-52bb2ffe4f0a",
   "metadata": {},
   "outputs": [
    {
     "data": {
      "text/plain": [
       "2.23606797749979"
      ]
     },
     "execution_count": 90,
     "metadata": {},
     "output_type": "execute_result"
    }
   ],
   "source": [
    "import math \n",
    "math.factorial(5)\n",
    "math.floor(6.8)\n",
    "math.sqrt(5)"
   ]
  },
  {
   "cell_type": "code",
   "execution_count": 92,
   "id": "7fe14b6f-7d6b-4282-b6bf-7d4a092770bd",
   "metadata": {},
   "outputs": [
    {
     "name": "stdout",
     "output_type": "stream",
     "text": [
      "['False', 'None', 'True', 'and', 'as', 'assert', 'async', 'await', 'break', 'class', 'continue', 'def', 'del', 'elif', 'else', 'except', 'finally', 'for', 'from', 'global', 'if', 'import', 'in', 'is', 'lambda', 'nonlocal', 'not', 'or', 'pass', 'raise', 'return', 'try', 'while', 'with', 'yield']\n"
     ]
    }
   ],
   "source": [
    "import keyword\n",
    "print(keyword.kwlist)"
   ]
  },
  {
   "cell_type": "code",
   "execution_count": 94,
   "id": "b0a53dba-0880-480b-b6d8-b31f13e39443",
   "metadata": {},
   "outputs": [
    {
     "name": "stdout",
     "output_type": "stream",
     "text": [
      "52\n"
     ]
    }
   ],
   "source": [
    "import random \n",
    "print(random.randint(1,100))"
   ]
  },
  {
   "cell_type": "code",
   "execution_count": 104,
   "id": "7c85331f-9124-4d9e-83db-16851d470ad8",
   "metadata": {},
   "outputs": [
    {
     "data": {
      "text/plain": [
       "datetime.datetime(2025, 2, 12, 16, 20, 37, 457378)"
      ]
     },
     "execution_count": 104,
     "metadata": {},
     "output_type": "execute_result"
    }
   ],
   "source": [
    "import datetime \n",
    "datetime.datetime.now()"
   ]
  },
  {
   "cell_type": "code",
   "execution_count": 106,
   "id": "0419b1c3-7539-4a05-b02e-f87fe9223b6c",
   "metadata": {},
   "outputs": [
    {
     "name": "stdout",
     "output_type": "stream",
     "text": [
      "\n",
      "Please wait a moment while I gather a list of all available modules...\n",
      "\n"
     ]
    },
    {
     "name": "stderr",
     "output_type": "stream",
     "text": [
      "C:\\Users\\Shreya Sharma\\anaconda3\\Lib\\site-packages\\paramiko\\pkey.py:82: CryptographyDeprecationWarning: TripleDES has been moved to cryptography.hazmat.decrepit.ciphers.algorithms.TripleDES and will be removed from this module in 48.0.0.\n",
      "  \"cipher\": algorithms.TripleDES,\n",
      "C:\\Users\\Shreya Sharma\\anaconda3\\Lib\\site-packages\\paramiko\\transport.py:219: CryptographyDeprecationWarning: Blowfish has been moved to cryptography.hazmat.decrepit.ciphers.algorithms.Blowfish and will be removed from this module in 45.0.0.\n",
      "  \"class\": algorithms.Blowfish,\n",
      "C:\\Users\\Shreya Sharma\\anaconda3\\Lib\\site-packages\\paramiko\\transport.py:243: CryptographyDeprecationWarning: TripleDES has been moved to cryptography.hazmat.decrepit.ciphers.algorithms.TripleDES and will be removed from this module in 48.0.0.\n",
      "  \"class\": algorithms.TripleDES,\n",
      "C:\\Users\\Shreya Sharma\\anaconda3\\Lib\\site-packages\\nltk\\twitter\\__init__.py:20: UserWarning: The twython library has not been installed. Some functionality from the twitter package will not be available.\n",
      "  warnings.warn(\n",
      "C:\\Users\\Shreya Sharma\\anaconda3\\Lib\\pkgutil.py:78: UserWarning: The numpy.array_api submodule is still experimental. See NEP 47.\n",
      "  __import__(info.name)\n",
      "C:\\Users\\Shreya Sharma\\anaconda3\\Lib\\site-packages\\visions\\utils\\monkeypatches\\imghdr_patch.py:2: DeprecationWarning: 'imghdr' is deprecated and slated for removal in Python 3.13\n",
      "  from imghdr import tests\n",
      "C:\\Users\\Shreya Sharma\\anaconda3\\Lib\\site-packages\\partd\\pandas.py:6: DeprecationWarning: create_block_manager_from_blocks is deprecated and will be removed in a future version. Use public APIs instead.\n",
      "  from pandas.core.internals import create_block_manager_from_blocks, make_block\n",
      "C:\\Users\\Shreya Sharma\\anaconda3\\Lib\\site-packages\\partd\\pandas.py:6: DeprecationWarning: create_block_manager_from_blocks is deprecated and will be removed in a future version. Use public APIs instead.\n",
      "  from pandas.core.internals import create_block_manager_from_blocks, make_block\n",
      "C:\\Users\\Shreya Sharma\\anaconda3\\Lib\\site-packages\\pip\\_vendor\\pkg_resources\\__init__.py:3116: DeprecationWarning: Deprecated call to `pkg_resources.declare_namespace('google')`.\n",
      "Implementing implicit namespace packages (as specified in PEP 420) is preferred to `pkg_resources.declare_namespace`. See https://setuptools.pypa.io/en/latest/references/keywords.html#keyword-namespace-packages\n",
      "  declare_namespace(pkg)\n",
      "C:\\Users\\Shreya Sharma\\anaconda3\\Lib\\site-packages\\pip\\_vendor\\pkg_resources\\__init__.py:3116: DeprecationWarning: Deprecated call to `pkg_resources.declare_namespace('sphinxcontrib')`.\n",
      "Implementing implicit namespace packages (as specified in PEP 420) is preferred to `pkg_resources.declare_namespace`. See https://setuptools.pypa.io/en/latest/references/keywords.html#keyword-namespace-packages\n",
      "  declare_namespace(pkg)\n",
      "C:\\Users\\Shreya Sharma\\anaconda3\\Lib\\site-packages\\pip\\_vendor\\pkg_resources\\__init__.py:3116: DeprecationWarning: Deprecated call to `pkg_resources.declare_namespace('sphinxcontrib')`.\n",
      "Implementing implicit namespace packages (as specified in PEP 420) is preferred to `pkg_resources.declare_namespace`. See https://setuptools.pypa.io/en/latest/references/keywords.html#keyword-namespace-packages\n",
      "  declare_namespace(pkg)\n",
      "C:\\Users\\Shreya Sharma\\anaconda3\\Lib\\site-packages\\pip\\_vendor\\pkg_resources\\__init__.py:3116: DeprecationWarning: Deprecated call to `pkg_resources.declare_namespace('sphinxcontrib')`.\n",
      "Implementing implicit namespace packages (as specified in PEP 420) is preferred to `pkg_resources.declare_namespace`. See https://setuptools.pypa.io/en/latest/references/keywords.html#keyword-namespace-packages\n",
      "  declare_namespace(pkg)\n",
      "C:\\Users\\Shreya Sharma\\anaconda3\\Lib\\site-packages\\pip\\_vendor\\pkg_resources\\__init__.py:3116: DeprecationWarning: Deprecated call to `pkg_resources.declare_namespace('sphinxcontrib')`.\n",
      "Implementing implicit namespace packages (as specified in PEP 420) is preferred to `pkg_resources.declare_namespace`. See https://setuptools.pypa.io/en/latest/references/keywords.html#keyword-namespace-packages\n",
      "  declare_namespace(pkg)\n",
      "C:\\Users\\Shreya Sharma\\anaconda3\\Lib\\site-packages\\pip\\_vendor\\pkg_resources\\__init__.py:3116: DeprecationWarning: Deprecated call to `pkg_resources.declare_namespace('sphinxcontrib')`.\n",
      "Implementing implicit namespace packages (as specified in PEP 420) is preferred to `pkg_resources.declare_namespace`. See https://setuptools.pypa.io/en/latest/references/keywords.html#keyword-namespace-packages\n",
      "  declare_namespace(pkg)\n",
      "C:\\Users\\Shreya Sharma\\anaconda3\\Lib\\site-packages\\pip\\_vendor\\pkg_resources\\__init__.py:3116: DeprecationWarning: Deprecated call to `pkg_resources.declare_namespace('zope')`.\n",
      "Implementing implicit namespace packages (as specified in PEP 420) is preferred to `pkg_resources.declare_namespace`. See https://setuptools.pypa.io/en/latest/references/keywords.html#keyword-namespace-packages\n",
      "  declare_namespace(pkg)\n",
      "C:\\Users\\Shreya Sharma\\anaconda3\\Lib\\site-packages\\pydantic\\experimental\\__init__.py:7: PydanticExperimentalWarning:\n",
      "\n",
      "This module is experimental, its contents are subject to change and deprecation.\n",
      "\n",
      "C:\\Users\\Shreya Sharma\\anaconda3\\Lib\\site-packages\\spyder\\config\\base.py:432: DeprecationWarning:\n",
      "\n",
      "'locale.getdefaultlocale' is deprecated and slated for removal in Python 3.15. Use setlocale(), getencoding() and getlocale() instead.\n",
      "\n",
      "No QCoreApplication instance found. Application patches not applied. You have to call load_stylesheet function after instantiation of QApplication to take effect. \n",
      "C:\\Users\\Shreya Sharma\\anaconda3\\Lib\\site-packages\\spyder\\widgets\\mixins.py:18: DeprecationWarning:\n",
      "\n",
      "module 'sre_constants' is deprecated\n",
      "\n",
      "<frozen importlib._bootstrap>:488: DeprecationWarning:\n",
      "\n",
      "Type google.protobuf.pyext._message.ScalarMapContainer uses PyType_Spec with a metaclass that has custom tp_new. This is deprecated and will no longer be allowed in Python 3.14.\n",
      "\n",
      "<frozen importlib._bootstrap>:488: DeprecationWarning:\n",
      "\n",
      "Type google.protobuf.pyext._message.MessageMapContainer uses PyType_Spec with a metaclass that has custom tp_new. This is deprecated and will no longer be allowed in Python 3.14.\n",
      "\n"
     ]
    },
    {
     "name": "stdout",
     "output_type": "stream",
     "text": [
      "3204bda914b7f2c6f497__mypyc code                matplotlib          slugify\n",
      "IPython             codecs              matplotlib_inline   smart_open\n",
      "OpenSSL             codeop              mccabe              smmap\n",
      "PIL                 collections         mdit_py_plugins     smtplib\n",
      "PyQt5               colorama            mdurl               sndhdr\n",
      "__future__          colorcet            menuinst            sniffio\n",
      "__hello__           colorsys            mimetypes           snowballstemmer\n",
      "__phello__          comm                missingno           socket\n",
      "_abc                commctrl            mistune             socketserver\n",
      "_aix_support        compileall          mkl                 socks\n",
      "_argon2_cffi_bindings concurrent          mkl_fft             sockshandler\n",
      "_ast                conda               mkl_random          sortedcontainers\n",
      "_asyncio            conda_build         mlxtend             soupsieve\n",
      "_bisect             conda_content_trust mmap                sphinx\n",
      "_black_version      conda_env           mmapfile            spyder\n",
      "_blake2             conda_index         mmsystem            spyder_kernels\n",
      "_brotli             conda_libmamba_solver modulefinder        sqlalchemy\n",
      "_bz2                conda_pack          more_itertools      sqlite3\n",
      "_cffi_backend       conda_package_handling mpmath              sre_compile\n",
      "_codecs             conda_package_streaming msgpack             sre_constants\n",
      "_codecs_cn          conda_token         msilib              sre_parse\n",
      "_codecs_hk          configparser        msvcrt              ssl\n",
      "_codecs_iso2022     constantly          multidict           sspi\n",
      "_codecs_jp          contextlib          multimethod         sspicon\n",
      "_codecs_kr          contextvars         multipledispatch    stack_data\n",
      "_codecs_tw          contourpy           multiprocessing     start_pythonwin\n",
      "_collections        cookiecutter        mypy                stat\n",
      "_collections_abc    copy                mypy_extensions     statistics\n",
      "_compat_pickle      copyreg             mypyc               statsmodels\n",
      "_compression        cpuinfo             mysql               streamlit\n",
      "_contextvars        crypt               mysqlx              string\n",
      "_csv                cryptography        nacl                stringprep\n",
      "_ctypes             cssselect           navigator_updater   struct\n",
      "_ctypes_test        csv                 nbclient            subprocess\n",
      "_datetime           ctypes              nbconvert           sunau\n",
      "_decimal            curl                nbformat            sympy\n",
      "_distutils_hack     curses              nest_asyncio        symtable\n",
      "_elementtree        cwp                 netbios             sys\n",
      "_functools          cycler              netrc               sysconfig\n",
      "_hashlib            cytoolz             networkx            tables\n",
      "_heapq              dask                nltk                tabnanny\n",
      "_imp                dask_expr           nntplib             tabulate\n",
      "_io                 dataclasses         notebook            tangled_up_in_unicode\n",
      "_json               datashader          notebook_shim       tarfile\n",
      "_locale             datetime            nt                  tblib\n",
      "_lsprof             dateutil            ntpath              telnetlib\n",
      "_lzma               dbi                 ntsecuritycon       tempfile\n",
      "_markupbase         dbm                 nturl2path          tenacity\n",
      "_md5                dde                 numba               terminado\n",
      "_msi                debugpy             numbergen           test\n",
      "_multibytecodec     decimal             numbers             test_pycosat\n",
      "_multiprocessing    decorator           numexpr             text_unidecode\n",
      "_nsis               defusedxml          numpy               textdistance\n",
      "_opcode             diff_match_patch    numpydoc            textwrap\n",
      "_operator           difflib             odbc                this\n",
      "_osx_support        dill                opcode              threading\n",
      "_overlapped         dis                 openpyxl            threadpoolctl\n",
      "_pickle             distributed         operator            three_merge\n",
      "_plotly_future_     distro              optparse            tifffile\n",
      "_plotly_utils       docstring_to_markdown os                  time\n",
      "_py_abc             doctest             overrides           timeit\n",
      "_pydatetime         docutils            packaging           timer\n",
      "_pydecimal          dotenv              pandas              tinycss2\n",
      "_pyio               email               pandas_profiling    tkinter\n",
      "_pylong             encodings           pandocfilters       tldextract\n",
      "_pytest             ensurepip           panel               tlz\n",
      "_queue              enum                param               token\n",
      "_random             erfa                paramiko            tokenize\n",
      "_ruamel_yaml        errno               parsel              toml\n",
      "_sha1               et_xmlfile          parso               tomli\n",
      "_sha2               executing           partd               tomlkit\n",
      "_sha3               fastjsonschema      pathlib             tomllib\n",
      "_signal             faulthandler        pathspec            toolz\n",
      "_sitebuiltins       filecmp             patsy               tornado\n",
      "_socket             fileinput           pdb                 tqdm\n",
      "_sqlite3            filelock            perfmon             trace\n",
      "_sre                flake8              pexpect             traceback\n",
      "_ssl                flask               phik                tracemalloc\n",
      "_stat               fnmatch             pickle              traitlets\n",
      "_statistics         fontTools           pickleshare         truststore\n",
      "_string             fqdn                pickletools         tty\n",
      "_strptime           fractions           pip                 turtle\n",
      "_struct             frozendict          pipes               turtledemo\n",
      "_symtable           frozenlist          pkce                twisted\n",
      "_system_path        fsspec              pkg_resources       typeguard\n",
      "_testbuffer         ftplib              pkginfo             types\n",
      "_testcapi           functools           pkgutil             typing\n",
      "_testclinic         gc                  platform            typing_extensions\n",
      "_testconsole        genericpath         platformdirs        tzdata\n",
      "_testimportmultiple gensim              plistlib            uc_micro\n",
      "_testinternalcapi   getopt              plotly              ujson\n",
      "_testmultiphase     getpass             pluggy              unicodedata\n",
      "_testsinglephase    gettext             ply                 unicodedata2\n",
      "_thread             git                 poplib              unidecode\n",
      "_threading_local    gitdb               posixpath           unittest\n",
      "_tkinter            glob                pprint              uri_template\n",
      "_tokenize           graphlib            profile             urllib\n",
      "_tracemalloc        greenlet            prometheus_client   urllib3\n",
      "_typing             gzip                prompt_toolkit      uu\n",
      "_uuid               h11                 protego             uuid\n",
      "_warnings           h5py                pstats              venv\n",
      "_weakref            hashlib             psutil              visions\n",
      "_weakrefset         heapdict            pty                 w3lib\n",
      "_win32sysloader     heapq               ptyprocess          warnings\n",
      "_win32verstamp_pywin32ctypes hmac                pure_eval           watchdog\n",
      "_winapi             holoviews           py                  wave\n",
      "_winxptheme         html                py_compile          wcwidth\n",
      "_wmi                htmlmin             pyarrow             weakref\n",
      "_xxinterpchannels   http                pyasn1              webbrowser\n",
      "_xxsubinterpreters  httpcore            pyasn1_modules      webcolors\n",
      "_yaml               httpx               pyclbr              webencodings\n",
      "_zoneinfo           hvplot              pycodestyle         websocket\n",
      "abc                 hyperlink           pycosat             werkzeug\n",
      "adodbapi            idlelib             pycparser           whatthepatch\n",
      "aext_assistant      idna                pyct                wheel\n",
      "aext_assistant_server imagecodecs         pycurl              widgetsnbextension\n",
      "aext_core           imagehash           pydantic            win2kras\n",
      "aext_core_server    imageio             pydantic_core       win32api\n",
      "aext_panels         imagesize           pydeck              win32clipboard\n",
      "aext_panels_server  imaplib             pydispatch          win32com\n",
      "aext_share_notebook imblearn            pydoc               win32con\n",
      "aext_share_notebook_server imghdr              pydoc_data          win32console\n",
      "aext_shared         importlib           pydocstyle          win32cred\n",
      "afxres              importlib_metadata  pyexpat             win32crypt\n",
      "aifc                incremental         pyflakes            win32cryptcon\n",
      "aiobotocore         inflect             pygments            win32ctypes\n",
      "aiohappyeyeballs    inflection          pylab               win32event\n",
      "aiohttp             iniconfig           pylint              win32evtlog\n",
      "aioitertools        inspect             pylint_venv         win32evtlogutil\n",
      "aiosignal           intake              pyls_spyder         win32file\n",
      "alabaster           intervaltree        pylsp               win32gui\n",
      "altair              io                  pylsp_black         win32gui_struct\n",
      "anaconda_anon_usage ipaddress           pylsp_jsonrpc       win32help\n",
      "anaconda_catalogs   ipykernel           pyodbc              win32inet\n",
      "anaconda_cloud_auth ipykernel_launcher  pyparsing           win32inetcon\n",
      "anaconda_navigator  ipython_genutils    pytest              win32job\n",
      "anaconda_project    ipywidgets          pythoncom           win32lz\n",
      "annotated_types     isapi               pythonjsonlogger    win32net\n",
      "antigravity         isoduration         pytoolconfig        win32netcon\n",
      "anyio               isort               pytz                win32pdh\n",
      "appdirs             isympy              pyviz_comms         win32pdhquery\n",
      "archspec            itemadapter         pywin               win32pdhutil\n",
      "argon2              itemloaders         pywin32_bootstrap   win32pipe\n",
      "argparse            itertools           pywin32_testutil    win32print\n",
      "array               itsdangerous        pywintypes          win32process\n",
      "arrow               jedi                pywt                win32profile\n",
      "ast                 jellyfish           qdarkstyle          win32ras\n",
      "astroid             jinja2              qstylizer           win32rcparser\n",
      "astropy             jmespath            qtawesome           win32security\n",
      "astropy_iers_data   joblib              qtconsole           win32service\n",
      "asttokens           json                qtpy                win32serviceutil\n",
      "async_lru           json5               queue               win32timezone\n",
      "asyncio             jsonpatch           queuelib            win32trace\n",
      "atexit              jsonpointer         quopri              win32traceutil\n",
      "atomicwrites        jsonschema          random              win32transaction\n",
      "attr                jsonschema_specifications rasutil             win32ts\n",
      "attrs               jupyter             re                  win32ui\n",
      "audioop             jupyter_client      referencing         win32uiole\n",
      "autocommand         jupyter_console     regcheck            win32verstamp\n",
      "automat             jupyter_core        regex               win32wnet\n",
      "autopep8            jupyter_events      regutil             win_inet_pton\n",
      "babel               jupyter_lsp         repo_cli            winerror\n",
      "backports           jupyter_server      reprlib             winioctlcon\n",
      "base64              jupyter_server_terminals requests            winnt\n",
      "bcrypt              jupyterlab          requests_file       winperf\n",
      "bdb                 jupyterlab_plotly   requests_toolbelt   winpty\n",
      "binaryornot         jupyterlab_pygments rfc3339_validator   winreg\n",
      "binascii            jupyterlab_server   rfc3986_validator   winsound\n",
      "binstar_client      jupyterlab_widgets  rich                winxpgui\n",
      "bisect              jwt                 rlcompleter         winxptheme\n",
      "black               keyring             rope                wrapt\n",
      "blackd              keyword             rpds                wsgiref\n",
      "bleach              kiwisolver          rtree               xarray\n",
      "blib2to3            lazy_loader         ruamel_yaml         xdrlib\n",
      "blinker             lazy_object_proxy   runpy               xlwings\n",
      "bokeh               lckr_jupyterlab_variableinspector s3fs                xlwingsjs\n",
      "boltons             lib2to3             sched               xml\n",
      "botocore            libarchive          scipy               xmlrpc\n",
      "bottleneck          libmambapy          scrapy              xxlimited\n",
      "brotli              lief                seaborn             xxlimited_35\n",
      "bs4                 linecache           secrets             xxsubtype\n",
      "builtins            linkify_it          select              xyzservices\n",
      "bz2                 llvmlite            selectors           yaml\n",
      "cProfile            lmdb                semver              yapf\n",
      "cachetools          locale              send2trash          yapf_third_party\n",
      "calendar            locket              service_identity    yapftests\n",
      "certifi             logging             servicemanager      yarl\n",
      "cffi                lxml                setuptools          zict\n",
      "cgi                 lz4                 shelve              zipapp\n",
      "cgitb               lzma                shlex               zipfile\n",
      "chardet             mailbox             shutil              zipimport\n",
      "charset_normalizer  mailcap             signal              zipp\n",
      "chunk               markdown            sipbuild            zlib\n",
      "click               markdown_it         site                zmq\n",
      "cloudpickle         markupsafe          six                 zoneinfo\n",
      "cmath               marshal             skimage             zope\n",
      "cmd                 math                sklearn             zstandard\n",
      "\n",
      "Enter any module name to get more help.  Or, type \"modules spam\" to search\n",
      "for modules whose name or summary contain the string \"spam\".\n",
      "\n"
     ]
    }
   ],
   "source": [
    "help(\"modules\")"
   ]
  },
  {
   "cell_type": "code",
   "execution_count": 110,
   "id": "84208798-a915-42e3-befa-9e7bbbc87b13",
   "metadata": {},
   "outputs": [
    {
     "name": "stdin",
     "output_type": "stream",
     "text": [
      "Enter a number 12\n"
     ]
    },
    {
     "name": "stdout",
     "output_type": "stream",
     "text": [
      "Guess higher\n"
     ]
    },
    {
     "name": "stdin",
     "output_type": "stream",
     "text": [
      "Enter a number 34\n"
     ]
    },
    {
     "name": "stdout",
     "output_type": "stream",
     "text": [
      "Guess higher\n"
     ]
    },
    {
     "name": "stdin",
     "output_type": "stream",
     "text": [
      "Enter a number 56\n"
     ]
    },
    {
     "name": "stdout",
     "output_type": "stream",
     "text": [
      "Guess higher\n"
     ]
    },
    {
     "name": "stdin",
     "output_type": "stream",
     "text": [
      "Enter a number 67\n"
     ]
    },
    {
     "name": "stdout",
     "output_type": "stream",
     "text": [
      "Guess higher\n"
     ]
    },
    {
     "name": "stdin",
     "output_type": "stream",
     "text": [
      "Enter a number 78\n"
     ]
    },
    {
     "name": "stdout",
     "output_type": "stream",
     "text": [
      "Guess higher\n"
     ]
    },
    {
     "name": "stdin",
     "output_type": "stream",
     "text": [
      "Enter a number 90\n"
     ]
    },
    {
     "name": "stdout",
     "output_type": "stream",
     "text": [
      "Correct guess\n",
      "5\n"
     ]
    }
   ],
   "source": [
    "import random \n",
    "a=random.randint(1,100)\n",
    "b=int(input(\"Enter a number\"))\n",
    "counter=0\n",
    "while(b!=a):\n",
    "    if(b<a):\n",
    "        print(\"Guess higher\")\n",
    "    else:\n",
    "        print(\"Guess lower\")\n",
    "    b=int(input(\"Enter a number\"))\n",
    "    counter=counter+1\n",
    "else:\n",
    "    print(\"Correct guess\")\n",
    "    print(counter)"
   ]
  },
  {
   "cell_type": "code",
   "execution_count": 112,
   "id": "c548531a-11ee-4ee6-9c54-7a3c2d33c55a",
   "metadata": {},
   "outputs": [
    {
     "name": "stdout",
     "output_type": "stream",
     "text": [
      "1\n",
      "5\n",
      "9\n"
     ]
    }
   ],
   "source": [
    "for i in range(1,11,4):\n",
    "    print(i)"
   ]
  },
  {
   "cell_type": "code",
   "execution_count": 4,
   "id": "abbd8f97-61f6-4836-bf48-ee886b6187e6",
   "metadata": {},
   "outputs": [
    {
     "name": "stdin",
     "output_type": "stream",
     "text": [
      "Enter a number 4\n"
     ]
    },
    {
     "name": "stdout",
     "output_type": "stream",
     "text": [
      "2.6666666666666665\n"
     ]
    }
   ],
   "source": [
    "a=int(input(\"Enter a number\"))\n",
    "fact=1\n",
    "sum=0\n",
    "for i in range(1,a+1):\n",
    "    fact=fact*i\n",
    "    sum=sum+i/fact\n",
    "print(sum)"
   ]
  },
  {
   "cell_type": "code",
   "execution_count": 19,
   "id": "51ffa9c6-0eb9-4898-b9c8-0cc1a3dddc6e",
   "metadata": {},
   "outputs": [
    {
     "name": "stdin",
     "output_type": "stream",
     "text": [
      "Enter a number 2\n",
      "Enter a number 56\n"
     ]
    },
    {
     "name": "stdout",
     "output_type": "stream",
     "text": [
      "2\n",
      "3\n",
      "5\n",
      "7\n",
      "11\n",
      "13\n",
      "17\n",
      "19\n",
      "23\n",
      "29\n",
      "31\n",
      "37\n",
      "41\n",
      "43\n",
      "47\n",
      "53\n"
     ]
    }
   ],
   "source": [
    "a=int(input(\"Enter a number\"))\n",
    "b=int(input(\"Enter a number\"))\n",
    "for i in range(a,b+1):\n",
    "    for j in range(2,i):\n",
    "        if(i%j==0):\n",
    "            break\n",
    "    else:\n",
    "        print(i)"
   ]
  },
  {
   "cell_type": "code",
   "execution_count": 21,
   "id": "bd347a6f-5fb6-4087-b6ba-25e9f1ca73bc",
   "metadata": {},
   "outputs": [
    {
     "name": "stdout",
     "output_type": "stream",
     "text": [
      "1\n",
      "2\n",
      "3\n",
      "4\n",
      "6\n",
      "7\n",
      "8\n",
      "9\n"
     ]
    }
   ],
   "source": [
    "for i in range(1,10):\n",
    "    if(i==5):\n",
    "        continue\n",
    "    else:\n",
    "        print(i)"
   ]
  },
  {
   "cell_type": "code",
   "execution_count": 23,
   "id": "80e66b1b-2329-4b9e-9e1b-822e2364f877",
   "metadata": {},
   "outputs": [],
   "source": [
    "for i in range(1,10):\n",
    "    pass"
   ]
  },
  {
   "cell_type": "code",
   "execution_count": 113,
   "id": "736ed382-d6af-4f52-a522-693b9530bb22",
   "metadata": {},
   "outputs": [
    {
     "name": "stdout",
     "output_type": "stream",
     "text": [
      "amrahs\n",
      "shreyashreyashreyashreyashreyashreyashreyashreyashreyashreya\n"
     ]
    },
    {
     "data": {
      "text/plain": [
       "'shreya'"
      ]
     },
     "execution_count": 113,
     "metadata": {},
     "output_type": "execute_result"
    }
   ],
   "source": [
    "name=\"shreya sharma\"\n",
    "print(name[-1:-7:-1])  \n",
    "name[0].upper()\n",
    "del name\n",
    "print(\"shreya\"*10)\n",
    "\"shreya\"==\"shreya\"\n",
    "\"shreya\" and \"sharma\"\n",
    "\"shreya\" or \"sharma\""
   ]
  },
  {
   "cell_type": "code",
   "execution_count": 127,
   "id": "266a1647-6fde-44ff-9807-47b03d01f999",
   "metadata": {},
   "outputs": [
    {
     "data": {
      "text/plain": [
       "['y', 's', 'r', 'h', 'e', 'a']"
      ]
     },
     "execution_count": 127,
     "metadata": {},
     "output_type": "execute_result"
    }
   ],
   "source": [
    "len(\"shreya\")\n",
    "max(\"shreya\")\n",
    "min(\"shreya\")\n",
    "sorted(\"shreya\",reverse=True)"
   ]
  },
  {
   "cell_type": "code",
   "execution_count": 203,
   "id": "cb44000c-8a31-4405-af7b-4306bebe0b71",
   "metadata": {},
   "outputs": [
    {
     "data": {
      "text/plain": [
       "'sharma sharma'"
      ]
     },
     "execution_count": 203,
     "metadata": {},
     "output_type": "execute_result"
    }
   ],
   "source": [
    "name=\"shreya sharma\"\n",
    "name.capitalize()\n",
    "name.title()\n",
    "name.upper()\n",
    "name.lower()\n",
    "name.count(\"s\")\n",
    "name.find(\"a\")\n",
    "name.index(\"h\")\n",
    "name.endswith(\"ma\")\n",
    "name.startswith(\"sh\")\n",
    "gender=\"female\"\n",
    "\"my name is {} im {}\".format(name,gender)\n",
    "\"shreya918\".isalnum()\n",
    "\"shreya918\".isalpha()\n",
    "\"shreya918\".isidentifier()\n",
    "\"shreya918\".isdigit()\n",
    "\"shreya,sharma\".split(\"h\")\n",
    "\",\".join([\"shreya\",\"sharma\"])\n",
    "\"shreya\".strip()\n",
    "\"shreya sharma\".replace(\"shreya\",\"sharma\")"
   ]
  },
  {
   "cell_type": "code",
   "execution_count": 205,
   "id": "70bf2741-0022-4b64-ac12-0ac6671fe9bb",
   "metadata": {},
   "outputs": [
    {
     "name": "stdin",
     "output_type": "stream",
     "text": [
      "Enter a string shreya\n"
     ]
    },
    {
     "name": "stdout",
     "output_type": "stream",
     "text": [
      "6\n"
     ]
    }
   ],
   "source": [
    "a=input(\"Enter a string\")\n",
    "counter=0\n",
    "for i in a:\n",
    "    counter=counter+1\n",
    "print(counter)"
   ]
  },
  {
   "cell_type": "code",
   "execution_count": 223,
   "id": "e2deddc1-648a-4b95-8da6-59adfc1e6e5d",
   "metadata": {},
   "outputs": [
    {
     "ename": "KeyboardInterrupt",
     "evalue": "Interrupted by user",
     "output_type": "error",
     "traceback": [
      "\u001b[1;31m---------------------------------------------------------------------------\u001b[0m",
      "\u001b[1;31mKeyboardInterrupt\u001b[0m                         Traceback (most recent call last)",
      "Cell \u001b[1;32mIn[223], line 1\u001b[0m\n\u001b[1;32m----> 1\u001b[0m a \u001b[38;5;241m=\u001b[39m \u001b[38;5;28;43minput\u001b[39;49m\u001b[43m(\u001b[49m\u001b[38;5;124;43m\"\u001b[39;49m\u001b[38;5;124;43mEnter an email: \u001b[39;49m\u001b[38;5;124;43m\"\u001b[39;49m\u001b[43m)\u001b[49m\n\u001b[0;32m      2\u001b[0m index \u001b[38;5;241m=\u001b[39m a\u001b[38;5;241m.\u001b[39mfind(\u001b[38;5;124m\"\u001b[39m\u001b[38;5;124m@\u001b[39m\u001b[38;5;124m\"\u001b[39m)\n\u001b[0;32m      3\u001b[0m \u001b[38;5;28;01mif\u001b[39;00m index \u001b[38;5;241m==\u001b[39m \u001b[38;5;241m-\u001b[39m\u001b[38;5;241m1\u001b[39m:\n",
      "File \u001b[1;32m~\\AppData\\Roaming\\Python\\Python312\\site-packages\\ipykernel\\kernelbase.py:1282\u001b[0m, in \u001b[0;36mKernel.raw_input\u001b[1;34m(self, prompt)\u001b[0m\n\u001b[0;32m   1280\u001b[0m     msg \u001b[38;5;241m=\u001b[39m \u001b[38;5;124m\"\u001b[39m\u001b[38;5;124mraw_input was called, but this frontend does not support input requests.\u001b[39m\u001b[38;5;124m\"\u001b[39m\n\u001b[0;32m   1281\u001b[0m     \u001b[38;5;28;01mraise\u001b[39;00m StdinNotImplementedError(msg)\n\u001b[1;32m-> 1282\u001b[0m \u001b[38;5;28;01mreturn\u001b[39;00m \u001b[38;5;28;43mself\u001b[39;49m\u001b[38;5;241;43m.\u001b[39;49m\u001b[43m_input_request\u001b[49m\u001b[43m(\u001b[49m\n\u001b[0;32m   1283\u001b[0m \u001b[43m    \u001b[49m\u001b[38;5;28;43mstr\u001b[39;49m\u001b[43m(\u001b[49m\u001b[43mprompt\u001b[49m\u001b[43m)\u001b[49m\u001b[43m,\u001b[49m\n\u001b[0;32m   1284\u001b[0m \u001b[43m    \u001b[49m\u001b[38;5;28;43mself\u001b[39;49m\u001b[38;5;241;43m.\u001b[39;49m\u001b[43m_parent_ident\u001b[49m\u001b[43m[\u001b[49m\u001b[38;5;124;43m\"\u001b[39;49m\u001b[38;5;124;43mshell\u001b[39;49m\u001b[38;5;124;43m\"\u001b[39;49m\u001b[43m]\u001b[49m\u001b[43m,\u001b[49m\n\u001b[0;32m   1285\u001b[0m \u001b[43m    \u001b[49m\u001b[38;5;28;43mself\u001b[39;49m\u001b[38;5;241;43m.\u001b[39;49m\u001b[43mget_parent\u001b[49m\u001b[43m(\u001b[49m\u001b[38;5;124;43m\"\u001b[39;49m\u001b[38;5;124;43mshell\u001b[39;49m\u001b[38;5;124;43m\"\u001b[39;49m\u001b[43m)\u001b[49m\u001b[43m,\u001b[49m\n\u001b[0;32m   1286\u001b[0m \u001b[43m    \u001b[49m\u001b[43mpassword\u001b[49m\u001b[38;5;241;43m=\u001b[39;49m\u001b[38;5;28;43;01mFalse\u001b[39;49;00m\u001b[43m,\u001b[49m\n\u001b[0;32m   1287\u001b[0m \u001b[43m\u001b[49m\u001b[43m)\u001b[49m\n",
      "File \u001b[1;32m~\\AppData\\Roaming\\Python\\Python312\\site-packages\\ipykernel\\kernelbase.py:1325\u001b[0m, in \u001b[0;36mKernel._input_request\u001b[1;34m(self, prompt, ident, parent, password)\u001b[0m\n\u001b[0;32m   1322\u001b[0m \u001b[38;5;28;01mexcept\u001b[39;00m \u001b[38;5;167;01mKeyboardInterrupt\u001b[39;00m:\n\u001b[0;32m   1323\u001b[0m     \u001b[38;5;66;03m# re-raise KeyboardInterrupt, to truncate traceback\u001b[39;00m\n\u001b[0;32m   1324\u001b[0m     msg \u001b[38;5;241m=\u001b[39m \u001b[38;5;124m\"\u001b[39m\u001b[38;5;124mInterrupted by user\u001b[39m\u001b[38;5;124m\"\u001b[39m\n\u001b[1;32m-> 1325\u001b[0m     \u001b[38;5;28;01mraise\u001b[39;00m \u001b[38;5;167;01mKeyboardInterrupt\u001b[39;00m(msg) \u001b[38;5;28;01mfrom\u001b[39;00m \u001b[38;5;28;01mNone\u001b[39;00m\n\u001b[0;32m   1326\u001b[0m \u001b[38;5;28;01mexcept\u001b[39;00m \u001b[38;5;167;01mException\u001b[39;00m:\n\u001b[0;32m   1327\u001b[0m     \u001b[38;5;28mself\u001b[39m\u001b[38;5;241m.\u001b[39mlog\u001b[38;5;241m.\u001b[39mwarning(\u001b[38;5;124m\"\u001b[39m\u001b[38;5;124mInvalid Message:\u001b[39m\u001b[38;5;124m\"\u001b[39m, exc_info\u001b[38;5;241m=\u001b[39m\u001b[38;5;28;01mTrue\u001b[39;00m)\n",
      "\u001b[1;31mKeyboardInterrupt\u001b[0m: Interrupted by user"
     ]
    }
   ],
   "source": [
    "a = input(\"Enter an email: \")\n",
    "index = a.find(\"@\")\n",
    "if index == -1:\n",
    "    print(\"No '@' symbol found in the email.\")\n",
    "else:\n",
    "    print(f\"Index of '@' symbol: {index}\")\n"
   ]
  },
  {
   "cell_type": "code",
   "execution_count": 225,
   "id": "7e423ee7-9fc9-4f63-9ef0-c2030d2087fb",
   "metadata": {},
   "outputs": [
    {
     "name": "stdin",
     "output_type": "stream",
     "text": [
      "Enter a string shreya\n",
      "Enter a letter s\n"
     ]
    },
    {
     "name": "stdout",
     "output_type": "stream",
     "text": [
      "hreya\n"
     ]
    }
   ],
   "source": [
    "a=input(\"Enter a string\")\n",
    "b=input(\"Enter a letter\")\n",
    "c=\"\"\n",
    "for i in a:\n",
    "    if(i!=b):\n",
    "        c=c+i\n",
    "print(c)"
   ]
  },
  {
   "cell_type": "code",
   "execution_count": 229,
   "id": "3b4fd0b4-03e8-40b2-8bb6-ecf669cc3c39",
   "metadata": {},
   "outputs": [
    {
     "name": "stdin",
     "output_type": "stream",
     "text": [
      "Enter a string aba\n"
     ]
    },
    {
     "name": "stdout",
     "output_type": "stream",
     "text": [
      "the string is a palindrome\n"
     ]
    }
   ],
   "source": [
    "a=input(\"Enter a string\")\n",
    "b=a[::-1]\n",
    "if(b==a):\n",
    "    print(\"the string is a palindrome\")\n",
    "else:\n",
    "    print(\"the string isnt a palindrome\")"
   ]
  },
  {
   "cell_type": "code",
   "execution_count": 249,
   "id": "da63e080-0ef7-402a-9efa-25707f03be35",
   "metadata": {},
   "outputs": [
    {
     "name": "stdin",
     "output_type": "stream",
     "text": [
      "Enter a string shreya sharma\n"
     ]
    },
    {
     "name": "stdout",
     "output_type": "stream",
     "text": [
      "['shreya', 'sharma']\n"
     ]
    }
   ],
   "source": [
    "a=input(\"Enter a string\")\n",
    "temp=\"\"\n",
    "result=[]\n",
    "for i in a:\n",
    "    if(i!=\" \"):\n",
    "        temp=temp+i\n",
    "    else:\n",
    "        result.append(temp)\n",
    "        temp=\"\"\n",
    "result.append(temp)\n",
    "print(result)"
   ]
  },
  {
   "cell_type": "code",
   "execution_count": 277,
   "id": "1b669f90-fba3-4e86-9eac-bff234c53629",
   "metadata": {},
   "outputs": [
    {
     "name": "stdin",
     "output_type": "stream",
     "text": [
      "Enter a string shreya sharma\n"
     ]
    },
    {
     "name": "stdout",
     "output_type": "stream",
     "text": [
      "['Shreya', 'Sharma']\n"
     ]
    }
   ],
   "source": [
    "a=input(\"Enter a string\")\n",
    "result=[]\n",
    "for i in a.split():\n",
    "    result.append(i[0].upper()+i[1:].lower())\n",
    "print(result)"
   ]
  },
  {
   "cell_type": "code",
   "execution_count": 287,
   "id": "7ea24a92-7820-4d2e-ac7f-eb743eeef21e",
   "metadata": {},
   "outputs": [
    {
     "name": "stdin",
     "output_type": "stream",
     "text": [
      "Enter a number 123\n"
     ]
    },
    {
     "name": "stdout",
     "output_type": "stream",
     "text": [
      "<class 'str'>\n"
     ]
    }
   ],
   "source": [
    "a=int(input(\"Enter a number\"))\n",
    "b=\"0123456789\"\n",
    "temp=\"\"\n",
    "while(a!=0):\n",
    "    temp=b[a%10]+temp\n",
    "    a=a//10\n",
    "print(type(temp))"
   ]
  },
  {
   "cell_type": "code",
   "execution_count": 313,
   "id": "01c6572e-e4b2-4d85-8f16-1a9681fbeb46",
   "metadata": {},
   "outputs": [
    {
     "data": {
      "text/plain": [
       "True"
      ]
     },
     "execution_count": 313,
     "metadata": {},
     "output_type": "execute_result"
    }
   ],
   "source": [
    "a=256\n",
    "b=256\n",
    "a is b #checks if the variables are stored in the same memory location "
   ]
  },
  {
   "cell_type": "code",
   "execution_count": 315,
   "id": "87e70f01-df42-4a69-97f0-163f784f49b3",
   "metadata": {},
   "outputs": [
    {
     "name": "stdout",
     "output_type": "stream",
     "text": [
      "hi\n"
     ]
    }
   ],
   "source": [
    "a,b=14,12\n",
    "print(\"hi\") if (a>b) else print(\"bye\")"
   ]
  },
  {
   "cell_type": "code",
   "execution_count": null,
   "id": "c87d1f6e-81e3-4ebf-89af-43dda0c37cd5",
   "metadata": {},
   "outputs": [],
   "source": []
  }
 ],
 "metadata": {
  "kernelspec": {
   "display_name": "Python 3 (ipykernel)",
   "language": "python",
   "name": "python3"
  },
  "language_info": {
   "codemirror_mode": {
    "name": "ipython",
    "version": 3
   },
   "file_extension": ".py",
   "mimetype": "text/x-python",
   "name": "python",
   "nbconvert_exporter": "python",
   "pygments_lexer": "ipython3",
   "version": "3.12.7"
  }
 },
 "nbformat": 4,
 "nbformat_minor": 5
}
