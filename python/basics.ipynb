{
 "cells": [
  {
   "cell_type": "code",
   "execution_count": 2,
   "id": "5adff422-4736-48d2-8f9c-e3d9df7de56e",
   "metadata": {},
   "outputs": [
    {
     "name": "stdout",
     "output_type": "stream",
     "text": [
      "hello world\n"
     ]
    }
   ],
   "source": [
    "print(\"hello world\")"
   ]
  },
  {
   "cell_type": "code",
   "execution_count": 16,
   "id": "061a150e-1ce1-4944-9f9c-3a1aa3b39b61",
   "metadata": {},
   "outputs": [
    {
     "name": "stdout",
     "output_type": "stream",
     "text": [
      "hello 1 4.5 True\n",
      "world\n",
      "inf\n",
      "1.7e+308\n",
      "(2+3j)\n",
      "[1, 2, 3, 4, 5]\n",
      "{1, 2, 3, 4, 5}\n",
      "(1, 2, 3, 4, 5)\n",
      "{'name': 'Shreya', 'age': 20, 'gender': 'female'}\n",
      "5\n",
      "shreya\n",
      "5\n"
     ]
    },
    {
     "ename": "ValueError",
     "evalue": "invalid literal for int() with base 10: 'shreya'",
     "output_type": "error",
     "traceback": [
      "\u001b[1;31m---------------------------------------------------------------------------\u001b[0m",
      "\u001b[1;31mValueError\u001b[0m                                Traceback (most recent call last)",
      "Cell \u001b[1;32mIn[16], line 17\u001b[0m\n\u001b[0;32m     15\u001b[0m a\u001b[38;5;241m=\u001b[39mb\u001b[38;5;241m=\u001b[39mc\u001b[38;5;241m=\u001b[39m\u001b[38;5;241m5\u001b[39m\n\u001b[0;32m     16\u001b[0m \u001b[38;5;28mprint\u001b[39m(a)\n\u001b[1;32m---> 17\u001b[0m \u001b[38;5;28;43mint\u001b[39;49m\u001b[43m(\u001b[49m\u001b[38;5;124;43m\"\u001b[39;49m\u001b[38;5;124;43mshreya\u001b[39;49m\u001b[38;5;124;43m\"\u001b[39;49m\u001b[43m)\u001b[49m\n",
      "\u001b[1;31mValueError\u001b[0m: invalid literal for int() with base 10: 'shreya'"
     ]
    }
   ],
   "source": [
    "print(\"hello\",1,4.5,True,end=\"\\n\") #sep to change the default sep value,end changes the way the next statement is printed \n",
    "print(\"world\")\n",
    "print(1e309) #the largest integer python can handle(1*10^309)\n",
    "print(1.7e308)\n",
    "print(2+3j)\n",
    "print([1,2,3,4,5]) #list\n",
    "print({1,2,3,4,5}) #set\n",
    "print((1,2,3,4,5)) #tuple\n",
    "print({\"name\":\"Shreya\",\"age\":20,\"gender\":\"female\"}) #dictionary(object key value pairs )\n",
    "type(2+3j)\n",
    "a=5\n",
    "print(a)\n",
    "b=\"shreya\"\n",
    "print(b)\n",
    "a=b=c=5\n",
    "print(a)"
   ]
  },
  {
   "cell_type": "code",
   "execution_count": 26,
   "id": "d3dcedfb-966b-470d-8dc3-32df305c9624",
   "metadata": {},
   "outputs": [
    {
     "name": "stdout",
     "output_type": "stream",
     "text": [
      "10\n",
      "200\n",
      "258\n"
     ]
    }
   ],
   "source": [
    "a=0b1010 #binary literal\n",
    "print(a)\n",
    "b=0o310 #octal literal\n",
    "print(b)\n",
    "c=0x102 #hexadecimal literal\n",
    "print(c)"
   ]
  },
  {
   "cell_type": "code",
   "execution_count": null,
   "id": "386e2d6f-f11a-4dba-bf3f-e5b7940d2b70",
   "metadata": {},
   "outputs": [],
   "source": []
  }
 ],
 "metadata": {
  "kernelspec": {
   "display_name": "Python 3 (ipykernel)",
   "language": "python",
   "name": "python3"
  },
  "language_info": {
   "codemirror_mode": {
    "name": "ipython",
    "version": 3
   },
   "file_extension": ".py",
   "mimetype": "text/x-python",
   "name": "python",
   "nbconvert_exporter": "python",
   "pygments_lexer": "ipython3",
   "version": "3.12.7"
  }
 },
 "nbformat": 4,
 "nbformat_minor": 5
}
