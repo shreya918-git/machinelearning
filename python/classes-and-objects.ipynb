{
 "cells": [
  {
   "cell_type": "code",
   "execution_count": 50,
   "id": "e0fdd93d-54e4-4eb2-ae4a-f3f5de7ba2e6",
   "metadata": {},
   "outputs": [],
   "source": [
    "class Atm: #a class is defined in pascal style(each word starts with a capital letter)\n",
    "    def __init__(self):\n",
    "        self.pin=\"\"\n",
    "        self.balance=0\n",
    "        self.menu()\n",
    "    def menu(self):\n",
    "        user_input=input(\"\"\"\n",
    "        hi how can i help you\n",
    "        1.Press 1 to create pin \n",
    "        2.Press 2 to change pin\n",
    "        3.Press 3 to check balance\n",
    "        4.Press 4 to withdraw\n",
    "        5.Press anything else to exit\"\"\")\n",
    "        if user_input==\"1\":\n",
    "            self.create_pin()\n",
    "        elif user_input==\"2\":\n",
    "            self.change_pin()\n",
    "        elif user_input==\"3\":\n",
    "            self.check_balance()\n",
    "        elif user_input==\"4\":\n",
    "            self.withdraw()\n",
    "        else:\n",
    "           exit()\n",
    "    def create_pin(self):\n",
    "        user_pin=input(\"Enter your pin\")\n",
    "        user_balance=int(input(\"Enter your balance\"))\n",
    "        self.pin=user_pin\n",
    "        self.balance=user_balance\n",
    "        print(\"pin created successfully\")\n",
    "        self.menu()\n",
    "    def change_pin(self):\n",
    "        old_pin=input(\"Enter your old pin\")\n",
    "        if(old_pin==self.pin):\n",
    "            new_pin=input(\"Enter your new pin\")\n",
    "            self.pin=new_pin\n",
    "            print(\"pin has been changed successfully\")\n",
    "            self.menu()\n",
    "        else:\n",
    "            print(\"Enter the correct pin\")\n",
    "            self.menu()\n",
    "    def check_balance(self):\n",
    "        user_pin=input(\"Enter your pin\")\n",
    "        if(user_pin==self.pin):\n",
    "            print(\"the balance is\",self.balance)\n",
    "            self.menu()\n",
    "        else:\n",
    "            self.menu()\n",
    "    def withdraw(self):\n",
    "        user_pin=input(\"Enter your pin\")\n",
    "        if(user_pin==self.pin):\n",
    "             amount=int(input(\"Enter the amount to withdraw\"))\n",
    "             if(self.balance>=amount):\n",
    "                        self.balance=self.balance-amount\n",
    "                        print(\"amount is withdrawn\",self.balance)\n",
    "             else:\n",
    "                print(\"not enough balance\")\n",
    "        else:\n",
    "             print(\"Enter the correct pin\")\n",
    "        self.menu()    "
   ]
  },
  {
   "cell_type": "code",
   "execution_count": 52,
   "id": "2c32ffd8-a2ab-422a-a331-94d84bf857d8",
   "metadata": {},
   "outputs": [
    {
     "name": "stdin",
     "output_type": "stream",
     "text": [
      "\n",
      "        hi how can i help you\n",
      "        1.Press 1 to create pin \n",
      "        2.Press 2 to change pin\n",
      "        3.Press 3 to check balance\n",
      "        4.Press 4 to withdraw\n",
      "        5.Press anything else to exit 1\n",
      "Enter your pin 1234\n",
      "Enter your balance 20000\n"
     ]
    },
    {
     "name": "stdout",
     "output_type": "stream",
     "text": [
      "pin created successfully\n"
     ]
    },
    {
     "name": "stdin",
     "output_type": "stream",
     "text": [
      "\n",
      "        hi how can i help you\n",
      "        1.Press 1 to create pin \n",
      "        2.Press 2 to change pin\n",
      "        3.Press 3 to check balance\n",
      "        4.Press 4 to withdraw\n",
      "        5.Press anything else to exit 4\n",
      "Enter your pin 1234\n",
      "Enter the amount to withdraw 2000\n"
     ]
    },
    {
     "name": "stdout",
     "output_type": "stream",
     "text": [
      "amount is withdrawn 18000\n"
     ]
    },
    {
     "name": "stdin",
     "output_type": "stream",
     "text": [
      "\n",
      "        hi how can i help you\n",
      "        1.Press 1 to create pin \n",
      "        2.Press 2 to change pin\n",
      "        3.Press 3 to check balance\n",
      "        4.Press 4 to withdraw\n",
      "        5.Press anything else to exit 3\n",
      "Enter your pin 1234\n"
     ]
    },
    {
     "name": "stdout",
     "output_type": "stream",
     "text": [
      "the balance is 18000\n"
     ]
    },
    {
     "name": "stdin",
     "output_type": "stream",
     "text": [
      "\n",
      "        hi how can i help you\n",
      "        1.Press 1 to create pin \n",
      "        2.Press 2 to change pin\n",
      "        3.Press 3 to check balance\n",
      "        4.Press 4 to withdraw\n",
      "        5.Press anything else to exit 6\n"
     ]
    }
   ],
   "source": [
    "obj=Atm()"
   ]
  },
  {
   "cell_type": "code",
   "execution_count": 60,
   "id": "fe0d8ce6-8c56-4316-90a0-bebeeaad0ca8",
   "metadata": {},
   "outputs": [
    {
     "name": "stdin",
     "output_type": "stream",
     "text": [
      "\n",
      "        hi how can i help you\n",
      "        1.Press 1 to create pin \n",
      "        2.Press 2 to change pin\n",
      "        3.Press 3 to check balance\n",
      "        4.Press 4 to withdraw\n",
      "        5.Press anything else to exit 1\n",
      "Enter your pin 1254\n",
      "Enter your balance 20999\n"
     ]
    },
    {
     "name": "stdout",
     "output_type": "stream",
     "text": [
      "pin created successfully\n"
     ]
    },
    {
     "name": "stdin",
     "output_type": "stream",
     "text": [
      "\n",
      "        hi how can i help you\n",
      "        1.Press 1 to create pin \n",
      "        2.Press 2 to change pin\n",
      "        3.Press 3 to check balance\n",
      "        4.Press 4 to withdraw\n",
      "        5.Press anything else to exit 6\n"
     ]
    }
   ],
   "source": [
    "obj1=Atm()"
   ]
  },
  {
   "cell_type": "code",
   "execution_count": 62,
   "id": "b4da352d-93fd-4584-b75a-5a6a94f27678",
   "metadata": {},
   "outputs": [
    {
     "data": {
      "text/plain": [
       "'1254'"
      ]
     },
     "execution_count": 62,
     "metadata": {},
     "output_type": "execute_result"
    }
   ],
   "source": [
    "obj1.pin"
   ]
  },
  {
   "cell_type": "code",
   "execution_count": 64,
   "id": "c08be883-daf9-4c32-8b9f-95ab1db5b6d5",
   "metadata": {},
   "outputs": [
    {
     "data": {
      "text/plain": [
       "20999"
      ]
     },
     "execution_count": 64,
     "metadata": {},
     "output_type": "execute_result"
    }
   ],
   "source": [
    "obj1.balance"
   ]
  },
  {
   "cell_type": "code",
   "execution_count": 78,
   "id": "90cf79c6-3689-4ed4-a0d8-70e60887a2aa",
   "metadata": {},
   "outputs": [],
   "source": [
    "class Fraction:\n",
    "    def __init__(self,x,y):\n",
    "        self.num=x\n",
    "        self.den=y\n",
    "    def __str__(self):\n",
    "        return \"{}/{}\".format(self.num,self.den)\n",
    "    def __add__(self,other):\n",
    "        new_num=self.num*other.den+other.num*self.den\n",
    "        new_den=self.den*other.den\n",
    "        return \"{}/{}\".format(new_num,new_den)\n",
    "    def __sub__(self,other):\n",
    "        new_num=self.num*other.den-other.num*self.den\n",
    "        new_den=self.den*other.den\n",
    "        return \"{}/{}\".format(new_num,new_den)\n",
    "    def __mul__(self,other):\n",
    "        new_num=self.num*other.num\n",
    "        new_den=self.den*other.den\n",
    "        return \"{}/{}\".format(new_num,new_den)\n",
    "    def __truediv__(self,other):\n",
    "        new_num=self.num*other.den\n",
    "        new_den=self.den*other.num\n",
    "        return \"{}/{}\".format(new_num,new_den)\n",
    "    def decimal(self):\n",
    "        r"
   ]
  },
  {
   "cell_type": "code",
   "execution_count": 80,
   "id": "c0f4b778-42f5-414d-8c56-88fa805caa87",
   "metadata": {},
   "outputs": [
    {
     "name": "stdout",
     "output_type": "stream",
     "text": [
      "5/6\n",
      "38/24\n",
      "2/24\n",
      "15/24\n",
      "20/18\n"
     ]
    }
   ],
   "source": [
    "fr1=Fraction(5,6)\n",
    "print(fr1)\n",
    "fr2=Fraction(3,4)\n",
    "print(fr1+fr2)\n",
    "print(fr1-fr2)\n",
    "print(fr1*fr2)\n",
    "print(fr1/fr2)"
   ]
  },
  {
   "cell_type": "code",
   "execution_count": null,
   "id": "a0a33c26-e40e-4a9a-ae19-beabe13a7d0a",
   "metadata": {},
   "outputs": [],
   "source": []
  }
 ],
 "metadata": {
  "kernelspec": {
   "display_name": "Python 3 (ipykernel)",
   "language": "python",
   "name": "python3"
  },
  "language_info": {
   "codemirror_mode": {
    "name": "ipython",
    "version": 3
   },
   "file_extension": ".py",
   "mimetype": "text/x-python",
   "name": "python",
   "nbconvert_exporter": "python",
   "pygments_lexer": "ipython3",
   "version": "3.12.7"
  }
 },
 "nbformat": 4,
 "nbformat_minor": 5
}
