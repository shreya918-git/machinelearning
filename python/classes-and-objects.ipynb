{
 "cells": [
  {
   "cell_type": "code",
   "execution_count": 50,
   "id": "e0fdd93d-54e4-4eb2-ae4a-f3f5de7ba2e6",
   "metadata": {},
   "outputs": [],
   "source": [
    "class Atm: #a class is defined in pascal style(each word starts with a capital letter)\n",
    "    def __init__(self):\n",
    "        self.pin=\"\"\n",
    "        self.balance=0\n",
    "        self.menu()\n",
    "    def menu(self):\n",
    "        user_input=input(\"\"\"\n",
    "        hi how can i help you\n",
    "        1.Press 1 to create pin \n",
    "        2.Press 2 to change pin\n",
    "        3.Press 3 to check balance\n",
    "        4.Press 4 to withdraw\n",
    "        5.Press anything else to exit\"\"\")\n",
    "        if user_input==\"1\":\n",
    "            self.create_pin()\n",
    "        elif user_input==\"2\":\n",
    "            self.change_pin()\n",
    "        elif user_input==\"3\":\n",
    "            self.check_balance()\n",
    "        elif user_input==\"4\":\n",
    "            self.withdraw()\n",
    "        else:\n",
    "           exit()\n",
    "    def create_pin(self):\n",
    "        user_pin=input(\"Enter your pin\")\n",
    "        user_balance=int(input(\"Enter your balance\"))\n",
    "        self.pin=user_pin\n",
    "        self.balance=user_balance\n",
    "        print(\"pin created successfully\")\n",
    "        self.menu()\n",
    "    def change_pin(self):\n",
    "        old_pin=input(\"Enter your old pin\")\n",
    "        if(old_pin==self.pin):\n",
    "            new_pin=input(\"Enter your new pin\")\n",
    "            self.pin=new_pin\n",
    "            print(\"pin has been changed successfully\")\n",
    "            self.menu()\n",
    "        else:\n",
    "            print(\"Enter the correct pin\")\n",
    "            self.menu()\n",
    "    def check_balance(self):\n",
    "        user_pin=input(\"Enter your pin\")\n",
    "        if(user_pin==self.pin):\n",
    "            print(\"the balance is\",self.balance)\n",
    "            self.menu()\n",
    "        else:\n",
    "            self.menu()\n",
    "    def withdraw(self):\n",
    "        user_pin=input(\"Enter your pin\")\n",
    "        if(user_pin==self.pin):\n",
    "             amount=int(input(\"Enter the amount to withdraw\"))\n",
    "             if(self.balance>=amount):\n",
    "                        self.balance=self.balance-amount\n",
    "                        print(\"amount is withdrawn\",self.balance)\n",
    "             else:\n",
    "                print(\"not enough balance\")\n",
    "        else:\n",
    "             print(\"Enter the correct pin\")\n",
    "        self.menu()    "
   ]
  },
  {
   "cell_type": "code",
   "execution_count": 52,
   "id": "2c32ffd8-a2ab-422a-a331-94d84bf857d8",
   "metadata": {},
   "outputs": [
    {
     "name": "stdin",
     "output_type": "stream",
     "text": [
      "\n",
      "        hi how can i help you\n",
      "        1.Press 1 to create pin \n",
      "        2.Press 2 to change pin\n",
      "        3.Press 3 to check balance\n",
      "        4.Press 4 to withdraw\n",
      "        5.Press anything else to exit 1\n",
      "Enter your pin 1234\n",
      "Enter your balance 20000\n"
     ]
    },
    {
     "name": "stdout",
     "output_type": "stream",
     "text": [
      "pin created successfully\n"
     ]
    },
    {
     "name": "stdin",
     "output_type": "stream",
     "text": [
      "\n",
      "        hi how can i help you\n",
      "        1.Press 1 to create pin \n",
      "        2.Press 2 to change pin\n",
      "        3.Press 3 to check balance\n",
      "        4.Press 4 to withdraw\n",
      "        5.Press anything else to exit 4\n",
      "Enter your pin 1234\n",
      "Enter the amount to withdraw 2000\n"
     ]
    },
    {
     "name": "stdout",
     "output_type": "stream",
     "text": [
      "amount is withdrawn 18000\n"
     ]
    },
    {
     "name": "stdin",
     "output_type": "stream",
     "text": [
      "\n",
      "        hi how can i help you\n",
      "        1.Press 1 to create pin \n",
      "        2.Press 2 to change pin\n",
      "        3.Press 3 to check balance\n",
      "        4.Press 4 to withdraw\n",
      "        5.Press anything else to exit 3\n",
      "Enter your pin 1234\n"
     ]
    },
    {
     "name": "stdout",
     "output_type": "stream",
     "text": [
      "the balance is 18000\n"
     ]
    },
    {
     "name": "stdin",
     "output_type": "stream",
     "text": [
      "\n",
      "        hi how can i help you\n",
      "        1.Press 1 to create pin \n",
      "        2.Press 2 to change pin\n",
      "        3.Press 3 to check balance\n",
      "        4.Press 4 to withdraw\n",
      "        5.Press anything else to exit 6\n"
     ]
    }
   ],
   "source": [
    "obj=Atm()"
   ]
  },
  {
   "cell_type": "code",
   "execution_count": 60,
   "id": "fe0d8ce6-8c56-4316-90a0-bebeeaad0ca8",
   "metadata": {},
   "outputs": [
    {
     "name": "stdin",
     "output_type": "stream",
     "text": [
      "\n",
      "        hi how can i help you\n",
      "        1.Press 1 to create pin \n",
      "        2.Press 2 to change pin\n",
      "        3.Press 3 to check balance\n",
      "        4.Press 4 to withdraw\n",
      "        5.Press anything else to exit 1\n",
      "Enter your pin 1254\n",
      "Enter your balance 20999\n"
     ]
    },
    {
     "name": "stdout",
     "output_type": "stream",
     "text": [
      "pin created successfully\n"
     ]
    },
    {
     "name": "stdin",
     "output_type": "stream",
     "text": [
      "\n",
      "        hi how can i help you\n",
      "        1.Press 1 to create pin \n",
      "        2.Press 2 to change pin\n",
      "        3.Press 3 to check balance\n",
      "        4.Press 4 to withdraw\n",
      "        5.Press anything else to exit 6\n"
     ]
    }
   ],
   "source": [
    "obj1=Atm()"
   ]
  },
  {
   "cell_type": "code",
   "execution_count": 62,
   "id": "b4da352d-93fd-4584-b75a-5a6a94f27678",
   "metadata": {},
   "outputs": [
    {
     "data": {
      "text/plain": [
       "'1254'"
      ]
     },
     "execution_count": 62,
     "metadata": {},
     "output_type": "execute_result"
    }
   ],
   "source": [
    "obj1.pin"
   ]
  },
  {
   "cell_type": "code",
   "execution_count": 64,
   "id": "c08be883-daf9-4c32-8b9f-95ab1db5b6d5",
   "metadata": {},
   "outputs": [
    {
     "data": {
      "text/plain": [
       "20999"
      ]
     },
     "execution_count": 64,
     "metadata": {},
     "output_type": "execute_result"
    }
   ],
   "source": [
    "obj1.balance"
   ]
  },
  {
   "cell_type": "code",
   "execution_count": 82,
   "id": "90cf79c6-3689-4ed4-a0d8-70e60887a2aa",
   "metadata": {},
   "outputs": [],
   "source": [
    "class Fraction:\n",
    "    def __init__(self,x,y):\n",
    "        self.num=x\n",
    "        self.den=y\n",
    "    def __str__(self):\n",
    "        return \"{}/{}\".format(self.num,self.den)\n",
    "    def __add__(self,other):\n",
    "        new_num=self.num*other.den+other.num*self.den\n",
    "        new_den=self.den*other.den\n",
    "        return \"{}/{}\".format(new_num,new_den)\n",
    "    def __sub__(self,other):\n",
    "        new_num=self.num*other.den-other.num*self.den\n",
    "        new_den=self.den*other.den\n",
    "        return \"{}/{}\".format(new_num,new_den)\n",
    "    def __mul__(self,other):\n",
    "        new_num=self.num*other.num\n",
    "        new_den=self.den*other.den\n",
    "        return \"{}/{}\".format(new_num,new_den)\n",
    "    def __truediv__(self,other):\n",
    "        new_num=self.num*other.den\n",
    "        new_den=self.den*other.num\n",
    "        return \"{}/{}\".format(new_num,new_den)\n",
    "    def decimal(self):\n",
    "        return self.num/self.den"
   ]
  },
  {
   "cell_type": "code",
   "execution_count": 86,
   "id": "c0f4b778-42f5-414d-8c56-88fa805caa87",
   "metadata": {},
   "outputs": [
    {
     "name": "stdout",
     "output_type": "stream",
     "text": [
      "5/6\n",
      "38/24\n",
      "2/24\n",
      "15/24\n",
      "20/18\n"
     ]
    },
    {
     "data": {
      "text/plain": [
       "0.8333333333333334"
      ]
     },
     "execution_count": 86,
     "metadata": {},
     "output_type": "execute_result"
    }
   ],
   "source": [
    "fr1=Fraction(5,6)\n",
    "print(fr1)\n",
    "fr2=Fraction(3,4)\n",
    "print(fr1+fr2)\n",
    "print(fr1-fr2)\n",
    "print(fr1*fr2)\n",
    "print(fr1/fr2)\n",
    "fr1.decimal()"
   ]
  },
  {
   "cell_type": "code",
   "execution_count": 42,
   "id": "a0a33c26-e40e-4a9a-ae19-beabe13a7d0a",
   "metadata": {},
   "outputs": [
    {
     "data": {
      "text/plain": [
       "3.5355339059327373"
      ]
     },
     "execution_count": 42,
     "metadata": {},
     "output_type": "execute_result"
    }
   ],
   "source": [
    "class Point:\n",
    "    def __init__(self,x,y):\n",
    "        self.x=x\n",
    "        self.y=y\n",
    "    def __str__(self):\n",
    "        return \"({},{})\".format(self.x,self.y)\n",
    "    def distance(self,other):\n",
    "        return ((self.x-other.x)**2+(self.y-other.y)**2)**0.5\n",
    "    def distance_from_origin(self):\n",
    "        return self.distance(Point(0,0))\n",
    "class Line:\n",
    "    def __init__(self,a,b,c):\n",
    "        self.a=a\n",
    "        self.b=b\n",
    "        self.c=c\n",
    "    def __str__(self):\n",
    "        return \"{}x +{}y + {} =0\".format(self.a,self.b,self.c)\n",
    "    def check(self,other):\n",
    "          if(self.a*other.x+self.b*other.y+self.c==0):\n",
    "            return True\n",
    "          else:\n",
    "            return False\n",
    "    def distance(self,other):\n",
    "        return (abs(self.a*other.x+self.b*other.y+self.c))/(self.a**2+self.b**2)**0.5\n",
    "obj=Point(1,1)\n",
    "obj3=Point(3,4)\n",
    "obj2=Line(1,1,-2)\n",
    "obj2.check(obj)\n",
    "obj2.distance(obj3)"
   ]
  },
  {
   "cell_type": "code",
   "execution_count": 48,
   "id": "abf6e2ab-a599-43d7-975f-42b98c579e9f",
   "metadata": {},
   "outputs": [
    {
     "name": "stdout",
     "output_type": "stream",
     "text": [
      "namaste shreya\n"
     ]
    },
    {
     "data": {
      "text/plain": [
       "'female'"
      ]
     },
     "execution_count": 48,
     "metadata": {},
     "output_type": "execute_result"
    }
   ],
   "source": [
    "class sample:\n",
    "    def __init__(self,a,b):\n",
    "        self.name=a\n",
    "        self.country=b\n",
    "    def greet(self):\n",
    "        if(self.country==\"india\"):\n",
    "            print(\"namaste\",self.name)\n",
    "        else:\n",
    "            print(\"hello\",self.name)\n",
    "obj=sample(\"shreya\",\"india\")\n",
    "obj.greet()\n",
    "obj.gender=\"female\" #the variables or attributes ccan be created outside class too\n",
    "obj.gender"
   ]
  },
  {
   "cell_type": "code",
   "execution_count": 58,
   "id": "6e82f047-711c-49f5-badf-9aab8508e5b7",
   "metadata": {},
   "outputs": [
    {
     "name": "stdout",
     "output_type": "stream",
     "text": [
      "1414718444544\n",
      "1414718444544\n",
      "madhu\n"
     ]
    }
   ],
   "source": [
    "p=sample(\"shreya\",\"india\") #p acts as a refernce variable to the object\n",
    "q=p #aliasing\n",
    "print(id(p))\n",
    "print(id(q))\n",
    "q.name=\"madhu\" #as p and q point to the same object,attributes can be changed by q\n",
    "print(p.name)\n",
    "p.gender=\"female\""
   ]
  },
  {
   "cell_type": "code",
   "execution_count": 66,
   "id": "117d649f-d945-453b-8f84-2e738a68d585",
   "metadata": {},
   "outputs": [
    {
     "name": "stdout",
     "output_type": "stream",
     "text": [
      "hi im madhu im female\n"
     ]
    }
   ],
   "source": [
    "def greet(person): #pass by reference\n",
    "    print(\"hi im\",person.name,\"im\",person.gender)\n",
    "    person.name=\"shreya\"\n",
    "    return person\n",
    "a=greet(p)"
   ]
  },
  {
   "cell_type": "code",
   "execution_count": 70,
   "id": "ca9076e8-b555-412f-a749-cfb90fea189b",
   "metadata": {},
   "outputs": [
    {
     "name": "stdout",
     "output_type": "stream",
     "text": [
      "1414718444544\n",
      "1414718444544\n"
     ]
    }
   ],
   "source": [
    "print(id(p)) #objects are mutable\n",
    "print(id(a))"
   ]
  },
  {
   "cell_type": "code",
   "execution_count": 96,
   "id": "eb0b8040-b549-4b17-9bf1-6992ed7e3cf2",
   "metadata": {},
   "outputs": [
    {
     "data": {
      "text/plain": [
       "True"
      ]
     },
     "execution_count": 96,
     "metadata": {},
     "output_type": "execute_result"
    }
   ],
   "source": [
    "class Rectangle:\n",
    "   def __init__(self,a,b):\n",
    "    self.length=a\n",
    "    self.width=b\n",
    "   @classmethod\n",
    "   def class_property(cls,a,b):\n",
    "       return cls(a,b)\n",
    "   def area(self):\n",
    "    return self.length*self.width\n",
    "   def is_square(self):\n",
    "    return (self.length==self.width)\n",
    "obj=Rectangle.class_property(2,2) #here we cant pass values directly \n",
    "obj.is_square()"
   ]
  },
  {
   "cell_type": "code",
   "execution_count": 98,
   "id": "af3a9db1-0cc6-410b-8c3a-0e334ec30fe3",
   "metadata": {},
   "outputs": [
    {
     "name": "stdout",
     "output_type": "stream",
     "text": [
      "expired\n"
     ]
    }
   ],
   "source": [
    "from datetime import datetime #compare with todays date not the manufactured date\n",
    "class expiry:\n",
    "  def __init__(self,a,b):\n",
    "    self.manufacture=a\n",
    "    self.expiry=b\n",
    "  def time(self):\n",
    "    today=datetime.now()\n",
    "    date=datetime.strptime(self.manufacture,\"%d/%m/%Y\")\n",
    "    date2=datetime.strptime(self.expiry,\"%d/%m/%Y\")\n",
    "    if(date2<today):\n",
    "      print(\"expired\")\n",
    "    else:\n",
    "      print(date2.day-today.day)\n",
    "obj=expiry(\"20/3/2025\",\"21/3/2025\")\n",
    "obj.time()"
   ]
  },
  {
   "cell_type": "code",
   "execution_count": 22,
   "id": "a77c80d9-a515-4b8b-b7c8-056d3465e6d1",
   "metadata": {},
   "outputs": [
    {
     "name": "stdout",
     "output_type": "stream",
     "text": [
      "ambala\n",
      "133002020\n",
      "haryana\n"
     ]
    },
    {
     "data": {
      "text/plain": [
       "'madhu'"
      ]
     },
     "execution_count": 22,
     "metadata": {},
     "output_type": "execute_result"
    }
   ],
   "source": [
    "class Customer: #customer is the owner class for address\n",
    "    def __init__(self,a,b,c):\n",
    "        self.name=a\n",
    "        self.gender=b\n",
    "        self.address=c\n",
    "    def print_address(self):\n",
    "        print(self.address.get_city())\n",
    "        print(self.address.pin)\n",
    "        print(self.address.state)\n",
    "    def edit_profile(self,new_name,new_city,new_pin,new_state):\n",
    "        self.name=new_name\n",
    "        self.address.edit_profile(new_city,new_pin,new_state)\n",
    "class Address:\n",
    "    def __init__(self,a,b,c):\n",
    "        self.__city=a  #we cant access the private variables directly,so we use getter method\n",
    "        self.pin=b\n",
    "        self.state=c\n",
    "    def get_city(self):\n",
    "        return self.__city\n",
    "    def edit_profile(self,new_city,new_pin,new_state):\n",
    "        self.__city=new_city\n",
    "        self.pin=new_pin\n",
    "        self.state=new_state\n",
    "obj2=Address(\"amabala\",133001,\"haryana\")\n",
    "obj=Customer(\"shreya\",\"female\",obj2)\n",
    "obj.edit_profile(\"madhu\",\"ambala\",133002020,\"haryana\")\n",
    "obj.print_address()\n",
    "obj.name"
   ]
  },
  {
   "cell_type": "code",
   "execution_count": 38,
   "id": "edf7338e-ef3a-4c73-b172-f8f54265df7d",
   "metadata": {},
   "outputs": [
    {
     "name": "stdout",
     "output_type": "stream",
     "text": [
      "login\n"
     ]
    },
    {
     "data": {
      "text/plain": [
       "'shreya'"
      ]
     },
     "execution_count": 38,
     "metadata": {},
     "output_type": "execute_result"
    }
   ],
   "source": [
    "class User:   #only the constructor,public variables,public functions are inherited\n",
    "    def __init__(self,a):\n",
    "        self.name=a\n",
    "    def login(self):\n",
    "        print(\"login\")\n",
    "class Student(User):\n",
    "    def enroll(self):\n",
    "        print(\"enrolled in the course\")\n",
    "obj=User(\"shreya\")\n",
    "obj2=Student(\"shreya\")\n",
    "obj2.login()\n",
    "obj2.name"
   ]
  },
  {
   "cell_type": "code",
   "execution_count": 44,
   "id": "a2d049c0-776d-4b93-879b-445ce4f6b9a4",
   "metadata": {},
   "outputs": [
    {
     "data": {
      "text/plain": [
       "100"
      ]
     },
     "execution_count": 44,
     "metadata": {},
     "output_type": "execute_result"
    }
   ],
   "source": [
    "class Parent:\n",
    "    def __init__(self,a):\n",
    "        self.num=a\n",
    "    def show(self):\n",
    "        return self.num\n",
    "class Child(Parent):\n",
    "    pass\n",
    "obj=Child(100)\n",
    "obj.show()"
   ]
  },
  {
   "cell_type": "code",
   "execution_count": null,
   "id": "1f5dbc8f-bec2-4529-a8f6-100f2edeebac",
   "metadata": {},
   "outputs": [],
   "source": []
  }
 ],
 "metadata": {
  "kernelspec": {
   "display_name": "Python 3 (ipykernel)",
   "language": "python",
   "name": "python3"
  },
  "language_info": {
   "codemirror_mode": {
    "name": "ipython",
    "version": 3
   },
   "file_extension": ".py",
   "mimetype": "text/x-python",
   "name": "python",
   "nbconvert_exporter": "python",
   "pygments_lexer": "ipython3",
   "version": "3.12.7"
  }
 },
 "nbformat": 4,
 "nbformat_minor": 5
}
