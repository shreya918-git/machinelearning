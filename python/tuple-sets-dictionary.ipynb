{
 "cells": [
  {
   "cell_type": "code",
   "execution_count": 38,
   "id": "dfb2949f-0019-4cd9-8f84-42f13c1d1d81",
   "metadata": {},
   "outputs": [
    {
     "name": "stdout",
     "output_type": "stream",
     "text": [
      "<class 'tuple'>\n",
      "(2,)\n",
      "(1, 2, 3, 4)\n",
      "(1, 2.5, True, [1, 2, 3, 4])\n",
      "(1, 2, 3, 4, (1, 2, 3, 4))\n",
      "('h', 'e', 'l', 'l', 'o')\n"
     ]
    }
   ],
   "source": [
    "tuple1=() #tuples are similar to lists,bu they are immutable  \n",
    "print(tuple)\n",
    "tuple2=(2,)\n",
    "print(tuple2)\n",
    "tuple3=(1,2,3,4)\n",
    "print(tuple3)\n",
    "tuple4=(1,2.5,True,[1,2,3,4])\n",
    "print(tuple4)\n",
    "tuple5=(1,2,3,4,(1,2,3,4))\n",
    "print(tuple5)\n",
    "tuple6=tuple(\"hello\")\n",
    "print(tuple6)"
   ]
  },
  {
   "cell_type": "code",
   "execution_count": 46,
   "id": "f98e5d33-7244-442c-ad48-099d1315c277",
   "metadata": {},
   "outputs": [
    {
     "name": "stdout",
     "output_type": "stream",
     "text": [
      "(1, 2, 3)\n"
     ]
    }
   ],
   "source": [
    "tuple7=(1,2,3,4)\n",
    "print(tuple7[0:3])"
   ]
  },
  {
   "cell_type": "code",
   "execution_count": 103,
   "id": "e5acf72b-b501-4050-9a77-10a275200531",
   "metadata": {},
   "outputs": [
    {
     "name": "stdout",
     "output_type": "stream",
     "text": [
      "(2, 1, 2, 3, 4)\n",
      "(2, 2, 2)\n",
      "True\n",
      "1 2 3 4 4\n",
      "1\n",
      "4\n",
      "[4, 3, 2, 1]\n",
      "10\n",
      "1\n",
      "0\n"
     ]
    }
   ],
   "source": [
    "# del tuple1\n",
    "print(tuple2+tuple3)\n",
    "print(tuple2*3)\n",
    "print(2 in tuple2)\n",
    "for i in tuple3:\n",
    "    print(i,end=\" \")\n",
    "print(len(tuple3))\n",
    "print(min(tuple3))\n",
    "print(max(tuple3))\n",
    "print(sorted(tuple3,reverse=True))\n",
    "print(sum(tuple3))\n",
    "print(tuple3.count(1))\n",
    "print(tuple3.index(1))"
   ]
  },
  {
   "cell_type": "code",
   "execution_count": 99,
   "id": "7ae7fa7c-706e-49af-9b49-d9917866e7e1",
   "metadata": {},
   "outputs": [
    {
     "name": "stdout",
     "output_type": "stream",
     "text": [
      "0.037110090255737305\n",
      "0.06403684616088867\n"
     ]
    }
   ],
   "source": [
    "import time\n",
    "start=time.time()\n",
    "list1=list(range(100000))\n",
    "tuple1=tuple(range(100000))\n",
    "for i in list1:\n",
    "    i=i*5\n",
    "    i=i*10\n",
    "print(time.time()-start)\n",
    "for i in tuple1:\n",
    "    i=i*5\n",
    "    i=i*10\n",
    "print(time.time()-start)"
   ]
  },
  {
   "cell_type": "code",
   "execution_count": 95,
   "id": "0dda19ab-e145-4c17-b630-3747d0935498",
   "metadata": {},
   "outputs": [
    {
     "name": "stdout",
     "output_type": "stream",
     "text": [
      "800056\n",
      "800040\n"
     ]
    }
   ],
   "source": [
    "import sys\n",
    "list1=list(range(100000))\n",
    "tuple1=tuple(range(100000))\n",
    "print(sys.getsizeof(list1))\n",
    "print(sys.getsizeof(tuple1))"
   ]
  },
  {
   "cell_type": "code",
   "execution_count": 107,
   "id": "3c993b64-1824-4a17-b257-890a08b71969",
   "metadata": {},
   "outputs": [
    {
     "name": "stdout",
     "output_type": "stream",
     "text": [
      "(1, 2, 3, 4, 5, 6)\n",
      "(1, 2, 3, 4)\n"
     ]
    }
   ],
   "source": [
    "a=(1,2,3,4)\n",
    "b=a\n",
    "a=a+(5,6)\n",
    "print(a)\n",
    "print(b)"
   ]
  },
  {
   "cell_type": "code",
   "execution_count": 113,
   "id": "3b2327e4-aaa0-4884-bbde-69146447d7fa",
   "metadata": {},
   "outputs": [
    {
     "name": "stdout",
     "output_type": "stream",
     "text": [
      "1 2 3\n"
     ]
    }
   ],
   "source": [
    "a,b,c=(1,2,3)\n",
    "print(a,b,c)"
   ]
  },
  {
   "cell_type": "code",
   "execution_count": 115,
   "id": "763191f9-3422-4bae-b699-a58d502ed042",
   "metadata": {},
   "outputs": [
    {
     "name": "stdout",
     "output_type": "stream",
     "text": [
      "2\n",
      "1\n"
     ]
    }
   ],
   "source": [
    "a=1\n",
    "b=2\n",
    "a,b=b,a\n",
    "print(a)\n",
    "print(b)"
   ]
  },
  {
   "cell_type": "code",
   "execution_count": 117,
   "id": "2737e1e2-b504-4027-91d0-8041ff7bd2cf",
   "metadata": {},
   "outputs": [
    {
     "name": "stdout",
     "output_type": "stream",
     "text": [
      "1 2\n",
      "[3, 4]\n"
     ]
    }
   ],
   "source": [
    "a,b,*others=(1,2,3,4)\n",
    "print(a,b)\n",
    "print(others)"
   ]
  },
  {
   "cell_type": "code",
   "execution_count": 121,
   "id": "40178a4c-cdf9-48df-8077-00501ed557bc",
   "metadata": {},
   "outputs": [
    {
     "name": "stdout",
     "output_type": "stream",
     "text": [
      "((1, 5), (2, 6), (3, 7), (4, 8))\n"
     ]
    }
   ],
   "source": [
    "a=(1,2,3,4)\n",
    "b=(5,6,7,8)\n",
    "tuple4=tuple(zip(a,b))\n",
    "print(tuple4)"
   ]
  },
  {
   "cell_type": "code",
   "execution_count": 137,
   "id": "1637d19c-f6e3-420b-8cc0-136fe86f6c9d",
   "metadata": {},
   "outputs": [
    {
     "name": "stdout",
     "output_type": "stream",
     "text": [
      "<class 'set'>\n",
      "{(1, 2, 3, 4), True, 2, 3, 4, 'shreya'}\n",
      "{1, 2, 3, 4}\n"
     ]
    }
   ],
   "source": [
    "set1=set() #sets are mutable but set elements are immutable\n",
    "print(type(set1))\n",
    "# set2={1,2,3,4,{5,6}} #cant have 2d sets\n",
    "# print(set2)\n",
    "set3={2,3,4,True,\"shreya\",(1,2,3,4)} #cant have true and 1 together as sets dont have duplicates \n",
    "print(set3)\n",
    "set4=set([1,2,3,4])\n",
    "print(set4)"
   ]
  },
  {
   "cell_type": "code",
   "execution_count": 139,
   "id": "65c553d0-b2b3-4507-9386-b4da908bd88b",
   "metadata": {},
   "outputs": [
    {
     "name": "stdout",
     "output_type": "stream",
     "text": [
      "True\n"
     ]
    }
   ],
   "source": [
    "set5={1,2,3,4}\n",
    "set6={4,3,2,1}\n",
    "print(set5==set6)"
   ]
  },
  {
   "cell_type": "code",
   "execution_count": 147,
   "id": "64155f4b-016c-420b-a71d-1f7245db4c76",
   "metadata": {},
   "outputs": [
    {
     "name": "stdout",
     "output_type": "stream",
     "text": [
      "{1, 2, 3, 4, 5}\n",
      "{1, 2, 3, 4, 5, 6, 7}\n"
     ]
    }
   ],
   "source": [
    "set7={1,2,3,4}\n",
    "set7.add(5)\n",
    "print(set7)\n",
    "set7.update([5,6,7])\n",
    "print(set7)"
   ]
  },
  {
   "cell_type": "code",
   "execution_count": 165,
   "id": "7719180b-fed5-493b-946e-91f036bf8a4c",
   "metadata": {},
   "outputs": [
    {
     "name": "stdout",
     "output_type": "stream",
     "text": [
      "{1, 3, 4, 5}\n",
      "{1, 3, 4}\n",
      "set()\n"
     ]
    }
   ],
   "source": [
    "set8={1,2,3,4,5}\n",
    "# del set8\n",
    "set8.discard(2)\n",
    "print(set8)\n",
    "set8.remove(5)\n",
    "print(set8)\n",
    "set8.pop()\n",
    "set8.clear()\n",
    "print(set8)"
   ]
  },
  {
   "cell_type": "code",
   "execution_count": 229,
   "id": "6e4d6211-a4d4-4731-8112-1853377c8a40",
   "metadata": {},
   "outputs": [
    {
     "name": "stdout",
     "output_type": "stream",
     "text": [
      "{1, 2, 3, 4, 5, 6, 7}\n",
      "{4}\n",
      "{1, 2, 3}\n",
      "{5, 6, 7}\n",
      "4\n",
      "1\n",
      "4\n",
      "[1, 2, 3, 4]\n",
      "{1, 2, 3, 4, 5, 6, 7}\n",
      "{4}\n",
      "{1, 2, 3, 4, 5, 6, 7}\n",
      "{4, 5, 6, 7}\n",
      "None\n",
      "{4, 5, 6, 7}\n",
      "set()\n",
      "set()\n",
      "{1, 2, 3, 5, 6, 7}\n",
      "{1, 2, 3, 5, 6, 7}\n",
      "False\n",
      "False\n",
      "False\n",
      "{4, 5, 6, 7}\n"
     ]
    }
   ],
   "source": [
    "set9={1,2,3,4}\n",
    "set10={5,4,6,7}\n",
    "print(set9 | set10)\n",
    "print(set9 & set10)\n",
    "print(set9 - set10)\n",
    "print(set10 - set9)\n",
    "print(len(set9))\n",
    "print(min(set9))\n",
    "print(max(set9))\n",
    "print(sorted(set9))\n",
    "print(set9.union(set10))\n",
    "print(set9.intersection(set10))\n",
    "set9.update(set10)\n",
    "print(set9)\n",
    "print(set9.intersection(set10))\n",
    "print(set9.intersection_update(set10))\n",
    "print(set9)\n",
    "print(set9.difference(set10))\n",
    "set9.difference_update(set10)\n",
    "print(set9)\n",
    "set9={1,2,3,4}\n",
    "print(set9.symmetric_difference(set10))\n",
    "set9.symmetric_difference_update(set10)\n",
    "print(set9)\n",
    "print(set9.isdisjoint(set10))\n",
    "print(set9.issubset(set10))\n",
    "print(set9.issuperset(set10))\n",
    "set11=set10.copy()\n",
    "print(set11)"
   ]
  },
  {
   "cell_type": "code",
   "execution_count": 239,
   "id": "ad80e49e-0078-42a4-b50e-4c8a0d1836ac",
   "metadata": {},
   "outputs": [
    {
     "name": "stdout",
     "output_type": "stream",
     "text": [
      "{1, 2, 3, 4, frozenset({8, 5, 6, 7})}\n"
     ]
    },
    {
     "data": {
      "text/plain": [
       "{6, 7, 8, 9, 10}"
      ]
     },
     "execution_count": 239,
     "metadata": {},
     "output_type": "execute_result"
    }
   ],
   "source": [
    "set12=frozenset([1,2,3,4]) #immutable set\n",
    "set13={1,2,3,4,frozenset([5,6,7,8])} #we can perform only read-only functions on frozenset\n",
    "print(set13)\n",
    "{i for i in range(1,11) if i>5}"
   ]
  },
  {
   "cell_type": "code",
   "execution_count": 327,
   "id": "6ff94915-610d-4e4b-ad6e-2b8788cb91b3",
   "metadata": {},
   "outputs": [
    {
     "name": "stdout",
     "output_type": "stream",
     "text": [
      "{}\n",
      "{'name': 'shreya', 'gender': 'female'}\n",
      "{(1, 2, 3): 1, 'name': 'shreya'}\n",
      "{'name': 'shreya', 'gender': 'female', 'subjects': {'dsa': 90, 'ml': 90, 'python': 90}}\n",
      "{'name': 'madhu'}\n",
      "{'name': 'shreya', 'gender': 'female', 'subjects': {'dsa': 90, 'ml': 90, 'python': 90}, 'age': 20}\n",
      "{'name': 'madhu', 'gender': 'female', 'subjects': {'dsa': 90, 'ml': 90, 'python': 90}, 'age': 20}\n",
      "{'gender': 'female', 'subjects': {'dsa': 90, 'ml': 90, 'python': 90}, 'age': 20}\n",
      "{'gender': 'female', 'subjects': {'dsa': 90, 'ml': 90, 'python': 90}}\n",
      "{'subjects': {'dsa': 90, 'ml': 90, 'python': 90}}\n",
      "{}\n",
      "name shreya\n",
      "gender female\n",
      "subjects {'dsa': 90, 'ml': 90, 'python': 90}\n",
      "3\n",
      "['gender', 'name', 'subjects']\n",
      "gender\n",
      "subjects\n",
      "dict_items([('name', 'shreya'), ('gender', 'female'), ('subjects', {'dsa': 90, 'ml': 90, 'python': 90})])\n",
      "dict_keys(['name', 'gender', 'subjects'])\n",
      "dict_values(['shreya', 'female', {'dsa': 90, 'ml': 90, 'python': 90}])\n",
      "{1: 2, 2: 3, 3: 4, 4: 6, 5: 8}\n"
     ]
    },
    {
     "data": {
      "text/plain": [
       "{2: {1: 2, 2: 4, 3: 6, 4: 8, 5: 10, 6: 12, 7: 14, 8: 16, 9: 18, 10: 20},\n",
       " 3: {1: 3, 2: 6, 3: 9, 4: 12, 5: 15, 6: 18, 7: 21, 8: 24, 9: 27, 10: 30},\n",
       " 4: {1: 4, 2: 8, 3: 12, 4: 16, 5: 20, 6: 24, 7: 28, 8: 32, 9: 36, 10: 40}}"
      ]
     },
     "execution_count": 327,
     "metadata": {},
     "output_type": "execute_result"
    }
   ],
   "source": [
    "dict1={} #dictionarys are mutable,but the keys are not mutable\n",
    "print(dict1)\n",
    "dict2={\"name\":\"shreya\",\"gender\":\"female\"}\n",
    "print(dict2)\n",
    "dict3={(1,2,3):1,\"name\":\"shreya\"} #the keys cant be mutable \n",
    "print(dict3)\n",
    "dict4={\"name\":\"shreya\",\"gender\":\"female\",\"subjects\":{\"dsa\":90,\"ml\":90,\"python\":90}}\n",
    "print(dict4)\n",
    "dict5={\"name\":\"shreya\",\"name\":\"madhu\"} #if we use duplicate keys the updated value is printed\n",
    "print(dict5)\n",
    "dict4[\"subjects\"][\"dsa\"]\n",
    "dict4.get(\"name\")\n",
    "dict4[\"age\"]=20\n",
    "print(dict4)\n",
    "dict4[\"name\"]=\"madhu\"\n",
    "print(dict4)\n",
    "dict4.pop(\"name\")\n",
    "print(dict4)\n",
    "dict4.popitem()\n",
    "print(dict4)\n",
    "del dict4[\"gender\"]\n",
    "print(dict4)\n",
    "dict4.clear()\n",
    "print(dict4)\n",
    "dict4={\"name\":\"shreya\",\"gender\":\"female\",\"subjects\":{\"dsa\":90,\"ml\":90,\"python\":90}}\n",
    "\"name\" in dict4 #dictionarys work on keys \n",
    "for i in dict4:\n",
    "    print(i,dict4[i])\n",
    "print(len(dict4))\n",
    "print(sorted(dict4)) #sorting is done on the basis of ascii values\n",
    "print(min(dict4))\n",
    "print(max(dict4))\n",
    "print(dict4.items()) #returns a list \n",
    "print(dict4.keys())\n",
    "print(dict4.values())\n",
    "dict5={1:2,2:3,3:4,4:5}\n",
    "dict6={4:6,5:8}\n",
    "dict5.update(dict6)\n",
    "print(dict5)\n",
    "{i:i**2 for i in range(1,11)}\n",
    "dict7={\"delhi\":1000,\"mumbai\":2000,\"banglore\":3000}\n",
    "{i:j*0.62 for (i,j) in dict7.items()}\n",
    "days=[\"monday\",\"tuesday\",\"wednesday\",\"thursday\",\"friday\"]\n",
    "temp=[20,30,40,50,60,70]\n",
    "{i:j for (i,j) in zip(days,temp)}\n",
    "{i:{j:i*j for j in range(1,11)} for i in range(2,5)}"
   ]
  },
  {
   "cell_type": "code",
   "execution_count": null,
   "id": "44fe62e6-ca6b-4819-b41a-2c773442cf71",
   "metadata": {},
   "outputs": [],
   "source": []
  }
 ],
 "metadata": {
  "kernelspec": {
   "display_name": "Python 3 (ipykernel)",
   "language": "python",
   "name": "python3"
  },
  "language_info": {
   "codemirror_mode": {
    "name": "ipython",
    "version": 3
   },
   "file_extension": ".py",
   "mimetype": "text/x-python",
   "name": "python",
   "nbconvert_exporter": "python",
   "pygments_lexer": "ipython3",
   "version": "3.12.7"
  }
 },
 "nbformat": 4,
 "nbformat_minor": 5
}
