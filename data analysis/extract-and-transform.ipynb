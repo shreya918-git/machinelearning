{
 "cells": [
  {
   "cell_type": "code",
   "execution_count": 6,
   "id": "bcbd5d33-d510-4100-898a-9a6504c5c1bb",
   "metadata": {},
   "outputs": [],
   "source": [
    "import numpy as np \n",
    "import pandas as pd "
   ]
  },
  {
   "cell_type": "code",
   "execution_count": 124,
   "id": "d8877e23-409b-44c5-88b2-33195d9bdf29",
   "metadata": {},
   "outputs": [],
   "source": [
    "deliveries=pd.read_csv(\"deliveries.csv\")\n",
    "player=pd.read_csv(\"Player.csv\")\n",
    "player_match=pd.read_csv(\"Player_Match.csv\")\n",
    "runs=deliveries.groupby([\"match_id\",\"batter\"])[\"batsman_runs\"].sum().reset_index()\n",
    "balls=deliveries.groupby([\"match_id\",\"batter\"])[\"batsman_runs\"].count().reset_index()\n",
    "fours=deliveries[deliveries[\"batsman_runs\"]==4].groupby([\"match_id\",\"batter\"])[\"batsman_runs\"].count().reset_index()\n",
    "six=deliveries[deliveries[\"batsman_runs\"]==6].groupby([\"match_id\",\"batter\"])[\"batsman_runs\"].count().reset_index()\n",
    "df=runs.merge(balls,on=[\"match_id\",\"batter\"],suffixes=[\"_runs\",\"_balls\"]).merge(fours,on=[\"match_id\",\"batter\"],how=\"left\").merge(six,on=[\"match_id\",\"batter\"],how=\"left\")\n",
    "df[\"strike_rate\"]=(df[\"batsman_runs_runs\"]/df[\"batsman_runs_balls\"])*100\n",
    "df.rename(columns={\"batsman_runs_runs\":\"runs\",\"batsman_runs_balls\":\"balls\",\"batsman_runs_x\":\"fours\",\"batsman_runs_y\":\"six\"},inplace=True)\n",
    "player=player.merge(player_match,on=[\"Player_Id\"])[[\"Player_Id\",\"Player_Name\",\"Is_Captain\"]]\n",
    "df=df.merge(player,left_on=\"batter\",right_on=\"Player_Name\").fillna(0).drop_duplicates(subset=[\"match_id\",\"batter\"],keep=\"first\").drop(columns=[\"Player_Id\",\"Player_Name\"])\n",
    "def dream11(row):\n",
    "    points=0\n",
    "    points=points+row[\"runs\"]+4*row[\"fours\"]+6*row[\"six\"]\n",
    "    if row[\"runs\"]>=25 and row[\"runs\"]<50:\n",
    "        points=points+4\n",
    "    elif row[\"runs\"]>=50 and row[\"runs\"]<75:\n",
    "        points=points+8\n",
    "    elif row[\"runs\"]>=75 and row[\"runs\"]<100:\n",
    "        points=points+12\n",
    "    elif row[\"runs\"]>=100:\n",
    "        points=points+16\n",
    "    elif row[\"runs\"]==0:\n",
    "        points=points-2\n",
    "    if row[\"balls\"]>=10:\n",
    "        if row[\"strike_rate\"]>=170:\n",
    "            points=points+6\n",
    "        elif row[\"strike_rate\"]>=150.01 and row[\"strike_rate\"]<170:\n",
    "            points=points+4\n",
    "        elif row[\"strike_rate\"]>=130 and row[\"strike_rate\"]<150:\n",
    "            points=points+2\n",
    "        elif row[\"strike_rate\"]>=60 and row[\"strike_rate\"]<70:\n",
    "            points=points-2\n",
    "        elif row[\"strike_rate\"]>=50 and row[\"strike_rate\"]<59.99:\n",
    "            points=points-4\n",
    "        else:\n",
    "            points=points-6\n",
    "    if row[\"Is_Captain\"]==1:\n",
    "        points=points*2\n",
    "    return points\n",
    "df[\"dream11_points\"]=df.apply(dream11,axis=1)\n",
    "df=df[[\"match_id\",\"batter\",\"dream11_points\"]]"
   ]
  },
  {
   "cell_type": "code",
   "execution_count": null,
   "id": "766a9430-3d37-4978-a378-1f686aa949c7",
   "metadata": {},
   "outputs": [],
   "source": []
  }
 ],
 "metadata": {
  "kernelspec": {
   "display_name": "Python 3 (ipykernel)",
   "language": "python",
   "name": "python3"
  },
  "language_info": {
   "codemirror_mode": {
    "name": "ipython",
    "version": 3
   },
   "file_extension": ".py",
   "mimetype": "text/x-python",
   "name": "python",
   "nbconvert_exporter": "python",
   "pygments_lexer": "ipython3",
   "version": "3.12.7"
  }
 },
 "nbformat": 4,
 "nbformat_minor": 5
}
