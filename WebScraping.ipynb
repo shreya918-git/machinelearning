{
 "cells": [
  {
   "cell_type": "code",
   "execution_count": null,
   "id": "f9ec49b8-830e-4c91-8abb-1a40be004491",
   "metadata": {},
   "outputs": [],
   "source": [
    "import pandas as pd\n",
    "import requests\n",
    "from bs4 import BeautifulSoup  # Web scraping library\n",
    "\n",
    "# Define headers to mimic a real browser\n",
    "headers = {\n",
    "    'User-Agent': 'Mozilla/5.0 (Windows NT 6.3; Win64; x64) AppleWebKit/537.36 (KHTML, like Gecko) Chrome/80.0.3987.162 Safari/537.36'\n",
    "}\n",
    "\n",
    "# Send the GET request\n",
    "response = requests.get(\"https://www.ambitionbox.com/list-of-companies?page=1\", headers=headers)\n",
    "\n",
    "# Pass the HTML content to BeautifulSoup\n",
    "soup = BeautifulSoup(response.text, \"lxml\")  # Use .text to get the HTML content\n",
    "\n",
    "# Check if <h1> tags exist and print the first one\n",
    "h1_tags_list = soup.find_all(\"h1\")\n",
    "if h1_tags_list:\n",
    "    h1_tags = h1_tags_list[0].text\n",
    "    print(h1_tags)\n",
    "else:\n",
    "    print(\"No <h1> tags found.\")\n",
    "\n",
    "# Loop through all <h1> tags\n",
    "for i in soup.find_all(\"h1\"):\n",
    "    print(i.text.strip())\n",
    "\n",
    "# Loop through all <p> tags with class \"rating\"\n",
    "for j in soup.find_all(\"p\", class_=\"rating\"):\n",
    "    print(j.text.strip())\n",
    "for k in soup.find_all(\"span\",class_='companyCardWrapper__ratingHeader'):\n",
    "    print(k.text.strip())"
   ]
  },
  {
   "cell_type": "code",
   "execution_count": null,
   "id": "93249f64-589f-4569-bfb8-39d7d1115a01",
   "metadata": {},
   "outputs": [],
   "source": [
    "import pandas as pd\n",
    "import requests\n",
    "from bs4 import BeautifulSoup  # Web scraping library\n",
    "\n",
    "# Define headers to mimic a real browser\n",
    "headers = {\n",
    "    'User-Agent': 'Mozilla/5.0 (Windows NT 6.3; Win64; x64) AppleWebKit/537.36 (KHTML, like Gecko) Chrome/80.0.3987.162 Safari/537.36'\n",
    "}\n",
    "\n",
    "# Send the GET request\n",
    "response = requests.get(\"https://www.ambitionbox.com/list-of-companies?campaign=desktop_nav\", headers=headers)\n",
    "\n",
    "# Pass the HTML content to BeautifulSoup\n",
    "soup = BeautifulSoup(response.text, \"lxml\")\n",
    "company=soup.find_all(\"div\",class_=\"companyCardWrapper\") #extract a list of each company card\n",
    "name=[]\n",
    "rating=[]                   #if there are multiple elements with same selectors use position indexing approach to extract each using find_all\n",
    "typeofcompany=[]\n",
    "for i in company:\n",
    "    name.append(i.find(\"h2\").text.strip()) #find gives a single result find all gives multiple,we only need a single here as we are traversing in a single card only\n",
    "    rating.append(i.find(\"div\",class_=\"rating_text\").text.strip()) #as find_all always returns a list we need to mention the index too  #name.append is appending the text in the array\n",
    "    typeofcompany.append(i.find(\"span\",class_=\"companyCardWrapper__interLinkingWrapper\").text.strip())\n",
    "#we can extract other information the same way \n",
    "#once done storing the values in lists ,we make a dictionary like {\"name\":name} and create a dataframe from the same \n",
    "#if there are multiple pages we can hit each page seperately using the same loop logic as done in the movie dataset api fetch\n",
    "#create an empty dataframe and keep on appending the new dataframes with ignore_index attribute"
   ]
  },
  {
   "cell_type": "code",
   "execution_count": null,
   "id": "9aee36bf-ef30-4b52-93d9-6f665ba236ac",
   "metadata": {},
   "outputs": [],
   "source": [
    "#a dictionary is a collection of key value pairs \n",
    "#there can a dictionary of dictionary too \n",
    "#a dataframe can be made with dictionaries\n",
    "#when we make a dataframe and store it in a variable df ,if we use df.to_dict(orient=\"record\") this converts a dataframe to list of dictionaries where each dictionary is a row "
   ]
  }
 ],
 "metadata": {
  "kernelspec": {
   "display_name": "Python 3 (ipykernel)",
   "language": "python",
   "name": "python3"
  },
  "language_info": {
   "codemirror_mode": {
    "name": "ipython",
    "version": 3
   },
   "file_extension": ".py",
   "mimetype": "text/x-python",
   "name": "python",
   "nbconvert_exporter": "python",
   "pygments_lexer": "ipython3",
   "version": "3.12.7"
  }
 },
 "nbformat": 4,
 "nbformat_minor": 5
}
