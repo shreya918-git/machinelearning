{
 "cells": [
  {
   "cell_type": "code",
   "execution_count": null,
   "id": "f9ec49b8-830e-4c91-8abb-1a40be004491",
   "metadata": {},
   "outputs": [],
   "source": [
    "import pandas as pd\n",
    "import requests\n",
    "from bs4 import BeautifulSoup  # Web scraping library\n",
    "\n",
    "# Define headers to mimic a real browser\n",
    "headers = {\n",
    "    'User-Agent': 'Mozilla/5.0 (Windows NT 6.3; Win64; x64) AppleWebKit/537.36 (KHTML, like Gecko) Chrome/80.0.3987.162 Safari/537.36'\n",
    "}\n",
    "\n",
    "# Send the GET request\n",
    "response = requests.get(\"https://www.ambitionbox.com/list-of-companies?page=1\", headers=headers)\n",
    "\n",
    "# Pass the HTML content to BeautifulSoup\n",
    "soup = BeautifulSoup(response.text, \"lxml\")  # Use .text to get the HTML content\n",
    "\n",
    "# Check if <h1> tags exist and print the first one\n",
    "h1_tags_list = soup.find_all(\"h1\")\n",
    "if h1_tags_list:\n",
    "    h1_tags = h1_tags_list[0].text\n",
    "    print(h1_tags)\n",
    "else:\n",
    "    print(\"No <h1> tags found.\")\n",
    "\n",
    "# Loop through all <h1> tags\n",
    "for i in soup.find_all(\"h1\"):\n",
    "    print(i.text.strip())\n",
    "\n",
    "# Loop through all <p> tags with class \"rating\"\n",
    "for j in soup.find_all(\"p\", class_=\"rating\"):\n",
    "    print(j.text.strip())\n",
    "for k in soup.find_all(\"span\",class_='companyCardWrapper__ratingHeader'):\n",
    "    print(k.text.strip())"
   ]
  },
  {
   "cell_type": "code",
   "execution_count": null,
   "id": "93249f64-589f-4569-bfb8-39d7d1115a01",
   "metadata": {},
   "outputs": [],
   "source": []
  }
 ],
 "metadata": {
  "kernelspec": {
   "display_name": "Python 3 (ipykernel)",
   "language": "python",
   "name": "python3"
  },
  "language_info": {
   "codemirror_mode": {
    "name": "ipython",
    "version": 3
   },
   "file_extension": ".py",
   "mimetype": "text/x-python",
   "name": "python",
   "nbconvert_exporter": "python",
   "pygments_lexer": "ipython3",
   "version": "3.12.7"
  }
 },
 "nbformat": 4,
 "nbformat_minor": 5
}
