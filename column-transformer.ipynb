{
 "cells": [
  {
   "cell_type": "code",
   "execution_count": 4,
   "id": "67e45e9a-94b7-4cd0-83b2-895ed18708f4",
   "metadata": {},
   "outputs": [
    {
     "data": {
      "text/html": [
       "<div>\n",
       "<style scoped>\n",
       "    .dataframe tbody tr th:only-of-type {\n",
       "        vertical-align: middle;\n",
       "    }\n",
       "\n",
       "    .dataframe tbody tr th {\n",
       "        vertical-align: top;\n",
       "    }\n",
       "\n",
       "    .dataframe thead th {\n",
       "        text-align: right;\n",
       "    }\n",
       "</style>\n",
       "<table border=\"1\" class=\"dataframe\">\n",
       "  <thead>\n",
       "    <tr style=\"text-align: right;\">\n",
       "      <th></th>\n",
       "      <th>age</th>\n",
       "      <th>gender</th>\n",
       "      <th>fever</th>\n",
       "      <th>cough</th>\n",
       "      <th>city</th>\n",
       "      <th>has_covid</th>\n",
       "    </tr>\n",
       "  </thead>\n",
       "  <tbody>\n",
       "    <tr>\n",
       "      <th>0</th>\n",
       "      <td>60</td>\n",
       "      <td>Male</td>\n",
       "      <td>103.0</td>\n",
       "      <td>Mild</td>\n",
       "      <td>Kolkata</td>\n",
       "      <td>No</td>\n",
       "    </tr>\n",
       "    <tr>\n",
       "      <th>1</th>\n",
       "      <td>27</td>\n",
       "      <td>Male</td>\n",
       "      <td>100.0</td>\n",
       "      <td>Mild</td>\n",
       "      <td>Delhi</td>\n",
       "      <td>Yes</td>\n",
       "    </tr>\n",
       "    <tr>\n",
       "      <th>2</th>\n",
       "      <td>42</td>\n",
       "      <td>Male</td>\n",
       "      <td>101.0</td>\n",
       "      <td>Mild</td>\n",
       "      <td>Delhi</td>\n",
       "      <td>No</td>\n",
       "    </tr>\n",
       "    <tr>\n",
       "      <th>3</th>\n",
       "      <td>31</td>\n",
       "      <td>Female</td>\n",
       "      <td>98.0</td>\n",
       "      <td>Mild</td>\n",
       "      <td>Kolkata</td>\n",
       "      <td>No</td>\n",
       "    </tr>\n",
       "    <tr>\n",
       "      <th>4</th>\n",
       "      <td>65</td>\n",
       "      <td>Female</td>\n",
       "      <td>101.0</td>\n",
       "      <td>Mild</td>\n",
       "      <td>Mumbai</td>\n",
       "      <td>No</td>\n",
       "    </tr>\n",
       "  </tbody>\n",
       "</table>\n",
       "</div>"
      ],
      "text/plain": [
       "   age  gender  fever cough     city has_covid\n",
       "0   60    Male  103.0  Mild  Kolkata        No\n",
       "1   27    Male  100.0  Mild    Delhi       Yes\n",
       "2   42    Male  101.0  Mild    Delhi        No\n",
       "3   31  Female   98.0  Mild  Kolkata        No\n",
       "4   65  Female  101.0  Mild   Mumbai        No"
      ]
     },
     "execution_count": 4,
     "metadata": {},
     "output_type": "execute_result"
    }
   ],
   "source": [
    "import numpy as np \n",
    "import pandas as pd \n",
    "from sklearn.impute import SimpleImputer\n",
    "from sklearn.preprocessing import OneHotEncoder\n",
    "from sklearn.preprocessing import OrdinalEncoder\n",
    "df=pd.read_csv(\"covid_toy.csv\")\n",
    "df.head()"
   ]
  },
  {
   "cell_type": "code",
   "execution_count": 18,
   "id": "55c83c58-a35c-4a82-871d-9f8fabf98512",
   "metadata": {},
   "outputs": [
    {
     "data": {
      "text/plain": [
       "age           0\n",
       "gender        0\n",
       "fever        10\n",
       "cough         0\n",
       "city          0\n",
       "has_covid     0\n",
       "dtype: int64"
      ]
     },
     "execution_count": 18,
     "metadata": {},
     "output_type": "execute_result"
    }
   ],
   "source": [
    "df.isnull().sum()"
   ]
  },
  {
   "cell_type": "code",
   "execution_count": 54,
   "id": "8f0002d8-50f8-4b6e-ae9d-b19a26ed5963",
   "metadata": {},
   "outputs": [],
   "source": [
    "X=df.iloc[:,0:5] #here gender and city are nominal columns and cough and has_covid are ordinal columns\n",
    "Y=df.iloc[:,-1]\n",
    "from sklearn.model_selection import train_test_split\n",
    "[X_train,X_test,Y_train,Y_test]=train_test_split(X,Y)"
   ]
  },
  {
   "cell_type": "code",
   "execution_count": 136,
   "id": "65f06a89-3e27-4fe1-b223-301666d93db5",
   "metadata": {},
   "outputs": [
    {
     "data": {
      "text/plain": [
       "(75, 7)"
      ]
     },
     "execution_count": 136,
     "metadata": {},
     "output_type": "execute_result"
    }
   ],
   "source": [
    "\n",
    "\n",
    "# Initialize SimpleImputer\n",
    "impute = SimpleImputer()\n",
    "\n",
    "# Fit the imputer on the 'fever' column of the training set\n",
    "impute.fit(X_train[[\"fever\"]])  # Ensure it's 2D by using double brackets\n",
    "\n",
    "# Transform both training and testing data\n",
    "X_train_fever = impute.transform(X_train[[\"fever\"]])  # Double brackets ensure it's 2D\n",
    "X_test_fever = impute.transform(X_test[[\"fever\"]])    # Double brackets ensure it's 2D\n",
    "\n",
    "# Result\n",
    "X_train_fever\n",
    "\n",
    "encoder=OrdinalEncoder(categories=[[\"Mild\",\"Strong\"]])\n",
    "encoder.fit(X_train[[\"cough\"]])\n",
    "X_train_cough=encoder.transform(X_train[[\"cough\"]])\n",
    "X_test_cough=encoder.transform(X_test[[\"cough\"]])\n",
    "encoder2=OneHotEncoder(drop=\"first\")\n",
    "X_train_new=encoder2.fit_transform(X_train[[\"gender\",\"city\"]]).toarray()\n",
    "encoder2.transform(X_test[[\"gender\",\"city\"]]).toarray()\n",
    "X_train_age=X_train.drop(columns=[\"fever\",\"gender\",\"city\",\"cough\"]).values\n",
    "np.concatenate((X_train_age,X_train_fever,X_train_cough,X_train_new),axis=1).shape"
   ]
  },
  {
   "cell_type": "code",
   "execution_count": 122,
   "id": "f3c8e2f5-5939-40c7-a954-ecfaf180d7bb",
   "metadata": {},
   "outputs": [
    {
     "data": {
      "text/plain": [
       "(25, 7)"
      ]
     },
     "execution_count": 122,
     "metadata": {},
     "output_type": "execute_result"
    }
   ],
   "source": [
    "from sklearn.compose import ColumnTransformer\n",
    "transformer=ColumnTransformer(transformers=[(\"tnf1\",SimpleImputer(),[\"fever\"]),(\"tnf2\",OrdinalEncoder(categories=[[\"Mild\",\"Strong\"]]),[\"cough\"]),(\"tnf3\",OneHotEncoder(drop=\"first\"),[\"gender\",\"city\"])],remainder=\"passthrough\")\n",
    "X_train_transform=transformer.fit_transform(X_train)\n",
    "X_train_transform\n",
    "transformer.transform(X_test)"
   ]
  },
  {
   "cell_type": "code",
   "execution_count": 130,
   "id": "061d9a32-2249-4b0b-8808-3cce59a87861",
   "metadata": {},
   "outputs": [
    {
     "data": {
      "text/plain": [
       "array([51, 47, 83, 42, 60, 47, 16, 50, 19, 70, 66, 44, 80, 19, 82, 20, 71,\n",
       "       82, 69, 27, 34, 72, 69, 15, 23, 75, 22, 71, 83,  5, 68, 49, 80, 14,\n",
       "       65, 75, 49, 60, 18, 55, 64, 40, 54, 27,  6, 65, 38, 10, 65, 23, 64,\n",
       "       56, 81, 81, 79, 83, 19, 14, 73, 69,  5, 82, 27, 59, 12, 51, 11, 20,\n",
       "       49, 24, 34, 24, 51, 42,  5], dtype=int64)"
      ]
     },
     "execution_count": 130,
     "metadata": {},
     "output_type": "execute_result"
    }
   ],
   "source": []
  },
  {
   "cell_type": "code",
   "execution_count": null,
   "id": "bb9596c9-aadd-4072-82e5-ceb5d1ab3b7e",
   "metadata": {},
   "outputs": [],
   "source": []
  }
 ],
 "metadata": {
  "kernelspec": {
   "display_name": "Python 3 (ipykernel)",
   "language": "python",
   "name": "python3"
  },
  "language_info": {
   "codemirror_mode": {
    "name": "ipython",
    "version": 3
   },
   "file_extension": ".py",
   "mimetype": "text/x-python",
   "name": "python",
   "nbconvert_exporter": "python",
   "pygments_lexer": "ipython3",
   "version": "3.12.7"
  }
 },
 "nbformat": 4,
 "nbformat_minor": 5
}
