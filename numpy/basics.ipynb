{
 "cells": [
  {
   "cell_type": "code",
   "execution_count": 4,
   "id": "b8358c1b-2230-4161-8fce-f302e9fd6313",
   "metadata": {},
   "outputs": [
    {
     "name": "stdout",
     "output_type": "stream",
     "text": [
      "[[1 2]\n",
      " [3 4]]\n",
      "[[1 2 3 4]]\n",
      "[[[1 2 3 4]]]\n",
      "[1 2 3 4 5 6 7 8 9]\n",
      "[[1. 1. 1.]\n",
      " [1. 1. 1.]]\n",
      "[[0. 0. 0.]\n",
      " [0. 0. 0.]]\n",
      "[ 10.           7.77777778   5.55555556   3.33333333   1.11111111\n",
      "  -1.11111111  -3.33333333  -5.55555556  -7.77777778 -10.        ]\n",
      "[0.18109763 0.9285986  0.43218521 0.49148221 0.82677734 0.4657294\n",
      " 0.90326356 0.39790372 0.99056938 0.95587903 0.24268579 0.06130128\n",
      " 0.02095055 0.64191061 0.62733752 0.98320959 0.85773989 0.12405496\n",
      " 0.81181671 0.67837995 0.34459449 0.50286923 0.4055995  0.01819595]\n",
      "[[1. 0. 0. 0.]\n",
      " [0. 1. 0. 0.]\n",
      " [0. 0. 1. 0.]\n",
      " [0. 0. 0. 1.]]\n"
     ]
    }
   ],
   "source": [
    "import numpy as np\n",
    "print(np.array([1,2,3,4]).reshape(2,2))\n",
    "print(np.array([[1,2,3,4]]))\n",
    "print(np.array([[[1,2,3,4]]]))\n",
    "print(np.arange(1,10))\n",
    "print(np.ones([2,3])) #both are used for array intializations\n",
    "print(np.zeros([2,3]))\n",
    "print(np.linspace(10,-10,10))\n",
    "print(np.random.random(24))\n",
    "print(np.identity(4))"
   ]
  },
  {
   "cell_type": "code",
   "execution_count": 8,
   "id": "1fa724a4-e19d-4e9c-bf64-24b8975d3c4b",
   "metadata": {},
   "outputs": [
    {
     "name": "stdout",
     "output_type": "stream",
     "text": [
      "1\n",
      "2\n",
      "3\n",
      "(4,)\n",
      "(1, 4)\n",
      "(2, 2, 2)\n",
      "4\n",
      "4\n",
      "8\n",
      "4\n",
      "8\n",
      "4\n",
      "int32\n",
      "float64\n",
      "int32\n"
     ]
    }
   ],
   "source": [
    "a1=np.array([1,2,3,4])\n",
    "a2=np.array([[1,2,3,4]],dtype=float)\n",
    "a3=np.arange(8).reshape(2,2,2)\n",
    "print(a1.ndim)\n",
    "print(a2.ndim)\n",
    "print(a3.ndim)\n",
    "print(a1.shape)\n",
    "print(a2.shape)\n",
    "print(a3.shape)\n",
    "print(a1.size)\n",
    "print(a2.size)\n",
    "print(a3.size)\n",
    "print(a1.itemsize)\n",
    "print(a2.itemsize)\n",
    "print(a3.itemsize)\n",
    "print(a1.dtype)\n",
    "print(a2.dtype)\n",
    "print(a3.dtype)"
   ]
  },
  {
   "cell_type": "code",
   "execution_count": 16,
   "id": "265e2a10-26c6-43c5-918f-bf61351934c9",
   "metadata": {},
   "outputs": [
    {
     "data": {
      "text/plain": [
       "array([[1, 2, 3, 4]])"
      ]
     },
     "execution_count": 16,
     "metadata": {},
     "output_type": "execute_result"
    }
   ],
   "source": [
    "a2.astype(np.int32) #to change the datatype of an array"
   ]
  },
  {
   "cell_type": "code",
   "execution_count": 66,
   "id": "a40ec7f5-13d6-4035-b796-df0c3d311818",
   "metadata": {},
   "outputs": [
    {
     "name": "stdout",
     "output_type": "stream",
     "text": [
      "7\n",
      "0\n",
      "[[ 0  5]\n",
      " [12 21]]\n",
      "3.5\n",
      "3.5\n",
      "2.29128784747792\n",
      "5.25\n",
      "[[1.81743621e+36 6.13782540e+30 1.34682665e+15 5.85633319e+37]\n",
      " [1.57428845e+39 3.15089328e+24 1.40756521e+17 1.15192775e+37]\n",
      " [8.55784409e+35 6.29585043e+30 1.87552009e+32 4.18163962e+07]]\n",
      "[0.82737327 0.70917444 0.74311609 0.17548799]\n",
      "[[0.8349049  0.70892023 0.34836528 0.86963172]\n",
      " [0.90254622 0.56409728 0.39485808 0.85337085]\n",
      " [0.82737327 0.70917444 0.74311609 0.17548799]]\n",
      "0.564097282240968\n"
     ]
    }
   ],
   "source": [
    "print(np.max(a3)) \n",
    "print(np.min(a3))\n",
    "print(np.prod(a3,axis=0)) # 0 for column and 1 for row\n",
    "print(np.mean(a3))\n",
    "print(np.median(a3))\n",
    "print(np.std(a3))\n",
    "print(np.var(a3))\n",
    "a3*2 #scalar operations\n",
    "a1+a2 #vector operations\n",
    "# a1.dot(a2) #dot product\n",
    "a4=np.random.random((3,4))\n",
    "np.ceil(a4)\n",
    "np.floor(a4)\n",
    "np.round(a4*100)\n",
    "print(np.exp(a4*100))\n",
    "print(a4[-1])\n",
    "print(a4)\n",
    "print(a4[1,1]) #first mention the row then the colummn"
   ]
  },
  {
   "cell_type": "code",
   "execution_count": 70,
   "id": "826ee1a4-9580-4add-ba5a-4476d92710d7",
   "metadata": {},
   "outputs": [
    {
     "data": {
      "text/plain": [
       "5"
      ]
     },
     "execution_count": 70,
     "metadata": {},
     "output_type": "execute_result"
    }
   ],
   "source": [
    "a3[1,0,1] #first mention the 2d array number then do the normal slicing"
   ]
  },
  {
   "cell_type": "code",
   "execution_count": 20,
   "id": "1c601892-d1c6-4af5-8f9b-fcc6d390f86e",
   "metadata": {},
   "outputs": [
    {
     "name": "stdout",
     "output_type": "stream",
     "text": [
      "12\n",
      "13\n",
      "14\n",
      "15\n",
      "16\n",
      "17\n",
      "18\n",
      "19\n",
      "20\n",
      "21\n",
      "22\n",
      "23\n",
      "[12 13 14 15 16 17 18 19 20 21 22 23]\n",
      "[[1. 0. 0. 0.]\n",
      " [0. 1. 0. 0.]\n",
      " [0. 0. 1. 0.]]\n",
      "[[10 11 12 13 14 10 11 12 13 14]\n",
      " [15 16 17 18 19 15 16 17 18 19]\n",
      " [10 11 12 13 14 10 11 12 13 14]\n",
      " [15 16 17 18 19 15 16 17 18 19]\n",
      " [10 11 12 13 14 10 11 12 13 14]\n",
      " [15 16 17 18 19 15 16 17 18 19]\n",
      " [10 11 12 13 14 10 11 12 13 14]\n",
      " [15 16 17 18 19 15 16 17 18 19]\n",
      " [10 11 12 13 14 10 11 12 13 14]\n",
      " [15 16 17 18 19 15 16 17 18 19]]\n",
      "[10 10 11 11 12 12 13 13 14 14 15 15 16 16 17 17 18 18 19 19]\n"
     ]
    },
    {
     "data": {
      "text/plain": [
       "array([9, 2, 2, 1])"
      ]
     },
     "execution_count": 20,
     "metadata": {},
     "output_type": "execute_result"
    }
   ],
   "source": [
    "a5=np.arange(12,24).reshape(6,2)\n",
    "a6=np.arange(12).reshape(6,2)\n",
    "np.hstack((a5,a6))\n",
    "np.vstack((a5,a6))\n",
    "np.hsplit(a5,2)\n",
    "np.vsplit(a5,2)\n",
    "a5.T\n",
    "for i in np.nditer(a5):\n",
    "    print(i)\n",
    "print(a5.ravel())\n",
    "print(np.eye(3,4)) #there are ones along the diagonals and zeros everywhere else\n",
    "arr=np.arange(10,20).reshape(2,5)\n",
    "print(np.tile(arr,(5,2)))\n",
    "print(np.repeat(arr,2))\n",
    "a6=np.array([5,6,7,8])\n",
    "a7=np.array([1,2,9,2])\n",
    "np.maximum(a6,a7)\n",
    "np.sort(a7)[::-1]"
   ]
  },
  {
   "cell_type": "code",
   "execution_count": null,
   "id": "aaff25f1-3516-4a07-96dd-6b274efb11a6",
   "metadata": {},
   "outputs": [],
   "source": []
  }
 ],
 "metadata": {
  "kernelspec": {
   "display_name": "Python 3 (ipykernel)",
   "language": "python",
   "name": "python3"
  },
  "language_info": {
   "codemirror_mode": {
    "name": "ipython",
    "version": 3
   },
   "file_extension": ".py",
   "mimetype": "text/x-python",
   "name": "python",
   "nbconvert_exporter": "python",
   "pygments_lexer": "ipython3",
   "version": "3.12.7"
  }
 },
 "nbformat": 4,
 "nbformat_minor": 5
}
