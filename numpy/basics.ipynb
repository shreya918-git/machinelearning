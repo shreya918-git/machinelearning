{
 "cells": [
  {
   "cell_type": "code",
   "execution_count": 60,
   "id": "b8358c1b-2230-4161-8fce-f302e9fd6313",
   "metadata": {},
   "outputs": [
    {
     "name": "stdout",
     "output_type": "stream",
     "text": [
      "[[1 2]\n",
      " [3 4]]\n",
      "[[1 2 3 4]]\n",
      "[[[1 2 3 4]]]\n",
      "[1 2 3 4 5 6 7 8 9]\n",
      "[[1. 1. 1.]\n",
      " [1. 1. 1.]]\n",
      "[[0. 0. 0.]\n",
      " [0. 0. 0.]]\n",
      "[ 10.           7.77777778   5.55555556   3.33333333   1.11111111\n",
      "  -1.11111111  -3.33333333  -5.55555556  -7.77777778 -10.        ]\n",
      "[0.26429169 0.16475916 0.75717088 0.82443219 0.42233443 0.1093465\n",
      " 0.84764202 0.43503636 0.69830775 0.36464456 0.38789258 0.22450416\n",
      " 0.48564369 0.88834715 0.02280694 0.39942198 0.79032381 0.93754481\n",
      " 0.23774595 0.35846987 0.67524505 0.39433373 0.08263188 0.79755447]\n",
      "[[1. 0. 0. 0.]\n",
      " [0. 1. 0. 0.]\n",
      " [0. 0. 1. 0.]\n",
      " [0. 0. 0. 1.]]\n"
     ]
    }
   ],
   "source": [
    "import numpy as np\n",
    "print(np.array([1,2,3,4]).reshape(2,2))\n",
    "print(np.array([[1,2,3,4]]))\n",
    "print(np.array([[[1,2,3,4]]]))\n",
    "print(np.arange(1,10))\n",
    "print(np.ones([2,3])) #both are used for array intializations\n",
    "print(np.zeros([2,3]))\n",
    "print(np.linspace(10,-10,10))\n",
    "print(np.random.random(24))\n",
    "print(np.identity(4))"
   ]
  },
  {
   "cell_type": "code",
   "execution_count": 76,
   "id": "1fa724a4-e19d-4e9c-bf64-24b8975d3c4b",
   "metadata": {},
   "outputs": [
    {
     "name": "stdout",
     "output_type": "stream",
     "text": [
      "1\n",
      "2\n",
      "3\n",
      "(4,)\n",
      "(1, 4)\n",
      "(2, 2, 2)\n",
      "4\n",
      "4\n",
      "8\n",
      "4\n",
      "4\n",
      "4\n",
      "int32\n",
      "int32\n",
      "int32\n"
     ]
    }
   ],
   "source": [
    "a1=np.array([1,2,3,4])\n",
    "a2=np.array([[1,2,3,4]],)\n",
    "a3=np.arange(8).reshape(2,2,2)\n",
    "print(a1.ndim)\n",
    "print(a2.ndim)\n",
    "print(a3.ndim)\n",
    "print(a1.shape)\n",
    "print(a2.shape)\n",
    "print(a3.shape)\n",
    "print(a1.size)\n",
    "print(a2.size)\n",
    "print(a3.size)\n",
    "print(a1.itemsize)\n",
    "print(a2.itemsize)\n",
    "print(a3.itemsize)\n",
    "print(a1.dtype)\n",
    "print(a2.dtype)\n",
    "print(a3.dtype)"
   ]
  },
  {
   "cell_type": "code",
   "execution_count": null,
   "id": "265e2a10-26c6-43c5-918f-bf61351934c9",
   "metadata": {},
   "outputs": [],
   "source": []
  }
 ],
 "metadata": {
  "kernelspec": {
   "display_name": "Python 3 (ipykernel)",
   "language": "python",
   "name": "python3"
  },
  "language_info": {
   "codemirror_mode": {
    "name": "ipython",
    "version": 3
   },
   "file_extension": ".py",
   "mimetype": "text/x-python",
   "name": "python",
   "nbconvert_exporter": "python",
   "pygments_lexer": "ipython3",
   "version": "3.12.7"
  }
 },
 "nbformat": 4,
 "nbformat_minor": 5
}
