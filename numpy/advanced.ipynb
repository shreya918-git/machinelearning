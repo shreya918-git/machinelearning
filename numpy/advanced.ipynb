{
 "cells": [
  {
   "cell_type": "code",
   "execution_count": 88,
   "id": "8c5a5827-88cd-4782-a740-93b2dca2dac7",
   "metadata": {},
   "outputs": [
    {
     "name": "stderr",
     "output_type": "stream",
     "text": [
      "ERROR: Could not find a version that satisfies the requirement cv2 (from versions: none)\n",
      "ERROR: No matching distribution found for cv2\n"
     ]
    },
    {
     "name": "stdout",
     "output_type": "stream",
     "text": [
      "0.3471541404724121\n",
      "0.023905515670776367\n",
      "8448728\n",
      "1000112\n"
     ]
    }
   ],
   "source": [
    "import numpy as np\n",
    "import time\n",
    "import sys\n",
    "import matplotlib.pyplot as plt\n",
    "import plotly.express  as px \n",
    "import plotly.graph_objects as go\n",
    "list1=[i for i in range(1000000)]\n",
    "list2=[i for i in range(1000000,2000000)]\n",
    "c=[]\n",
    "start=time.time()\n",
    "for i in range(len(list1)):\n",
    "    c.append(list1[i]+list2[i])\n",
    "print(time.time()-start)\n",
    "arr=np.arange(1000000,dtype=np.int8)\n",
    "arr2=np.arange(1000000,2000000)\n",
    "start2=time.time()\n",
    "c=arr+arr2\n",
    "print(time.time()-start2)\n",
    "print(sys.getsizeof(list1))\n",
    "print(sys.getsizeof(arr))"
   ]
  },
  {
   "cell_type": "code",
   "execution_count": 30,
   "id": "b30a45b3-dc4b-403b-8fcb-d964b109bd43",
   "metadata": {},
   "outputs": [
    {
     "name": "stdout",
     "output_type": "stream",
     "text": [
      "[56 75 89 87 60 72 60 83 57 60 53]\n",
      "[[ True False False  True]\n",
      " [False  True False False]\n",
      " [False False  True False]\n",
      " [False  True  True  True]\n",
      " [ True  True False False]\n",
      " [False  True  True False]]\n",
      "[56 60 72 60 60]\n"
     ]
    },
    {
     "data": {
      "text/plain": [
       "array([1., 2., 3., 4., 6.])"
      ]
     },
     "execution_count": 30,
     "metadata": {},
     "output_type": "execute_result"
    }
   ],
   "source": [
    "arr=np.arange(20).reshape(5,4)\n",
    "arr[:,[0,1,3]] #advanced indexing\n",
    "arr2=np.random.randint(1,100,24).reshape(6,4) #to generate specified number of random integers within a range \n",
    "print(arr2[arr2>50]) #boolean indexing\n",
    "print(arr2>50) #boolean array\n",
    "print(arr2[(arr2>50) & (arr2%2==0)]) #always use bitwise operators in boolean operations\n",
    "arr3=np.array([1,2,3,4,np.nan,6])\n",
    "arr3[~np.isnan(arr3)]"
   ]
  },
  {
   "cell_type": "code",
   "execution_count": 31,
   "id": "aa339db5-9853-45c8-b7a9-4c666e1b82a5",
   "metadata": {},
   "outputs": [
    {
     "data": {
      "text/plain": [
       "array([[0.12733843, 1.79143479, 2.18229623, 3.35016154, 4.45898754],\n",
       "       [5.1718057 , 6.93566743, 7.41189938, 8.51037959, 9.09551334]])"
      ]
     },
     "execution_count": 31,
     "metadata": {},
     "output_type": "execute_result"
    }
   ],
   "source": [
    "arr=np.arange(10).reshape(2,5)\n",
    "arr2=np.random.random(10).reshape(2,5)\n",
    "arr+arr2"
   ]
  },
  {
   "cell_type": "code",
   "execution_count": 32,
   "id": "fb817b12-73cc-4f80-bbe6-fb80433303c7",
   "metadata": {},
   "outputs": [
    {
     "data": {
      "text/plain": [
       "array([[0, 1, 2],\n",
       "       [1, 2, 3],\n",
       "       [2, 3, 4]])"
      ]
     },
     "execution_count": 32,
     "metadata": {},
     "output_type": "execute_result"
    }
   ],
   "source": [
    "arr=np.arange(10)\n",
    "arr2=np.arange(10,20)\n",
    "arr+arr2\n",
    "arr=np.arange(3).reshape(1,3)\n",
    "arr2=np.arange(3).reshape(3,1)\n",
    "arr+arr2"
   ]
  },
  {
   "cell_type": "code",
   "execution_count": 33,
   "id": "305408ba-a087-4c30-be43-ae7fe0cc74f5",
   "metadata": {},
   "outputs": [
    {
     "data": {
      "text/plain": [
       "array([[ 0.        ,  1.55740772, -2.18503986]])"
      ]
     },
     "execution_count": 33,
     "metadata": {},
     "output_type": "execute_result"
    }
   ],
   "source": [
    "np.sin(arr)\n",
    "np.cos(arr)\n",
    "np.tan(arr)"
   ]
  },
  {
   "cell_type": "code",
   "execution_count": 34,
   "id": "cc334fec-2035-4bcf-acda-a33852941d78",
   "metadata": {},
   "outputs": [
    {
     "name": "stdout",
     "output_type": "stream",
     "text": [
      "[[0.5       ]\n",
      " [0.73105858]\n",
      " [0.88079708]]\n"
     ]
    }
   ],
   "source": [
    "def sigmoid(arr):\n",
    "    return 1/(1+np.exp(-(arr)))\n",
    "print(sigmoid(arr2))"
   ]
  },
  {
   "cell_type": "code",
   "execution_count": 37,
   "id": "438d5e38-3aaa-4561-9443-4457aec208fa",
   "metadata": {},
   "outputs": [
    {
     "name": "stdout",
     "output_type": "stream",
     "text": [
      "1.3333333333333333\n"
     ]
    }
   ],
   "source": [
    "def mean_squared_error(arr,arr2):\n",
    "    return np.mean((arr-arr2)**2)\n",
    "print(mean_squared_error(arr,arr2))"
   ]
  },
  {
   "cell_type": "code",
   "execution_count": 43,
   "id": "001873b6-8945-4249-8a01-391180a5b7f0",
   "metadata": {},
   "outputs": [
    {
     "data": {
      "text/plain": [
       "[<matplotlib.lines.Line2D at 0x1dc992d8fb0>]"
      ]
     },
     "execution_count": 43,
     "metadata": {},
     "output_type": "execute_result"
    },
    {
     "data": {
      "image/png": "[encoded data removed]",
      "text/plain": [
       "<Figure size 640x480 with 1 Axes>"
      ]
     },
     "metadata": {},
     "output_type": "display_data"
    }
   ],
   "source": [
    "x=np.arange(10)\n",
    "y=x\n",
    "plt.plot(x,y)"
   ]
  },
  {
   "cell_type": "code",
   "execution_count": 44,
   "id": "c4038a15-5dc4-49f1-9558-32e3c251320e",
   "metadata": {},
   "outputs": [
    {
     "data": {
      "text/plain": [
       "(array([0, 1, 2, 3, 4], dtype=int64),)"
      ]
     },
     "execution_count": 44,
     "metadata": {},
     "output_type": "execute_result"
    }
   ],
   "source": [
    "arr=np.arange(10)\n",
    "arr2=np.random.randint(1,100,24).reshape(6,4)\n",
    "np.sort(arr2,axis=0)[::-1]\n",
    "arr3=np.arange(3).reshape(3,1)\n",
    "arr4=arr3\n",
    "np.concatenate((arr3,arr4),axis=1)\n",
    "np.expand_dims(arr,axis=0)\n",
    "np.append(arr,3)\n",
    "np.append(arr2,np.ones((arr2.shape[0],1)),axis=1)\n",
    "arr5=np.array([1,1,1,1,2,2,3,3,4,4,5,5,6,6])\n",
    "np.unique(arr5)\n",
    "np.where(arr2>50,0,arr2)\n",
    "np.where(arr<5)"
   ]
  },
  {
   "cell_type": "code",
   "execution_count": 47,
   "id": "92dd3013-e9ee-4ad4-8180-fc01e7c36700",
   "metadata": {},
   "outputs": [
    {
     "name": "stdout",
     "output_type": "stream",
     "text": [
      "12\n",
      "0\n",
      "[  58   79  132  138  190  208  307  336  433  518  589  604  697  774\n",
      "  798  867  882  946 1012 1097 1103 1116 1177 1250]\n",
      "[         58        1218       64554      387324    20140848   362535264\n",
      "  1531252768  1456657312  -438161504  1410977824  1395177696  -547171040\n",
      "   652700832 -1281643488  -694672640  -687771904 -1726643968  1163935744\n",
      "  -489652224  1329233920  -614531072   601030656 -1991835648   624885760]\n",
      "59.5\n",
      "59.5\n",
      "(array([ 9, 15], dtype=int64), array([  0,  50, 100]))\n",
      "[[ 1.         -0.31622777]\n",
      " [-0.31622777  1.        ]]\n",
      "[False False False False  True  True False False False False False False\n",
      "  True  True]\n",
      "[[73 61 13  6]\n",
      " [85 66 64 15]\n",
      " [69 24 77 93]\n",
      " [15 71 85 97]\n",
      " [29 99 18 52]\n",
      " [ 6 53 21 58]]\n",
      "[ 0  1  2  3  4  5  6  7  8  9 20 21 22 23 24 25 26 27 28 29]\n",
      "[]\n",
      "[0 1 2 3 4 5 6 7 8 9]\n",
      "[ 0  1  2  3  4  5  6  7  8  9 20 21 22 23 24 25 26 27 28 29]\n",
      "[6]\n",
      "[2 2 2 3 4 5 6 6 6 6]\n"
     ]
    }
   ],
   "source": [
    "print(np.argmax(arr5))\n",
    "print(np.argmin(arr5))\n",
    "print(np.cumsum(arr2))\n",
    "print(np.cumprod(arr2))\n",
    "print(np.percentile(arr2,50))\n",
    "print(np.median(arr2))\n",
    "print(np.histogram(arr2,bins=[0,50,100]))\n",
    "salary=np.array([50000,60000,70000,80000])\n",
    "experience=np.array([5,5,6,4])\n",
    "print(np.corrcoef(salary,experience))\n",
    "print(np.isin(arr5,[2,6]))\n",
    "print(np.flip(arr2))\n",
    "np.put(arr2,[0,1],[20,30])\n",
    "arr2\n",
    "np.delete(salary,[0,1])\n",
    "arr6=np.arange(10)\n",
    "arr7=np.arange(20,30)\n",
    "print(np.union1d(arr6,arr7))\n",
    "print(np.intersect1d(arr6,arr7))\n",
    "print(np.setdiff1d(arr6,arr7))\n",
    "print(np.setxor1d(arr6,arr7))\n",
    "print(arr6[np.in1d(arr6,6)])\n",
    "print(np.clip(arr6,a_min=2,a_max=6))"
   ]
  },
  {
   "cell_type": "code",
   "execution_count": 59,
   "id": "20a51a92-5c8e-44fe-b304-7b5f7b1f9673",
   "metadata": {},
   "outputs": [
    {
     "data": {
      "text/plain": [
       "<matplotlib.collections.PathCollection at 0x1dc96c5b980>"
      ]
     },
     "execution_count": 59,
     "metadata": {},
     "output_type": "execute_result"
    },
    {
     "data": {
      "image/png": "[encoded data removed]",
      "text/plain": [
       "<Figure size 640x480 with 1 Axes>"
      ]
     },
     "metadata": {},
     "output_type": "display_data"
    }
   ],
   "source": [
    "a=np.linspace(-10,9,20)\n",
    "b=np.linspace(-10,9,20)\n",
    "xx,yy=np.meshgrid(a,b)\n",
    "plt.scatter(xx,yy)"
   ]
  },
  {
   "cell_type": "code",
   "execution_count": 61,
   "id": "8a280af7-181a-4cca-8075-78529e301354",
   "metadata": {},
   "outputs": [
    {
     "data": {
      "application/vnd.plotly.v1+json": {
       "config": {
        "plotlyServerURL": "https://plot.ly"
       },
       "data": [
        {
         "hovertemplate": "<extra></extra>",
         "legendgroup": "",
         "marker": {
          "color": "#636efa",
          "symbol": "circle"
         },
         "mode": "markers",
         "name": "",
         "scene": "scene",
         "showlegend": false,
         "type": "scatter3d"
        },
        {
         "type": "surface",
         "x": [
          [
           -10,
           -9,
           -8,
           -7,
           -6,
           -5,
           -4,
           -3,
           -2,
           -1,
           0,
           1,
           2,
           3,
           4,
           5,
           6,
           7,
           8,
           9
          ],
          [
           -10,
           -9,
           -8,
           -7,
           -6,
           -5,
           -4,
           -3,
           -2,
           -1,
           0,
           1,
           2,
           3,
           4,
           5,
           6,
           7,
           8,
           9
          ],
          [
           -10,
           -9,
           -8,
           -7,
           -6,
           -5,
           -4,
           -3,
           -2,
           -1,
           0,
           1,
           2,
           3,
           4,
           5,
           6,
           7,
           8,
           9
          ],
          [
           -10,
           -9,
           -8,
           -7,
           -6,
           -5,
           -4,
           -3,
           -2,
           -1,
           0,
           1,
           2,
           3,
           4,
           5,
           6,
           7,
           8,
           9
          ],
          [
           -10,
           -9,
           -8,
           -7,
           -6,
           -5,
           -4,
           -3,
           -2,
           -1,
           0,
           1,
           2,
           3,
           4,
           5,
           6,
           7,
           8,
           9
          ],
          [
           -10,
           -9,
           -8,
           -7,
           -6,
           -5,
           -4,
           -3,
           -2,
           -1,
           0,
           1,
           2,
           3,
           4,
           5,
           6,
           7,
           8,
           9
          ],
          [
           -10,
           -9,
           -8,
           -7,
           -6,
           -5,
           -4,
           -3,
           -2,
           -1,
           0,
           1,
           2,
           3,
           4,
           5,
           6,
           7,
           8,
           9
          ],
          [
           -10,
           -9,
           -8,
           -7,
           -6,
           -5,
           -4,
           -3,
           -2,
           -1,
           0,
           1,
           2,
           3,
           4,
           5,
           6,
           7,
           8,
           9
          ],
          [
           -10,
           -9,
           -8,
           -7,
           -6,
           -5,
           -4,
           -3,
           -2,
           -1,
           0,
           1,
           2,
           3,
           4,
           5,
           6,
           7,
           8,
           9
          ],
          [
           -10,
           -9,
           -8,
           -7,
           -6,
           -5,
           -4,
           -3,
           -2,
           -1,
           0,
           1,
           2,
           3,
           4,
           5,
           6,
           7,
           8,
           9
          ],
          [
           -10,
           -9,
           -8,
           -7,
           -6,
           -5,
           -4,
           -3,
           -2,
           -1,
           0,
           1,
           2,
           3,
           4,
           5,
           6,
           7,
           8,
           9
          ],
          [
           -10,
           -9,
           -8,
           -7,
           -6,
           -5,
           -4,
           -3,
           -2,
           -1,
           0,
           1,
           2,
           3,
           4,
           5,
           6,
           7,
           8,
           9
          ],
          [
           -10,
           -9,
           -8,
           -7,
           -6,
           -5,
           -4,
           -3,
           -2,
           -1,
           0,
           1,
           2,
           3,
           4,
           5,
           6,
           7,
           8,
           9
          ],
          [
           -10,
           -9,
           -8,
           -7,
           -6,
           -5,
           -4,
           -3,
           -2,
           -1,
           0,
           1,
           2,
           3,
           4,
           5,
           6,
           7,
           8,
           9
          ],
          [
           -10,
           -9,
           -8,
           -7,
           -6,
           -5,
           -4,
           -3,
           -2,
           -1,
           0,
           1,
           2,
           3,
           4,
           5,
           6,
           7,
           8,
           9
          ],
          [
           -10,
           -9,
           -8,
           -7,
           -6,
           -5,
           -4,
           -3,
           -2,
           -1,
           0,
           1,
           2,
           3,
           4,
           5,
           6,
           7,
           8,
           9
          ],
          [
           -10,
           -9,
           -8,
           -7,
           -6,
           -5,
           -4,
           -3,
           -2,
           -1,
           0,
           1,
           2,
           3,
           4,
           5,
           6,
           7,
           8,
           9
          ],
          [
           -10,
           -9,
           -8,
           -7,
           -6,
           -5,
           -4,
           -3,
           -2,
           -1,
           0,
           1,
           2,
           3,
           4,
           5,
           6,
           7,
           8,
           9
          ],
          [
           -10,
           -9,
           -8,
           -7,
           -6,
           -5,
           -4,
           -3,
           -2,
           -1,
           0,
           1,
           2,
           3,
           4,
           5,
           6,
           7,
           8,
           9
          ],
          [
           -10,
           -9,
           -8,
           -7,
           -6,
           -5,
           -4,
           -3,
           -2,
           -1,
           0,
           1,
           2,
           3,
           4,
           5,
           6,
           7,
           8,
           9
          ]
         ],
         "y": [
          [
           -10,
           -10,
           -10,
           -10,
           -10,
           -10,
           -10,
           -10,
           -10,
           -10,
           -10,
           -10,
           -10,
           -10,
           -10,
           -10,
           -10,
           -10,
           -10,
           -10
          ],
          [
           -9,
           -9,
           -9,
           -9,
           -9,
           -9,
           -9,
           -9,
           -9,
           -9,
           -9,
           -9,
           -9,
           -9,
           -9,
           -9,
           -9,
           -9,
           -9,
           -9
          ],
          [
           -8,
           -8,
           -8,
           -8,
           -8,
           -8,
           -8,
           -8,
           -8,
           -8,
           -8,
           -8,
           -8,
           -8,
           -8,
           -8,
           -8,
           -8,
           -8,
           -8
          ],
          [
           -7,
           -7,
           -7,
           -7,
           -7,
           -7,
           -7,
           -7,
           -7,
           -7,
           -7,
           -7,
           -7,
           -7,
           -7,
           -7,
           -7,
           -7,
           -7,
           -7
          ],
          [
           -6,
           -6,
           -6,
           -6,
           -6,
           -6,
           -6,
           -6,
           -6,
           -6,
           -6,
           -6,
           -6,
           -6,
           -6,
           -6,
           -6,
           -6,
           -6,
           -6
          ],
          [
           -5,
           -5,
           -5,
           -5,
           -5,
           -5,
           -5,
           -5,
           -5,
           -5,
           -5,
           -5,
           -5,
           -5,
           -5,
           -5,
           -5,
           -5,
           -5,
           -5
          ],
          [
           -4,
           -4,
           -4,
           -4,
           -4,
           -4,
           -4,
           -4,
           -4,
           -4,
           -4,
           -4,
           -4,
           -4,
           -4,
           -4,
           -4,
           -4,
           -4,
           -4
          ],
          [
           -3,
           -3,
           -3,
           -3,
           -3,
           -3,
           -3,
           -3,
           -3,
           -3,
           -3,
           -3,
           -3,
           -3,
           -3,
           -3,
           -3,
           -3,
           -3,
           -3
          ],
          [
           -2,
           -2,
           -2,
           -2,
           -2,
           -2,
           -2,
           -2,
           -2,
           -2,
           -2,
           -2,
           -2,
           -2,
           -2,
           -2,
           -2,
           -2,
           -2,
           -2
          ],
          [
           -1,
           -1,
           -1,
           -1,
           -1,
           -1,
           -1,
           -1,
           -1,
           -1,
           -1,
           -1,
           -1,
           -1,
           -1,
           -1,
           -1,
           -1,
           -1,
           -1
          ],
          [
           0,
           0,
           0,
           0,
           0,
           0,
           0,
           0,
           0,
           0,
           0,
           0,
           0,
           0,
           0,
           0,
           0,
           0,
           0,
           0
          ],
          [
           1,
           1,
           1,
           1,
           1,
           1,
           1,
           1,
           1,
           1,
           1,
           1,
           1,
           1,
           1,
           1,
           1,
           1,
           1,
           1
          ],
          [
           2,
           2,
           2,
           2,
           2,
           2,
           2,
           2,
           2,
           2,
           2,
           2,
           2,
           2,
           2,
           2,
           2,
           2,
           2,
           2
          ],
          [
           3,
           3,
           3,
           3,
           3,
           3,
           3,
           3,
           3,
           3,
           3,
           3,
           3,
           3,
           3,
           3,
           3,
           3,
           3,
           3
          ],
          [
           4,
           4,
           4,
           4,
           4,
           4,
           4,
           4,
           4,
           4,
           4,
           4,
           4,
           4,
           4,
           4,
           4,
           4,
           4,
           4
          ],
          [
           5,
           5,
           5,
           5,
           5,
           5,
           5,
           5,
           5,
           5,
           5,
           5,
           5,
           5,
           5,
           5,
           5,
           5,
           5,
           5
          ],
          [
           6,
           6,
           6,
           6,
           6,
           6,
           6,
           6,
           6,
           6,
           6,
           6,
           6,
           6,
           6,
           6,
           6,
           6,
           6,
           6
          ],
          [
           7,
           7,
           7,
           7,
           7,
           7,
           7,
           7,
           7,
           7,
           7,
           7,
           7,
           7,
           7,
           7,
           7,
           7,
           7,
           7
          ],
          [
           8,
           8,
           8,
           8,
           8,
           8,
           8,
           8,
           8,
           8,
           8,
           8,
           8,
           8,
           8,
           8,
           8,
           8,
           8,
           8
          ],
          [
           9,
           9,
           9,
           9,
           9,
           9,
           9,
           9,
           9,
           9,
           9,
           9,
           9,
           9,
           9,
           9,
           9,
           9,
           9,
           9
          ]
         ],
         "z": [
          [
           200,
           181,
           164,
           149,
           136,
           125,
           116,
           109,
           104,
           101,
           100,
           101,
           104,
           109,
           116,
           125,
           136,
           149,
           164,
           181
          ],
          [
           181,
           162,
           145,
           130,
           117,
           106,
           97,
           90,
           85,
           82,
           81,
           82,
           85,
           90,
           97,
           106,
           117,
           130,
           145,
           162
          ],
          [
           164,
           145,
           128,
           113,
           100,
           89,
           80,
           73,
           68,
           65,
           64,
           65,
           68,
           73,
           80,
           89,
           100,
           113,
           128,
           145
          ],
          [
           149,
           130,
           113,
           98,
           85,
           74,
           65,
           58,
           53,
           50,
           49,
           50,
           53,
           58,
           65,
           74,
           85,
           98,
           113,
           130
          ],
          [
           136,
           117,
           100,
           85,
           72,
           61,
           52,
           45,
           40,
           37,
           36,
           37,
           40,
           45,
           52,
           61,
           72,
           85,
           100,
           117
          ],
          [
           125,
           106,
           89,
           74,
           61,
           50,
           41,
           34,
           29,
           26,
           25,
           26,
           29,
           34,
           41,
           50,
           61,
           74,
           89,
           106
          ],
          [
           116,
           97,
           80,
           65,
           52,
           41,
           32,
           25,
           20,
           17,
           16,
           17,
           20,
           25,
           32,
           41,
           52,
           65,
           80,
           97
          ],
          [
           109,
           90,
           73,
           58,
           45,
           34,
           25,
           18,
           13,
           10,
           9,
           10,
           13,
           18,
           25,
           34,
           45,
           58,
           73,
           90
          ],
          [
           104,
           85,
           68,
           53,
           40,
           29,
           20,
           13,
           8,
           5,
           4,
           5,
           8,
           13,
           20,
           29,
           40,
           53,
           68,
           85
          ],
          [
           101,
           82,
           65,
           50,
           37,
           26,
           17,
           10,
           5,
           2,
           1,
           2,
           5,
           10,
           17,
           26,
           37,
           50,
           65,
           82
          ],
          [
           100,
           81,
           64,
           49,
           36,
           25,
           16,
           9,
           4,
           1,
           0,
           1,
           4,
           9,
           16,
           25,
           36,
           49,
           64,
           81
          ],
          [
           101,
           82,
           65,
           50,
           37,
           26,
           17,
           10,
           5,
           2,
           1,
           2,
           5,
           10,
           17,
           26,
           37,
           50,
           65,
           82
          ],
          [
           104,
           85,
           68,
           53,
           40,
           29,
           20,
           13,
           8,
           5,
           4,
           5,
           8,
           13,
           20,
           29,
           40,
           53,
           68,
           85
          ],
          [
           109,
           90,
           73,
           58,
           45,
           34,
           25,
           18,
           13,
           10,
           9,
           10,
           13,
           18,
           25,
           34,
           45,
           58,
           73,
           90
          ],
          [
           116,
           97,
           80,
           65,
           52,
           41,
           32,
           25,
           20,
           17,
           16,
           17,
           20,
           25,
           32,
           41,
           52,
           65,
           80,
           97
          ],
          [
           125,
           106,
           89,
           74,
           61,
           50,
           41,
           34,
           29,
           26,
           25,
           26,
           29,
           34,
           41,
           50,
           61,
           74,
           89,
           106
          ],
          [
           136,
           117,
           100,
           85,
           72,
           61,
           52,
           45,
           40,
           37,
           36,
           37,
           40,
           45,
           52,
           61,
           72,
           85,
           100,
           117
          ],
          [
           149,
           130,
           113,
           98,
           85,
           74,
           65,
           58,
           53,
           50,
           49,
           50,
           53,
           58,
           65,
           74,
           85,
           98,
           113,
           130
          ],
          [
           164,
           145,
           128,
           113,
           100,
           89,
           80,
           73,
           68,
           65,
           64,
           65,
           68,
           73,
           80,
           89,
           100,
           113,
           128,
           145
          ],
          [
           181,
           162,
           145,
           130,
           117,
           106,
           97,
           90,
           85,
           82,
           81,
           82,
           85,
           90,
           97,
           106,
           117,
           130,
           145,
           162
          ]
         ]
        }
       ],
       "layout": {
        "autosize": true,
        "legend": {
         "tracegroupgap": 0
        },
        "margin": {
         "t": 60
        },
        "scene": {
         "aspectmode": "auto",
         "aspectratio": {
          "x": 1,
          "y": 1,
          "z": 1
         },
         "camera": {
          "center": {
           "x": 0,
           "y": 0,
           "z": 0
          },
          "eye": {
           "x": -0.12534736396789337,
           "y": 1.1267484555064426,
           "z": 0.33961172103813714
          },
          "projection": {
           "type": "perspective"
          },
          "up": {
           "x": -0.7064014983557677,
           "y": 0.045542350537032004,
           "z": 0.7063446874071386
          }
         },
         "domain": {
          "x": [
           0,
           1
          ],
          "y": [
           0,
           1
          ]
         }
        },
        "template": {
         "data": {
          "bar": [
           {
            "error_x": {
             "color": "#2a3f5f"
            },
            "error_y": {
             "color": "#2a3f5f"
            },
            "marker": {
             "line": {
              "color": "#E5ECF6",
              "width": 0.5
             },
             "pattern": {
              "fillmode": "overlay",
              "size": 10,
              "solidity": 0.2
             }
            },
            "type": "bar"
           }
          ],
          "barpolar": [
           {
            "marker": {
             "line": {
              "color": "#E5ECF6",
              "width": 0.5
             },
             "pattern": {
              "fillmode": "overlay",
              "size": 10,
              "solidity": 0.2
             }
            },
            "type": "barpolar"
           }
          ],
          "carpet": [
           {
            "aaxis": {
             "endlinecolor": "#2a3f5f",
             "gridcolor": "white",
             "linecolor": "white",
             "minorgridcolor": "white",
             "startlinecolor": "#2a3f5f"
            },
            "baxis": {
             "endlinecolor": "#2a3f5f",
             "gridcolor": "white",
             "linecolor": "white",
             "minorgridcolor": "white",
             "startlinecolor": "#2a3f5f"
            },
            "type": "carpet"
           }
          ],
          "choropleth": [
           {
            "colorbar": {
             "outlinewidth": 0,
             "ticks": ""
            },
            "type": "choropleth"
           }
          ],
          "contour": [
           {
            "colorbar": {
             "outlinewidth": 0,
             "ticks": ""
            },
            "colorscale": [
             [
              0,
              "#0d0887"
             ],
             [
              0.1111111111111111,
              "#46039f"
             ],
             [
              0.2222222222222222,
              "#7201a8"
             ],
             [
              0.3333333333333333,
              "#9c179e"
             ],
             [
              0.4444444444444444,
              "#bd3786"
             ],
             [
              0.5555555555555556,
              "#d8576b"
             ],
             [
              0.6666666666666666,
              "#ed7953"
             ],
             [
              0.7777777777777778,
              "#fb9f3a"
             ],
             [
              0.8888888888888888,
              "#fdca26"
             ],
             [
              1,
              "#f0f921"
             ]
            ],
            "type": "contour"
           }
          ],
          "contourcarpet": [
           {
            "colorbar": {
             "outlinewidth": 0,
             "ticks": ""
            },
            "type": "contourcarpet"
           }
          ],
          "heatmap": [
           {
            "colorbar": {
             "outlinewidth": 0,
             "ticks": ""
            },
            "colorscale": [
             [
              0,
              "#0d0887"
             ],
             [
              0.1111111111111111,
              "#46039f"
             ],
             [
              0.2222222222222222,
              "#7201a8"
             ],
             [
              0.3333333333333333,
              "#9c179e"
             ],
             [
              0.4444444444444444,
              "#bd3786"
             ],
             [
              0.5555555555555556,
              "#d8576b"
             ],
             [
              0.6666666666666666,
              "#ed7953"
             ],
             [
              0.7777777777777778,
              "#fb9f3a"
             ],
             [
              0.8888888888888888,
              "#fdca26"
             ],
             [
              1,
              "#f0f921"
             ]
            ],
            "type": "heatmap"
           }
          ],
          "heatmapgl": [
           {
            "colorbar": {
             "outlinewidth": 0,
             "ticks": ""
            },
            "colorscale": [
             [
              0,
              "#0d0887"
             ],
             [
              0.1111111111111111,
              "#46039f"
             ],
             [
              0.2222222222222222,
              "#7201a8"
             ],
             [
              0.3333333333333333,
              "#9c179e"
             ],
             [
              0.4444444444444444,
              "#bd3786"
             ],
             [
              0.5555555555555556,
              "#d8576b"
             ],
             [
              0.6666666666666666,
              "#ed7953"
             ],
             [
              0.7777777777777778,
              "#fb9f3a"
             ],
             [
              0.8888888888888888,
              "#fdca26"
             ],
             [
              1,
              "#f0f921"
             ]
            ],
            "type": "heatmapgl"
           }
          ],
          "histogram": [
           {
            "marker": {
             "pattern": {
              "fillmode": "overlay",
              "size": 10,
              "solidity": 0.2
             }
            },
            "type": "histogram"
           }
          ],
          "histogram2d": [
           {
            "colorbar": {
             "outlinewidth": 0,
             "ticks": ""
            },
            "colorscale": [
             [
              0,
              "#0d0887"
             ],
             [
              0.1111111111111111,
              "#46039f"
             ],
             [
              0.2222222222222222,
              "#7201a8"
             ],
             [
              0.3333333333333333,
              "#9c179e"
             ],
             [
              0.4444444444444444,
              "#bd3786"
             ],
             [
              0.5555555555555556,
              "#d8576b"
             ],
             [
              0.6666666666666666,
              "#ed7953"
             ],
             [
              0.7777777777777778,
              "#fb9f3a"
             ],
             [
              0.8888888888888888,
              "#fdca26"
             ],
             [
              1,
              "#f0f921"
             ]
            ],
            "type": "histogram2d"
           }
          ],
          "histogram2dcontour": [
           {
            "colorbar": {
             "outlinewidth": 0,
             "ticks": ""
            },
            "colorscale": [
             [
              0,
              "#0d0887"
             ],
             [
              0.1111111111111111,
              "#46039f"
             ],
             [
              0.2222222222222222,
              "#7201a8"
             ],
             [
              0.3333333333333333,
              "#9c179e"
             ],
             [
              0.4444444444444444,
              "#bd3786"
             ],
             [
              0.5555555555555556,
              "#d8576b"
             ],
             [
              0.6666666666666666,
              "#ed7953"
             ],
             [
              0.7777777777777778,
              "#fb9f3a"
             ],
             [
              0.8888888888888888,
              "#fdca26"
             ],
             [
              1,
              "#f0f921"
             ]
            ],
            "type": "histogram2dcontour"
           }
          ],
          "mesh3d": [
           {
            "colorbar": {
             "outlinewidth": 0,
             "ticks": ""
            },
            "type": "mesh3d"
           }
          ],
          "parcoords": [
           {
            "line": {
             "colorbar": {
              "outlinewidth": 0,
              "ticks": ""
             }
            },
            "type": "parcoords"
           }
          ],
          "pie": [
           {
            "automargin": true,
            "type": "pie"
           }
          ],
          "scatter": [
           {
            "fillpattern": {
             "fillmode": "overlay",
             "size": 10,
             "solidity": 0.2
            },
            "type": "scatter"
           }
          ],
          "scatter3d": [
           {
            "line": {
             "colorbar": {
              "outlinewidth": 0,
              "ticks": ""
             }
            },
            "marker": {
             "colorbar": {
              "outlinewidth": 0,
              "ticks": ""
             }
            },
            "type": "scatter3d"
           }
          ],
          "scattercarpet": [
           {
            "marker": {
             "colorbar": {
              "outlinewidth": 0,
              "ticks": ""
             }
            },
            "type": "scattercarpet"
           }
          ],
          "scattergeo": [
           {
            "marker": {
             "colorbar": {
              "outlinewidth": 0,
              "ticks": ""
             }
            },
            "type": "scattergeo"
           }
          ],
          "scattergl": [
           {
            "marker": {
             "colorbar": {
              "outlinewidth": 0,
              "ticks": ""
             }
            },
            "type": "scattergl"
           }
          ],
          "scattermapbox": [
           {
            "marker": {
             "colorbar": {
              "outlinewidth": 0,
              "ticks": ""
             }
            },
            "type": "scattermapbox"
           }
          ],
          "scatterpolar": [
           {
            "marker": {
             "colorbar": {
              "outlinewidth": 0,
              "ticks": ""
             }
            },
            "type": "scatterpolar"
           }
          ],
          "scatterpolargl": [
           {
            "marker": {
             "colorbar": {
              "outlinewidth": 0,
              "ticks": ""
             }
            },
            "type": "scatterpolargl"
           }
          ],
          "scatterternary": [
           {
            "marker": {
             "colorbar": {
              "outlinewidth": 0,
              "ticks": ""
             }
            },
            "type": "scatterternary"
           }
          ],
          "surface": [
           {
            "colorbar": {
             "outlinewidth": 0,
             "ticks": ""
            },
            "colorscale": [
             [
              0,
              "#0d0887"
             ],
             [
              0.1111111111111111,
              "#46039f"
             ],
             [
              0.2222222222222222,
              "#7201a8"
             ],
             [
              0.3333333333333333,
              "#9c179e"
             ],
             [
              0.4444444444444444,
              "#bd3786"
             ],
             [
              0.5555555555555556,
              "#d8576b"
             ],
             [
              0.6666666666666666,
              "#ed7953"
             ],
             [
              0.7777777777777778,
              "#fb9f3a"
             ],
             [
              0.8888888888888888,
              "#fdca26"
             ],
             [
              1,
              "#f0f921"
             ]
            ],
            "type": "surface"
           }
          ],
          "table": [
           {
            "cells": {
             "fill": {
              "color": "#EBF0F8"
             },
             "line": {
              "color": "white"
             }
            },
            "header": {
             "fill": {
              "color": "#C8D4E3"
             },
             "line": {
              "color": "white"
             }
            },
            "type": "table"
           }
          ]
         },
         "layout": {
          "annotationdefaults": {
           "arrowcolor": "#2a3f5f",
           "arrowhead": 0,
           "arrowwidth": 1
          },
          "autotypenumbers": "strict",
          "coloraxis": {
           "colorbar": {
            "outlinewidth": 0,
            "ticks": ""
           }
          },
          "colorscale": {
           "diverging": [
            [
             0,
             "#8e0152"
            ],
            [
             0.1,
             "#c51b7d"
            ],
            [
             0.2,
             "#de77ae"
            ],
            [
             0.3,
             "#f1b6da"
            ],
            [
             0.4,
             "#fde0ef"
            ],
            [
             0.5,
             "#f7f7f7"
            ],
            [
             0.6,
             "#e6f5d0"
            ],
            [
             0.7,
             "#b8e186"
            ],
            [
             0.8,
             "#7fbc41"
            ],
            [
             0.9,
             "#4d9221"
            ],
            [
             1,
             "#276419"
            ]
           ],
           "sequential": [
            [
             0,
             "#0d0887"
            ],
            [
             0.1111111111111111,
             "#46039f"
            ],
            [
             0.2222222222222222,
             "#7201a8"
            ],
            [
             0.3333333333333333,
             "#9c179e"
            ],
            [
             0.4444444444444444,
             "#bd3786"
            ],
            [
             0.5555555555555556,
             "#d8576b"
            ],
            [
             0.6666666666666666,
             "#ed7953"
            ],
            [
             0.7777777777777778,
             "#fb9f3a"
            ],
            [
             0.8888888888888888,
             "#fdca26"
            ],
            [
             1,
             "#f0f921"
            ]
           ],
           "sequentialminus": [
            [
             0,
             "#0d0887"
            ],
            [
             0.1111111111111111,
             "#46039f"
            ],
            [
             0.2222222222222222,
             "#7201a8"
            ],
            [
             0.3333333333333333,
             "#9c179e"
            ],
            [
             0.4444444444444444,
             "#bd3786"
            ],
            [
             0.5555555555555556,
             "#d8576b"
            ],
            [
             0.6666666666666666,
             "#ed7953"
            ],
            [
             0.7777777777777778,
             "#fb9f3a"
            ],
            [
             0.8888888888888888,
             "#fdca26"
            ],
            [
             1,
             "#f0f921"
            ]
           ]
          },
          "colorway": [
           "#636efa",
           "#EF553B",
           "#00cc96",
           "#ab63fa",
           "#FFA15A",
           "#19d3f3",
           "#FF6692",
           "#B6E880",
           "#FF97FF",
           "#FECB52"
          ],
          "font": {
           "color": "#2a3f5f"
          },
          "geo": {
           "bgcolor": "white",
           "lakecolor": "white",
           "landcolor": "#E5ECF6",
           "showlakes": true,
           "showland": true,
           "subunitcolor": "white"
          },
          "hoverlabel": {
           "align": "left"
          },
          "hovermode": "closest",
          "mapbox": {
           "style": "light"
          },
          "paper_bgcolor": "white",
          "plot_bgcolor": "#E5ECF6",
          "polar": {
           "angularaxis": {
            "gridcolor": "white",
            "linecolor": "white",
            "ticks": ""
           },
           "bgcolor": "#E5ECF6",
           "radialaxis": {
            "gridcolor": "white",
            "linecolor": "white",
            "ticks": ""
           }
          },
          "scene": {
           "xaxis": {
            "backgroundcolor": "#E5ECF6",
            "gridcolor": "white",
            "gridwidth": 2,
            "linecolor": "white",
            "showbackground": true,
            "ticks": "",
            "zerolinecolor": "white"
           },
           "yaxis": {
            "backgroundcolor": "#E5ECF6",
            "gridcolor": "white",
            "gridwidth": 2,
            "linecolor": "white",
            "showbackground": true,
            "ticks": "",
            "zerolinecolor": "white"
           },
           "zaxis": {
            "backgroundcolor": "#E5ECF6",
            "gridcolor": "white",
            "gridwidth": 2,
            "linecolor": "white",
            "showbackground": true,
            "ticks": "",
            "zerolinecolor": "white"
           }
          },
          "shapedefaults": {
           "line": {
            "color": "#2a3f5f"
           }
          },
          "ternary": {
           "aaxis": {
            "gridcolor": "white",
            "linecolor": "white",
            "ticks": ""
           },
           "baxis": {
            "gridcolor": "white",
            "linecolor": "white",
            "ticks": ""
           },
           "bgcolor": "#E5ECF6",
           "caxis": {
            "gridcolor": "white",
            "linecolor": "white",
            "ticks": ""
           }
          },
          "title": {
           "x": 0.05
          },
          "xaxis": {
           "automargin": true,
           "gridcolor": "white",
           "linecolor": "white",
           "ticks": "",
           "title": {
            "standoff": 15
           },
           "zerolinecolor": "white",
           "zerolinewidth": 2
          },
          "yaxis": {
           "automargin": true,
           "gridcolor": "white",
           "linecolor": "white",
           "ticks": "",
           "title": {
            "standoff": 15
           },
           "zerolinecolor": "white",
           "zerolinewidth": 2
          }
         }
        }
       }
      },
      "image/png": "[encoded data removed]",
      "text/html": [
       "<div>                            <div id=\"ee98c410-3913-4cff-8090-f7fbc0fa460c\" class=\"plotly-graph-div\" style=\"height:525px; width:100%;\"></div>            <script type=\"text/javascript\">                require([\"plotly\"], function(Plotly) {                    window.PLOTLYENV=window.PLOTLYENV || {};                                    if (document.getElementById(\"ee98c410-3913-4cff-8090-f7fbc0fa460c\")) {                    Plotly.newPlot(                        \"ee98c410-3913-4cff-8090-f7fbc0fa460c\",                        [{\"hovertemplate\":\"\\u003cextra\\u003e\\u003c\\u002fextra\\u003e\",\"legendgroup\":\"\",\"marker\":{\"color\":\"#636efa\",\"symbol\":\"circle\"},\"mode\":\"markers\",\"name\":\"\",\"scene\":\"scene\",\"showlegend\":false,\"type\":\"scatter3d\"},{\"x\":[[-10.0,-9.0,-8.0,-7.0,-6.0,-5.0,-4.0,-3.0,-2.0,-1.0,0.0,1.0,2.0,3.0,4.0,5.0,6.0,7.0,8.0,9.0],[-10.0,-9.0,-8.0,-7.0,-6.0,-5.0,-4.0,-3.0,-2.0,-1.0,0.0,1.0,2.0,3.0,4.0,5.0,6.0,7.0,8.0,9.0],[-10.0,-9.0,-8.0,-7.0,-6.0,-5.0,-4.0,-3.0,-2.0,-1.0,0.0,1.0,2.0,3.0,4.0,5.0,6.0,7.0,8.0,9.0],[-10.0,-9.0,-8.0,-7.0,-6.0,-5.0,-4.0,-3.0,-2.0,-1.0,0.0,1.0,2.0,3.0,4.0,5.0,6.0,7.0,8.0,9.0],[-10.0,-9.0,-8.0,-7.0,-6.0,-5.0,-4.0,-3.0,-2.0,-1.0,0.0,1.0,2.0,3.0,4.0,5.0,6.0,7.0,8.0,9.0],[-10.0,-9.0,-8.0,-7.0,-6.0,-5.0,-4.0,-3.0,-2.0,-1.0,0.0,1.0,2.0,3.0,4.0,5.0,6.0,7.0,8.0,9.0],[-10.0,-9.0,-8.0,-7.0,-6.0,-5.0,-4.0,-3.0,-2.0,-1.0,0.0,1.0,2.0,3.0,4.0,5.0,6.0,7.0,8.0,9.0],[-10.0,-9.0,-8.0,-7.0,-6.0,-5.0,-4.0,-3.0,-2.0,-1.0,0.0,1.0,2.0,3.0,4.0,5.0,6.0,7.0,8.0,9.0],[-10.0,-9.0,-8.0,-7.0,-6.0,-5.0,-4.0,-3.0,-2.0,-1.0,0.0,1.0,2.0,3.0,4.0,5.0,6.0,7.0,8.0,9.0],[-10.0,-9.0,-8.0,-7.0,-6.0,-5.0,-4.0,-3.0,-2.0,-1.0,0.0,1.0,2.0,3.0,4.0,5.0,6.0,7.0,8.0,9.0],[-10.0,-9.0,-8.0,-7.0,-6.0,-5.0,-4.0,-3.0,-2.0,-1.0,0.0,1.0,2.0,3.0,4.0,5.0,6.0,7.0,8.0,9.0],[-10.0,-9.0,-8.0,-7.0,-6.0,-5.0,-4.0,-3.0,-2.0,-1.0,0.0,1.0,2.0,3.0,4.0,5.0,6.0,7.0,8.0,9.0],[-10.0,-9.0,-8.0,-7.0,-6.0,-5.0,-4.0,-3.0,-2.0,-1.0,0.0,1.0,2.0,3.0,4.0,5.0,6.0,7.0,8.0,9.0],[-10.0,-9.0,-8.0,-7.0,-6.0,-5.0,-4.0,-3.0,-2.0,-1.0,0.0,1.0,2.0,3.0,4.0,5.0,6.0,7.0,8.0,9.0],[-10.0,-9.0,-8.0,-7.0,-6.0,-5.0,-4.0,-3.0,-2.0,-1.0,0.0,1.0,2.0,3.0,4.0,5.0,6.0,7.0,8.0,9.0],[-10.0,-9.0,-8.0,-7.0,-6.0,-5.0,-4.0,-3.0,-2.0,-1.0,0.0,1.0,2.0,3.0,4.0,5.0,6.0,7.0,8.0,9.0],[-10.0,-9.0,-8.0,-7.0,-6.0,-5.0,-4.0,-3.0,-2.0,-1.0,0.0,1.0,2.0,3.0,4.0,5.0,6.0,7.0,8.0,9.0],[-10.0,-9.0,-8.0,-7.0,-6.0,-5.0,-4.0,-3.0,-2.0,-1.0,0.0,1.0,2.0,3.0,4.0,5.0,6.0,7.0,8.0,9.0],[-10.0,-9.0,-8.0,-7.0,-6.0,-5.0,-4.0,-3.0,-2.0,-1.0,0.0,1.0,2.0,3.0,4.0,5.0,6.0,7.0,8.0,9.0],[-10.0,-9.0,-8.0,-7.0,-6.0,-5.0,-4.0,-3.0,-2.0,-1.0,0.0,1.0,2.0,3.0,4.0,5.0,6.0,7.0,8.0,9.0]],\"y\":[[-10.0,-10.0,-10.0,-10.0,-10.0,-10.0,-10.0,-10.0,-10.0,-10.0,-10.0,-10.0,-10.0,-10.0,-10.0,-10.0,-10.0,-10.0,-10.0,-10.0],[-9.0,-9.0,-9.0,-9.0,-9.0,-9.0,-9.0,-9.0,-9.0,-9.0,-9.0,-9.0,-9.0,-9.0,-9.0,-9.0,-9.0,-9.0,-9.0,-9.0],[-8.0,-8.0,-8.0,-8.0,-8.0,-8.0,-8.0,-8.0,-8.0,-8.0,-8.0,-8.0,-8.0,-8.0,-8.0,-8.0,-8.0,-8.0,-8.0,-8.0],[-7.0,-7.0,-7.0,-7.0,-7.0,-7.0,-7.0,-7.0,-7.0,-7.0,-7.0,-7.0,-7.0,-7.0,-7.0,-7.0,-7.0,-7.0,-7.0,-7.0],[-6.0,-6.0,-6.0,-6.0,-6.0,-6.0,-6.0,-6.0,-6.0,-6.0,-6.0,-6.0,-6.0,-6.0,-6.0,-6.0,-6.0,-6.0,-6.0,-6.0],[-5.0,-5.0,-5.0,-5.0,-5.0,-5.0,-5.0,-5.0,-5.0,-5.0,-5.0,-5.0,-5.0,-5.0,-5.0,-5.0,-5.0,-5.0,-5.0,-5.0],[-4.0,-4.0,-4.0,-4.0,-4.0,-4.0,-4.0,-4.0,-4.0,-4.0,-4.0,-4.0,-4.0,-4.0,-4.0,-4.0,-4.0,-4.0,-4.0,-4.0],[-3.0,-3.0,-3.0,-3.0,-3.0,-3.0,-3.0,-3.0,-3.0,-3.0,-3.0,-3.0,-3.0,-3.0,-3.0,-3.0,-3.0,-3.0,-3.0,-3.0],[-2.0,-2.0,-2.0,-2.0,-2.0,-2.0,-2.0,-2.0,-2.0,-2.0,-2.0,-2.0,-2.0,-2.0,-2.0,-2.0,-2.0,-2.0,-2.0,-2.0],[-1.0,-1.0,-1.0,-1.0,-1.0,-1.0,-1.0,-1.0,-1.0,-1.0,-1.0,-1.0,-1.0,-1.0,-1.0,-1.0,-1.0,-1.0,-1.0,-1.0],[0.0,0.0,0.0,0.0,0.0,0.0,0.0,0.0,0.0,0.0,0.0,0.0,0.0,0.0,0.0,0.0,0.0,0.0,0.0,0.0],[1.0,1.0,1.0,1.0,1.0,1.0,1.0,1.0,1.0,1.0,1.0,1.0,1.0,1.0,1.0,1.0,1.0,1.0,1.0,1.0],[2.0,2.0,2.0,2.0,2.0,2.0,2.0,2.0,2.0,2.0,2.0,2.0,2.0,2.0,2.0,2.0,2.0,2.0,2.0,2.0],[3.0,3.0,3.0,3.0,3.0,3.0,3.0,3.0,3.0,3.0,3.0,3.0,3.0,3.0,3.0,3.0,3.0,3.0,3.0,3.0],[4.0,4.0,4.0,4.0,4.0,4.0,4.0,4.0,4.0,4.0,4.0,4.0,4.0,4.0,4.0,4.0,4.0,4.0,4.0,4.0],[5.0,5.0,5.0,5.0,5.0,5.0,5.0,5.0,5.0,5.0,5.0,5.0,5.0,5.0,5.0,5.0,5.0,5.0,5.0,5.0],[6.0,6.0,6.0,6.0,6.0,6.0,6.0,6.0,6.0,6.0,6.0,6.0,6.0,6.0,6.0,6.0,6.0,6.0,6.0,6.0],[7.0,7.0,7.0,7.0,7.0,7.0,7.0,7.0,7.0,7.0,7.0,7.0,7.0,7.0,7.0,7.0,7.0,7.0,7.0,7.0],[8.0,8.0,8.0,8.0,8.0,8.0,8.0,8.0,8.0,8.0,8.0,8.0,8.0,8.0,8.0,8.0,8.0,8.0,8.0,8.0],[9.0,9.0,9.0,9.0,9.0,9.0,9.0,9.0,9.0,9.0,9.0,9.0,9.0,9.0,9.0,9.0,9.0,9.0,9.0,9.0]],\"z\":[[200.0,181.0,164.0,149.0,136.0,125.0,116.0,109.0,104.0,101.0,100.0,101.0,104.0,109.0,116.0,125.0,136.0,149.0,164.0,181.0],[181.0,162.0,145.0,130.0,117.0,106.0,97.0,90.0,85.0,82.0,81.0,82.0,85.0,90.0,97.0,106.0,117.0,130.0,145.0,162.0],[164.0,145.0,128.0,113.0,100.0,89.0,80.0,73.0,68.0,65.0,64.0,65.0,68.0,73.0,80.0,89.0,100.0,113.0,128.0,145.0],[149.0,130.0,113.0,98.0,85.0,74.0,65.0,58.0,53.0,50.0,49.0,50.0,53.0,58.0,65.0,74.0,85.0,98.0,113.0,130.0],[136.0,117.0,100.0,85.0,72.0,61.0,52.0,45.0,40.0,37.0,36.0,37.0,40.0,45.0,52.0,61.0,72.0,85.0,100.0,117.0],[125.0,106.0,89.0,74.0,61.0,50.0,41.0,34.0,29.0,26.0,25.0,26.0,29.0,34.0,41.0,50.0,61.0,74.0,89.0,106.0],[116.0,97.0,80.0,65.0,52.0,41.0,32.0,25.0,20.0,17.0,16.0,17.0,20.0,25.0,32.0,41.0,52.0,65.0,80.0,97.0],[109.0,90.0,73.0,58.0,45.0,34.0,25.0,18.0,13.0,10.0,9.0,10.0,13.0,18.0,25.0,34.0,45.0,58.0,73.0,90.0],[104.0,85.0,68.0,53.0,40.0,29.0,20.0,13.0,8.0,5.0,4.0,5.0,8.0,13.0,20.0,29.0,40.0,53.0,68.0,85.0],[101.0,82.0,65.0,50.0,37.0,26.0,17.0,10.0,5.0,2.0,1.0,2.0,5.0,10.0,17.0,26.0,37.0,50.0,65.0,82.0],[100.0,81.0,64.0,49.0,36.0,25.0,16.0,9.0,4.0,1.0,0.0,1.0,4.0,9.0,16.0,25.0,36.0,49.0,64.0,81.0],[101.0,82.0,65.0,50.0,37.0,26.0,17.0,10.0,5.0,2.0,1.0,2.0,5.0,10.0,17.0,26.0,37.0,50.0,65.0,82.0],[104.0,85.0,68.0,53.0,40.0,29.0,20.0,13.0,8.0,5.0,4.0,5.0,8.0,13.0,20.0,29.0,40.0,53.0,68.0,85.0],[109.0,90.0,73.0,58.0,45.0,34.0,25.0,18.0,13.0,10.0,9.0,10.0,13.0,18.0,25.0,34.0,45.0,58.0,73.0,90.0],[116.0,97.0,80.0,65.0,52.0,41.0,32.0,25.0,20.0,17.0,16.0,17.0,20.0,25.0,32.0,41.0,52.0,65.0,80.0,97.0],[125.0,106.0,89.0,74.0,61.0,50.0,41.0,34.0,29.0,26.0,25.0,26.0,29.0,34.0,41.0,50.0,61.0,74.0,89.0,106.0],[136.0,117.0,100.0,85.0,72.0,61.0,52.0,45.0,40.0,37.0,36.0,37.0,40.0,45.0,52.0,61.0,72.0,85.0,100.0,117.0],[149.0,130.0,113.0,98.0,85.0,74.0,65.0,58.0,53.0,50.0,49.0,50.0,53.0,58.0,65.0,74.0,85.0,98.0,113.0,130.0],[164.0,145.0,128.0,113.0,100.0,89.0,80.0,73.0,68.0,65.0,64.0,65.0,68.0,73.0,80.0,89.0,100.0,113.0,128.0,145.0],[181.0,162.0,145.0,130.0,117.0,106.0,97.0,90.0,85.0,82.0,81.0,82.0,85.0,90.0,97.0,106.0,117.0,130.0,145.0,162.0]],\"type\":\"surface\"}],                        {\"template\":{\"data\":{\"histogram2dcontour\":[{\"type\":\"histogram2dcontour\",\"colorbar\":{\"outlinewidth\":0,\"ticks\":\"\"},\"colorscale\":[[0.0,\"#0d0887\"],[0.1111111111111111,\"#46039f\"],[0.2222222222222222,\"#7201a8\"],[0.3333333333333333,\"#9c179e\"],[0.4444444444444444,\"#bd3786\"],[0.5555555555555556,\"#d8576b\"],[0.6666666666666666,\"#ed7953\"],[0.7777777777777778,\"#fb9f3a\"],[0.8888888888888888,\"#fdca26\"],[1.0,\"#f0f921\"]]}],\"choropleth\":[{\"type\":\"choropleth\",\"colorbar\":{\"outlinewidth\":0,\"ticks\":\"\"}}],\"histogram2d\":[{\"type\":\"histogram2d\",\"colorbar\":{\"outlinewidth\":0,\"ticks\":\"\"},\"colorscale\":[[0.0,\"#0d0887\"],[0.1111111111111111,\"#46039f\"],[0.2222222222222222,\"#7201a8\"],[0.3333333333333333,\"#9c179e\"],[0.4444444444444444,\"#bd3786\"],[0.5555555555555556,\"#d8576b\"],[0.6666666666666666,\"#ed7953\"],[0.7777777777777778,\"#fb9f3a\"],[0.8888888888888888,\"#fdca26\"],[1.0,\"#f0f921\"]]}],\"heatmap\":[{\"type\":\"heatmap\",\"colorbar\":{\"outlinewidth\":0,\"ticks\":\"\"},\"colorscale\":[[0.0,\"#0d0887\"],[0.1111111111111111,\"#46039f\"],[0.2222222222222222,\"#7201a8\"],[0.3333333333333333,\"#9c179e\"],[0.4444444444444444,\"#bd3786\"],[0.5555555555555556,\"#d8576b\"],[0.6666666666666666,\"#ed7953\"],[0.7777777777777778,\"#fb9f3a\"],[0.8888888888888888,\"#fdca26\"],[1.0,\"#f0f921\"]]}],\"heatmapgl\":[{\"type\":\"heatmapgl\",\"colorbar\":{\"outlinewidth\":0,\"ticks\":\"\"},\"colorscale\":[[0.0,\"#0d0887\"],[0.1111111111111111,\"#46039f\"],[0.2222222222222222,\"#7201a8\"],[0.3333333333333333,\"#9c179e\"],[0.4444444444444444,\"#bd3786\"],[0.5555555555555556,\"#d8576b\"],[0.6666666666666666,\"#ed7953\"],[0.7777777777777778,\"#fb9f3a\"],[0.8888888888888888,\"#fdca26\"],[1.0,\"#f0f921\"]]}],\"contourcarpet\":[{\"type\":\"contourcarpet\",\"colorbar\":{\"outlinewidth\":0,\"ticks\":\"\"}}],\"contour\":[{\"type\":\"contour\",\"colorbar\":{\"outlinewidth\":0,\"ticks\":\"\"},\"colorscale\":[[0.0,\"#0d0887\"],[0.1111111111111111,\"#46039f\"],[0.2222222222222222,\"#7201a8\"],[0.3333333333333333,\"#9c179e\"],[0.4444444444444444,\"#bd3786\"],[0.5555555555555556,\"#d8576b\"],[0.6666666666666666,\"#ed7953\"],[0.7777777777777778,\"#fb9f3a\"],[0.8888888888888888,\"#fdca26\"],[1.0,\"#f0f921\"]]}],\"surface\":[{\"type\":\"surface\",\"colorbar\":{\"outlinewidth\":0,\"ticks\":\"\"},\"colorscale\":[[0.0,\"#0d0887\"],[0.1111111111111111,\"#46039f\"],[0.2222222222222222,\"#7201a8\"],[0.3333333333333333,\"#9c179e\"],[0.4444444444444444,\"#bd3786\"],[0.5555555555555556,\"#d8576b\"],[0.6666666666666666,\"#ed7953\"],[0.7777777777777778,\"#fb9f3a\"],[0.8888888888888888,\"#fdca26\"],[1.0,\"#f0f921\"]]}],\"mesh3d\":[{\"type\":\"mesh3d\",\"colorbar\":{\"outlinewidth\":0,\"ticks\":\"\"}}],\"scatter\":[{\"fillpattern\":{\"fillmode\":\"overlay\",\"size\":10,\"solidity\":0.2},\"type\":\"scatter\"}],\"parcoords\":[{\"type\":\"parcoords\",\"line\":{\"colorbar\":{\"outlinewidth\":0,\"ticks\":\"\"}}}],\"scatterpolargl\":[{\"type\":\"scatterpolargl\",\"marker\":{\"colorbar\":{\"outlinewidth\":0,\"ticks\":\"\"}}}],\"bar\":[{\"error_x\":{\"color\":\"#2a3f5f\"},\"error_y\":{\"color\":\"#2a3f5f\"},\"marker\":{\"line\":{\"color\":\"#E5ECF6\",\"width\":0.5},\"pattern\":{\"fillmode\":\"overlay\",\"size\":10,\"solidity\":0.2}},\"type\":\"bar\"}],\"scattergeo\":[{\"type\":\"scattergeo\",\"marker\":{\"colorbar\":{\"outlinewidth\":0,\"ticks\":\"\"}}}],\"scatterpolar\":[{\"type\":\"scatterpolar\",\"marker\":{\"colorbar\":{\"outlinewidth\":0,\"ticks\":\"\"}}}],\"histogram\":[{\"marker\":{\"pattern\":{\"fillmode\":\"overlay\",\"size\":10,\"solidity\":0.2}},\"type\":\"histogram\"}],\"scattergl\":[{\"type\":\"scattergl\",\"marker\":{\"colorbar\":{\"outlinewidth\":0,\"ticks\":\"\"}}}],\"scatter3d\":[{\"type\":\"scatter3d\",\"line\":{\"colorbar\":{\"outlinewidth\":0,\"ticks\":\"\"}},\"marker\":{\"colorbar\":{\"outlinewidth\":0,\"ticks\":\"\"}}}],\"scattermapbox\":[{\"type\":\"scattermapbox\",\"marker\":{\"colorbar\":{\"outlinewidth\":0,\"ticks\":\"\"}}}],\"scatterternary\":[{\"type\":\"scatterternary\",\"marker\":{\"colorbar\":{\"outlinewidth\":0,\"ticks\":\"\"}}}],\"scattercarpet\":[{\"type\":\"scattercarpet\",\"marker\":{\"colorbar\":{\"outlinewidth\":0,\"ticks\":\"\"}}}],\"carpet\":[{\"aaxis\":{\"endlinecolor\":\"#2a3f5f\",\"gridcolor\":\"white\",\"linecolor\":\"white\",\"minorgridcolor\":\"white\",\"startlinecolor\":\"#2a3f5f\"},\"baxis\":{\"endlinecolor\":\"#2a3f5f\",\"gridcolor\":\"white\",\"linecolor\":\"white\",\"minorgridcolor\":\"white\",\"startlinecolor\":\"#2a3f5f\"},\"type\":\"carpet\"}],\"table\":[{\"cells\":{\"fill\":{\"color\":\"#EBF0F8\"},\"line\":{\"color\":\"white\"}},\"header\":{\"fill\":{\"color\":\"#C8D4E3\"},\"line\":{\"color\":\"white\"}},\"type\":\"table\"}],\"barpolar\":[{\"marker\":{\"line\":{\"color\":\"#E5ECF6\",\"width\":0.5},\"pattern\":{\"fillmode\":\"overlay\",\"size\":10,\"solidity\":0.2}},\"type\":\"barpolar\"}],\"pie\":[{\"automargin\":true,\"type\":\"pie\"}]},\"layout\":{\"autotypenumbers\":\"strict\",\"colorway\":[\"#636efa\",\"#EF553B\",\"#00cc96\",\"#ab63fa\",\"#FFA15A\",\"#19d3f3\",\"#FF6692\",\"#B6E880\",\"#FF97FF\",\"#FECB52\"],\"font\":{\"color\":\"#2a3f5f\"},\"hovermode\":\"closest\",\"hoverlabel\":{\"align\":\"left\"},\"paper_bgcolor\":\"white\",\"plot_bgcolor\":\"#E5ECF6\",\"polar\":{\"bgcolor\":\"#E5ECF6\",\"angularaxis\":{\"gridcolor\":\"white\",\"linecolor\":\"white\",\"ticks\":\"\"},\"radialaxis\":{\"gridcolor\":\"white\",\"linecolor\":\"white\",\"ticks\":\"\"}},\"ternary\":{\"bgcolor\":\"#E5ECF6\",\"aaxis\":{\"gridcolor\":\"white\",\"linecolor\":\"white\",\"ticks\":\"\"},\"baxis\":{\"gridcolor\":\"white\",\"linecolor\":\"white\",\"ticks\":\"\"},\"caxis\":{\"gridcolor\":\"white\",\"linecolor\":\"white\",\"ticks\":\"\"}},\"coloraxis\":{\"colorbar\":{\"outlinewidth\":0,\"ticks\":\"\"}},\"colorscale\":{\"sequential\":[[0.0,\"#0d0887\"],[0.1111111111111111,\"#46039f\"],[0.2222222222222222,\"#7201a8\"],[0.3333333333333333,\"#9c179e\"],[0.4444444444444444,\"#bd3786\"],[0.5555555555555556,\"#d8576b\"],[0.6666666666666666,\"#ed7953\"],[0.7777777777777778,\"#fb9f3a\"],[0.8888888888888888,\"#fdca26\"],[1.0,\"#f0f921\"]],\"sequentialminus\":[[0.0,\"#0d0887\"],[0.1111111111111111,\"#46039f\"],[0.2222222222222222,\"#7201a8\"],[0.3333333333333333,\"#9c179e\"],[0.4444444444444444,\"#bd3786\"],[0.5555555555555556,\"#d8576b\"],[0.6666666666666666,\"#ed7953\"],[0.7777777777777778,\"#fb9f3a\"],[0.8888888888888888,\"#fdca26\"],[1.0,\"#f0f921\"]],\"diverging\":[[0,\"#8e0152\"],[0.1,\"#c51b7d\"],[0.2,\"#de77ae\"],[0.3,\"#f1b6da\"],[0.4,\"#fde0ef\"],[0.5,\"#f7f7f7\"],[0.6,\"#e6f5d0\"],[0.7,\"#b8e186\"],[0.8,\"#7fbc41\"],[0.9,\"#4d9221\"],[1,\"#276419\"]]},\"xaxis\":{\"gridcolor\":\"white\",\"linecolor\":\"white\",\"ticks\":\"\",\"title\":{\"standoff\":15},\"zerolinecolor\":\"white\",\"automargin\":true,\"zerolinewidth\":2},\"yaxis\":{\"gridcolor\":\"white\",\"linecolor\":\"white\",\"ticks\":\"\",\"title\":{\"standoff\":15},\"zerolinecolor\":\"white\",\"automargin\":true,\"zerolinewidth\":2},\"scene\":{\"xaxis\":{\"backgroundcolor\":\"#E5ECF6\",\"gridcolor\":\"white\",\"linecolor\":\"white\",\"showbackground\":true,\"ticks\":\"\",\"zerolinecolor\":\"white\",\"gridwidth\":2},\"yaxis\":{\"backgroundcolor\":\"#E5ECF6\",\"gridcolor\":\"white\",\"linecolor\":\"white\",\"showbackground\":true,\"ticks\":\"\",\"zerolinecolor\":\"white\",\"gridwidth\":2},\"zaxis\":{\"backgroundcolor\":\"#E5ECF6\",\"gridcolor\":\"white\",\"linecolor\":\"white\",\"showbackground\":true,\"ticks\":\"\",\"zerolinecolor\":\"white\",\"gridwidth\":2}},\"shapedefaults\":{\"line\":{\"color\":\"#2a3f5f\"}},\"annotationdefaults\":{\"arrowcolor\":\"#2a3f5f\",\"arrowhead\":0,\"arrowwidth\":1},\"geo\":{\"bgcolor\":\"white\",\"landcolor\":\"#E5ECF6\",\"subunitcolor\":\"white\",\"showland\":true,\"showlakes\":true,\"lakecolor\":\"white\"},\"title\":{\"x\":0.05},\"mapbox\":{\"style\":\"light\"}}},\"scene\":{\"domain\":{\"x\":[0.0,1.0],\"y\":[0.0,1.0]}},\"legend\":{\"tracegroupgap\":0},\"margin\":{\"t\":60}},                        {\"responsive\": true}                    ).then(function(){\n",
       "                            \n",
       "var gd = document.getElementById('ee98c410-3913-4cff-8090-f7fbc0fa460c');\n",
       "var x = new MutationObserver(function (mutations, observer) {{\n",
       "        var display = window.getComputedStyle(gd).display;\n",
       "        if (!display || display === 'none') {{\n",
       "            console.log([gd, 'removed!']);\n",
       "            Plotly.purge(gd);\n",
       "            observer.disconnect();\n",
       "        }}\n",
       "}});\n",
       "\n",
       "// Listen for the removal of the full notebook cells\n",
       "var notebookContainer = gd.closest('#notebook-container');\n",
       "if (notebookContainer) {{\n",
       "    x.observe(notebookContainer, {childList: true});\n",
       "}}\n",
       "\n",
       "// Listen for the clearing of the current output cell\n",
       "var outputEl = gd.closest('.output');\n",
       "if (outputEl) {{\n",
       "    x.observe(outputEl, {childList: true});\n",
       "}}\n",
       "\n",
       "                        })                };                });            </script>        </div>"
      ]
     },
     "metadata": {},
     "output_type": "display_data"
    }
   ],
   "source": [
    "def func(x,y):\n",
    "    return x**2+y**2 \n",
    "zz=func(xx,yy)\n",
    "fig=px.scatter_3d() \n",
    "fig.add_trace(go.Surface(x=xx,y=yy,z=zz))\n",
    "fig.show()"
   ]
  },
  {
   "cell_type": "code",
   "execution_count": 90,
   "id": "6b37af0b-ef05-4c70-aa52-ff6fdf243cae",
   "metadata": {},
   "outputs": [
    {
     "data": {
      "text/plain": [
       "array([20, 60, 12])"
      ]
     },
     "execution_count": 90,
     "metadata": {},
     "output_type": "execute_result"
    }
   ],
   "source": [
    "np.random.random((3,4))\n",
    "np.random.seed(0)\n",
    "np.random.randint(1,100,20).reshape(2,10)\n",
    "arr=np.array([12,60,30,20])\n",
    "np.random.shuffle(arr)\n",
    "np.random.choice(arr,3,replace=False)"
   ]
  },
  {
   "cell_type": "code",
   "execution_count": 96,
   "id": "906e7c92-8bd1-423f-83f3-c19590ad2547",
   "metadata": {},
   "outputs": [
    {
     "name": "stdout",
     "output_type": "stream",
     "text": [
      "Collecting opencv-python\n",
      "  Downloading opencv_python-4.11.0.86-cp37-abi3-win_amd64.whl.metadata (20 kB)\n",
      "Requirement already satisfied: numpy>=1.21.2 in c:\\users\\shreya sharma\\anaconda3\\lib\\site-packages (from opencv-python) (1.26.4)\n",
      "Downloading opencv_python-4.11.0.86-cp37-abi3-win_amd64.whl (39.5 MB)\n",
      "   ---------------------------------------- 0.0/39.5 MB ? eta -:--:--\n",
      "   ---------------------------------------- 0.3/39.5 MB ? eta -:--:--\n",
      "   - -------------------------------------- 1.0/39.5 MB 3.9 MB/s eta 0:00:10\n",
      "   - -------------------------------------- 1.3/39.5 MB 2.6 MB/s eta 0:00:15\n",
      "   -- ------------------------------------- 2.1/39.5 MB 2.6 MB/s eta 0:00:15\n",
      "   -- ------------------------------------- 2.6/39.5 MB 2.7 MB/s eta 0:00:14\n",
      "   --- ------------------------------------ 3.4/39.5 MB 2.8 MB/s eta 0:00:13\n",
      "   ---- ----------------------------------- 4.5/39.5 MB 3.1 MB/s eta 0:00:12\n",
      "   ----- ---------------------------------- 5.5/39.5 MB 3.4 MB/s eta 0:00:11\n",
      "   ------ --------------------------------- 6.8/39.5 MB 3.7 MB/s eta 0:00:09\n",
      "   ------- -------------------------------- 7.9/39.5 MB 3.9 MB/s eta 0:00:09\n",
      "   --------- ------------------------------ 9.2/39.5 MB 4.0 MB/s eta 0:00:08\n",
      "   ---------- ----------------------------- 10.5/39.5 MB 4.2 MB/s eta 0:00:07\n",
      "   ----------- ---------------------------- 11.8/39.5 MB 4.3 MB/s eta 0:00:07\n",
      "   ------------- -------------------------- 13.1/39.5 MB 4.5 MB/s eta 0:00:06\n",
      "   -------------- ------------------------- 14.4/39.5 MB 4.6 MB/s eta 0:00:06\n",
      "   --------------- ------------------------ 15.7/39.5 MB 4.7 MB/s eta 0:00:06\n",
      "   ----------------- ---------------------- 17.0/39.5 MB 4.8 MB/s eta 0:00:05\n",
      "   ------------------ --------------------- 18.1/39.5 MB 4.8 MB/s eta 0:00:05\n",
      "   ------------------- -------------------- 19.1/39.5 MB 4.8 MB/s eta 0:00:05\n",
      "   -------------------- ------------------- 20.7/39.5 MB 4.9 MB/s eta 0:00:04\n",
      "   ---------------------- ----------------- 22.0/39.5 MB 5.0 MB/s eta 0:00:04\n",
      "   ----------------------- ---------------- 23.3/39.5 MB 5.0 MB/s eta 0:00:04\n",
      "   ------------------------- -------------- 24.9/39.5 MB 5.1 MB/s eta 0:00:03\n",
      "   -------------------------- ------------- 26.2/39.5 MB 5.2 MB/s eta 0:00:03\n",
      "   ---------------------------- ----------- 27.8/39.5 MB 5.2 MB/s eta 0:00:03\n",
      "   ----------------------------- ---------- 29.1/39.5 MB 5.3 MB/s eta 0:00:02\n",
      "   ------------------------------- -------- 30.7/39.5 MB 5.3 MB/s eta 0:00:02\n",
      "   -------------------------------- ------- 32.0/39.5 MB 5.4 MB/s eta 0:00:02\n",
      "   --------------------------------- ------ 33.3/39.5 MB 5.4 MB/s eta 0:00:02\n",
      "   ----------------------------------- ---- 34.9/39.5 MB 5.5 MB/s eta 0:00:01\n",
      "   ------------------------------------ --- 36.2/39.5 MB 5.5 MB/s eta 0:00:01\n",
      "   -------------------------------------- - 37.7/39.5 MB 5.5 MB/s eta 0:00:01\n",
      "   ---------------------------------------  39.1/39.5 MB 5.6 MB/s eta 0:00:01\n",
      "   ---------------------------------------  39.3/39.5 MB 5.6 MB/s eta 0:00:01\n",
      "   ---------------------------------------- 39.5/39.5 MB 5.4 MB/s eta 0:00:00\n",
      "Installing collected packages: opencv-python\n",
      "Successfully installed opencv-python-4.11.0.86\n"
     ]
    }
   ],
   "source": [
    "!pip install opencv-python"
   ]
  },
  {
   "cell_type": "code",
   "execution_count": 148,
   "id": "7a2b52bf-1996-43a1-98ca-a7870047c190",
   "metadata": {},
   "outputs": [
    {
     "data": {
      "text/plain": [
       "0"
      ]
     },
     "execution_count": 148,
     "metadata": {},
     "output_type": "execute_result"
    },
    {
     "data": {
      "image/png": "[encoded data removed]",
      "text/plain": [
       "<Figure size 640x480 with 1 Axes>"
      ]
     },
     "metadata": {},
     "output_type": "display_data"
    }
   ],
   "source": [
    "import cv2\n",
    "img=cv2.imread(\"Lotus flower.jpg\")\n",
    "plt.imshow(np.flip(img,axis=1))\n",
    "plt.imshow(np.clip(img,0,100))\n",
    "plt.imshow(img[100:800,100:800,:])\n",
    "plt.hist(img.flatten(),bins=255)\n",
    "plt.imshow(255-img)\n",
    "img.min()"
   ]
  },
  {
   "cell_type": "code",
   "execution_count": 146,
   "id": "125e5150-f713-413b-9e9e-a989ce2d0ade",
   "metadata": {},
   "outputs": [
    {
     "data": {
      "text/plain": [
       "array([['Shreya', '100', '9', 'yes'],\n",
       "       ['Madhu', '150', '9.2', 'yes'],\n",
       "       ['Nitin', '100', '8', 'No'],\n",
       "       ['Soumya', '100', '8', 'No']], dtype='<U32')"
      ]
     },
     "execution_count": 146,
     "metadata": {},
     "output_type": "execute_result"
    }
   ],
   "source": [
    "dt=np.dtype([(\"name\",\"U20\"),(\"iq\",np.int32),(\"cgpa\",np.float64),(\"placed\",\"U20\")])\n",
    "student=np.array([(\"Shreya\",100,9,\"yes\"),(\"Madhu\",150,9.2,\"yes\"),(\"Nitin\",100,8,\"No\"),(\"Soumya\",100,8,\"No\")])\n",
    "student[0][0]\n",
    "np.save(\"students.npy\",student)\n",
    "np.load(\"students.npy\")"
   ]
  },
  {
   "cell_type": "code",
   "execution_count": null,
   "id": "a1f1bbf6-a225-422f-bee4-fd2095d7a8fc",
   "metadata": {},
   "outputs": [],
   "source": []
  }
 ],
 "metadata": {
  "kernelspec": {
   "display_name": "Python 3 (ipykernel)",
   "language": "python",
   "name": "python3"
  },
  "language_info": {
   "codemirror_mode": {
    "name": "ipython",
    "version": 3
   },
   "file_extension": ".py",
   "mimetype": "text/x-python",
   "name": "python",
   "nbconvert_exporter": "python",
   "pygments_lexer": "ipython3",
   "version": "3.12.7"
  }
 },
 "nbformat": 4,
 "nbformat_minor": 5
}
