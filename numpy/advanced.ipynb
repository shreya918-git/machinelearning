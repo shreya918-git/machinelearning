{
 "cells": [
  {
   "cell_type": "code",
   "execution_count": 11,
   "id": "8c5a5827-88cd-4782-a740-93b2dca2dac7",
   "metadata": {},
   "outputs": [
    {
     "name": "stdout",
     "output_type": "stream",
     "text": [
      "0.35784411430358887\n",
      "0.021961212158203125\n",
      "8448728\n",
      "1000112\n"
     ]
    }
   ],
   "source": [
    "import numpy as np\n",
    "import time\n",
    "import sys\n",
    "import matplotlib.pyplot as plt\n",
    "list1=[i for i in range(1000000)]\n",
    "list2=[i for i in range(1000000,2000000)]\n",
    "c=[]\n",
    "start=time.time()\n",
    "for i in range(len(list1)):\n",
    "    c.append(list1[i]+list2[i])\n",
    "print(time.time()-start)\n",
    "arr=np.arange(1000000,dtype=np.int8)\n",
    "arr2=np.arange(1000000,2000000)\n",
    "start2=time.time()\n",
    "c=arr+arr2\n",
    "print(time.time()-start2)\n",
    "print(sys.getsizeof(list1))\n",
    "print(sys.getsizeof(arr))"
   ]
  },
  {
   "cell_type": "code",
   "execution_count": 12,
   "id": "b30a45b3-dc4b-403b-8fcb-d964b109bd43",
   "metadata": {},
   "outputs": [
    {
     "name": "stdout",
     "output_type": "stream",
     "text": [
      "[66 91 99 71 66 96 87 99 85 60]\n",
      "[[False False  True  True]\n",
      " [ True  True  True False]\n",
      " [ True False False False]\n",
      " [ True  True False False]\n",
      " [ True False False  True]\n",
      " [False False False False]]\n",
      "[66 66 96 60]\n"
     ]
    },
    {
     "data": {
      "text/plain": [
       "array([1., 2., 3., 4., 6.])"
      ]
     },
     "execution_count": 12,
     "metadata": {},
     "output_type": "execute_result"
    }
   ],
   "source": [
    "arr=np.arange(20).reshape(5,4)\n",
    "arr[:,[0,1,3]] #advanced indexing\n",
    "arr2=np.random.randint(1,100,24).reshape(6,4) #to generate specified number of random integers within a range \n",
    "print(arr2[arr2>50]) #boolean indexing\n",
    "print(arr2>50) #boolean array\n",
    "print(arr2[(arr2>50) & (arr2%2==0)]) #always use bitwise operators in boolean operations\n",
    "arr3=np.array([1,2,3,4,np.nan,6])\n",
    "arr3[~np.isnan(arr3)]"
   ]
  },
  {
   "cell_type": "code",
   "execution_count": 15,
   "id": "aa339db5-9853-45c8-b7a9-4c666e1b82a5",
   "metadata": {},
   "outputs": [
    {
     "data": {
      "text/plain": [
       "array([[0.08069708, 1.72142918, 2.53004169, 3.12812556, 4.15183967],\n",
       "       [5.28713972, 6.13409032, 7.98622871, 8.40579897, 9.36674426]])"
      ]
     },
     "execution_count": 15,
     "metadata": {},
     "output_type": "execute_result"
    }
   ],
   "source": [
    "arr=np.arange(10).reshape(2,5)\n",
    "arr2=np.random.random(10).reshape(2,5)\n",
    "arr+arr2"
   ]
  },
  {
   "cell_type": "code",
   "execution_count": 17,
   "id": "fb817b12-73cc-4f80-bbe6-fb80433303c7",
   "metadata": {},
   "outputs": [
    {
     "data": {
      "text/plain": [
       "array([[0, 1, 2],\n",
       "       [1, 2, 3],\n",
       "       [2, 3, 4]])"
      ]
     },
     "execution_count": 17,
     "metadata": {},
     "output_type": "execute_result"
    }
   ],
   "source": [
    "arr=np.arange(10)\n",
    "arr2=np.arange(10,20)\n",
    "arr+arr2\n",
    "arr=np.arange(3).reshape(1,3)\n",
    "arr2=np.arange(3).reshape(3,1)\n",
    "arr+arr2"
   ]
  },
  {
   "cell_type": "code",
   "execution_count": 19,
   "id": "305408ba-a087-4c30-be43-ae7fe0cc74f5",
   "metadata": {},
   "outputs": [
    {
     "data": {
      "text/plain": [
       "array([[ 0.        ,  1.55740772, -2.18503986]])"
      ]
     },
     "execution_count": 19,
     "metadata": {},
     "output_type": "execute_result"
    }
   ],
   "source": [
    "np.sin(arr)\n",
    "np.cos(arr)\n",
    "np.tan(arr)"
   ]
  },
  {
   "cell_type": "code",
   "execution_count": 21,
   "id": "cc334fec-2035-4bcf-acda-a33852941d78",
   "metadata": {},
   "outputs": [
    {
     "name": "stdout",
     "output_type": "stream",
     "text": [
      "[[0.5       ]\n",
      " [0.73105858]\n",
      " [0.88079708]]\n"
     ]
    }
   ],
   "source": [
    "def sigmoid(arr):\n",
    "    return 1/(1+np.exp(-(arr)))\n",
    "print(sigmoid(arr2))"
   ]
  },
  {
   "cell_type": "code",
   "execution_count": 23,
   "id": "438d5e38-3aaa-4561-9443-4457aec208fa",
   "metadata": {},
   "outputs": [
    {
     "name": "stdout",
     "output_type": "stream",
     "text": [
      "1.3333333333333333\n"
     ]
    }
   ],
   "source": [
    "def mean_squared_error(arr,arr2):\n",
    "    return np.mean((arr-arr2)**2)\n",
    "print(mean_squared_error(arr,arr2))"
   ]
  },
  {
   "cell_type": "code",
   "execution_count": 25,
   "id": "001873b6-8945-4249-8a01-391180a5b7f0",
   "metadata": {},
   "outputs": [
    {
     "data": {
      "text/plain": [
       "[<matplotlib.lines.Line2D at 0x12e0aa24680>]"
      ]
     },
     "execution_count": 25,
     "metadata": {},
     "output_type": "execute_result"
    },
    {
     "data": {
      "image/png": "[encoded data removed]",
      "text/plain": [
       "<Figure size 640x480 with 1 Axes>"
      ]
     },
     "metadata": {},
     "output_type": "display_data"
    }
   ],
   "source": [
    "x=np.arange(10)\n",
    "y=x\n",
    "plt.plot(x,y)"
   ]
  },
  {
   "cell_type": "code",
   "execution_count": 27,
   "id": "c4038a15-5dc4-49f1-9558-32e3c251320e",
   "metadata": {},
   "outputs": [
    {
     "data": {
      "text/plain": [
       "(array([0, 1, 2, 3, 4], dtype=int64),)"
      ]
     },
     "execution_count": 27,
     "metadata": {},
     "output_type": "execute_result"
    }
   ],
   "source": [
    "arr=np.arange(10)\n",
    "arr2=np.random.randint(1,100,24).reshape(6,4)\n",
    "np.sort(arr2,axis=0)[::-1]\n",
    "arr3=np.arange(3).reshape(3,1)\n",
    "arr4=arr3\n",
    "np.concatenate((arr3,arr4),axis=1)\n",
    "np.expand_dims(arr,axis=0)\n",
    "np.append(arr,3)\n",
    "np.append(arr2,np.ones((arr2.shape[0],1)),axis=1)\n",
    "arr5=np.array([1,1,1,1,2,2,3,3,4,4,5,5,6,6])\n",
    "np.unique(arr5)\n",
    "np.where(arr2>50,0,arr2)\n",
    "np.where(arr<5)"
   ]
  },
  {
   "cell_type": "code",
   "execution_count": 87,
   "id": "92dd3013-e9ee-4ad4-8180-fc01e7c36700",
   "metadata": {},
   "outputs": [
    {
     "name": "stdout",
     "output_type": "stream",
     "text": [
      "12\n",
      "0\n",
      "[  20   50   67  127  143  167  172  226  272  346  407  484  524  577\n",
      "  632  701  770  785  878  949 1029 1095 1176 1196]\n",
      "[         20         600       10200      612000     9792000   235008000\n",
      "  1175040000  -972349440 -1778401280  1542291456  -409501696 -1466859520\n",
      "  1455161344  -185860096 -1632370688  -964427776 -2121007104 -1750335488\n",
      "   427556864   291766272  1866465280 -1367343104   914358272  1107296256]\n",
      "54.5\n",
      "54.5\n",
      "(array([10, 14], dtype=int64), array([  0,  50, 100]))\n",
      "[[ 1.         -0.31622777]\n",
      " [-0.31622777  1.        ]]\n",
      "[False False False False  True  True False False False False False False\n",
      "  True  True]\n",
      "[[20 81 66 80]\n",
      " [71 93 15 69]\n",
      " [69 55 53 40]\n",
      " [77 61 74 46]\n",
      " [54  5 24 16]\n",
      " [60 17 30 20]]\n",
      "[ 0  1  2  3  4  5  6  7  8  9 20 21 22 23 24 25 26 27 28 29]\n",
      "[]\n",
      "[0 1 2 3 4 5 6 7 8 9]\n",
      "[ 0  1  2  3  4  5  6  7  8  9 20 21 22 23 24 25 26 27 28 29]\n",
      "[6]\n",
      "[2 2 2 3 4 5 6 6 6 6]\n"
     ]
    }
   ],
   "source": [
    "print(np.argmax(arr5))\n",
    "print(np.argmin(arr5))\n",
    "print(np.cumsum(arr2))\n",
    "print(np.cumprod(arr2))\n",
    "print(np.percentile(arr2,50))\n",
    "print(np.median(arr2))\n",
    "print(np.histogram(arr2,bins=[0,50,100]))\n",
    "salary=np.array([50000,60000,70000,80000])\n",
    "experience=np.array([5,5,6,4])\n",
    "print(np.corrcoef(salary,experience))\n",
    "print(np.isin(arr5,[2,6]))\n",
    "print(np.flip(arr2))\n",
    "np.put(arr2,[0,1],[20,30])\n",
    "arr2\n",
    "np.delete(salary,[0,1])\n",
    "arr6=np.arange(10)\n",
    "arr7=np.arange(20,30)\n",
    "print(np.union1d(arr6,arr7))\n",
    "print(np.intersect1d(arr6,arr7))\n",
    "print(np.setdiff1d(arr6,arr7))\n",
    "print(np.setxor1d(arr6,arr7))\n",
    "print(arr6[np.in1d(arr6,6)])\n",
    "print(np.clip(arr6,a_min=2,a_max=6))"
   ]
  },
  {
   "cell_type": "code",
   "execution_count": null,
   "id": "ab7bf2b9-7730-40d4-bc64-69ffebd737fe",
   "metadata": {},
   "outputs": [],
   "source": []
  },
  {
   "cell_type": "code",
   "execution_count": null,
   "id": "8c3cd572-9390-41b6-a110-78df1a0be621",
   "metadata": {},
   "outputs": [],
   "source": []
  },
  {
   "cell_type": "code",
   "execution_count": null,
   "id": "678d47a4-39b7-4cd3-a5ca-248a7baf129c",
   "metadata": {},
   "outputs": [],
   "source": []
  },
  {
   "cell_type": "code",
   "execution_count": null,
   "id": "b3d086d7-e37d-41f8-844d-54b68602a868",
   "metadata": {},
   "outputs": [],
   "source": []
  },
  {
   "cell_type": "code",
   "execution_count": null,
   "id": "801a68f9-b96e-403c-855e-322e45ac500c",
   "metadata": {},
   "outputs": [],
   "source": []
  },
  {
   "cell_type": "code",
   "execution_count": null,
   "id": "db62cef4-50ce-4868-ac2f-3dfa37db9285",
   "metadata": {},
   "outputs": [],
   "source": []
  }
 ],
 "metadata": {
  "kernelspec": {
   "display_name": "Python 3 (ipykernel)",
   "language": "python",
   "name": "python3"
  },
  "language_info": {
   "codemirror_mode": {
    "name": "ipython",
    "version": 3
   },
   "file_extension": ".py",
   "mimetype": "text/x-python",
   "name": "python",
   "nbconvert_exporter": "python",
   "pygments_lexer": "ipython3",
   "version": "3.12.7"
  }
 },
 "nbformat": 4,
 "nbformat_minor": 5
}
