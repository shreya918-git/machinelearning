{
 "cells": [
  {
   "cell_type": "code",
   "execution_count": 2,
   "id": "ba0fbb7b-70c8-4b25-8763-0bd9ba5f0358",
   "metadata": {},
   "outputs": [
    {
     "name": "stdout",
     "output_type": "stream",
     "text": [
      "hello world\n"
     ]
    }
   ],
   "source": [
    "#ques1 \n",
    "print(\"hello world\")"
   ]
  },
  {
   "cell_type": "code",
   "execution_count": 6,
   "id": "7a7f56e0-7bd2-45ea-a6df-b7e27c1fc8b2",
   "metadata": {},
   "outputs": [
    {
     "name": "stdout",
     "output_type": "stream",
     "text": [
      "1\n",
      "2.5\n",
      "shreya\n"
     ]
    }
   ],
   "source": [
    "#part b \n",
    "a=1\n",
    "print(a)\n",
    "b=2.5\n",
    "print(b)\n",
    "c=\"shreya\"\n",
    "print(c)"
   ]
  },
  {
   "cell_type": "code",
   "execution_count": 8,
   "id": "f7f6a988-6262-44bb-83fa-9b7ed464ec84",
   "metadata": {},
   "outputs": [
    {
     "name": "stdout",
     "output_type": "stream",
     "text": [
      "3\n"
     ]
    }
   ],
   "source": [
    "#part c \n",
    "x=2\n",
    "y=3\n",
    "x=y\n",
    "y=x\n",
    "print(x)"
   ]
  },
  {
   "cell_type": "code",
   "execution_count": 42,
   "id": "9bec1f25-59e9-4375-91f2-78f860297b3b",
   "metadata": {},
   "outputs": [
    {
     "name": "stdin",
     "output_type": "stream",
     "text": [
      "Enter a value shreya \n"
     ]
    },
    {
     "name": "stdout",
     "output_type": "stream",
     "text": [
      "<class 'str'>\n"
     ]
    }
   ],
   "source": [
    "#ques2 \n",
    "a=int(input(\"Enter a value\"))\n",
    "print(type(a))\n",
    "b=float(input(\"Enter a value\"))\n",
    "print(type(b))\n",
    "c=input(\"Enter a value\")\n",
    "print(type(c))"
   ]
  },
  {
   "cell_type": "code",
   "execution_count": 68,
   "id": "714cda74-dbcf-4717-8e14-46b09ce1941e",
   "metadata": {},
   "outputs": [
    {
     "name": "stdin",
     "output_type": "stream",
     "text": [
      "Enter value 7\n"
     ]
    },
    {
     "name": "stdout",
     "output_type": "stream",
     "text": [
      "<class 'int'>\n"
     ]
    },
    {
     "name": "stdin",
     "output_type": "stream",
     "text": [
      "Enter value 5\n"
     ]
    },
    {
     "data": {
      "text/plain": [
       "12"
      ]
     },
     "execution_count": 68,
     "metadata": {},
     "output_type": "execute_result"
    }
   ],
   "source": [
    "#part b\n",
    "a=int(input(\"Enter value\"))\n",
    "print(type(a))\n",
    "b=int(input(\"Enter value\"))\n",
    "type(b)\n",
    "a+b"
   ]
  },
  {
   "cell_type": "code",
   "execution_count": 36,
   "id": "64181ab1-97de-4a8c-a49e-c9fdf3cce1c1",
   "metadata": {},
   "outputs": [
    {
     "name": "stdout",
     "output_type": "stream",
     "text": [
      "<class 'int'>\n",
      "2\n"
     ]
    }
   ],
   "source": [
    "#part c \n",
    "x=\"10\"\n",
    "y=int(x)\n",
    "print(type(y))\n",
    "a=True\n",
    "b=1\n",
    "print(a+b)"
   ]
  },
  {
   "cell_type": "code",
   "execution_count": 2,
   "id": "cc8aac47-e707-4b31-90d8-8b2189cd10de",
   "metadata": {},
   "outputs": [
    {
     "name": "stdin",
     "output_type": "stream",
     "text": [
      "Enter a number 2\n"
     ]
    },
    {
     "name": "stdout",
     "output_type": "stream",
     "text": [
      "its a positive number\n"
     ]
    }
   ],
   "source": [
    "#ques3\n",
    "a=int(input(\"Enter a number\"))\n",
    "if(a>0):\n",
    "    print(\"its a positive number\")\n",
    "elif(a==0):\n",
    "    print(\"the number is zero\")\n",
    "else:\n",
    "    print(\"its a negative number\")\n"
   ]
  },
  {
   "cell_type": "code",
   "execution_count": null,
   "id": "4072f715-e550-4882-a416-c1ba41bc57b2",
   "metadata": {},
   "outputs": [],
   "source": []
  }
 ],
 "metadata": {
  "kernelspec": {
   "display_name": "Python 3 (ipykernel)",
   "language": "python",
   "name": "python3"
  },
  "language_info": {
   "codemirror_mode": {
    "name": "ipython",
    "version": 3
   },
   "file_extension": ".py",
   "mimetype": "text/x-python",
   "name": "python",
   "nbconvert_exporter": "python",
   "pygments_lexer": "ipython3",
   "version": "3.12.7"
  }
 },
 "nbformat": 4,
 "nbformat_minor": 5
}
