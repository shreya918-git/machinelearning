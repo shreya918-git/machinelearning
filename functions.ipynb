{
 "cells": [
  {
   "cell_type": "code",
   "execution_count": 10,
   "id": "43bec98d-9810-4da1-9b0c-6de9717c6d99",
   "metadata": {},
   "outputs": [
    {
     "data": {
      "text/html": [
       "<div>\n",
       "<style scoped>\n",
       "    .dataframe tbody tr th:only-of-type {\n",
       "        vertical-align: middle;\n",
       "    }\n",
       "\n",
       "    .dataframe tbody tr th {\n",
       "        vertical-align: top;\n",
       "    }\n",
       "\n",
       "    .dataframe thead th {\n",
       "        text-align: right;\n",
       "    }\n",
       "</style>\n",
       "<table border=\"1\" class=\"dataframe\">\n",
       "  <thead>\n",
       "    <tr style=\"text-align: right;\">\n",
       "      <th></th>\n",
       "      <th>Unnamed: 0</th>\n",
       "      <th>cgpa</th>\n",
       "      <th>iq</th>\n",
       "      <th>placement</th>\n",
       "    </tr>\n",
       "  </thead>\n",
       "  <tbody>\n",
       "    <tr>\n",
       "      <th>Unnamed: 0</th>\n",
       "      <td>1.000000</td>\n",
       "      <td>0.047478</td>\n",
       "      <td>-0.019080</td>\n",
       "      <td>0.144807</td>\n",
       "    </tr>\n",
       "    <tr>\n",
       "      <th>cgpa</th>\n",
       "      <td>0.047478</td>\n",
       "      <td>1.000000</td>\n",
       "      <td>-0.098791</td>\n",
       "      <td>0.821688</td>\n",
       "    </tr>\n",
       "    <tr>\n",
       "      <th>iq</th>\n",
       "      <td>-0.019080</td>\n",
       "      <td>-0.098791</td>\n",
       "      <td>1.000000</td>\n",
       "      <td>-0.083031</td>\n",
       "    </tr>\n",
       "    <tr>\n",
       "      <th>placement</th>\n",
       "      <td>0.144807</td>\n",
       "      <td>0.821688</td>\n",
       "      <td>-0.083031</td>\n",
       "      <td>1.000000</td>\n",
       "    </tr>\n",
       "  </tbody>\n",
       "</table>\n",
       "</div>"
      ],
      "text/plain": [
       "            Unnamed: 0      cgpa        iq  placement\n",
       "Unnamed: 0    1.000000  0.047478 -0.019080   0.144807\n",
       "cgpa          0.047478  1.000000 -0.098791   0.821688\n",
       "iq           -0.019080 -0.098791  1.000000  -0.083031\n",
       "placement     0.144807  0.821688 -0.083031   1.000000"
      ]
     },
     "execution_count": 10,
     "metadata": {},
     "output_type": "execute_result"
    }
   ],
   "source": [
    "import pandas as pd \n",
    "df=pd.read_csv(\"placement-dataset.csv\")\n",
    "df.isnull().sum() #detects missing values for each feature\n",
    "df.describe() #provides mathematical summary for each numerical column\n",
    "df.duplicated().sum()  #tells if there are any duplicate values or not \n",
    "df.corr() #pearson correlation more negative more inversely related,ranges betweeen -1 and 1 \n",
    "df.corr()['Survived'] #to find the correlation of a particular column with other columns \n",
    "df.shape #tells the shape of the dataset,hpw big is the dataset(no. of rows and columns)\n",
    "df[\"Brand\"].nunique() #tells the unique no. of brands "
   ]
  },
  {
   "cell_type": "code",
   "execution_count": null,
   "id": "2ab7d212-0608-488d-9978-451e804b38c8",
   "metadata": {},
   "outputs": [],
   "source": []
  }
 ],
 "metadata": {
  "kernelspec": {
   "display_name": "Python 3 (ipykernel)",
   "language": "python",
   "name": "python3"
  },
  "language_info": {
   "codemirror_mode": {
    "name": "ipython",
    "version": 3
   },
   "file_extension": ".py",
   "mimetype": "text/x-python",
   "name": "python",
   "nbconvert_exporter": "python",
   "pygments_lexer": "ipython3",
   "version": "3.12.7"
  }
 },
 "nbformat": 4,
 "nbformat_minor": 5
}
