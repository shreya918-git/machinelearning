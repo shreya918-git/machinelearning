{
 "cells": [
  {
   "cell_type": "code",
   "execution_count": 4,
   "id": "cc5020d8-38cd-4942-ab84-d36fe0dcdcc3",
   "metadata": {},
   "outputs": [
    {
     "data": {
      "text/plain": [
       "DatetimeIndex(['2025-05-14 02:00:00', '2025-05-15 02:00:00',\n",
       "               '2025-05-16 02:00:00', '2025-05-17 02:00:00',\n",
       "               '2025-05-18 02:00:00', '2025-05-19 02:00:00',\n",
       "               '2025-05-20 02:00:00', '2025-05-21 02:00:00'],\n",
       "              dtype='datetime64[ns]', freq='D')"
      ]
     },
     "execution_count": 4,
     "metadata": {},
     "output_type": "execute_result"
    }
   ],
   "source": [
    "import numpy as np \n",
    "import pandas as pd \n",
    "pd.date_range(start=\"2025/5/12\",end=\"2025/5/19\")+pd.Timedelta(days=2,hours=2)"
   ]
  },
  {
   "cell_type": "code",
   "execution_count": 6,
   "id": "b2734fa2-ae7c-4e83-9b2a-11b887cbca46",
   "metadata": {},
   "outputs": [
    {
     "name": "stderr",
     "output_type": "stream",
     "text": [
      "C:\\Users\\Shreya Sharma\\AppData\\Local\\Temp\\ipykernel_24424\\4221874748.py:2: UserWarning: Could not infer format, so each element will be parsed individually, falling back to `dateutil`. To ensure parsing is consistent and as-expected, please specify a format.\n",
      "  df[\"delivery_date\"]=pd.to_datetime(df[\"delivery_date\"])\n",
      "C:\\Users\\Shreya Sharma\\AppData\\Local\\Temp\\ipykernel_24424\\4221874748.py:3: UserWarning: Could not infer format, so each element will be parsed individually, falling back to `dateutil`. To ensure parsing is consistent and as-expected, please specify a format.\n",
      "  df[\"order_date\"]=pd.to_datetime(df[\"order_date\"])\n"
     ]
    },
    {
     "data": {
      "text/plain": [
       "DatetimeIndex(['2025-05-12', '2026-05-12', '2027-05-12', '2028-05-12',\n",
       "               '2029-05-12', '2030-05-12', '2031-05-12', '2032-05-12',\n",
       "               '2033-05-12', '2034-05-12', '2035-05-12', '2036-05-12',\n",
       "               '2037-05-12', '2038-05-12', '2039-05-12', '2040-05-12',\n",
       "               '2041-05-12', '2042-05-12', '2043-05-12', '2044-05-12',\n",
       "               '2045-05-12', '2046-05-12', '2047-05-12', '2048-05-12',\n",
       "               '2049-05-12'],\n",
       "              dtype='datetime64[ns]', freq='<DateOffset: years=1>')"
      ]
     },
     "execution_count": 6,
     "metadata": {},
     "output_type": "execute_result"
    }
   ],
   "source": [
    "df=pd.read_csv(\"deliveries (2).csv\")\n",
    "df[\"delivery_date\"]=pd.to_datetime(df[\"delivery_date\"])\n",
    "df[\"order_date\"]=pd.to_datetime(df[\"order_date\"])\n",
    "df[\"delivery_date\"]-df[\"order_date\"]\n",
    "pd.DateOffset(years=1) \n",
    "pd.date_range(start=\"2025/5/12\",end=\"2050/1/12\",freq=pd.DateOffset(years=1))"
   ]
  },
  {
   "cell_type": "code",
   "execution_count": 8,
   "id": "34b9d8fb-ec06-4c05-866b-d05b9904bf8f",
   "metadata": {},
   "outputs": [
    {
     "data": {
      "text/plain": [
       "DatetimeIndex(['2004-08-19', '2004-08-20', '2004-08-23', '2004-08-24',\n",
       "               '2004-08-25', '2004-08-26', '2004-08-27', '2004-08-30',\n",
       "               '2004-08-31', '2004-09-01',\n",
       "               ...\n",
       "               '2022-05-09', '2022-05-10', '2022-05-11', '2022-05-12',\n",
       "               '2022-05-13', '2022-05-16', '2022-05-17', '2022-05-18',\n",
       "               '2022-05-19', '2022-05-20'],\n",
       "              dtype='datetime64[ns]', name='Date', length=4632, freq='B')"
      ]
     },
     "execution_count": 8,
     "metadata": {},
     "output_type": "execute_result"
    },
    {
     "data": {
      "image/png": "[encoded data removed]",
      "text/plain": [
       "<Figure size 640x480 with 1 Axes>"
      ]
     },
     "metadata": {},
     "output_type": "display_data"
    }
   ],
   "source": [
    "google=pd.read_csv(\"google.csv\")\n",
    "google[\"Date\"]=pd.to_datetime(google[\"Date\"])\n",
    "google[\"month\"]=google[\"Date\"].dt.month_name()\n",
    "google[\"day\"]=google[\"Date\"].dt.day_name()\n",
    "google[\"quarter\"]=google[\"Date\"].dt.quarter\n",
    "google.set_index(\"Date\",inplace=True)\n",
    "google.loc[\"2021-01\"][\"Close\"].plot(kind=\"bar\")\n",
    "google=google.asfreq(\"B\")\n",
    "google.index"
   ]
  },
  {
   "cell_type": "code",
   "execution_count": 9,
   "id": "401519d9-30fb-42a7-af20-86b3a87e2ebd",
   "metadata": {},
   "outputs": [
    {
     "data": {
      "text/html": [
       "<div>\n",
       "<style scoped>\n",
       "    .dataframe tbody tr th:only-of-type {\n",
       "        vertical-align: middle;\n",
       "    }\n",
       "\n",
       "    .dataframe tbody tr th {\n",
       "        vertical-align: top;\n",
       "    }\n",
       "\n",
       "    .dataframe thead th {\n",
       "        text-align: right;\n",
       "    }\n",
       "</style>\n",
       "<table border=\"1\" class=\"dataframe\">\n",
       "  <thead>\n",
       "    <tr style=\"text-align: right;\">\n",
       "      <th></th>\n",
       "      <th>Open</th>\n",
       "      <th>High</th>\n",
       "      <th>Low</th>\n",
       "      <th>Close</th>\n",
       "      <th>Adj Close</th>\n",
       "      <th>Volume</th>\n",
       "      <th>month</th>\n",
       "      <th>day</th>\n",
       "      <th>quarter</th>\n",
       "    </tr>\n",
       "    <tr>\n",
       "      <th>Date</th>\n",
       "      <th></th>\n",
       "      <th></th>\n",
       "      <th></th>\n",
       "      <th></th>\n",
       "      <th></th>\n",
       "      <th></th>\n",
       "      <th></th>\n",
       "      <th></th>\n",
       "      <th></th>\n",
       "    </tr>\n",
       "  </thead>\n",
       "  <tbody>\n",
       "    <tr>\n",
       "      <th>2005-01-06</th>\n",
       "      <td>97.175758</td>\n",
       "      <td>97.584229</td>\n",
       "      <td>93.509506</td>\n",
       "      <td>93.922951</td>\n",
       "      <td>93.922951</td>\n",
       "      <td>20852067.0</td>\n",
       "      <td>January</td>\n",
       "      <td>Thursday</td>\n",
       "      <td>1.0</td>\n",
       "    </tr>\n",
       "    <tr>\n",
       "      <th>2006-01-06</th>\n",
       "      <td>227.581970</td>\n",
       "      <td>234.371521</td>\n",
       "      <td>225.773743</td>\n",
       "      <td>231.960556</td>\n",
       "      <td>231.960556</td>\n",
       "      <td>35646914.0</td>\n",
       "      <td>January</td>\n",
       "      <td>Friday</td>\n",
       "      <td>1.0</td>\n",
       "    </tr>\n",
       "    <tr>\n",
       "      <th>2009-01-06</th>\n",
       "      <td>165.868286</td>\n",
       "      <td>169.763687</td>\n",
       "      <td>162.585587</td>\n",
       "      <td>166.406265</td>\n",
       "      <td>166.406265</td>\n",
       "      <td>12898566.0</td>\n",
       "      <td>January</td>\n",
       "      <td>Tuesday</td>\n",
       "      <td>1.0</td>\n",
       "    </tr>\n",
       "    <tr>\n",
       "      <th>2010-01-06</th>\n",
       "      <td>311.761444</td>\n",
       "      <td>311.761444</td>\n",
       "      <td>302.047852</td>\n",
       "      <td>302.994293</td>\n",
       "      <td>302.994293</td>\n",
       "      <td>7987226.0</td>\n",
       "      <td>January</td>\n",
       "      <td>Wednesday</td>\n",
       "      <td>1.0</td>\n",
       "    </tr>\n",
       "    <tr>\n",
       "      <th>2011-01-06</th>\n",
       "      <td>304.199799</td>\n",
       "      <td>308.060303</td>\n",
       "      <td>303.885956</td>\n",
       "      <td>305.604523</td>\n",
       "      <td>305.604523</td>\n",
       "      <td>4131026.0</td>\n",
       "      <td>January</td>\n",
       "      <td>Thursday</td>\n",
       "      <td>1.0</td>\n",
       "    </tr>\n",
       "    <tr>\n",
       "      <th>2012-01-06</th>\n",
       "      <td>328.344299</td>\n",
       "      <td>328.767700</td>\n",
       "      <td>323.681763</td>\n",
       "      <td>323.796326</td>\n",
       "      <td>323.796326</td>\n",
       "      <td>5405987.0</td>\n",
       "      <td>January</td>\n",
       "      <td>Friday</td>\n",
       "      <td>1.0</td>\n",
       "    </tr>\n",
       "    <tr>\n",
       "      <th>2014-01-06</th>\n",
       "      <td>554.426880</td>\n",
       "      <td>557.340942</td>\n",
       "      <td>551.154114</td>\n",
       "      <td>556.573853</td>\n",
       "      <td>556.573853</td>\n",
       "      <td>3551864.0</td>\n",
       "      <td>January</td>\n",
       "      <td>Monday</td>\n",
       "      <td>1.0</td>\n",
       "    </tr>\n",
       "    <tr>\n",
       "      <th>2015-01-06</th>\n",
       "      <td>513.589966</td>\n",
       "      <td>514.761719</td>\n",
       "      <td>499.678131</td>\n",
       "      <td>500.585632</td>\n",
       "      <td>500.585632</td>\n",
       "      <td>2899940.0</td>\n",
       "      <td>January</td>\n",
       "      <td>Tuesday</td>\n",
       "      <td>1.0</td>\n",
       "    </tr>\n",
       "    <tr>\n",
       "      <th>2016-01-06</th>\n",
       "      <td>730.000000</td>\n",
       "      <td>747.179993</td>\n",
       "      <td>728.919983</td>\n",
       "      <td>743.619995</td>\n",
       "      <td>743.619995</td>\n",
       "      <td>1947000.0</td>\n",
       "      <td>January</td>\n",
       "      <td>Wednesday</td>\n",
       "      <td>1.0</td>\n",
       "    </tr>\n",
       "    <tr>\n",
       "      <th>2017-01-06</th>\n",
       "      <td>795.260010</td>\n",
       "      <td>807.900024</td>\n",
       "      <td>792.203979</td>\n",
       "      <td>806.150024</td>\n",
       "      <td>806.150024</td>\n",
       "      <td>1640200.0</td>\n",
       "      <td>January</td>\n",
       "      <td>Friday</td>\n",
       "      <td>1.0</td>\n",
       "    </tr>\n",
       "    <tr>\n",
       "      <th>2020-01-06</th>\n",
       "      <td>1350.000000</td>\n",
       "      <td>1396.500000</td>\n",
       "      <td>1350.000000</td>\n",
       "      <td>1394.209961</td>\n",
       "      <td>1394.209961</td>\n",
       "      <td>1732300.0</td>\n",
       "      <td>January</td>\n",
       "      <td>Monday</td>\n",
       "      <td>1.0</td>\n",
       "    </tr>\n",
       "    <tr>\n",
       "      <th>2021-01-06</th>\n",
       "      <td>1702.630005</td>\n",
       "      <td>1748.000000</td>\n",
       "      <td>1699.000000</td>\n",
       "      <td>1735.290039</td>\n",
       "      <td>1735.290039</td>\n",
       "      <td>2602100.0</td>\n",
       "      <td>January</td>\n",
       "      <td>Wednesday</td>\n",
       "      <td>1.0</td>\n",
       "    </tr>\n",
       "  </tbody>\n",
       "</table>\n",
       "</div>"
      ],
      "text/plain": [
       "                   Open         High          Low        Close    Adj Close  \\\n",
       "Date                                                                          \n",
       "2005-01-06    97.175758    97.584229    93.509506    93.922951    93.922951   \n",
       "2006-01-06   227.581970   234.371521   225.773743   231.960556   231.960556   \n",
       "2009-01-06   165.868286   169.763687   162.585587   166.406265   166.406265   \n",
       "2010-01-06   311.761444   311.761444   302.047852   302.994293   302.994293   \n",
       "2011-01-06   304.199799   308.060303   303.885956   305.604523   305.604523   \n",
       "2012-01-06   328.344299   328.767700   323.681763   323.796326   323.796326   \n",
       "2014-01-06   554.426880   557.340942   551.154114   556.573853   556.573853   \n",
       "2015-01-06   513.589966   514.761719   499.678131   500.585632   500.585632   \n",
       "2016-01-06   730.000000   747.179993   728.919983   743.619995   743.619995   \n",
       "2017-01-06   795.260010   807.900024   792.203979   806.150024   806.150024   \n",
       "2020-01-06  1350.000000  1396.500000  1350.000000  1394.209961  1394.209961   \n",
       "2021-01-06  1702.630005  1748.000000  1699.000000  1735.290039  1735.290039   \n",
       "\n",
       "                Volume    month        day  quarter  \n",
       "Date                                                 \n",
       "2005-01-06  20852067.0  January   Thursday      1.0  \n",
       "2006-01-06  35646914.0  January     Friday      1.0  \n",
       "2009-01-06  12898566.0  January    Tuesday      1.0  \n",
       "2010-01-06   7987226.0  January  Wednesday      1.0  \n",
       "2011-01-06   4131026.0  January   Thursday      1.0  \n",
       "2012-01-06   5405987.0  January     Friday      1.0  \n",
       "2014-01-06   3551864.0  January     Monday      1.0  \n",
       "2015-01-06   2899940.0  January    Tuesday      1.0  \n",
       "2016-01-06   1947000.0  January  Wednesday      1.0  \n",
       "2017-01-06   1640200.0  January     Friday      1.0  \n",
       "2020-01-06   1732300.0  January     Monday      1.0  \n",
       "2021-01-06   2602100.0  January  Wednesday      1.0  "
      ]
     },
     "execution_count": 9,
     "metadata": {},
     "output_type": "execute_result"
    }
   ],
   "source": [
    "google[google.index.isin(pd.date_range(start=\"2005/1/6\",end=\"2021/1/6\",freq=pd.DateOffset(years=1)))]"
   ]
  },
  {
   "cell_type": "code",
   "execution_count": 11,
   "id": "17551d6a-241d-4872-8138-0fedac48592d",
   "metadata": {},
   "outputs": [
    {
     "data": {
      "text/plain": [
       "<Axes: xlabel='month'>"
      ]
     },
     "execution_count": 11,
     "metadata": {},
     "output_type": "execute_result"
    },
    {
     "data": {
      "image/png": "[encoded data removed]",
      "text/plain": [
       "<Figure size 640x480 with 1 Axes>"
      ]
     },
     "metadata": {},
     "output_type": "display_data"
    }
   ],
   "source": [
    "google.groupby(\"month\")[\"Close\"].sum().plot()"
   ]
  },
  {
   "cell_type": "code",
   "execution_count": 14,
   "id": "0a31bbe6-fda3-4205-b045-081d5c89951f",
   "metadata": {},
   "outputs": [
    {
     "name": "stderr",
     "output_type": "stream",
     "text": [
      "C:\\Users\\Shreya Sharma\\AppData\\Local\\Temp\\ipykernel_24424\\3704460495.py:1: FutureWarning: 'H' is deprecated and will be removed in a future version, please use 'h' instead.\n",
      "  google.asfreq(\"H\",method=\"ffill\")\n"
     ]
    },
    {
     "data": {
      "text/html": [
       "<div>\n",
       "<style scoped>\n",
       "    .dataframe tbody tr th:only-of-type {\n",
       "        vertical-align: middle;\n",
       "    }\n",
       "\n",
       "    .dataframe tbody tr th {\n",
       "        vertical-align: top;\n",
       "    }\n",
       "\n",
       "    .dataframe thead th {\n",
       "        text-align: right;\n",
       "    }\n",
       "</style>\n",
       "<table border=\"1\" class=\"dataframe\">\n",
       "  <thead>\n",
       "    <tr style=\"text-align: right;\">\n",
       "      <th></th>\n",
       "      <th>Open</th>\n",
       "      <th>High</th>\n",
       "      <th>Low</th>\n",
       "      <th>Close</th>\n",
       "      <th>Adj Close</th>\n",
       "      <th>Volume</th>\n",
       "      <th>month</th>\n",
       "      <th>day</th>\n",
       "      <th>quarter</th>\n",
       "    </tr>\n",
       "    <tr>\n",
       "      <th>Date</th>\n",
       "      <th></th>\n",
       "      <th></th>\n",
       "      <th></th>\n",
       "      <th></th>\n",
       "      <th></th>\n",
       "      <th></th>\n",
       "      <th></th>\n",
       "      <th></th>\n",
       "      <th></th>\n",
       "    </tr>\n",
       "  </thead>\n",
       "  <tbody>\n",
       "    <tr>\n",
       "      <th>2004-08-19 00:00:00</th>\n",
       "      <td>49.813290</td>\n",
       "      <td>51.835709</td>\n",
       "      <td>47.800831</td>\n",
       "      <td>49.982655</td>\n",
       "      <td>49.982655</td>\n",
       "      <td>44871361.0</td>\n",
       "      <td>August</td>\n",
       "      <td>Thursday</td>\n",
       "      <td>3.0</td>\n",
       "    </tr>\n",
       "    <tr>\n",
       "      <th>2004-08-19 01:00:00</th>\n",
       "      <td>49.813290</td>\n",
       "      <td>51.835709</td>\n",
       "      <td>47.800831</td>\n",
       "      <td>49.982655</td>\n",
       "      <td>49.982655</td>\n",
       "      <td>44871361.0</td>\n",
       "      <td>August</td>\n",
       "      <td>Thursday</td>\n",
       "      <td>3.0</td>\n",
       "    </tr>\n",
       "    <tr>\n",
       "      <th>2004-08-19 02:00:00</th>\n",
       "      <td>49.813290</td>\n",
       "      <td>51.835709</td>\n",
       "      <td>47.800831</td>\n",
       "      <td>49.982655</td>\n",
       "      <td>49.982655</td>\n",
       "      <td>44871361.0</td>\n",
       "      <td>August</td>\n",
       "      <td>Thursday</td>\n",
       "      <td>3.0</td>\n",
       "    </tr>\n",
       "    <tr>\n",
       "      <th>2004-08-19 03:00:00</th>\n",
       "      <td>49.813290</td>\n",
       "      <td>51.835709</td>\n",
       "      <td>47.800831</td>\n",
       "      <td>49.982655</td>\n",
       "      <td>49.982655</td>\n",
       "      <td>44871361.0</td>\n",
       "      <td>August</td>\n",
       "      <td>Thursday</td>\n",
       "      <td>3.0</td>\n",
       "    </tr>\n",
       "    <tr>\n",
       "      <th>2004-08-19 04:00:00</th>\n",
       "      <td>49.813290</td>\n",
       "      <td>51.835709</td>\n",
       "      <td>47.800831</td>\n",
       "      <td>49.982655</td>\n",
       "      <td>49.982655</td>\n",
       "      <td>44871361.0</td>\n",
       "      <td>August</td>\n",
       "      <td>Thursday</td>\n",
       "      <td>3.0</td>\n",
       "    </tr>\n",
       "    <tr>\n",
       "      <th>...</th>\n",
       "      <td>...</td>\n",
       "      <td>...</td>\n",
       "      <td>...</td>\n",
       "      <td>...</td>\n",
       "      <td>...</td>\n",
       "      <td>...</td>\n",
       "      <td>...</td>\n",
       "      <td>...</td>\n",
       "      <td>...</td>\n",
       "    </tr>\n",
       "    <tr>\n",
       "      <th>2022-05-19 20:00:00</th>\n",
       "      <td>2236.820068</td>\n",
       "      <td>2271.750000</td>\n",
       "      <td>2209.360107</td>\n",
       "      <td>2214.909912</td>\n",
       "      <td>2214.909912</td>\n",
       "      <td>1459600.0</td>\n",
       "      <td>May</td>\n",
       "      <td>Thursday</td>\n",
       "      <td>2.0</td>\n",
       "    </tr>\n",
       "    <tr>\n",
       "      <th>2022-05-19 21:00:00</th>\n",
       "      <td>2236.820068</td>\n",
       "      <td>2271.750000</td>\n",
       "      <td>2209.360107</td>\n",
       "      <td>2214.909912</td>\n",
       "      <td>2214.909912</td>\n",
       "      <td>1459600.0</td>\n",
       "      <td>May</td>\n",
       "      <td>Thursday</td>\n",
       "      <td>2.0</td>\n",
       "    </tr>\n",
       "    <tr>\n",
       "      <th>2022-05-19 22:00:00</th>\n",
       "      <td>2236.820068</td>\n",
       "      <td>2271.750000</td>\n",
       "      <td>2209.360107</td>\n",
       "      <td>2214.909912</td>\n",
       "      <td>2214.909912</td>\n",
       "      <td>1459600.0</td>\n",
       "      <td>May</td>\n",
       "      <td>Thursday</td>\n",
       "      <td>2.0</td>\n",
       "    </tr>\n",
       "    <tr>\n",
       "      <th>2022-05-19 23:00:00</th>\n",
       "      <td>2236.820068</td>\n",
       "      <td>2271.750000</td>\n",
       "      <td>2209.360107</td>\n",
       "      <td>2214.909912</td>\n",
       "      <td>2214.909912</td>\n",
       "      <td>1459600.0</td>\n",
       "      <td>May</td>\n",
       "      <td>Thursday</td>\n",
       "      <td>2.0</td>\n",
       "    </tr>\n",
       "    <tr>\n",
       "      <th>2022-05-20 00:00:00</th>\n",
       "      <td>2241.709961</td>\n",
       "      <td>2251.000000</td>\n",
       "      <td>2127.459961</td>\n",
       "      <td>2186.260010</td>\n",
       "      <td>2186.260010</td>\n",
       "      <td>1878100.0</td>\n",
       "      <td>May</td>\n",
       "      <td>Friday</td>\n",
       "      <td>2.0</td>\n",
       "    </tr>\n",
       "  </tbody>\n",
       "</table>\n",
       "<p>155593 rows × 9 columns</p>\n",
       "</div>"
      ],
      "text/plain": [
       "                            Open         High          Low        Close  \\\n",
       "Date                                                                      \n",
       "2004-08-19 00:00:00    49.813290    51.835709    47.800831    49.982655   \n",
       "2004-08-19 01:00:00    49.813290    51.835709    47.800831    49.982655   \n",
       "2004-08-19 02:00:00    49.813290    51.835709    47.800831    49.982655   \n",
       "2004-08-19 03:00:00    49.813290    51.835709    47.800831    49.982655   \n",
       "2004-08-19 04:00:00    49.813290    51.835709    47.800831    49.982655   \n",
       "...                          ...          ...          ...          ...   \n",
       "2022-05-19 20:00:00  2236.820068  2271.750000  2209.360107  2214.909912   \n",
       "2022-05-19 21:00:00  2236.820068  2271.750000  2209.360107  2214.909912   \n",
       "2022-05-19 22:00:00  2236.820068  2271.750000  2209.360107  2214.909912   \n",
       "2022-05-19 23:00:00  2236.820068  2271.750000  2209.360107  2214.909912   \n",
       "2022-05-20 00:00:00  2241.709961  2251.000000  2127.459961  2186.260010   \n",
       "\n",
       "                       Adj Close      Volume   month       day  quarter  \n",
       "Date                                                                     \n",
       "2004-08-19 00:00:00    49.982655  44871361.0  August  Thursday      3.0  \n",
       "2004-08-19 01:00:00    49.982655  44871361.0  August  Thursday      3.0  \n",
       "2004-08-19 02:00:00    49.982655  44871361.0  August  Thursday      3.0  \n",
       "2004-08-19 03:00:00    49.982655  44871361.0  August  Thursday      3.0  \n",
       "2004-08-19 04:00:00    49.982655  44871361.0  August  Thursday      3.0  \n",
       "...                          ...         ...     ...       ...      ...  \n",
       "2022-05-19 20:00:00  2214.909912   1459600.0     May  Thursday      2.0  \n",
       "2022-05-19 21:00:00  2214.909912   1459600.0     May  Thursday      2.0  \n",
       "2022-05-19 22:00:00  2214.909912   1459600.0     May  Thursday      2.0  \n",
       "2022-05-19 23:00:00  2214.909912   1459600.0     May  Thursday      2.0  \n",
       "2022-05-20 00:00:00  2186.260010   1878100.0     May    Friday      2.0  \n",
       "\n",
       "[155593 rows x 9 columns]"
      ]
     },
     "execution_count": 14,
     "metadata": {},
     "output_type": "execute_result"
    }
   ],
   "source": [
    "google.asfreq(\"H\",method=\"ffill\")"
   ]
  },
  {
   "cell_type": "code",
   "execution_count": 16,
   "id": "8dddea08-f233-44c8-ac48-b591feb0d1b4",
   "metadata": {},
   "outputs": [
    {
     "name": "stderr",
     "output_type": "stream",
     "text": [
      "C:\\Users\\Shreya Sharma\\AppData\\Local\\Temp\\ipykernel_24424\\2078783704.py:1: FutureWarning: 'Y' is deprecated and will be removed in a future version, please use 'YE' instead.\n",
      "  google[\"Close\"].resample(\"Y\").mean()\n"
     ]
    },
    {
     "data": {
      "text/plain": [
       "Date\n",
       "2004-12-31      75.617206\n",
       "2005-12-31     138.360933\n",
       "2006-12-31     204.824916\n",
       "2007-12-31     268.369305\n",
       "2008-12-31     231.558071\n",
       "2009-12-31     219.023214\n",
       "2010-12-31     266.811472\n",
       "2011-12-31     283.424738\n",
       "2012-12-31     320.208021\n",
       "2013-12-31     440.470378\n",
       "2014-12-31     559.803290\n",
       "2015-12-31     602.005681\n",
       "2016-12-31     743.486707\n",
       "2017-12-31     921.780837\n",
       "2018-12-31    1113.225134\n",
       "2019-12-31    1188.393057\n",
       "2020-12-31    1481.403811\n",
       "2021-12-31    2510.613731\n",
       "2022-12-31    2624.075885\n",
       "Freq: YE-DEC, Name: Close, dtype: float64"
      ]
     },
     "execution_count": 16,
     "metadata": {},
     "output_type": "execute_result"
    }
   ],
   "source": [
    "google[\"Close\"].resample(\"Y\").mean()"
   ]
  },
  {
   "cell_type": "code",
   "execution_count": 18,
   "id": "e8fb7e08-1c7b-43db-b2bd-8f138053f355",
   "metadata": {},
   "outputs": [
    {
     "name": "stderr",
     "output_type": "stream",
     "text": [
      "C:\\Users\\Shreya Sharma\\AppData\\Local\\Temp\\ipykernel_24424\\905879303.py:1: FutureWarning: 'H' is deprecated and will be removed in a future version, please use 'h' instead.\n",
      "  google[\"Close\"].resample(\"H\").interpolate(method=\"spline\",order=2)\n"
     ]
    },
    {
     "data": {
      "text/plain": [
       "Date\n",
       "2004-08-19 00:00:00      49.982655\n",
       "2004-08-19 01:00:00      50.054174\n",
       "2004-08-19 02:00:00      50.278766\n",
       "2004-08-19 03:00:00      50.499453\n",
       "2004-08-19 04:00:00      50.716235\n",
       "                          ...     \n",
       "2022-05-19 20:00:00    2116.145684\n",
       "2022-05-19 21:00:00    2130.864097\n",
       "2022-05-19 22:00:00    2147.454745\n",
       "2022-05-19 23:00:00    2165.917626\n",
       "2022-05-20 00:00:00    2186.260010\n",
       "Freq: h, Name: Close, Length: 155593, dtype: float64"
      ]
     },
     "execution_count": 18,
     "metadata": {},
     "output_type": "execute_result"
    }
   ],
   "source": [
    "google[\"Close\"].resample(\"H\").interpolate(method=\"spline\",order=2)"
   ]
  },
  {
   "cell_type": "code",
   "execution_count": 36,
   "id": "f31f34e3-84f3-4fac-85d5-b3276739a008",
   "metadata": {},
   "outputs": [
    {
     "data": {
      "text/plain": [
       "<Axes: xlabel='Date'>"
      ]
     },
     "execution_count": 36,
     "metadata": {},
     "output_type": "execute_result"
    },
    {
     "data": {
      "image/png": "[encoded data removed]",
      "text/plain": [
       "<Figure size 640x480 with 1 Axes>"
      ]
     },
     "metadata": {},
     "output_type": "display_data"
    }
   ],
   "source": [
    "google[\"Close\"].rolling(3).sum().plot()"
   ]
  },
  {
   "cell_type": "code",
   "execution_count": 40,
   "id": "1868326d-0b71-43b7-8c92-23f521bae9b5",
   "metadata": {},
   "outputs": [
    {
     "data": {
      "text/plain": [
       "<Axes: xlabel='Date'>"
      ]
     },
     "execution_count": 40,
     "metadata": {},
     "output_type": "execute_result"
    },
    {
     "data": {
      "image/png": "[encoded data removed]",
      "text/plain": [
       "<Figure size 640x480 with 1 Axes>"
      ]
     },
     "metadata": {},
     "output_type": "display_data"
    }
   ],
   "source": [
    "google[\"Close\"].ewm(30).sum().plot()"
   ]
  },
  {
   "cell_type": "code",
   "execution_count": 76,
   "id": "2200ec94-b88d-40b8-b4b1-77d92b51687b",
   "metadata": {},
   "outputs": [
    {
     "data": {
      "text/plain": [
       "0                  NaT\n",
       "1                  NaT\n",
       "2      0 days 00:01:26\n",
       "3      0 days 00:44:41\n",
       "4      0 days 06:14:58\n",
       "             ...      \n",
       "2997   0 days 12:34:49\n",
       "2998   0 days 00:38:17\n",
       "2999   0 days 02:25:16\n",
       "3000   0 days 01:51:45\n",
       "3001   0 days 00:56:20\n",
       "Length: 3002, dtype: timedelta64[ns]"
      ]
     },
     "execution_count": 76,
     "metadata": {},
     "output_type": "execute_result"
    }
   ],
   "source": [
    "login=pd.read_csv(\"login.csv\")\n",
    "login.drop(columns=\"Unnamed: 3\",inplace=True)\n",
    "login[\"2017-01-07 18:24:07\"]=pd.to_datetime(login[\"2017-01-07 18:24:07\"])\n",
    "login[\"shifted\"]=login[\"2017-01-07 18:24:07\"].shift(2)\n",
    "login[\"2017-01-07 18:24:07\"]-login[\"shifted\"]"
   ]
  },
  {
   "cell_type": "code",
   "execution_count": null,
   "id": "f953e99c-2e79-4dd0-987d-cb6248a00042",
   "metadata": {},
   "outputs": [],
   "source": []
  }
 ],
 "metadata": {
  "kernelspec": {
   "display_name": "Python 3 (ipykernel)",
   "language": "python",
   "name": "python3"
  },
  "language_info": {
   "codemirror_mode": {
    "name": "ipython",
    "version": 3
   },
   "file_extension": ".py",
   "mimetype": "text/x-python",
   "name": "python",
   "nbconvert_exporter": "python",
   "pygments_lexer": "ipython3",
   "version": "3.12.7"
  }
 },
 "nbformat": 4,
 "nbformat_minor": 5
}
