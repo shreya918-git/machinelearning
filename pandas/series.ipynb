{
 "cells": [
  {
   "cell_type": "code",
   "execution_count": 4,
   "id": "68d2bbe5-d4f8-4951-93f6-8a94c0b51e44",
   "metadata": {},
   "outputs": [
    {
     "name": "stdout",
     "output_type": "stream",
     "text": [
      "object\n",
      "marks\n",
      "['ml' 'python' 'web development' 'ai']\n",
      "Index([90, 99, 90, 92], dtype='int64')\n",
      "True\n",
      "4\n"
     ]
    }
   ],
   "source": [
    "import numpy as np\n",
    "import pandas as pd\n",
    "country=[\"India\",\"Pakistan\",\"USA\"]\n",
    "index=[1,2,3]\n",
    "country=pd.Series(country,index=index,name=\"country\")\n",
    "marks=[90,99,90,92]\n",
    "subjects=[\"ml\",\"python\",\"web development\",\"ai\"]\n",
    "marks_series=pd.Series(subjects,index=marks,name=\"marks\")\n",
    "dict1={\"ml\":90,\"python\":99,\"web development\":90,\"ai\":92}\n",
    "pd.Series(dict1,name=\"dict\")\n",
    "print(marks_series.dtype)\n",
    "print(marks_series.name)\n",
    "print(marks_series.values)\n",
    "print(marks_series.index)\n",
    "print(marks_series.is_unique)\n",
    "print(marks_series.size)"
   ]
  },
  {
   "cell_type": "code",
   "execution_count": 30,
   "id": "00a828af-c5f8-4973-a119-ec0de0ac5ac6",
   "metadata": {},
   "outputs": [
    {
     "name": "stdout",
     "output_type": "stream",
     "text": [
      "0    48\n",
      "1    57\n",
      "2    40\n",
      "3    43\n",
      "4    44\n",
      "Name: Subscribers gained, dtype: int64\n",
      "360    231\n",
      "361    226\n",
      "362    155\n",
      "363    144\n",
      "364    172\n",
      "Name: Subscribers gained, dtype: int64\n",
      "226    254\n",
      "Name: Subscribers gained, dtype: int64\n",
      "<bound method Series.min of 330    396\n",
      "331    312\n",
      "168    306\n",
      "233    301\n",
      "280    295\n",
      "      ... \n",
      "14      39\n",
      "19      37\n",
      "24      35\n",
      "6       33\n",
      "42      33\n",
      "Name: Subscribers gained, Length: 365, dtype: int64>\n",
      "<bound method Series.max of 330    396\n",
      "331    312\n",
      "168    306\n",
      "233    301\n",
      "280    295\n",
      "      ... \n",
      "14      39\n",
      "19      37\n",
      "24      35\n",
      "6       33\n",
      "42      33\n",
      "Name: Subscribers gained, Length: 365, dtype: int64>\n",
      "<bound method Series.mean of 330    396\n",
      "331    312\n",
      "168    306\n",
      "233    301\n",
      "280    295\n",
      "      ... \n",
      "14      39\n",
      "19      37\n",
      "24      35\n",
      "6       33\n",
      "42      33\n",
      "Name: Subscribers gained, Length: 365, dtype: int64>\n",
      "<bound method Series.mode of 330    396\n",
      "331    312\n",
      "168    306\n",
      "233    301\n",
      "280    295\n",
      "      ... \n",
      "14      39\n",
      "19      37\n",
      "24      35\n",
      "6       33\n",
      "42      33\n",
      "Name: Subscribers gained, Length: 365, dtype: int64>\n"
     ]
    }
   ],
   "source": [
    "subs=pd.read_csv(\"subs.csv\").squeeze()\n",
    "print(subs.head())\n",
    "print(subs.tail())\n",
    "print(subs.sample())\n",
    "subs=subs.copy()\n",
    "subs.sort_values(ascending=False,inplace=True)\n",
    "subs.sort_index(ascending=False)"
   ]
  },
  {
   "cell_type": "code",
   "execution_count": 56,
   "id": "a02efdcd-12d3-4092-9475-fcd4b6f507f2",
   "metadata": {},
   "outputs": [
    {
     "name": "stdout",
     "output_type": "stream",
     "text": [
      "33\n",
      "396\n",
      "135.64383561643837\n",
      "0    105\n",
      "Name: Subscribers gained, dtype: int64\n",
      "count    365.000000\n",
      "mean     135.643836\n",
      "std       62.675023\n",
      "min       33.000000\n",
      "25%       88.000000\n",
      "50%      123.000000\n",
      "75%      177.000000\n",
      "max      396.000000\n",
      "Name: Subscribers gained, dtype: float64\n",
      "123.0\n",
      "62.67502303725272\n",
      "3928.1585127201597\n",
      "49510\n"
     ]
    },
    {
     "name": "stderr",
     "output_type": "stream",
     "text": [
      "C:\\Users\\Shreya Sharma\\AppData\\Local\\Temp\\ipykernel_19860\\2996366515.py:15: FutureWarning: Series.__getitem__ treating keys as positions is deprecated. In a future version, integer keys will always be treated as labels (consistent with DataFrame behavior). To access a value by position, use `ser.iloc[pos]`\n",
      "  bollywood[-1]\n"
     ]
    },
    {
     "data": {
      "text/plain": [
       "'Akshay Kumar'"
      ]
     },
     "execution_count": 56,
     "metadata": {},
     "output_type": "execute_result"
    }
   ],
   "source": [
    "bollywood=pd.read_csv(\"bollywood.csv\",index_col=\"movie\").squeeze()\n",
    "bollywood.value_counts() #tells the frequency of values in a series\n",
    "bollywood.count()\n",
    "subs.min()\n",
    "subs.prod()\n",
    "print(subs.min())\n",
    "print(subs.max())\n",
    "print(subs.mean())\n",
    "print(subs.mode())\n",
    "print(subs.describe())\n",
    "print(subs.median())\n",
    "print(subs.std())\n",
    "print(subs.var())\n",
    "print(subs.sum())\n",
    "bollywood[-1]\n",
    "su"
   ]
  },
  {
   "cell_type": "code",
   "execution_count": null,
   "id": "4370fd0b-9149-45ba-a510-79268ad0946d",
   "metadata": {},
   "outputs": [],
   "source": []
  }
 ],
 "metadata": {
  "kernelspec": {
   "display_name": "Python 3 (ipykernel)",
   "language": "python",
   "name": "python3"
  },
  "language_info": {
   "codemirror_mode": {
    "name": "ipython",
    "version": 3
   },
   "file_extension": ".py",
   "mimetype": "text/x-python",
   "name": "python",
   "nbconvert_exporter": "python",
   "pygments_lexer": "ipython3",
   "version": "3.12.7"
  }
 },
 "nbformat": 4,
 "nbformat_minor": 5
}
