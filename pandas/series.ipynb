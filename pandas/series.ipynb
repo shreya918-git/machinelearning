{
 "cells": [
  {
   "cell_type": "code",
   "execution_count": 4,
   "id": "68d2bbe5-d4f8-4951-93f6-8a94c0b51e44",
   "metadata": {},
   "outputs": [
    {
     "name": "stdout",
     "output_type": "stream",
     "text": [
      "object\n",
      "marks\n",
      "['ml' 'python' 'web development' 'ai']\n",
      "Index([90, 99, 90, 92], dtype='int64')\n",
      "True\n",
      "4\n"
     ]
    }
   ],
   "source": [
    "import numpy as np\n",
    "import pandas as pd\n",
    "import sys\n",
    "country=[\"India\",\"Pakistan\",\"USA\"]\n",
    "index=[1,2,3]\n",
    "country=pd.Series(country,index=index,name=\"country\")\n",
    "marks=[90,99,90,92]\n",
    "subjects=[\"ml\",\"python\",\"web development\",\"ai\"]\n",
    "marks_series=pd.Series(subjects,index=marks,name=\"marks\")\n",
    "dict1={\"ml\":90,\"python\":99,\"web development\":90,\"ai\":92}\n",
    "pd.Series(dict1,name=\"dict\")\n",
    "print(marks_series.dtype)\n",
    "print(marks_series.name)\n",
    "print(marks_series.values)\n",
    "print(marks_series.index)\n",
    "print(marks_series.is_unique)\n",
    "print(marks_series.size)"
   ]
  },
  {
   "cell_type": "code",
   "execution_count": 6,
   "id": "00a828af-c5f8-4973-a119-ec0de0ac5ac6",
   "metadata": {},
   "outputs": [
    {
     "name": "stdout",
     "output_type": "stream",
     "text": [
      "0    48\n",
      "1    57\n",
      "2    40\n",
      "3    43\n",
      "4    44\n",
      "Name: Subscribers gained, dtype: int64\n",
      "360    231\n",
      "361    226\n",
      "362    155\n",
      "363    144\n",
      "364    172\n",
      "Name: Subscribers gained, dtype: int64\n",
      "154    102\n",
      "Name: Subscribers gained, dtype: int64\n"
     ]
    },
    {
     "data": {
      "text/plain": [
       "364    172\n",
       "363    144\n",
       "362    155\n",
       "361    226\n",
       "360    231\n",
       "      ... \n",
       "4       44\n",
       "3       43\n",
       "2       40\n",
       "1       57\n",
       "0       48\n",
       "Name: Subscribers gained, Length: 365, dtype: int64"
      ]
     },
     "execution_count": 6,
     "metadata": {},
     "output_type": "execute_result"
    }
   ],
   "source": [
    "subs=pd.read_csv(\"subs.csv\").squeeze()\n",
    "print(subs.head())\n",
    "print(subs.tail())\n",
    "print(subs.sample())\n",
    "subs=subs.copy()\n",
    "subs.sort_values(ascending=False,inplace=True)\n",
    "subs.sort_index(ascending=False)"
   ]
  },
  {
   "cell_type": "code",
   "execution_count": 8,
   "id": "a02efdcd-12d3-4092-9475-fcd4b6f507f2",
   "metadata": {},
   "outputs": [
    {
     "name": "stdout",
     "output_type": "stream",
     "text": [
      "33\n",
      "396\n",
      "135.64383561643837\n",
      "0    105\n",
      "Name: Subscribers gained, dtype: int64\n",
      "count    365.000000\n",
      "mean     135.643836\n",
      "std       62.675023\n",
      "min       33.000000\n",
      "25%       88.000000\n",
      "50%      123.000000\n",
      "75%      177.000000\n",
      "max      396.000000\n",
      "Name: Subscribers gained, dtype: float64\n",
      "123.0\n",
      "62.67502303725272\n",
      "3928.1585127201597\n",
      "49510\n"
     ]
    },
    {
     "name": "stderr",
     "output_type": "stream",
     "text": [
      "C:\\Users\\Shreya Sharma\\AppData\\Local\\Temp\\ipykernel_21764\\3493646167.py:15: FutureWarning: Series.__getitem__ treating keys as positions is deprecated. In a future version, integer keys will always be treated as labels (consistent with DataFrame behavior). To access a value by position, use `ser.iloc[pos]`\n",
      "  bollywood[-1]\n",
      "C:\\Users\\Shreya Sharma\\AppData\\Local\\Temp\\ipykernel_21764\\3493646167.py:16: FutureWarning: Series.__getitem__ treating keys as positions is deprecated. In a future version, integer keys will always be treated as labels (consistent with DataFrame behavior). To access a value by position, use `ser.iloc[pos]`\n",
      "  bollywood[0]\n"
     ]
    },
    {
     "data": {
      "text/plain": [
       "279    290\n",
       "Name: Subscribers gained, dtype: int64"
      ]
     },
     "execution_count": 8,
     "metadata": {},
     "output_type": "execute_result"
    }
   ],
   "source": [
    "bollywood=pd.read_csv(\"bollywood.csv\",index_col=\"movie\").squeeze()\n",
    "bollywood.value_counts() #tells the frequency of values in a series\n",
    "bollywood.count()\n",
    "subs.min()\n",
    "subs.prod()\n",
    "print(subs.min())\n",
    "print(subs.max())\n",
    "print(subs.mean())\n",
    "print(subs.mode())\n",
    "print(subs.describe())\n",
    "print(subs.median())\n",
    "print(subs.std())\n",
    "print(subs.var())\n",
    "print(subs.sum())\n",
    "bollywood[-1]\n",
    "bollywood[0]\n",
    "bollywood[5:15]\n",
    "bollywood[5:2:-1]\n",
    "subs[5:4:-1]"
   ]
  },
  {
   "cell_type": "code",
   "execution_count": 10,
   "id": "4370fd0b-9149-45ba-a510-79268ad0946d",
   "metadata": {},
   "outputs": [
    {
     "data": {
      "text/plain": [
       "0    48\n",
       "1    57\n",
       "2    40\n",
       "3    43\n",
       "4    44\n",
       "Name: Subscribers gained, dtype: int64"
      ]
     },
     "execution_count": 10,
     "metadata": {},
     "output_type": "execute_result"
    }
   ],
   "source": [
    "subs[[0,1,2,3,4]] "
   ]
  },
  {
   "cell_type": "code",
   "execution_count": 12,
   "id": "ce465269-3483-4e17-9b84-6c241416783b",
   "metadata": {},
   "outputs": [
    {
     "data": {
      "text/plain": [
       "'Akshay Kumar'"
      ]
     },
     "execution_count": 12,
     "metadata": {},
     "output_type": "execute_result"
    }
   ],
   "source": [
    "bollywood[\"Mission Mangal\"] #fancy indexing"
   ]
  },
  {
   "cell_type": "code",
   "execution_count": 14,
   "id": "15fb9fdb-b690-4e8a-8c74-7dafeba51eb5",
   "metadata": {
    "scrolled": true
   },
   "outputs": [
    {
     "name": "stdout",
     "output_type": "stream",
     "text": [
      "365\n",
      "396\n",
      "33\n",
      "[33, 33, 35, 37, 39, 40, 40, 40, 40, 42, 42, 43, 44, 44, 44, 45, 46, 46, 48, 49, 49, 49, 49, 50, 50, 50, 51, 54, 56, 56, 56, 56, 57, 61, 62, 64, 65, 65, 66, 66, 66, 66, 67, 68, 70, 70, 70, 71, 71, 72, 72, 72, 72, 72, 73, 74, 74, 75, 76, 76, 76, 76, 77, 77, 78, 78, 78, 79, 79, 80, 80, 80, 81, 81, 82, 82, 83, 83, 83, 84, 84, 84, 85, 86, 86, 86, 87, 87, 87, 87, 88, 88, 88, 88, 88, 89, 89, 89, 90, 90, 90, 90, 91, 92, 92, 92, 93, 93, 93, 93, 95, 95, 96, 96, 96, 96, 97, 97, 98, 98, 99, 99, 100, 100, 100, 101, 101, 101, 102, 102, 103, 103, 104, 104, 104, 105, 105, 105, 105, 105, 105, 105, 105, 105, 108, 108, 108, 108, 108, 108, 109, 109, 110, 110, 110, 111, 111, 112, 113, 113, 113, 114, 114, 114, 114, 115, 115, 115, 115, 117, 117, 117, 118, 118, 119, 119, 119, 119, 120, 122, 123, 123, 123, 123, 123, 124, 125, 126, 127, 128, 128, 129, 130, 131, 131, 132, 132, 134, 134, 134, 135, 135, 136, 136, 136, 137, 138, 138, 138, 139, 140, 144, 145, 146, 146, 146, 146, 147, 149, 150, 150, 150, 150, 151, 152, 152, 152, 153, 153, 153, 154, 154, 154, 155, 155, 156, 156, 156, 156, 157, 157, 157, 157, 158, 158, 159, 159, 160, 160, 160, 160, 162, 164, 166, 167, 167, 168, 170, 170, 170, 170, 171, 172, 172, 173, 173, 173, 174, 174, 175, 175, 176, 176, 177, 178, 179, 179, 180, 180, 180, 182, 183, 183, 183, 184, 184, 184, 185, 185, 185, 185, 186, 186, 186, 188, 189, 190, 190, 192, 192, 192, 196, 196, 196, 197, 197, 202, 202, 202, 203, 204, 206, 207, 209, 210, 210, 211, 212, 213, 214, 216, 219, 220, 221, 221, 222, 222, 224, 225, 225, 226, 227, 228, 229, 230, 231, 233, 236, 236, 237, 241, 243, 244, 245, 247, 249, 254, 254, 258, 259, 259, 261, 261, 265, 267, 268, 269, 276, 276, 290, 295, 301, 306, 312, 396]\n"
     ]
    },
    {
     "name": "stderr",
     "output_type": "stream",
     "text": [
      "C:\\Users\\Shreya Sharma\\AppData\\Local\\Temp\\ipykernel_21764\\1056281103.py:3: FutureWarning: Series.__setitem__ treating keys as positions is deprecated. In a future version, integer keys will always be treated as labels (consistent with DataFrame behavior). To set a value by position, use `ser.iloc[pos] = value`\n",
      "  bollywood[[0,1]]=[\"python\",\"ml\"]\n"
     ]
    },
    {
     "data": {
      "text/plain": [
       "185"
      ]
     },
     "execution_count": 14,
     "metadata": {},
     "output_type": "execute_result"
    }
   ],
   "source": [
    "bollywood[\"Mission Mangal\"]=\"Vidya Balan\"\n",
    "bollywood[\"Mission Mangal\"]\n",
    "bollywood[[0,1]]=[\"python\",\"ml\"]\n",
    "bollywood[2:3]=[\"web development\"]\n",
    "100*subs\n",
    "330 in subs #works on index\n",
    "# for i in subs:\n",
    "#     print(i)\n",
    "print(len(subs))\n",
    "print(max(subs))\n",
    "print(min(subs))\n",
    "print(sorted(subs))\n",
    "\"ml\" in bollywood.values\n",
    "# for i in subs.index:\n",
    "#     print(i)\n",
    "list(subs)\n",
    "dict(subs)\n",
    "subs[subs>50]\n",
    "num_counts=bollywood.value_counts()\n",
    "num_counts[num_counts>20]\n",
    "# subs.plot()\n",
    "# bollywood.value_counts().head(20).plot(kind=\"pie\")\n",
    "sys.getsizeof(subs)\n",
    "subs.astype(\"int64\")\n",
    "sys.getsizeof(subs)\n",
    "subs[subs.between(40,50)]\n",
    "subs.clip(40,50)\n",
    "subs.drop_duplicates(keep=\"last\")\n",
    "subs.duplicated().sum() #tells the count of duplicated values"
   ]
  },
  {
   "cell_type": "code",
   "execution_count": 73,
   "id": "8ac7f823-3e42-41dc-af47-1aaedc403190",
   "metadata": {},
   "outputs": [
    {
     "data": {
      "text/plain": [
       "2    3.0\n",
       "3    4.0\n",
       "dtype: float64"
      ]
     },
     "execution_count": 73,
     "metadata": {},
     "output_type": "execute_result"
    },
    {
     "data": {
      "image/png": "[encoded data removed]",
      "text/plain": [
       "<Figure size 640x480 with 1 Axes>"
      ]
     },
     "metadata": {},
     "output_type": "display_data"
    }
   ],
   "source": [
    "subs.isnull().sum()\n",
    "series=[1,2,3,4,np.nan]\n",
    "series=pd.Series(series)\n",
    "series.isnull().sum()\n",
    "series.dropna()\n",
    "series.fillna(series.mean())\n",
    "series_copy=series.head().copy()\n",
    "series_copy[0]=100\n",
    "series_copy\n",
    "series.plot.hist(bins=5)\n",
    "series[series.isin([1,2])]\n",
    "series[series.apply(lambda x:x>2)]\n",
    "pd.to_numeric(series,errors=\"ignore\")"
   ]
  },
  {
   "cell_type": "code",
   "execution_count": null,
   "id": "52c7bfb7-fa0b-4014-b5bd-60faee0a47ce",
   "metadata": {},
   "outputs": [],
   "source": []
  }
 ],
 "metadata": {
  "kernelspec": {
   "display_name": "Python 3 (ipykernel)",
   "language": "python",
   "name": "python3"
  },
  "language_info": {
   "codemirror_mode": {
    "name": "ipython",
    "version": 3
   },
   "file_extension": ".py",
   "mimetype": "text/x-python",
   "name": "python",
   "nbconvert_exporter": "python",
   "pygments_lexer": "ipython3",
   "version": "3.12.7"
  }
 },
 "nbformat": 4,
 "nbformat_minor": 5
}
